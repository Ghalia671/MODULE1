{
  "nbformat": 4,
  "nbformat_minor": 0,
  "metadata": {
    "colab": {
      "name": "Kezhan -  1.3 Variables temporelles.ipynb",
      "provenance": [],
      "collapsed_sections": [],
      "toc_visible": true,
      "include_colab_link": true
    },
    "kernelspec": {
      "name": "python3",
      "display_name": "Python 3"
    }
  },
  "cells": [
    {
      "cell_type": "markdown",
      "metadata": {
        "id": "view-in-github",
        "colab_type": "text"
      },
      "source": [
        "<a href=\"https://colab.research.google.com/github/Ghalia671/MODULE1/blob/master/Kezhan_1_3_Variables_temporelles.ipynb\" target=\"_parent\"><img src=\"https://colab.research.google.com/assets/colab-badge.svg\" alt=\"Open In Colab\"/></a>"
      ]
    },
    {
      "cell_type": "markdown",
      "metadata": {
        "id": "dTXZuUiycEW1"
      },
      "source": [
        "# Données"
      ]
    },
    {
      "cell_type": "code",
      "metadata": {
        "id": "S4S5JjJycYe-"
      },
      "source": [
        "import datetime\n",
        "import numpy as np\n",
        "import pandas as pd\n",
        "from dateutil.parser import parse\n",
        "import pytz"
      ],
      "execution_count": null,
      "outputs": []
    },
    {
      "cell_type": "code",
      "metadata": {
        "id": "6FHcjtaBcG1W"
      },
      "source": [
        "dates=[\"30/04/2005\",\"23/05/2010\",\"04/09/2009\"]\n",
        "dates=pd.DataFrame(dates, columns=['date'])"
      ],
      "execution_count": null,
      "outputs": []
    },
    {
      "cell_type": "code",
      "metadata": {
        "id": "7RBH0tTgu-gS",
        "outputId": "0e4c5e02-c3c6-4bd1-97af-2dfc76e592d4",
        "colab": {
          "base_uri": "https://localhost:8080/",
          "height": 137
        }
      },
      "source": [
        "dates"
      ],
      "execution_count": null,
      "outputs": [
        {
          "output_type": "execute_result",
          "data": {
            "text/html": [
              "<div>\n",
              "<style scoped>\n",
              "    .dataframe tbody tr th:only-of-type {\n",
              "        vertical-align: middle;\n",
              "    }\n",
              "\n",
              "    .dataframe tbody tr th {\n",
              "        vertical-align: top;\n",
              "    }\n",
              "\n",
              "    .dataframe thead th {\n",
              "        text-align: right;\n",
              "    }\n",
              "</style>\n",
              "<table border=\"1\" class=\"dataframe\">\n",
              "  <thead>\n",
              "    <tr style=\"text-align: right;\">\n",
              "      <th></th>\n",
              "      <th>date</th>\n",
              "    </tr>\n",
              "  </thead>\n",
              "  <tbody>\n",
              "    <tr>\n",
              "      <th>0</th>\n",
              "      <td>30/04/2005</td>\n",
              "    </tr>\n",
              "    <tr>\n",
              "      <th>1</th>\n",
              "      <td>23/05/2010</td>\n",
              "    </tr>\n",
              "    <tr>\n",
              "      <th>2</th>\n",
              "      <td>04/09/2009</td>\n",
              "    </tr>\n",
              "  </tbody>\n",
              "</table>\n",
              "</div>"
            ],
            "text/plain": [
              "         date\n",
              "0  30/04/2005\n",
              "1  23/05/2010\n",
              "2  04/09/2009"
            ]
          },
          "metadata": {
            "tags": []
          },
          "execution_count": 4
        }
      ]
    },
    {
      "cell_type": "code",
      "metadata": {
        "id": "Z9RsaJT5cqAY"
      },
      "source": [
        "dates_heures = np.array([\n",
        "    '32-04-2005 11:35 PM',\n",
        "    '23-05-2010 12:01 AM',\n",
        "    '04-09-2009 09:09 PM'\n",
        "])\n",
        "dates_heures = pd.DataFrame(dates_heures, columns=['date_heure'])"
      ],
      "execution_count": null,
      "outputs": []
    },
    {
      "cell_type": "code",
      "metadata": {
        "id": "ATGf2f1bvF-M",
        "outputId": "988cf3cb-bfef-4042-9805-b80f24932cd8",
        "colab": {
          "base_uri": "https://localhost:8080/",
          "height": 137
        }
      },
      "source": [
        "dates_heures"
      ],
      "execution_count": null,
      "outputs": [
        {
          "output_type": "execute_result",
          "data": {
            "text/html": [
              "<div>\n",
              "<style scoped>\n",
              "    .dataframe tbody tr th:only-of-type {\n",
              "        vertical-align: middle;\n",
              "    }\n",
              "\n",
              "    .dataframe tbody tr th {\n",
              "        vertical-align: top;\n",
              "    }\n",
              "\n",
              "    .dataframe thead th {\n",
              "        text-align: right;\n",
              "    }\n",
              "</style>\n",
              "<table border=\"1\" class=\"dataframe\">\n",
              "  <thead>\n",
              "    <tr style=\"text-align: right;\">\n",
              "      <th></th>\n",
              "      <th>date_heure</th>\n",
              "    </tr>\n",
              "  </thead>\n",
              "  <tbody>\n",
              "    <tr>\n",
              "      <th>0</th>\n",
              "      <td>32-04-2005 11:35 PM</td>\n",
              "    </tr>\n",
              "    <tr>\n",
              "      <th>1</th>\n",
              "      <td>23-05-2010 12:01 AM</td>\n",
              "    </tr>\n",
              "    <tr>\n",
              "      <th>2</th>\n",
              "      <td>04-09-2009 09:09 PM</td>\n",
              "    </tr>\n",
              "  </tbody>\n",
              "</table>\n",
              "</div>"
            ],
            "text/plain": [
              "            date_heure\n",
              "0  32-04-2005 11:35 PM\n",
              "1  23-05-2010 12:01 AM\n",
              "2  04-09-2009 09:09 PM"
            ]
          },
          "metadata": {
            "tags": []
          },
          "execution_count": 6
        }
      ]
    },
    {
      "cell_type": "code",
      "metadata": {
        "id": "RUNF94tJcE5Y",
        "outputId": "ef68bcee-2e80-4161-f073-c41b41f61e05",
        "colab": {
          "base_uri": "https://localhost:8080/",
          "height": 167
        }
      },
      "source": [
        "time_stamps = ['2015-03-08 10:30:00.360000+00:00', '2017-07-13 15:45:05.755000-07:00',\n",
        "               '2012-01-20 22:30:00.254000+05:30', '2016-12-25 00:30:00.000000+10:00']\n",
        "time_stamps = pd.DataFrame(time_stamps, columns=['Time'])\n",
        "time_stamps"
      ],
      "execution_count": null,
      "outputs": [
        {
          "output_type": "execute_result",
          "data": {
            "text/html": [
              "<div>\n",
              "<style scoped>\n",
              "    .dataframe tbody tr th:only-of-type {\n",
              "        vertical-align: middle;\n",
              "    }\n",
              "\n",
              "    .dataframe tbody tr th {\n",
              "        vertical-align: top;\n",
              "    }\n",
              "\n",
              "    .dataframe thead th {\n",
              "        text-align: right;\n",
              "    }\n",
              "</style>\n",
              "<table border=\"1\" class=\"dataframe\">\n",
              "  <thead>\n",
              "    <tr style=\"text-align: right;\">\n",
              "      <th></th>\n",
              "      <th>Time</th>\n",
              "    </tr>\n",
              "  </thead>\n",
              "  <tbody>\n",
              "    <tr>\n",
              "      <th>0</th>\n",
              "      <td>2015-03-08 10:30:00.360000+00:00</td>\n",
              "    </tr>\n",
              "    <tr>\n",
              "      <th>1</th>\n",
              "      <td>2017-07-13 15:45:05.755000-07:00</td>\n",
              "    </tr>\n",
              "    <tr>\n",
              "      <th>2</th>\n",
              "      <td>2012-01-20 22:30:00.254000+05:30</td>\n",
              "    </tr>\n",
              "    <tr>\n",
              "      <th>3</th>\n",
              "      <td>2016-12-25 00:30:00.000000+10:00</td>\n",
              "    </tr>\n",
              "  </tbody>\n",
              "</table>\n",
              "</div>"
            ],
            "text/plain": [
              "                               Time\n",
              "0  2015-03-08 10:30:00.360000+00:00\n",
              "1  2017-07-13 15:45:05.755000-07:00\n",
              "2  2012-01-20 22:30:00.254000+05:30\n",
              "3  2016-12-25 00:30:00.000000+10:00"
            ]
          },
          "metadata": {
            "tags": []
          },
          "execution_count": 7
        }
      ]
    },
    {
      "cell_type": "markdown",
      "metadata": {
        "id": "geqXx6C_qcHW"
      },
      "source": [
        "# Conversion en variables temporelles"
      ]
    },
    {
      "cell_type": "code",
      "metadata": {
        "id": "hy5vMMUcvg9M"
      },
      "source": [
        "dates[\"date_t\"]=pd.to_datetime(dates[\"date\"], format='%d/%m/%Y')"
      ],
      "execution_count": null,
      "outputs": []
    },
    {
      "cell_type": "code",
      "metadata": {
        "id": "GvCpTx2twdcg",
        "outputId": "cd808f1c-3168-4ba9-d938-dd77927c306e",
        "colab": {
          "base_uri": "https://localhost:8080/",
          "height": 137
        }
      },
      "source": [
        "dates"
      ],
      "execution_count": null,
      "outputs": [
        {
          "output_type": "execute_result",
          "data": {
            "text/html": [
              "<div>\n",
              "<style scoped>\n",
              "    .dataframe tbody tr th:only-of-type {\n",
              "        vertical-align: middle;\n",
              "    }\n",
              "\n",
              "    .dataframe tbody tr th {\n",
              "        vertical-align: top;\n",
              "    }\n",
              "\n",
              "    .dataframe thead th {\n",
              "        text-align: right;\n",
              "    }\n",
              "</style>\n",
              "<table border=\"1\" class=\"dataframe\">\n",
              "  <thead>\n",
              "    <tr style=\"text-align: right;\">\n",
              "      <th></th>\n",
              "      <th>date</th>\n",
              "      <th>date_t</th>\n",
              "    </tr>\n",
              "  </thead>\n",
              "  <tbody>\n",
              "    <tr>\n",
              "      <th>0</th>\n",
              "      <td>30/04/2005</td>\n",
              "      <td>2005-04-30</td>\n",
              "    </tr>\n",
              "    <tr>\n",
              "      <th>1</th>\n",
              "      <td>23/05/2010</td>\n",
              "      <td>2010-05-23</td>\n",
              "    </tr>\n",
              "    <tr>\n",
              "      <th>2</th>\n",
              "      <td>04/09/2009</td>\n",
              "      <td>2009-09-04</td>\n",
              "    </tr>\n",
              "  </tbody>\n",
              "</table>\n",
              "</div>"
            ],
            "text/plain": [
              "         date     date_t\n",
              "0  30/04/2005 2005-04-30\n",
              "1  23/05/2010 2010-05-23\n",
              "2  04/09/2009 2009-09-04"
            ]
          },
          "metadata": {
            "tags": []
          },
          "execution_count": 9
        }
      ]
    },
    {
      "cell_type": "code",
      "metadata": {
        "id": "EeW4Af6Fj7Sb",
        "outputId": "3aa6d480-99aa-4b20-9ff7-074baf1a4790",
        "colab": {
          "base_uri": "https://localhost:8080/",
          "height": 176
        }
      },
      "source": [
        "dates.info()"
      ],
      "execution_count": null,
      "outputs": [
        {
          "output_type": "stream",
          "text": [
            "<class 'pandas.core.frame.DataFrame'>\n",
            "RangeIndex: 3 entries, 0 to 2\n",
            "Data columns (total 2 columns):\n",
            " #   Column  Non-Null Count  Dtype         \n",
            "---  ------  --------------  -----         \n",
            " 0   date    3 non-null      object        \n",
            " 1   date_t  3 non-null      datetime64[ns]\n",
            "dtypes: datetime64[ns](1), object(1)\n",
            "memory usage: 176.0+ bytes\n"
          ],
          "name": "stdout"
        }
      ]
    },
    {
      "cell_type": "code",
      "metadata": {
        "id": "ditezZVNwAkB",
        "outputId": "e6c9311b-9b73-4877-af82-f2d762bab25f",
        "colab": {
          "base_uri": "https://localhost:8080/",
          "height": 137
        }
      },
      "source": [
        "dates_heures"
      ],
      "execution_count": null,
      "outputs": [
        {
          "output_type": "execute_result",
          "data": {
            "text/html": [
              "<div>\n",
              "<style scoped>\n",
              "    .dataframe tbody tr th:only-of-type {\n",
              "        vertical-align: middle;\n",
              "    }\n",
              "\n",
              "    .dataframe tbody tr th {\n",
              "        vertical-align: top;\n",
              "    }\n",
              "\n",
              "    .dataframe thead th {\n",
              "        text-align: right;\n",
              "    }\n",
              "</style>\n",
              "<table border=\"1\" class=\"dataframe\">\n",
              "  <thead>\n",
              "    <tr style=\"text-align: right;\">\n",
              "      <th></th>\n",
              "      <th>date_heure</th>\n",
              "    </tr>\n",
              "  </thead>\n",
              "  <tbody>\n",
              "    <tr>\n",
              "      <th>0</th>\n",
              "      <td>32-04-2005 11:35 PM</td>\n",
              "    </tr>\n",
              "    <tr>\n",
              "      <th>1</th>\n",
              "      <td>23-05-2010 12:01 AM</td>\n",
              "    </tr>\n",
              "    <tr>\n",
              "      <th>2</th>\n",
              "      <td>04-09-2009 09:09 PM</td>\n",
              "    </tr>\n",
              "  </tbody>\n",
              "</table>\n",
              "</div>"
            ],
            "text/plain": [
              "            date_heure\n",
              "0  32-04-2005 11:35 PM\n",
              "1  23-05-2010 12:01 AM\n",
              "2  04-09-2009 09:09 PM"
            ]
          },
          "metadata": {
            "tags": []
          },
          "execution_count": 11
        }
      ]
    },
    {
      "cell_type": "code",
      "metadata": {
        "id": "GjS5vrSikRKm",
        "outputId": "ffbb4f61-d6ee-4d3b-d96b-6f7589309c50",
        "colab": {
          "base_uri": "https://localhost:8080/",
          "height": 158
        }
      },
      "source": [
        "dates_heures.info()"
      ],
      "execution_count": null,
      "outputs": [
        {
          "output_type": "stream",
          "text": [
            "<class 'pandas.core.frame.DataFrame'>\n",
            "RangeIndex: 3 entries, 0 to 2\n",
            "Data columns (total 1 columns):\n",
            " #   Column      Non-Null Count  Dtype \n",
            "---  ------      --------------  ----- \n",
            " 0   date_heure  3 non-null      object\n",
            "dtypes: object(1)\n",
            "memory usage: 152.0+ bytes\n"
          ],
          "name": "stdout"
        }
      ]
    },
    {
      "cell_type": "code",
      "metadata": {
        "id": "cunGQiyXvy9Q",
        "outputId": "74a4dd84-1ae0-44da-a54d-afa79f097f75",
        "colab": {
          "base_uri": "https://localhost:8080/",
          "height": 87
        }
      },
      "source": [
        "pd.to_datetime(dates_heures[\"date_heure\"], format='%d-%m-%Y %I:%M %p',errors='coerce')"
      ],
      "execution_count": null,
      "outputs": [
        {
          "output_type": "execute_result",
          "data": {
            "text/plain": [
              "0                   NaT\n",
              "1   2010-05-23 00:01:00\n",
              "2   2009-09-04 21:09:00\n",
              "Name: date_heure, dtype: datetime64[ns]"
            ]
          },
          "metadata": {
            "tags": []
          },
          "execution_count": 13
        }
      ]
    },
    {
      "cell_type": "code",
      "metadata": {
        "id": "31cHoFeTxg3L"
      },
      "source": [
        "time_stamps[\"time_t\"]=pd.to_datetime(time_stamps[\"Time\"],utc=True)"
      ],
      "execution_count": null,
      "outputs": []
    },
    {
      "cell_type": "code",
      "metadata": {
        "id": "9LW16bT66bgp",
        "outputId": "a3373285-e1fe-44a5-ae66-e321b0cf05ad",
        "colab": {
          "base_uri": "https://localhost:8080/",
          "height": 167
        }
      },
      "source": [
        "time_stamps"
      ],
      "execution_count": null,
      "outputs": [
        {
          "output_type": "execute_result",
          "data": {
            "text/html": [
              "<div>\n",
              "<style scoped>\n",
              "    .dataframe tbody tr th:only-of-type {\n",
              "        vertical-align: middle;\n",
              "    }\n",
              "\n",
              "    .dataframe tbody tr th {\n",
              "        vertical-align: top;\n",
              "    }\n",
              "\n",
              "    .dataframe thead th {\n",
              "        text-align: right;\n",
              "    }\n",
              "</style>\n",
              "<table border=\"1\" class=\"dataframe\">\n",
              "  <thead>\n",
              "    <tr style=\"text-align: right;\">\n",
              "      <th></th>\n",
              "      <th>Time</th>\n",
              "      <th>time_t</th>\n",
              "    </tr>\n",
              "  </thead>\n",
              "  <tbody>\n",
              "    <tr>\n",
              "      <th>0</th>\n",
              "      <td>2015-03-08 10:30:00.360000+00:00</td>\n",
              "      <td>2015-03-08 10:30:00.360000+00:00</td>\n",
              "    </tr>\n",
              "    <tr>\n",
              "      <th>1</th>\n",
              "      <td>2017-07-13 15:45:05.755000-07:00</td>\n",
              "      <td>2017-07-13 22:45:05.755000+00:00</td>\n",
              "    </tr>\n",
              "    <tr>\n",
              "      <th>2</th>\n",
              "      <td>2012-01-20 22:30:00.254000+05:30</td>\n",
              "      <td>2012-01-20 17:00:00.254000+00:00</td>\n",
              "    </tr>\n",
              "    <tr>\n",
              "      <th>3</th>\n",
              "      <td>2016-12-25 00:30:00.000000+10:00</td>\n",
              "      <td>2016-12-24 14:30:00+00:00</td>\n",
              "    </tr>\n",
              "  </tbody>\n",
              "</table>\n",
              "</div>"
            ],
            "text/plain": [
              "                               Time                           time_t\n",
              "0  2015-03-08 10:30:00.360000+00:00 2015-03-08 10:30:00.360000+00:00\n",
              "1  2017-07-13 15:45:05.755000-07:00 2017-07-13 22:45:05.755000+00:00\n",
              "2  2012-01-20 22:30:00.254000+05:30 2012-01-20 17:00:00.254000+00:00\n",
              "3  2016-12-25 00:30:00.000000+10:00        2016-12-24 14:30:00+00:00"
            ]
          },
          "metadata": {
            "tags": []
          },
          "execution_count": 15
        }
      ]
    },
    {
      "cell_type": "markdown",
      "metadata": {
        "id": "M5kov39oqcHk"
      },
      "source": [
        "## Fuseaux horaires"
      ]
    },
    {
      "cell_type": "code",
      "metadata": {
        "id": "mfEv0_1tqcHl"
      },
      "source": [
        "import pandas as pd\n",
        "\n",
        "pd.Timestamp('2017-05-01 06:00:00', tz='Europe/London')"
      ],
      "execution_count": null,
      "outputs": []
    },
    {
      "cell_type": "code",
      "metadata": {
        "id": "Wr-0ogOEqcHv"
      },
      "source": [
        "date = pd.Timestamp('2017-05-01 06:00:00')\n",
        "\n",
        "date_in_london = date.tz_localize('Europe/London')\n",
        "\n",
        "date_in_london"
      ],
      "execution_count": null,
      "outputs": []
    },
    {
      "cell_type": "code",
      "metadata": {
        "id": "uP7BHVJkqcHy"
      },
      "source": [
        "date_in_london.tz_convert('Africa/Abidjan')"
      ],
      "execution_count": null,
      "outputs": []
    },
    {
      "cell_type": "code",
      "metadata": {
        "id": "nrwNlGQFqcH2"
      },
      "source": [
        "dates_sim = pd.Series(pd.date_range('2/2/2002', periods=3, freq='M'))\n",
        "\n",
        "dates_sim.dt.tz_localize('Africa/Abidjan')"
      ],
      "execution_count": null,
      "outputs": []
    },
    {
      "cell_type": "markdown",
      "metadata": {
        "id": "mqsC-SDE2ZTD"
      },
      "source": [
        "# Variables temporelles calculées"
      ]
    },
    {
      "cell_type": "markdown",
      "metadata": {
        "id": "iFzjheezw2kc"
      },
      "source": [
        "## Elements sous-jacents"
      ]
    },
    {
      "cell_type": "code",
      "metadata": {
        "id": "iZzqd_wJwhm3"
      },
      "source": [
        "dates\n",
        "\n",
        "dates['year'] = dates['date_t'].dt.year\n",
        "dates['month'] = dates['date_t'].dt.month\n",
        "dates['day'] = dates['date_t'].dt.day\n",
        "dates['hour'] = dates['date_t'].dt.hour\n",
        "dates['minute'] = dates['date_t'].dt.minute\n",
        "\n",
        "dates['dayofweek'] = dates['date_t'].dt.dayofweek\n",
        "dates['weekday'] = dates['date_t'].dt.weekday\n",
        "dates['dayofyear'] = dates['date_t'].dt.dayofyear\n",
        "dates['weekofyear'] = dates['date_t'].dt.weekofyear\n",
        "dates['quarter'] = dates['date_t'].dt.quarter\n"
      ],
      "execution_count": null,
      "outputs": []
    },
    {
      "cell_type": "code",
      "metadata": {
        "id": "5ZHIohG8wpb7",
        "outputId": "886ae3d1-d726-45fa-9e57-40ccf8af37da",
        "colab": {
          "base_uri": "https://localhost:8080/",
          "height": 137
        }
      },
      "source": [
        "dates"
      ],
      "execution_count": null,
      "outputs": [
        {
          "output_type": "execute_result",
          "data": {
            "text/html": [
              "<div>\n",
              "<style scoped>\n",
              "    .dataframe tbody tr th:only-of-type {\n",
              "        vertical-align: middle;\n",
              "    }\n",
              "\n",
              "    .dataframe tbody tr th {\n",
              "        vertical-align: top;\n",
              "    }\n",
              "\n",
              "    .dataframe thead th {\n",
              "        text-align: right;\n",
              "    }\n",
              "</style>\n",
              "<table border=\"1\" class=\"dataframe\">\n",
              "  <thead>\n",
              "    <tr style=\"text-align: right;\">\n",
              "      <th></th>\n",
              "      <th>date</th>\n",
              "      <th>date_t</th>\n",
              "      <th>year</th>\n",
              "      <th>month</th>\n",
              "      <th>day</th>\n",
              "      <th>hour</th>\n",
              "      <th>minute</th>\n",
              "      <th>dayofweek</th>\n",
              "      <th>weekday</th>\n",
              "      <th>dayofyear</th>\n",
              "      <th>weekofyear</th>\n",
              "      <th>quarter</th>\n",
              "    </tr>\n",
              "  </thead>\n",
              "  <tbody>\n",
              "    <tr>\n",
              "      <th>0</th>\n",
              "      <td>30/04/2005</td>\n",
              "      <td>2005-04-30</td>\n",
              "      <td>2005</td>\n",
              "      <td>4</td>\n",
              "      <td>30</td>\n",
              "      <td>0</td>\n",
              "      <td>0</td>\n",
              "      <td>5</td>\n",
              "      <td>5</td>\n",
              "      <td>120</td>\n",
              "      <td>17</td>\n",
              "      <td>2</td>\n",
              "    </tr>\n",
              "    <tr>\n",
              "      <th>1</th>\n",
              "      <td>23/05/2010</td>\n",
              "      <td>2010-05-23</td>\n",
              "      <td>2010</td>\n",
              "      <td>5</td>\n",
              "      <td>23</td>\n",
              "      <td>0</td>\n",
              "      <td>0</td>\n",
              "      <td>6</td>\n",
              "      <td>6</td>\n",
              "      <td>143</td>\n",
              "      <td>20</td>\n",
              "      <td>2</td>\n",
              "    </tr>\n",
              "    <tr>\n",
              "      <th>2</th>\n",
              "      <td>04/09/2009</td>\n",
              "      <td>2009-09-04</td>\n",
              "      <td>2009</td>\n",
              "      <td>9</td>\n",
              "      <td>4</td>\n",
              "      <td>0</td>\n",
              "      <td>0</td>\n",
              "      <td>4</td>\n",
              "      <td>4</td>\n",
              "      <td>247</td>\n",
              "      <td>36</td>\n",
              "      <td>3</td>\n",
              "    </tr>\n",
              "  </tbody>\n",
              "</table>\n",
              "</div>"
            ],
            "text/plain": [
              "         date     date_t  year  month  ...  weekday  dayofyear  weekofyear  quarter\n",
              "0  30/04/2005 2005-04-30  2005      4  ...        5        120          17        2\n",
              "1  23/05/2010 2010-05-23  2010      5  ...        6        143          20        2\n",
              "2  04/09/2009 2009-09-04  2009      9  ...        4        247          36        3\n",
              "\n",
              "[3 rows x 12 columns]"
            ]
          },
          "metadata": {
            "tags": []
          },
          "execution_count": 17
        }
      ]
    },
    {
      "cell_type": "code",
      "metadata": {
        "id": "0zcEjJ6qx92m",
        "outputId": "ba1d1a8b-a6e1-472c-a5a9-379e9ed0519f",
        "colab": {
          "base_uri": "https://localhost:8080/",
          "height": 167
        }
      },
      "source": [
        "time_stamps"
      ],
      "execution_count": null,
      "outputs": [
        {
          "output_type": "execute_result",
          "data": {
            "text/html": [
              "<div>\n",
              "<style scoped>\n",
              "    .dataframe tbody tr th:only-of-type {\n",
              "        vertical-align: middle;\n",
              "    }\n",
              "\n",
              "    .dataframe tbody tr th {\n",
              "        vertical-align: top;\n",
              "    }\n",
              "\n",
              "    .dataframe thead th {\n",
              "        text-align: right;\n",
              "    }\n",
              "</style>\n",
              "<table border=\"1\" class=\"dataframe\">\n",
              "  <thead>\n",
              "    <tr style=\"text-align: right;\">\n",
              "      <th></th>\n",
              "      <th>Time</th>\n",
              "      <th>time_t</th>\n",
              "    </tr>\n",
              "  </thead>\n",
              "  <tbody>\n",
              "    <tr>\n",
              "      <th>0</th>\n",
              "      <td>2015-03-08 10:30:00.360000+00:00</td>\n",
              "      <td>2015-03-08 10:30:00.360000+00:00</td>\n",
              "    </tr>\n",
              "    <tr>\n",
              "      <th>1</th>\n",
              "      <td>2017-07-13 15:45:05.755000-07:00</td>\n",
              "      <td>2017-07-13 22:45:05.755000+00:00</td>\n",
              "    </tr>\n",
              "    <tr>\n",
              "      <th>2</th>\n",
              "      <td>2012-01-20 22:30:00.254000+05:30</td>\n",
              "      <td>2012-01-20 17:00:00.254000+00:00</td>\n",
              "    </tr>\n",
              "    <tr>\n",
              "      <th>3</th>\n",
              "      <td>2016-12-25 00:30:00.000000+10:00</td>\n",
              "      <td>2016-12-24 14:30:00+00:00</td>\n",
              "    </tr>\n",
              "  </tbody>\n",
              "</table>\n",
              "</div>"
            ],
            "text/plain": [
              "                               Time                           time_t\n",
              "0  2015-03-08 10:30:00.360000+00:00 2015-03-08 10:30:00.360000+00:00\n",
              "1  2017-07-13 15:45:05.755000-07:00 2017-07-13 22:45:05.755000+00:00\n",
              "2  2012-01-20 22:30:00.254000+05:30 2012-01-20 17:00:00.254000+00:00\n",
              "3  2016-12-25 00:30:00.000000+10:00        2016-12-24 14:30:00+00:00"
            ]
          },
          "metadata": {
            "tags": []
          },
          "execution_count": 19
        }
      ]
    },
    {
      "cell_type": "code",
      "metadata": {
        "id": "oAkQV_F8xak3"
      },
      "source": [
        "time_stamps[\"hour\"]=time_stamps[\"time_t\"].dt.hour\n",
        "time_stamps[\"minute\"]=time_stamps[\"time_t\"].dt.minute\n",
        "time_stamps[\"second\"]=time_stamps[\"time_t\"].dt.second\n",
        "time_stamps[\"microsecond\"]=time_stamps[\"time_t\"].dt.microsecond"
      ],
      "execution_count": null,
      "outputs": []
    },
    {
      "cell_type": "code",
      "metadata": {
        "id": "cUZQiS3Px45I"
      },
      "source": [
        "time_stamps"
      ],
      "execution_count": null,
      "outputs": []
    },
    {
      "cell_type": "markdown",
      "metadata": {
        "id": "rngQxzbI67eI"
      },
      "source": [
        ""
      ]
    },
    {
      "cell_type": "markdown",
      "metadata": {
        "id": "Ne1EDB2y89N7"
      },
      "source": [
        "## Elements avancés"
      ]
    },
    {
      "cell_type": "code",
      "metadata": {
        "id": "0ki4AZj089N-",
        "outputId": "7f318337-123f-4031-cab4-0e39b66edbd1",
        "colab": {
          "base_uri": "https://localhost:8080/",
          "height": 167
        }
      },
      "source": [
        "hour_bins = [-1, 5, 11, 16, 21, 23]\n",
        "bin_names = ['Minuit', 'Matin', 'Après-midi', 'Soir', 'Nuit']\n",
        "\n",
        "time_stamps['TimeOfDayBin'] = pd.cut(time_stamps['hour'], \n",
        "                            bins=hour_bins, labels=bin_names)\n",
        "time_stamps[['Time', 'hour', 'TimeOfDayBin']]"
      ],
      "execution_count": null,
      "outputs": [
        {
          "output_type": "execute_result",
          "data": {
            "text/html": [
              "<div>\n",
              "<style scoped>\n",
              "    .dataframe tbody tr th:only-of-type {\n",
              "        vertical-align: middle;\n",
              "    }\n",
              "\n",
              "    .dataframe tbody tr th {\n",
              "        vertical-align: top;\n",
              "    }\n",
              "\n",
              "    .dataframe thead th {\n",
              "        text-align: right;\n",
              "    }\n",
              "</style>\n",
              "<table border=\"1\" class=\"dataframe\">\n",
              "  <thead>\n",
              "    <tr style=\"text-align: right;\">\n",
              "      <th></th>\n",
              "      <th>Time</th>\n",
              "      <th>hour</th>\n",
              "      <th>TimeOfDayBin</th>\n",
              "    </tr>\n",
              "  </thead>\n",
              "  <tbody>\n",
              "    <tr>\n",
              "      <th>0</th>\n",
              "      <td>2015-03-08 10:30:00.360000+00:00</td>\n",
              "      <td>10</td>\n",
              "      <td>Matin</td>\n",
              "    </tr>\n",
              "    <tr>\n",
              "      <th>1</th>\n",
              "      <td>2017-07-13 15:45:05.755000-07:00</td>\n",
              "      <td>22</td>\n",
              "      <td>Nuit</td>\n",
              "    </tr>\n",
              "    <tr>\n",
              "      <th>2</th>\n",
              "      <td>2012-01-20 22:30:00.254000+05:30</td>\n",
              "      <td>17</td>\n",
              "      <td>Soir</td>\n",
              "    </tr>\n",
              "    <tr>\n",
              "      <th>3</th>\n",
              "      <td>2016-12-25 00:30:00.000000+10:00</td>\n",
              "      <td>14</td>\n",
              "      <td>Après-midi</td>\n",
              "    </tr>\n",
              "  </tbody>\n",
              "</table>\n",
              "</div>"
            ],
            "text/plain": [
              "                               Time  hour TimeOfDayBin\n",
              "0  2015-03-08 10:30:00.360000+00:00    10        Matin\n",
              "1  2017-07-13 15:45:05.755000-07:00    22         Nuit\n",
              "2  2012-01-20 22:30:00.254000+05:30    17         Soir\n",
              "3  2016-12-25 00:30:00.000000+10:00    14   Après-midi"
            ]
          },
          "metadata": {
            "tags": []
          },
          "execution_count": 21
        }
      ]
    },
    {
      "cell_type": "markdown",
      "metadata": {
        "id": "ulsYy3-j2mM0"
      },
      "source": [
        "## Diffrence entre deux dates"
      ]
    },
    {
      "cell_type": "code",
      "metadata": {
        "id": "oiCAoRs72l41"
      },
      "source": [
        "import pandas as pd # Create data frame\n",
        "dataframe = pd.DataFrame()\n",
        "    # Create two datetime features\n",
        "dataframe['Arrived'] = [pd.Timestamp('01-01-2017'), pd.Timestamp('01-04-2017')]\n",
        "\n",
        "dataframe['Left'] = [pd.Timestamp('01-01-2017'), pd.Timestamp('01-06-2017')]\n",
        "\n",
        "dataframe['Left'] - dataframe['Arrived']"
      ],
      "execution_count": null,
      "outputs": []
    },
    {
      "cell_type": "markdown",
      "metadata": {
        "id": "99itWcqH2hPu"
      },
      "source": [
        "## Moyenne glissant"
      ]
    },
    {
      "cell_type": "code",
      "metadata": {
        "id": "nNamiihLqcH7"
      },
      "source": [
        "import pandas as pd\n",
        "\n",
        "time_index = pd.date_range('01/01/2010', periods=5, freq='M')\n",
        "df = pd.DataFrame(index=time_index)\n",
        "df['Stock_Price'] = [1,2,3,4,5]\n",
        "df.rolling(window=2).mean()"
      ],
      "execution_count": null,
      "outputs": []
    },
    {
      "cell_type": "markdown",
      "metadata": {
        "id": "tOXKI57XqcID"
      },
      "source": [
        "# Gestion des données manquantes"
      ]
    },
    {
      "cell_type": "code",
      "metadata": {
        "id": "BMa-OWZ4qcID",
        "outputId": "44e8065a-9f50-417a-c328-f176a2f74f56",
        "colab": {
          "base_uri": "https://localhost:8080/",
          "height": 197
        }
      },
      "source": [
        "import pandas as pd\n",
        "import numpy as np\n",
        "\n",
        "time_index = pd.date_range('01/01/2010', periods=5, freq='M')\n",
        "\n",
        "df = pd.DataFrame(index=time_index)\n",
        "\n",
        "df[\"Sales\"] = [1.0, 2.0, np.nan, np.nan, 5.0]\n",
        "\n",
        "df.interpolate()"
      ],
      "execution_count": null,
      "outputs": [
        {
          "output_type": "execute_result",
          "data": {
            "text/html": [
              "<div>\n",
              "<style scoped>\n",
              "    .dataframe tbody tr th:only-of-type {\n",
              "        vertical-align: middle;\n",
              "    }\n",
              "\n",
              "    .dataframe tbody tr th {\n",
              "        vertical-align: top;\n",
              "    }\n",
              "\n",
              "    .dataframe thead th {\n",
              "        text-align: right;\n",
              "    }\n",
              "</style>\n",
              "<table border=\"1\" class=\"dataframe\">\n",
              "  <thead>\n",
              "    <tr style=\"text-align: right;\">\n",
              "      <th></th>\n",
              "      <th>Sales</th>\n",
              "    </tr>\n",
              "  </thead>\n",
              "  <tbody>\n",
              "    <tr>\n",
              "      <th>2010-01-31</th>\n",
              "      <td>1.0</td>\n",
              "    </tr>\n",
              "    <tr>\n",
              "      <th>2010-02-28</th>\n",
              "      <td>2.0</td>\n",
              "    </tr>\n",
              "    <tr>\n",
              "      <th>2010-03-31</th>\n",
              "      <td>3.0</td>\n",
              "    </tr>\n",
              "    <tr>\n",
              "      <th>2010-04-30</th>\n",
              "      <td>4.0</td>\n",
              "    </tr>\n",
              "    <tr>\n",
              "      <th>2010-05-31</th>\n",
              "      <td>5.0</td>\n",
              "    </tr>\n",
              "  </tbody>\n",
              "</table>\n",
              "</div>"
            ],
            "text/plain": [
              "            Sales\n",
              "2010-01-31    1.0\n",
              "2010-02-28    2.0\n",
              "2010-03-31    3.0\n",
              "2010-04-30    4.0\n",
              "2010-05-31    5.0"
            ]
          },
          "metadata": {
            "tags": []
          },
          "execution_count": 22
        }
      ]
    },
    {
      "cell_type": "code",
      "metadata": {
        "id": "LqTrQi5HqcIF",
        "outputId": "e8de2f16-8d71-40a3-9751-362f77bd2d48",
        "colab": {
          "base_uri": "https://localhost:8080/",
          "height": 197
        }
      },
      "source": [
        "df.ffill()"
      ],
      "execution_count": null,
      "outputs": [
        {
          "output_type": "execute_result",
          "data": {
            "text/html": [
              "<div>\n",
              "<style scoped>\n",
              "    .dataframe tbody tr th:only-of-type {\n",
              "        vertical-align: middle;\n",
              "    }\n",
              "\n",
              "    .dataframe tbody tr th {\n",
              "        vertical-align: top;\n",
              "    }\n",
              "\n",
              "    .dataframe thead th {\n",
              "        text-align: right;\n",
              "    }\n",
              "</style>\n",
              "<table border=\"1\" class=\"dataframe\">\n",
              "  <thead>\n",
              "    <tr style=\"text-align: right;\">\n",
              "      <th></th>\n",
              "      <th>Sales</th>\n",
              "    </tr>\n",
              "  </thead>\n",
              "  <tbody>\n",
              "    <tr>\n",
              "      <th>2010-01-31</th>\n",
              "      <td>1.0</td>\n",
              "    </tr>\n",
              "    <tr>\n",
              "      <th>2010-02-28</th>\n",
              "      <td>2.0</td>\n",
              "    </tr>\n",
              "    <tr>\n",
              "      <th>2010-03-31</th>\n",
              "      <td>2.0</td>\n",
              "    </tr>\n",
              "    <tr>\n",
              "      <th>2010-04-30</th>\n",
              "      <td>2.0</td>\n",
              "    </tr>\n",
              "    <tr>\n",
              "      <th>2010-05-31</th>\n",
              "      <td>5.0</td>\n",
              "    </tr>\n",
              "  </tbody>\n",
              "</table>\n",
              "</div>"
            ],
            "text/plain": [
              "            Sales\n",
              "2010-01-31    1.0\n",
              "2010-02-28    2.0\n",
              "2010-03-31    2.0\n",
              "2010-04-30    2.0\n",
              "2010-05-31    5.0"
            ]
          },
          "metadata": {
            "tags": []
          },
          "execution_count": 23
        }
      ]
    },
    {
      "cell_type": "code",
      "metadata": {
        "id": "psIY_GslqcIJ",
        "outputId": "8023cf0f-4fb4-42dd-b439-1b8c29fc0b86",
        "colab": {
          "base_uri": "https://localhost:8080/",
          "height": 197
        }
      },
      "source": [
        "df.bfill()"
      ],
      "execution_count": null,
      "outputs": [
        {
          "output_type": "execute_result",
          "data": {
            "text/html": [
              "<div>\n",
              "<style scoped>\n",
              "    .dataframe tbody tr th:only-of-type {\n",
              "        vertical-align: middle;\n",
              "    }\n",
              "\n",
              "    .dataframe tbody tr th {\n",
              "        vertical-align: top;\n",
              "    }\n",
              "\n",
              "    .dataframe thead th {\n",
              "        text-align: right;\n",
              "    }\n",
              "</style>\n",
              "<table border=\"1\" class=\"dataframe\">\n",
              "  <thead>\n",
              "    <tr style=\"text-align: right;\">\n",
              "      <th></th>\n",
              "      <th>Sales</th>\n",
              "    </tr>\n",
              "  </thead>\n",
              "  <tbody>\n",
              "    <tr>\n",
              "      <th>2010-01-31</th>\n",
              "      <td>1.0</td>\n",
              "    </tr>\n",
              "    <tr>\n",
              "      <th>2010-02-28</th>\n",
              "      <td>2.0</td>\n",
              "    </tr>\n",
              "    <tr>\n",
              "      <th>2010-03-31</th>\n",
              "      <td>5.0</td>\n",
              "    </tr>\n",
              "    <tr>\n",
              "      <th>2010-04-30</th>\n",
              "      <td>5.0</td>\n",
              "    </tr>\n",
              "    <tr>\n",
              "      <th>2010-05-31</th>\n",
              "      <td>5.0</td>\n",
              "    </tr>\n",
              "  </tbody>\n",
              "</table>\n",
              "</div>"
            ],
            "text/plain": [
              "            Sales\n",
              "2010-01-31    1.0\n",
              "2010-02-28    2.0\n",
              "2010-03-31    5.0\n",
              "2010-04-30    5.0\n",
              "2010-05-31    5.0"
            ]
          },
          "metadata": {
            "tags": []
          },
          "execution_count": 24
        }
      ]
    },
    {
      "cell_type": "code",
      "metadata": {
        "id": "Wortgqn7qcIh",
        "outputId": "8cc3c441-194d-404f-f5ae-cfd6340514f2",
        "colab": {
          "base_uri": "https://localhost:8080/",
          "height": 197
        }
      },
      "source": [
        "df.interpolate(limit=1, limit_direction=\"forward\")"
      ],
      "execution_count": null,
      "outputs": [
        {
          "output_type": "execute_result",
          "data": {
            "text/html": [
              "<div>\n",
              "<style scoped>\n",
              "    .dataframe tbody tr th:only-of-type {\n",
              "        vertical-align: middle;\n",
              "    }\n",
              "\n",
              "    .dataframe tbody tr th {\n",
              "        vertical-align: top;\n",
              "    }\n",
              "\n",
              "    .dataframe thead th {\n",
              "        text-align: right;\n",
              "    }\n",
              "</style>\n",
              "<table border=\"1\" class=\"dataframe\">\n",
              "  <thead>\n",
              "    <tr style=\"text-align: right;\">\n",
              "      <th></th>\n",
              "      <th>Sales</th>\n",
              "    </tr>\n",
              "  </thead>\n",
              "  <tbody>\n",
              "    <tr>\n",
              "      <th>2010-01-31</th>\n",
              "      <td>1.0</td>\n",
              "    </tr>\n",
              "    <tr>\n",
              "      <th>2010-02-28</th>\n",
              "      <td>2.0</td>\n",
              "    </tr>\n",
              "    <tr>\n",
              "      <th>2010-03-31</th>\n",
              "      <td>3.0</td>\n",
              "    </tr>\n",
              "    <tr>\n",
              "      <th>2010-04-30</th>\n",
              "      <td>NaN</td>\n",
              "    </tr>\n",
              "    <tr>\n",
              "      <th>2010-05-31</th>\n",
              "      <td>5.0</td>\n",
              "    </tr>\n",
              "  </tbody>\n",
              "</table>\n",
              "</div>"
            ],
            "text/plain": [
              "            Sales\n",
              "2010-01-31    1.0\n",
              "2010-02-28    2.0\n",
              "2010-03-31    3.0\n",
              "2010-04-30    NaN\n",
              "2010-05-31    5.0"
            ]
          },
          "metadata": {
            "tags": []
          },
          "execution_count": 25
        }
      ]
    }
  ]
}