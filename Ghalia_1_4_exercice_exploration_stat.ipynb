{
  "nbformat": 4,
  "nbformat_minor": 0,
  "metadata": {
    "colab": {
      "name": "Ghalia - 1.4 exercice - exploration stat.ipynb",
      "provenance": [],
      "collapsed_sections": [],
      "include_colab_link": true
    },
    "kernelspec": {
      "name": "python3",
      "display_name": "Python 3"
    }
  },
  "cells": [
    {
      "cell_type": "markdown",
      "metadata": {
        "id": "view-in-github",
        "colab_type": "text"
      },
      "source": [
        "<a href=\"https://colab.research.google.com/github/Ghalia671/MODULE1/blob/master/Ghalia_1_4_exercice_exploration_stat.ipynb\" target=\"_parent\"><img src=\"https://colab.research.google.com/assets/colab-badge.svg\" alt=\"Open In Colab\"/></a>"
      ]
    },
    {
      "cell_type": "markdown",
      "metadata": {
        "id": "os0Uq2lNr94y",
        "colab_type": "text"
      },
      "source": [
        "Importer les données\n",
        "\n"
      ]
    },
    {
      "cell_type": "code",
      "metadata": {
        "id": "fvYN9eAXcYae",
        "colab_type": "code",
        "colab": {}
      },
      "source": [
        "import pandas as pd\n",
        "housing=pd.read_csv(\"https://dataks.bitbucket.io/ml/houses.csv\")"
      ],
      "execution_count": null,
      "outputs": []
    },
    {
      "cell_type": "markdown",
      "metadata": {
        "id": "jxvcRrpA7_vg",
        "colab_type": "text"
      },
      "source": [
        "\n",
        "Description des variables:\n",
        "\n",
        "- price: prix de vente de la maison\n",
        "- lotsize: superficie\n",
        "- bedrooms: nombre de chambres\n",
        "- bathrms: nombre de salles de bain\n",
        "- stories: nombre d'étages\n",
        "- driveway: présence d'allée d'entrée pour les voitures ?\n",
        "- recroom: présence d'une salle de détente ?\n",
        "- fullbase: sous-sol aménagé ?\n",
        "- gashw: équipement du chauffage au gaz ?\n",
        "- airco: présence d'air conditionné ?\n",
        "- garagepl: nombre de place de parking\n",
        "- prefarea: quartier favorisé ?\n",
        " "
      ]
    },
    {
      "cell_type": "code",
      "metadata": {
        "id": "TWJbK2eltKBu",
        "colab_type": "code",
        "colab": {
          "base_uri": "https://localhost:8080/",
          "height": 206
        },
        "outputId": "f9075589-a0cf-4207-d49e-2b82b004f8a5"
      },
      "source": [
        "# Explorer la base de données, par exemple avec:\n",
        "housing.head()"
      ],
      "execution_count": null,
      "outputs": [
        {
          "output_type": "execute_result",
          "data": {
            "text/html": [
              "<div>\n",
              "<style scoped>\n",
              "    .dataframe tbody tr th:only-of-type {\n",
              "        vertical-align: middle;\n",
              "    }\n",
              "\n",
              "    .dataframe tbody tr th {\n",
              "        vertical-align: top;\n",
              "    }\n",
              "\n",
              "    .dataframe thead th {\n",
              "        text-align: right;\n",
              "    }\n",
              "</style>\n",
              "<table border=\"1\" class=\"dataframe\">\n",
              "  <thead>\n",
              "    <tr style=\"text-align: right;\">\n",
              "      <th></th>\n",
              "      <th>price</th>\n",
              "      <th>lotsize</th>\n",
              "      <th>bedrooms</th>\n",
              "      <th>bathrms</th>\n",
              "      <th>stories</th>\n",
              "      <th>driveway</th>\n",
              "      <th>recroom</th>\n",
              "      <th>fullbase</th>\n",
              "      <th>gashw</th>\n",
              "      <th>airco</th>\n",
              "      <th>garagepl</th>\n",
              "      <th>prefarea</th>\n",
              "    </tr>\n",
              "  </thead>\n",
              "  <tbody>\n",
              "    <tr>\n",
              "      <th>0</th>\n",
              "      <td>420000</td>\n",
              "      <td>585</td>\n",
              "      <td>3</td>\n",
              "      <td>1</td>\n",
              "      <td>2</td>\n",
              "      <td>yes</td>\n",
              "      <td>no</td>\n",
              "      <td>yes</td>\n",
              "      <td>no</td>\n",
              "      <td>no</td>\n",
              "      <td>1</td>\n",
              "      <td>no</td>\n",
              "    </tr>\n",
              "    <tr>\n",
              "      <th>1</th>\n",
              "      <td>385000</td>\n",
              "      <td>400</td>\n",
              "      <td>2</td>\n",
              "      <td>1</td>\n",
              "      <td>1</td>\n",
              "      <td>yes</td>\n",
              "      <td>no</td>\n",
              "      <td>no</td>\n",
              "      <td>no</td>\n",
              "      <td>no</td>\n",
              "      <td>0</td>\n",
              "      <td>no</td>\n",
              "    </tr>\n",
              "    <tr>\n",
              "      <th>2</th>\n",
              "      <td>495000</td>\n",
              "      <td>306</td>\n",
              "      <td>3</td>\n",
              "      <td>1</td>\n",
              "      <td>1</td>\n",
              "      <td>yes</td>\n",
              "      <td>no</td>\n",
              "      <td>no</td>\n",
              "      <td>no</td>\n",
              "      <td>no</td>\n",
              "      <td>0</td>\n",
              "      <td>no</td>\n",
              "    </tr>\n",
              "    <tr>\n",
              "      <th>3</th>\n",
              "      <td>605000</td>\n",
              "      <td>665</td>\n",
              "      <td>3</td>\n",
              "      <td>1</td>\n",
              "      <td>2</td>\n",
              "      <td>yes</td>\n",
              "      <td>yes</td>\n",
              "      <td>no</td>\n",
              "      <td>no</td>\n",
              "      <td>no</td>\n",
              "      <td>0</td>\n",
              "      <td>no</td>\n",
              "    </tr>\n",
              "    <tr>\n",
              "      <th>4</th>\n",
              "      <td>610000</td>\n",
              "      <td>636</td>\n",
              "      <td>2</td>\n",
              "      <td>1</td>\n",
              "      <td>1</td>\n",
              "      <td>yes</td>\n",
              "      <td>no</td>\n",
              "      <td>no</td>\n",
              "      <td>no</td>\n",
              "      <td>no</td>\n",
              "      <td>0</td>\n",
              "      <td>no</td>\n",
              "    </tr>\n",
              "  </tbody>\n",
              "</table>\n",
              "</div>"
            ],
            "text/plain": [
              "    price  lotsize  bedrooms  bathrms  ...  gashw airco garagepl prefarea\n",
              "0  420000      585         3        1  ...     no    no        1       no\n",
              "1  385000      400         2        1  ...     no    no        0       no\n",
              "2  495000      306         3        1  ...     no    no        0       no\n",
              "3  605000      665         3        1  ...     no    no        0       no\n",
              "4  610000      636         2        1  ...     no    no        0       no\n",
              "\n",
              "[5 rows x 12 columns]"
            ]
          },
          "metadata": {
            "tags": []
          },
          "execution_count": 3
        }
      ]
    },
    {
      "cell_type": "markdown",
      "metadata": {
        "id": "Nflmroy9yJEs",
        "colab_type": "text"
      },
      "source": [
        "**Question** Calculer la moyenne des différentes variables numériques."
      ]
    },
    {
      "cell_type": "code",
      "metadata": {
        "id": "N6i5dgE5yPkv",
        "colab_type": "code",
        "colab": {
          "base_uri": "https://localhost:8080/",
          "height": 451
        },
        "outputId": "e2b921c3-9433-482e-ec33-4866d1f4d64b"
      },
      "source": [
        "housing.info()\n",
        "moyP = housing[\"price\"].mean()\n",
        "print(\"La moyenne de la variable price est : \",round(moyP))\n",
        "moyL = housing[\"lotsize\"].mean()\n",
        "print(\"La moyenne de la variable lotsize est : \",round(moyL))\n",
        "moyBe = housing[\"bedrooms\"].mean()\n",
        "print(\"La moyenne de la variable bedrooms est : \", round(moyBe))\n",
        "moyBa = housing[\"bathrms\"].mean()\n",
        "print(\"La moyenne de la variable bathrms est :\", round(moyBa))\n",
        "moyS = housing[\"stories\"].mean()\n",
        "print(\"La moyenne de la variable stories est : \", round(moyS))\n",
        "moyG = housing[\"garagepl\"].mean()\n",
        "print(\"La moyenne de la variable garagepl est : \", round(moyG))"
      ],
      "execution_count": null,
      "outputs": [
        {
          "output_type": "stream",
          "text": [
            "<class 'pandas.core.frame.DataFrame'>\n",
            "RangeIndex: 546 entries, 0 to 545\n",
            "Data columns (total 12 columns):\n",
            " #   Column    Non-Null Count  Dtype \n",
            "---  ------    --------------  ----- \n",
            " 0   price     546 non-null    int64 \n",
            " 1   lotsize   546 non-null    int64 \n",
            " 2   bedrooms  546 non-null    int64 \n",
            " 3   bathrms   546 non-null    int64 \n",
            " 4   stories   546 non-null    int64 \n",
            " 5   driveway  546 non-null    object\n",
            " 6   recroom   546 non-null    object\n",
            " 7   fullbase  546 non-null    object\n",
            " 8   gashw     546 non-null    object\n",
            " 9   airco     546 non-null    object\n",
            " 10  garagepl  546 non-null    int64 \n",
            " 11  prefarea  546 non-null    object\n",
            "dtypes: int64(6), object(6)\n",
            "memory usage: 51.3+ KB\n",
            "La moyenne de la variable price est :  681216\n",
            "La moyenne de la variable lotsize est :  515\n",
            "La moyenne de la variable bedrooms est :  3\n",
            "La moyenne de la variable bathrms est : 1\n",
            "La moyenne de la variable stories est :  2\n",
            "La moyenne de la variable garagepl est :  1\n"
          ],
          "name": "stdout"
        }
      ]
    },
    {
      "cell_type": "markdown",
      "metadata": {
        "id": "lcXi91HfySBB",
        "colab_type": "text"
      },
      "source": [
        "**Question** Calculer les écart-types des différentes variables numériques."
      ]
    },
    {
      "cell_type": "code",
      "metadata": {
        "id": "IkrYfkReyRbD",
        "colab_type": "code",
        "colab": {
          "base_uri": "https://localhost:8080/",
          "height": 121
        },
        "outputId": "01afc760-c873-470b-9aa4-3c4639ff987f"
      },
      "source": [
        "def variance(data,moy):\n",
        "  # Number of observations\n",
        "  n = len(data)\n",
        "  # Square deviations\n",
        "  deviations = [(x - moy) ** 2 for x in data]\n",
        "  # Variance\n",
        "  variance = sum(deviations) / n\n",
        "  return variance\n",
        "vp = variance(housing[\"price\"],moyP)\n",
        "vl = variance(housing[\"lotsize\"],moyL)\n",
        "vbe = variance(housing[\"bedrooms\"],moyBe)\n",
        "vba = variance(housing[\"bathrms\"],moyBa)\n",
        "vs = variance(housing[\"stories\"],moyS)\n",
        "vg = variance(housing[\"garagepl\"],moyG)\n",
        "\n",
        "print(\"L'écart type de la variable price est : \", vp)\n",
        "print(\"L'écart type de la variable lotsize est : \", vl)\n",
        "print(\"L'écart type de la variable bedrooms est : \", vbe)\n",
        "print(\"L'écart type de la variable bathrms est : \", vba)\n",
        "print(\"L'écart type de la variable stories est : \", vs)\n",
        "print(\"L'écart type de la variable garagepl est : \", vg)\n"
      ],
      "execution_count": null,
      "outputs": [
        {
          "output_type": "stream",
          "text": [
            "L'écart type de la variable price est :  71172671399.5156\n",
            "L'écart type de la variable lotsize est :  46915.171476874806\n",
            "L'écart type de la variable bedrooms est :  0.5427451059319197\n",
            "L'écart type de la variable bathrms est :  0.2517006802721077\n",
            "L'écart type de la variable stories est :  0.7523950408565796\n",
            "L'écart type de la variable garagepl est :  0.740490278951814\n"
          ],
          "name": "stdout"
        }
      ]
    },
    {
      "cell_type": "markdown",
      "metadata": {
        "id": "r4kDZN9vyVy8",
        "colab_type": "text"
      },
      "source": [
        "**Question** Pour les variables catégoriques, calculer les occurrences des différentes catégories.\n"
      ]
    },
    {
      "cell_type": "code",
      "metadata": {
        "id": "FBODtSR8yWRf",
        "colab_type": "code",
        "colab": {
          "base_uri": "https://localhost:8080/",
          "height": 434
        },
        "outputId": "ee1bea6a-226e-4363-b545-4f254715dd3a"
      },
      "source": [
        "print(\"Le nbre d'occurences pour la variable driveaway est :\\n\",housing[\"driveway\"].value_counts())\n",
        "print(\"Le nbre d'occurences pour la variable recroom est :\\n\",housing[\"recroom\"].value_counts())\n",
        "print(\"Le nbre d'occurences pour la variable fullbase est :\\n\",housing[\"fullbase\"].value_counts())\n",
        "print(\"Le nbre d'occurences pour la variable gashw est :\\n\",housing[\"gashw\"].value_counts())\n",
        "print(\"Le nbre d'occurences pour la variable airco est :\\n\",housing[\"airco\"].value_counts())\n",
        "print(\"Le nbre d'occurences pour la variable prefarea est :\\n\",housing[\"prefarea\"].value_counts())"
      ],
      "execution_count": null,
      "outputs": [
        {
          "output_type": "stream",
          "text": [
            "Le nbre d'occurences pour la variable driveaway est :\n",
            " yes    469\n",
            "no      77\n",
            "Name: driveway, dtype: int64\n",
            "Le nbre d'occurences pour la variable recroom est :\n",
            " no     449\n",
            "yes     97\n",
            "Name: recroom, dtype: int64\n",
            "Le nbre d'occurences pour la variable fullbase est :\n",
            " no     355\n",
            "yes    191\n",
            "Name: fullbase, dtype: int64\n",
            "Le nbre d'occurences pour la variable gashw est :\n",
            " no     521\n",
            "yes     25\n",
            "Name: gashw, dtype: int64\n",
            "Le nbre d'occurences pour la variable airco est :\n",
            " no     373\n",
            "yes    173\n",
            "Name: airco, dtype: int64\n",
            "Le nbre d'occurences pour la variable prefarea est :\n",
            " no     418\n",
            "yes    128\n",
            "Name: prefarea, dtype: int64\n"
          ],
          "name": "stdout"
        }
      ]
    }
  ]
}