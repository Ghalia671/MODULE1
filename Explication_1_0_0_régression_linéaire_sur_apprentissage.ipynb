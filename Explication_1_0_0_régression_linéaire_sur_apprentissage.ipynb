{
  "nbformat": 4,
  "nbformat_minor": 0,
  "metadata": {
    "colab": {
      "name": "Explication -  1.0.0 régression linéaire sur apprentissage.ipynb",
      "provenance": [],
      "collapsed_sections": [],
      "toc_visible": true,
      "include_colab_link": true
    },
    "kernelspec": {
      "name": "python3",
      "display_name": "Python 3"
    }
  },
  "cells": [
    {
      "cell_type": "markdown",
      "metadata": {
        "id": "view-in-github",
        "colab_type": "text"
      },
      "source": [
        "<a href=\"https://colab.research.google.com/github/Ghalia671/MODULE1/blob/master/Explication_1_0_0_r%C3%A9gression_lin%C3%A9aire_sur_apprentissage.ipynb\" target=\"_parent\"><img src=\"https://colab.research.google.com/assets/colab-badge.svg\" alt=\"Open In Colab\"/></a>"
      ]
    },
    {
      "cell_type": "markdown",
      "metadata": {
        "colab_type": "text",
        "id": "o8k7gnJoeo8j"
      },
      "source": [
        "# Données\n"
      ]
    },
    {
      "cell_type": "code",
      "metadata": {
        "colab_type": "code",
        "id": "uYQgD5Pvd2EX",
        "colab": {
          "base_uri": "https://localhost:8080/",
          "height": 72
        },
        "outputId": "f629056c-c8a3-4954-dc56-977dfd59910b"
      },
      "source": [
        "import pandas as pd\n",
        "import numpy as np\n",
        "import seaborn as sns\n",
        "housing=pd.read_csv(\"https://dataks.bitbucket.io/ml/houses_poly.csv\")"
      ],
      "execution_count": null,
      "outputs": [
        {
          "output_type": "stream",
          "text": [
            "/usr/local/lib/python3.6/dist-packages/statsmodels/tools/_testing.py:19: FutureWarning: pandas.util.testing is deprecated. Use the functions in the public API at pandas.testing instead.\n",
            "  import pandas.util.testing as tm\n"
          ],
          "name": "stderr"
        }
      ]
    },
    {
      "cell_type": "code",
      "metadata": {
        "colab_type": "code",
        "id": "FMVMkSsEevvK",
        "colab": {
          "base_uri": "https://localhost:8080/",
          "height": 383
        },
        "outputId": "a5de64d0-6d74-4581-b3ca-46f8053bc177"
      },
      "source": [
        "housing.head(10)"
      ],
      "execution_count": null,
      "outputs": [
        {
          "output_type": "execute_result",
          "data": {
            "text/html": [
              "<div>\n",
              "<style scoped>\n",
              "    .dataframe tbody tr th:only-of-type {\n",
              "        vertical-align: middle;\n",
              "    }\n",
              "\n",
              "    .dataframe tbody tr th {\n",
              "        vertical-align: top;\n",
              "    }\n",
              "\n",
              "    .dataframe thead th {\n",
              "        text-align: right;\n",
              "    }\n",
              "</style>\n",
              "<table border=\"1\" class=\"dataframe\">\n",
              "  <thead>\n",
              "    <tr style=\"text-align: right;\">\n",
              "      <th></th>\n",
              "      <th>X1</th>\n",
              "      <th>X2</th>\n",
              "      <th>X3</th>\n",
              "      <th>X4</th>\n",
              "      <th>X5</th>\n",
              "      <th>X6</th>\n",
              "      <th>X7</th>\n",
              "      <th>X8</th>\n",
              "      <th>X9</th>\n",
              "      <th>X10</th>\n",
              "      <th>X11</th>\n",
              "      <th>X12</th>\n",
              "      <th>X13</th>\n",
              "      <th>X14</th>\n",
              "      <th>X15</th>\n",
              "      <th>X16</th>\n",
              "      <th>X17</th>\n",
              "      <th>X18</th>\n",
              "      <th>X19</th>\n",
              "      <th>X20</th>\n",
              "      <th>X21</th>\n",
              "      <th>X22</th>\n",
              "      <th>X23</th>\n",
              "      <th>X24</th>\n",
              "      <th>X25</th>\n",
              "      <th>X26</th>\n",
              "      <th>X27</th>\n",
              "      <th>X28</th>\n",
              "      <th>X29</th>\n",
              "      <th>X30</th>\n",
              "      <th>price</th>\n",
              "    </tr>\n",
              "  </thead>\n",
              "  <tbody>\n",
              "    <tr>\n",
              "      <th>0</th>\n",
              "      <td>0.322873</td>\n",
              "      <td>0.101295</td>\n",
              "      <td>-0.059028</td>\n",
              "      <td>-0.132865</td>\n",
              "      <td>-0.148188</td>\n",
              "      <td>-0.138416</td>\n",
              "      <td>-0.122455</td>\n",
              "      <td>-0.107645</td>\n",
              "      <td>-0.095827</td>\n",
              "      <td>-0.086876</td>\n",
              "      <td>-0.080186</td>\n",
              "      <td>-0.075159</td>\n",
              "      <td>-0.071334</td>\n",
              "      <td>-0.068376</td>\n",
              "      <td>-0.066047</td>\n",
              "      <td>-0.064183</td>\n",
              "      <td>-0.062666</td>\n",
              "      <td>-0.061410</td>\n",
              "      <td>-0.060354</td>\n",
              "      <td>-0.059452</td>\n",
              "      <td>-0.05867</td>\n",
              "      <td>-0.057981</td>\n",
              "      <td>-0.057367</td>\n",
              "      <td>-0.056812</td>\n",
              "      <td>-0.056304</td>\n",
              "      <td>-0.055834</td>\n",
              "      <td>-0.055396</td>\n",
              "      <td>-0.054983</td>\n",
              "      <td>-0.054592</td>\n",
              "      <td>-0.054219</td>\n",
              "      <td>420000</td>\n",
              "    </tr>\n",
              "    <tr>\n",
              "      <th>1</th>\n",
              "      <td>-0.531239</td>\n",
              "      <td>-0.513639</td>\n",
              "      <td>-0.418851</td>\n",
              "      <td>-0.311237</td>\n",
              "      <td>-0.227199</td>\n",
              "      <td>-0.171030</td>\n",
              "      <td>-0.135341</td>\n",
              "      <td>-0.112598</td>\n",
              "      <td>-0.097697</td>\n",
              "      <td>-0.087575</td>\n",
              "      <td>-0.080444</td>\n",
              "      <td>-0.075255</td>\n",
              "      <td>-0.071369</td>\n",
              "      <td>-0.068388</td>\n",
              "      <td>-0.066052</td>\n",
              "      <td>-0.064185</td>\n",
              "      <td>-0.062666</td>\n",
              "      <td>-0.061410</td>\n",
              "      <td>-0.060354</td>\n",
              "      <td>-0.059452</td>\n",
              "      <td>-0.05867</td>\n",
              "      <td>-0.057981</td>\n",
              "      <td>-0.057367</td>\n",
              "      <td>-0.056812</td>\n",
              "      <td>-0.056304</td>\n",
              "      <td>-0.055834</td>\n",
              "      <td>-0.055396</td>\n",
              "      <td>-0.054983</td>\n",
              "      <td>-0.054592</td>\n",
              "      <td>-0.054219</td>\n",
              "      <td>385000</td>\n",
              "    </tr>\n",
              "    <tr>\n",
              "      <th>2</th>\n",
              "      <td>-0.965221</td>\n",
              "      <td>-0.737589</td>\n",
              "      <td>-0.512233</td>\n",
              "      <td>-0.344044</td>\n",
              "      <td>-0.237446</td>\n",
              "      <td>-0.173998</td>\n",
              "      <td>-0.136160</td>\n",
              "      <td>-0.112817</td>\n",
              "      <td>-0.097755</td>\n",
              "      <td>-0.087590</td>\n",
              "      <td>-0.080448</td>\n",
              "      <td>-0.075256</td>\n",
              "      <td>-0.071370</td>\n",
              "      <td>-0.068388</td>\n",
              "      <td>-0.066052</td>\n",
              "      <td>-0.064185</td>\n",
              "      <td>-0.062666</td>\n",
              "      <td>-0.061410</td>\n",
              "      <td>-0.060354</td>\n",
              "      <td>-0.059452</td>\n",
              "      <td>-0.05867</td>\n",
              "      <td>-0.057981</td>\n",
              "      <td>-0.057367</td>\n",
              "      <td>-0.056812</td>\n",
              "      <td>-0.056304</td>\n",
              "      <td>-0.055834</td>\n",
              "      <td>-0.055396</td>\n",
              "      <td>-0.054983</td>\n",
              "      <td>-0.054592</td>\n",
              "      <td>-0.054219</td>\n",
              "      <td>495000</td>\n",
              "    </tr>\n",
              "    <tr>\n",
              "      <th>3</th>\n",
              "      <td>0.692219</td>\n",
              "      <td>0.438753</td>\n",
              "      <td>0.188984</td>\n",
              "      <td>0.020028</td>\n",
              "      <td>-0.064754</td>\n",
              "      <td>-0.096362</td>\n",
              "      <td>-0.102329</td>\n",
              "      <td>-0.098343</td>\n",
              "      <td>-0.091631</td>\n",
              "      <td>-0.085017</td>\n",
              "      <td>-0.079372</td>\n",
              "      <td>-0.074807</td>\n",
              "      <td>-0.071183</td>\n",
              "      <td>-0.068311</td>\n",
              "      <td>-0.066020</td>\n",
              "      <td>-0.064172</td>\n",
              "      <td>-0.062661</td>\n",
              "      <td>-0.061408</td>\n",
              "      <td>-0.060353</td>\n",
              "      <td>-0.059452</td>\n",
              "      <td>-0.05867</td>\n",
              "      <td>-0.057981</td>\n",
              "      <td>-0.057367</td>\n",
              "      <td>-0.056812</td>\n",
              "      <td>-0.056304</td>\n",
              "      <td>-0.055834</td>\n",
              "      <td>-0.055396</td>\n",
              "      <td>-0.054983</td>\n",
              "      <td>-0.054592</td>\n",
              "      <td>-0.054219</td>\n",
              "      <td>605000</td>\n",
              "    </tr>\n",
              "    <tr>\n",
              "      <th>4</th>\n",
              "      <td>0.558331</td>\n",
              "      <td>0.311433</td>\n",
              "      <td>0.091710</td>\n",
              "      <td>-0.042236</td>\n",
              "      <td>-0.099991</td>\n",
              "      <td>-0.114760</td>\n",
              "      <td>-0.111439</td>\n",
              "      <td>-0.102695</td>\n",
              "      <td>-0.093657</td>\n",
              "      <td>-0.085943</td>\n",
              "      <td>-0.079789</td>\n",
              "      <td>-0.074993</td>\n",
              "      <td>-0.071265</td>\n",
              "      <td>-0.068347</td>\n",
              "      <td>-0.066035</td>\n",
              "      <td>-0.064178</td>\n",
              "      <td>-0.062664</td>\n",
              "      <td>-0.061409</td>\n",
              "      <td>-0.060354</td>\n",
              "      <td>-0.059452</td>\n",
              "      <td>-0.05867</td>\n",
              "      <td>-0.057981</td>\n",
              "      <td>-0.057367</td>\n",
              "      <td>-0.056812</td>\n",
              "      <td>-0.056304</td>\n",
              "      <td>-0.055834</td>\n",
              "      <td>-0.055396</td>\n",
              "      <td>-0.054983</td>\n",
              "      <td>-0.054592</td>\n",
              "      <td>-0.054219</td>\n",
              "      <td>610000</td>\n",
              "    </tr>\n",
              "    <tr>\n",
              "      <th>5</th>\n",
              "      <td>-0.457370</td>\n",
              "      <td>-0.469580</td>\n",
              "      <td>-0.397739</td>\n",
              "      <td>-0.302762</td>\n",
              "      <td>-0.224191</td>\n",
              "      <td>-0.170045</td>\n",
              "      <td>-0.135035</td>\n",
              "      <td>-0.112506</td>\n",
              "      <td>-0.097671</td>\n",
              "      <td>-0.087567</td>\n",
              "      <td>-0.080442</td>\n",
              "      <td>-0.075254</td>\n",
              "      <td>-0.071369</td>\n",
              "      <td>-0.068388</td>\n",
              "      <td>-0.066052</td>\n",
              "      <td>-0.064185</td>\n",
              "      <td>-0.062666</td>\n",
              "      <td>-0.061410</td>\n",
              "      <td>-0.060354</td>\n",
              "      <td>-0.059452</td>\n",
              "      <td>-0.05867</td>\n",
              "      <td>-0.057981</td>\n",
              "      <td>-0.057367</td>\n",
              "      <td>-0.056812</td>\n",
              "      <td>-0.056304</td>\n",
              "      <td>-0.055834</td>\n",
              "      <td>-0.055396</td>\n",
              "      <td>-0.054983</td>\n",
              "      <td>-0.054592</td>\n",
              "      <td>-0.054219</td>\n",
              "      <td>660000</td>\n",
              "    </tr>\n",
              "    <tr>\n",
              "      <th>6</th>\n",
              "      <td>-0.586641</td>\n",
              "      <td>-0.545549</td>\n",
              "      <td>-0.433616</td>\n",
              "      <td>-0.316961</td>\n",
              "      <td>-0.229161</td>\n",
              "      <td>-0.171650</td>\n",
              "      <td>-0.135526</td>\n",
              "      <td>-0.112652</td>\n",
              "      <td>-0.097713</td>\n",
              "      <td>-0.087579</td>\n",
              "      <td>-0.080445</td>\n",
              "      <td>-0.075255</td>\n",
              "      <td>-0.071369</td>\n",
              "      <td>-0.068388</td>\n",
              "      <td>-0.066052</td>\n",
              "      <td>-0.064185</td>\n",
              "      <td>-0.062666</td>\n",
              "      <td>-0.061410</td>\n",
              "      <td>-0.060354</td>\n",
              "      <td>-0.059452</td>\n",
              "      <td>-0.05867</td>\n",
              "      <td>-0.057981</td>\n",
              "      <td>-0.057367</td>\n",
              "      <td>-0.056812</td>\n",
              "      <td>-0.056304</td>\n",
              "      <td>-0.055834</td>\n",
              "      <td>-0.055396</td>\n",
              "      <td>-0.054983</td>\n",
              "      <td>-0.054592</td>\n",
              "      <td>-0.054219</td>\n",
              "      <td>660000</td>\n",
              "    </tr>\n",
              "    <tr>\n",
              "      <th>7</th>\n",
              "      <td>-0.457370</td>\n",
              "      <td>-0.469580</td>\n",
              "      <td>-0.397739</td>\n",
              "      <td>-0.302762</td>\n",
              "      <td>-0.224191</td>\n",
              "      <td>-0.170045</td>\n",
              "      <td>-0.135035</td>\n",
              "      <td>-0.112506</td>\n",
              "      <td>-0.097671</td>\n",
              "      <td>-0.087567</td>\n",
              "      <td>-0.080442</td>\n",
              "      <td>-0.075254</td>\n",
              "      <td>-0.071369</td>\n",
              "      <td>-0.068388</td>\n",
              "      <td>-0.066052</td>\n",
              "      <td>-0.064185</td>\n",
              "      <td>-0.062666</td>\n",
              "      <td>-0.061410</td>\n",
              "      <td>-0.060354</td>\n",
              "      <td>-0.059452</td>\n",
              "      <td>-0.05867</td>\n",
              "      <td>-0.057981</td>\n",
              "      <td>-0.057367</td>\n",
              "      <td>-0.056812</td>\n",
              "      <td>-0.056304</td>\n",
              "      <td>-0.055834</td>\n",
              "      <td>-0.055396</td>\n",
              "      <td>-0.054983</td>\n",
              "      <td>-0.054592</td>\n",
              "      <td>-0.054219</td>\n",
              "      <td>690000</td>\n",
              "    </tr>\n",
              "    <tr>\n",
              "      <th>8</th>\n",
              "      <td>-0.161893</td>\n",
              "      <td>-0.276068</td>\n",
              "      <td>-0.295762</td>\n",
              "      <td>-0.257670</td>\n",
              "      <td>-0.206535</td>\n",
              "      <td>-0.163657</td>\n",
              "      <td>-0.132840</td>\n",
              "      <td>-0.111778</td>\n",
              "      <td>-0.097435</td>\n",
              "      <td>-0.087492</td>\n",
              "      <td>-0.080418</td>\n",
              "      <td>-0.075247</td>\n",
              "      <td>-0.071367</td>\n",
              "      <td>-0.068388</td>\n",
              "      <td>-0.066052</td>\n",
              "      <td>-0.064185</td>\n",
              "      <td>-0.062666</td>\n",
              "      <td>-0.061410</td>\n",
              "      <td>-0.060354</td>\n",
              "      <td>-0.059452</td>\n",
              "      <td>-0.05867</td>\n",
              "      <td>-0.057981</td>\n",
              "      <td>-0.057367</td>\n",
              "      <td>-0.056812</td>\n",
              "      <td>-0.056304</td>\n",
              "      <td>-0.055834</td>\n",
              "      <td>-0.055396</td>\n",
              "      <td>-0.054983</td>\n",
              "      <td>-0.054592</td>\n",
              "      <td>-0.054219</td>\n",
              "      <td>838000</td>\n",
              "    </tr>\n",
              "    <tr>\n",
              "      <th>9</th>\n",
              "      <td>0.161284</td>\n",
              "      <td>-0.032761</td>\n",
              "      <td>-0.148392</td>\n",
              "      <td>-0.182783</td>\n",
              "      <td>-0.172845</td>\n",
              "      <td>-0.149655</td>\n",
              "      <td>-0.127313</td>\n",
              "      <td>-0.109671</td>\n",
              "      <td>-0.096651</td>\n",
              "      <td>-0.087205</td>\n",
              "      <td>-0.080315</td>\n",
              "      <td>-0.075210</td>\n",
              "      <td>-0.071354</td>\n",
              "      <td>-0.068383</td>\n",
              "      <td>-0.066050</td>\n",
              "      <td>-0.064184</td>\n",
              "      <td>-0.062666</td>\n",
              "      <td>-0.061410</td>\n",
              "      <td>-0.060354</td>\n",
              "      <td>-0.059452</td>\n",
              "      <td>-0.05867</td>\n",
              "      <td>-0.057981</td>\n",
              "      <td>-0.057367</td>\n",
              "      <td>-0.056812</td>\n",
              "      <td>-0.056304</td>\n",
              "      <td>-0.055834</td>\n",
              "      <td>-0.055396</td>\n",
              "      <td>-0.054983</td>\n",
              "      <td>-0.054592</td>\n",
              "      <td>-0.054219</td>\n",
              "      <td>885000</td>\n",
              "    </tr>\n",
              "  </tbody>\n",
              "</table>\n",
              "</div>"
            ],
            "text/plain": [
              "         X1        X2        X3        X4  ...       X28       X29       X30   price\n",
              "0  0.322873  0.101295 -0.059028 -0.132865  ... -0.054983 -0.054592 -0.054219  420000\n",
              "1 -0.531239 -0.513639 -0.418851 -0.311237  ... -0.054983 -0.054592 -0.054219  385000\n",
              "2 -0.965221 -0.737589 -0.512233 -0.344044  ... -0.054983 -0.054592 -0.054219  495000\n",
              "3  0.692219  0.438753  0.188984  0.020028  ... -0.054983 -0.054592 -0.054219  605000\n",
              "4  0.558331  0.311433  0.091710 -0.042236  ... -0.054983 -0.054592 -0.054219  610000\n",
              "5 -0.457370 -0.469580 -0.397739 -0.302762  ... -0.054983 -0.054592 -0.054219  660000\n",
              "6 -0.586641 -0.545549 -0.433616 -0.316961  ... -0.054983 -0.054592 -0.054219  660000\n",
              "7 -0.457370 -0.469580 -0.397739 -0.302762  ... -0.054983 -0.054592 -0.054219  690000\n",
              "8 -0.161893 -0.276068 -0.295762 -0.257670  ... -0.054983 -0.054592 -0.054219  838000\n",
              "9  0.161284 -0.032761 -0.148392 -0.182783  ... -0.054983 -0.054592 -0.054219  885000\n",
              "\n",
              "[10 rows x 31 columns]"
            ]
          },
          "metadata": {
            "tags": []
          },
          "execution_count": 2
        }
      ]
    },
    {
      "cell_type": "markdown",
      "metadata": {
        "colab_type": "text",
        "id": "DzrAsE20Hbyf"
      },
      "source": [
        "## Base d'apprentissage et de test"
      ]
    },
    {
      "cell_type": "code",
      "metadata": {
        "colab_type": "code",
        "id": "f2cx0UjiHbyh",
        "colab": {}
      },
      "source": [
        "from sklearn.model_selection import train_test_split\n",
        "\n",
        "X = housing.loc[:, housing.columns != 'price']\n",
        "\n",
        "y = housing[['price']]\n",
        "\n",
        "X_train, X_test, y_train, y_test = train_test_split(X, y, test_size=0.3)"
      ],
      "execution_count": null,
      "outputs": []
    },
    {
      "cell_type": "markdown",
      "metadata": {
        "id": "bmaoD4S_z0Pn",
        "colab_type": "text"
      },
      "source": [
        "# Modèle de régression linéaire"
      ]
    },
    {
      "cell_type": "code",
      "metadata": {
        "colab_type": "code",
        "id": "qZJ4PTvsofD6",
        "colab": {}
      },
      "source": [
        "\n",
        "from sklearn.linear_model import LinearRegression\n",
        "linreg=LinearRegression()\n"
      ],
      "execution_count": null,
      "outputs": []
    },
    {
      "cell_type": "code",
      "metadata": {
        "id": "x0kAEer4NBwK",
        "colab_type": "code",
        "colab": {
          "base_uri": "https://localhost:8080/",
          "height": 34
        },
        "outputId": "3cd1aad6-aac0-426d-bbf0-d67465eecdb3"
      },
      "source": [
        "\n",
        "linreg.fit(X_train,y_train)"
      ],
      "execution_count": null,
      "outputs": [
        {
          "output_type": "execute_result",
          "data": {
            "text/plain": [
              "LinearRegression(copy_X=True, fit_intercept=True, n_jobs=None, normalize=False)"
            ]
          },
          "metadata": {
            "tags": []
          },
          "execution_count": 6
        }
      ]
    },
    {
      "cell_type": "markdown",
      "metadata": {
        "id": "eORURqmsvCan",
        "colab_type": "text"
      },
      "source": [
        "# Evaluation des modèles"
      ]
    },
    {
      "cell_type": "code",
      "metadata": {
        "id": "G1wKHy7uvFtj",
        "colab_type": "code",
        "colab": {}
      },
      "source": [
        "from sklearn.metrics import mean_squared_error\n",
        "\n",
        "housing_predictions = linreg.predict(X_train)\n",
        "lin_rmse_train = np.sqrt(mean_squared_error(y_train, linreg.predict(X_train)))\n",
        "lin_rmse_test = np.sqrt(mean_squared_error(y_test, linreg.predict(X_test)))"
      ],
      "execution_count": null,
      "outputs": []
    },
    {
      "cell_type": "code",
      "metadata": {
        "id": "Xxk8qDgivJoE",
        "colab_type": "code",
        "colab": {
          "base_uri": "https://localhost:8080/",
          "height": 34
        },
        "outputId": "9684807a-26af-474a-d669-a20620265160"
      },
      "source": [
        "lin_rmse_train"
      ],
      "execution_count": null,
      "outputs": [
        {
          "output_type": "execute_result",
          "data": {
            "text/plain": [
              "202448.01708547617"
            ]
          },
          "metadata": {
            "tags": []
          },
          "execution_count": 8
        }
      ]
    },
    {
      "cell_type": "code",
      "metadata": {
        "id": "V0-NaWLzvKjq",
        "colab_type": "code",
        "colab": {
          "base_uri": "https://localhost:8080/",
          "height": 34
        },
        "outputId": "8f1428e3-6101-4ae1-93c3-b3e12e3676e6"
      },
      "source": [
        "lin_rmse_test"
      ],
      "execution_count": null,
      "outputs": [
        {
          "output_type": "execute_result",
          "data": {
            "text/plain": [
              "235602.48452759522"
            ]
          },
          "metadata": {
            "tags": []
          },
          "execution_count": 9
        }
      ]
    },
    {
      "cell_type": "markdown",
      "metadata": {
        "id": "1zRvh2dOuokd",
        "colab_type": "text"
      },
      "source": [
        "## Boucle régression linéaire\n"
      ]
    },
    {
      "cell_type": "code",
      "metadata": {
        "colab_type": "code",
        "id": "QiyFctoluoMl",
        "colab": {}
      },
      "source": [
        "df = pd.DataFrame(columns=('rmse_train', 'rmse_test'))\n",
        "\n",
        "for i in range(1000):\n",
        "  X_train, X_test, y_train, y_test = train_test_split(X, y, test_size=0.3)\n",
        "  linreg.fit(X_train, y_train)\n",
        "  housing_predictions = linreg.predict(X_train)\n",
        "  lin_rmse_train = np.sqrt(mean_squared_error(y_train, linreg.predict(X_train)))\n",
        "  lin_rmse_test = np.sqrt(mean_squared_error(y_test, linreg.predict(X_test)))\n",
        "  df.loc[i] = [lin_rmse_train,lin_rmse_test]"
      ],
      "execution_count": null,
      "outputs": []
    },
    {
      "cell_type": "code",
      "metadata": {
        "colab_type": "code",
        "id": "NjxXy9r1uoMo",
        "colab": {
          "base_uri": "https://localhost:8080/",
          "height": 300
        },
        "outputId": "17654014-6233-48be-80e7-4f92c27b99c9"
      },
      "source": [
        "df.describe()"
      ],
      "execution_count": null,
      "outputs": [
        {
          "output_type": "execute_result",
          "data": {
            "text/html": [
              "<div>\n",
              "<style scoped>\n",
              "    .dataframe tbody tr th:only-of-type {\n",
              "        vertical-align: middle;\n",
              "    }\n",
              "\n",
              "    .dataframe tbody tr th {\n",
              "        vertical-align: top;\n",
              "    }\n",
              "\n",
              "    .dataframe thead th {\n",
              "        text-align: right;\n",
              "    }\n",
              "</style>\n",
              "<table border=\"1\" class=\"dataframe\">\n",
              "  <thead>\n",
              "    <tr style=\"text-align: right;\">\n",
              "      <th></th>\n",
              "      <th>rmse_train</th>\n",
              "      <th>rmse_test</th>\n",
              "    </tr>\n",
              "  </thead>\n",
              "  <tbody>\n",
              "    <tr>\n",
              "      <th>count</th>\n",
              "      <td>1000.000000</td>\n",
              "      <td>1.000000e+03</td>\n",
              "    </tr>\n",
              "    <tr>\n",
              "      <th>mean</th>\n",
              "      <td>208604.090779</td>\n",
              "      <td>1.200747e+14</td>\n",
              "    </tr>\n",
              "    <tr>\n",
              "      <th>std</th>\n",
              "      <td>6513.279471</td>\n",
              "      <td>7.262273e+14</td>\n",
              "    </tr>\n",
              "    <tr>\n",
              "      <th>min</th>\n",
              "      <td>185299.042221</td>\n",
              "      <td>1.916558e+05</td>\n",
              "    </tr>\n",
              "    <tr>\n",
              "      <th>25%</th>\n",
              "      <td>204114.642857</td>\n",
              "      <td>2.915398e+05</td>\n",
              "    </tr>\n",
              "    <tr>\n",
              "      <th>50%</th>\n",
              "      <td>209086.841359</td>\n",
              "      <td>1.419102e+11</td>\n",
              "    </tr>\n",
              "    <tr>\n",
              "      <th>75%</th>\n",
              "      <td>213086.547010</td>\n",
              "      <td>3.284606e+12</td>\n",
              "    </tr>\n",
              "    <tr>\n",
              "      <th>max</th>\n",
              "      <td>224804.844633</td>\n",
              "      <td>1.531585e+16</td>\n",
              "    </tr>\n",
              "  </tbody>\n",
              "</table>\n",
              "</div>"
            ],
            "text/plain": [
              "          rmse_train     rmse_test\n",
              "count    1000.000000  1.000000e+03\n",
              "mean   208604.090779  1.200747e+14\n",
              "std      6513.279471  7.262273e+14\n",
              "min    185299.042221  1.916558e+05\n",
              "25%    204114.642857  2.915398e+05\n",
              "50%    209086.841359  1.419102e+11\n",
              "75%    213086.547010  3.284606e+12\n",
              "max    224804.844633  1.531585e+16"
            ]
          },
          "metadata": {
            "tags": []
          },
          "execution_count": 11
        }
      ]
    },
    {
      "cell_type": "code",
      "metadata": {
        "colab_type": "code",
        "id": "LXb-ZsdCuoMr",
        "colab": {
          "base_uri": "https://localhost:8080/",
          "height": 306
        },
        "outputId": "3bfef368-9c9d-4562-e409-760b00bf7e4b"
      },
      "source": [
        "\n",
        "sns.distplot(df[['rmse_train']], hist=False, rug=True)\n",
        "sns.distplot(df[['rmse_test']], hist=False, rug=True)"
      ],
      "execution_count": null,
      "outputs": [
        {
          "output_type": "execute_result",
          "data": {
            "text/plain": [
              "<matplotlib.axes._subplots.AxesSubplot at 0x7fc709bacd68>"
            ]
          },
          "metadata": {
            "tags": []
          },
          "execution_count": 12
        },
        {
          "output_type": "display_data",
          "data": {
            "image/png": "[encoded data removed]",
            "text/plain": [
              "<Figure size 432x288 with 1 Axes>"
            ]
          },
          "metadata": {
            "tags": [],
            "needs_background": "light"
          }
        }
      ]
    },
    {
      "cell_type": "code",
      "metadata": {
        "id": "449r3H8N0piM",
        "colab_type": "code",
        "colab": {}
      },
      "source": [
        ""
      ],
      "execution_count": null,
      "outputs": []
    },
    {
      "cell_type": "markdown",
      "metadata": {
        "id": "BZ1ghEJn3KJ8",
        "colab_type": "text"
      },
      "source": [
        "# Coefficients"
      ]
    },
    {
      "cell_type": "code",
      "metadata": {
        "id": "FM4avQnN3LB0",
        "colab_type": "code",
        "colab": {
          "base_uri": "https://localhost:8080/",
          "height": 191
        },
        "outputId": "023d3496-0bee-4de8-8973-8059d4aa3f6b"
      },
      "source": [
        "linreg.coef_"
      ],
      "execution_count": null,
      "outputs": [
        {
          "output_type": "execute_result",
          "data": {
            "text/plain": [
              "array([[-2.69109657e+11,  6.49916623e+12, -8.84849905e+13,\n",
              "         8.62849392e+14, -6.37308656e+15,  3.60677681e+16,\n",
              "        -1.56240064e+17,  5.13100539e+17, -1.24847962e+18,\n",
              "         2.13820905e+18, -2.25037788e+18,  6.93216757e+17,\n",
              "         1.47652719e+18, -1.45386414e+18, -9.10266080e+17,\n",
              "         1.49673253e+18,  8.85077598e+17, -1.25475038e+18,\n",
              "        -1.22086900e+18,  7.77329202e+17,  1.54446796e+18,\n",
              "        -2.56890783e+16, -1.54095665e+18, -8.30314810e+17,\n",
              "         1.19078786e+18,  1.44871000e+18, -8.27402351e+17,\n",
              "        -1.82900334e+18,  1.84530372e+18, -4.91727659e+17]])"
            ]
          },
          "metadata": {
            "tags": []
          },
          "execution_count": 13
        }
      ]
    },
    {
      "cell_type": "markdown",
      "metadata": {
        "id": "opJjdrN1jfaJ",
        "colab_type": "text"
      },
      "source": [
        ""
      ]
    }
  ]
}