{
  "nbformat": 4,
  "nbformat_minor": 0,
  "metadata": {
    "colab": {
      "name": "Explication -  1.0.1 regression ridge lasso.ipynb",
      "provenance": [],
      "collapsed_sections": [],
      "include_colab_link": true
    },
    "kernelspec": {
      "name": "python3",
      "display_name": "Python 3"
    }
  },
  "cells": [
    {
      "cell_type": "markdown",
      "metadata": {
        "id": "view-in-github",
        "colab_type": "text"
      },
      "source": [
        "<a href=\"https://colab.research.google.com/github/Ghalia671/MODULE1/blob/master/Explication_1_0_1_regression_ridge_lasso.ipynb\" target=\"_parent\"><img src=\"https://colab.research.google.com/assets/colab-badge.svg\" alt=\"Open In Colab\"/></a>"
      ]
    },
    {
      "cell_type": "markdown",
      "metadata": {
        "colab_type": "text",
        "id": "o8k7gnJoeo8j"
      },
      "source": [
        "# Données\n"
      ]
    },
    {
      "cell_type": "code",
      "metadata": {
        "colab_type": "code",
        "id": "uYQgD5Pvd2EX",
        "colab": {
          "base_uri": "https://localhost:8080/",
          "height": 52
        },
        "outputId": "b5761609-3c51-48e0-dd5e-ca0f6aa5f4ba"
      },
      "source": [
        "import pandas as pd\n",
        "import numpy as np\n",
        "import seaborn as sns\n",
        "housing=pd.read_csv(\"https://dataks.bitbucket.io/ml/houses_poly20.csv\")"
      ],
      "execution_count": null,
      "outputs": [
        {
          "output_type": "stream",
          "text": [
            "/usr/local/lib/python3.6/dist-packages/statsmodels/tools/_testing.py:19: FutureWarning: pandas.util.testing is deprecated. Use the functions in the public API at pandas.testing instead.\n",
            "  import pandas.util.testing as tm\n"
          ],
          "name": "stderr"
        }
      ]
    },
    {
      "cell_type": "code",
      "metadata": {
        "colab_type": "code",
        "id": "FMVMkSsEevvK",
        "colab": {
          "base_uri": "https://localhost:8080/",
          "height": 363
        },
        "outputId": "215efe6c-570c-40e3-b4ea-ac26aa50e6a9"
      },
      "source": [
        "housing.head(10)"
      ],
      "execution_count": null,
      "outputs": [
        {
          "output_type": "execute_result",
          "data": {
            "text/html": [
              "<div>\n",
              "<style scoped>\n",
              "    .dataframe tbody tr th:only-of-type {\n",
              "        vertical-align: middle;\n",
              "    }\n",
              "\n",
              "    .dataframe tbody tr th {\n",
              "        vertical-align: top;\n",
              "    }\n",
              "\n",
              "    .dataframe thead th {\n",
              "        text-align: right;\n",
              "    }\n",
              "</style>\n",
              "<table border=\"1\" class=\"dataframe\">\n",
              "  <thead>\n",
              "    <tr style=\"text-align: right;\">\n",
              "      <th></th>\n",
              "      <th>X1</th>\n",
              "      <th>X2</th>\n",
              "      <th>X3</th>\n",
              "      <th>X4</th>\n",
              "      <th>X5</th>\n",
              "      <th>X6</th>\n",
              "      <th>X7</th>\n",
              "      <th>X8</th>\n",
              "      <th>X9</th>\n",
              "      <th>X10</th>\n",
              "      <th>X11</th>\n",
              "      <th>X12</th>\n",
              "      <th>X13</th>\n",
              "      <th>X14</th>\n",
              "      <th>X15</th>\n",
              "      <th>X16</th>\n",
              "      <th>X17</th>\n",
              "      <th>X18</th>\n",
              "      <th>X19</th>\n",
              "      <th>X20</th>\n",
              "      <th>price</th>\n",
              "    </tr>\n",
              "  </thead>\n",
              "  <tbody>\n",
              "    <tr>\n",
              "      <th>0</th>\n",
              "      <td>0.322873</td>\n",
              "      <td>0.101295</td>\n",
              "      <td>-0.059028</td>\n",
              "      <td>-0.132865</td>\n",
              "      <td>-0.148188</td>\n",
              "      <td>-0.138416</td>\n",
              "      <td>-0.122455</td>\n",
              "      <td>-0.107645</td>\n",
              "      <td>-0.095827</td>\n",
              "      <td>-0.086876</td>\n",
              "      <td>-0.080186</td>\n",
              "      <td>-0.075159</td>\n",
              "      <td>-0.071334</td>\n",
              "      <td>-0.068376</td>\n",
              "      <td>-0.066047</td>\n",
              "      <td>-0.064183</td>\n",
              "      <td>-0.062666</td>\n",
              "      <td>-0.061410</td>\n",
              "      <td>-0.060354</td>\n",
              "      <td>-0.059452</td>\n",
              "      <td>420000</td>\n",
              "    </tr>\n",
              "    <tr>\n",
              "      <th>1</th>\n",
              "      <td>-0.531239</td>\n",
              "      <td>-0.513639</td>\n",
              "      <td>-0.418851</td>\n",
              "      <td>-0.311237</td>\n",
              "      <td>-0.227199</td>\n",
              "      <td>-0.171030</td>\n",
              "      <td>-0.135341</td>\n",
              "      <td>-0.112598</td>\n",
              "      <td>-0.097697</td>\n",
              "      <td>-0.087575</td>\n",
              "      <td>-0.080444</td>\n",
              "      <td>-0.075255</td>\n",
              "      <td>-0.071369</td>\n",
              "      <td>-0.068388</td>\n",
              "      <td>-0.066052</td>\n",
              "      <td>-0.064185</td>\n",
              "      <td>-0.062666</td>\n",
              "      <td>-0.061410</td>\n",
              "      <td>-0.060354</td>\n",
              "      <td>-0.059452</td>\n",
              "      <td>385000</td>\n",
              "    </tr>\n",
              "    <tr>\n",
              "      <th>2</th>\n",
              "      <td>-0.965221</td>\n",
              "      <td>-0.737589</td>\n",
              "      <td>-0.512233</td>\n",
              "      <td>-0.344044</td>\n",
              "      <td>-0.237446</td>\n",
              "      <td>-0.173998</td>\n",
              "      <td>-0.136160</td>\n",
              "      <td>-0.112817</td>\n",
              "      <td>-0.097755</td>\n",
              "      <td>-0.087590</td>\n",
              "      <td>-0.080448</td>\n",
              "      <td>-0.075256</td>\n",
              "      <td>-0.071370</td>\n",
              "      <td>-0.068388</td>\n",
              "      <td>-0.066052</td>\n",
              "      <td>-0.064185</td>\n",
              "      <td>-0.062666</td>\n",
              "      <td>-0.061410</td>\n",
              "      <td>-0.060354</td>\n",
              "      <td>-0.059452</td>\n",
              "      <td>495000</td>\n",
              "    </tr>\n",
              "    <tr>\n",
              "      <th>3</th>\n",
              "      <td>0.692219</td>\n",
              "      <td>0.438753</td>\n",
              "      <td>0.188984</td>\n",
              "      <td>0.020028</td>\n",
              "      <td>-0.064754</td>\n",
              "      <td>-0.096362</td>\n",
              "      <td>-0.102329</td>\n",
              "      <td>-0.098343</td>\n",
              "      <td>-0.091631</td>\n",
              "      <td>-0.085017</td>\n",
              "      <td>-0.079372</td>\n",
              "      <td>-0.074807</td>\n",
              "      <td>-0.071183</td>\n",
              "      <td>-0.068311</td>\n",
              "      <td>-0.066020</td>\n",
              "      <td>-0.064172</td>\n",
              "      <td>-0.062661</td>\n",
              "      <td>-0.061408</td>\n",
              "      <td>-0.060353</td>\n",
              "      <td>-0.059452</td>\n",
              "      <td>605000</td>\n",
              "    </tr>\n",
              "    <tr>\n",
              "      <th>4</th>\n",
              "      <td>0.558331</td>\n",
              "      <td>0.311433</td>\n",
              "      <td>0.091710</td>\n",
              "      <td>-0.042236</td>\n",
              "      <td>-0.099991</td>\n",
              "      <td>-0.114760</td>\n",
              "      <td>-0.111439</td>\n",
              "      <td>-0.102695</td>\n",
              "      <td>-0.093657</td>\n",
              "      <td>-0.085943</td>\n",
              "      <td>-0.079789</td>\n",
              "      <td>-0.074993</td>\n",
              "      <td>-0.071265</td>\n",
              "      <td>-0.068347</td>\n",
              "      <td>-0.066035</td>\n",
              "      <td>-0.064178</td>\n",
              "      <td>-0.062664</td>\n",
              "      <td>-0.061409</td>\n",
              "      <td>-0.060354</td>\n",
              "      <td>-0.059452</td>\n",
              "      <td>610000</td>\n",
              "    </tr>\n",
              "    <tr>\n",
              "      <th>5</th>\n",
              "      <td>-0.457370</td>\n",
              "      <td>-0.469580</td>\n",
              "      <td>-0.397739</td>\n",
              "      <td>-0.302762</td>\n",
              "      <td>-0.224191</td>\n",
              "      <td>-0.170045</td>\n",
              "      <td>-0.135035</td>\n",
              "      <td>-0.112506</td>\n",
              "      <td>-0.097671</td>\n",
              "      <td>-0.087567</td>\n",
              "      <td>-0.080442</td>\n",
              "      <td>-0.075254</td>\n",
              "      <td>-0.071369</td>\n",
              "      <td>-0.068388</td>\n",
              "      <td>-0.066052</td>\n",
              "      <td>-0.064185</td>\n",
              "      <td>-0.062666</td>\n",
              "      <td>-0.061410</td>\n",
              "      <td>-0.060354</td>\n",
              "      <td>-0.059452</td>\n",
              "      <td>660000</td>\n",
              "    </tr>\n",
              "    <tr>\n",
              "      <th>6</th>\n",
              "      <td>-0.586641</td>\n",
              "      <td>-0.545549</td>\n",
              "      <td>-0.433616</td>\n",
              "      <td>-0.316961</td>\n",
              "      <td>-0.229161</td>\n",
              "      <td>-0.171650</td>\n",
              "      <td>-0.135526</td>\n",
              "      <td>-0.112652</td>\n",
              "      <td>-0.097713</td>\n",
              "      <td>-0.087579</td>\n",
              "      <td>-0.080445</td>\n",
              "      <td>-0.075255</td>\n",
              "      <td>-0.071369</td>\n",
              "      <td>-0.068388</td>\n",
              "      <td>-0.066052</td>\n",
              "      <td>-0.064185</td>\n",
              "      <td>-0.062666</td>\n",
              "      <td>-0.061410</td>\n",
              "      <td>-0.060354</td>\n",
              "      <td>-0.059452</td>\n",
              "      <td>660000</td>\n",
              "    </tr>\n",
              "    <tr>\n",
              "      <th>7</th>\n",
              "      <td>-0.457370</td>\n",
              "      <td>-0.469580</td>\n",
              "      <td>-0.397739</td>\n",
              "      <td>-0.302762</td>\n",
              "      <td>-0.224191</td>\n",
              "      <td>-0.170045</td>\n",
              "      <td>-0.135035</td>\n",
              "      <td>-0.112506</td>\n",
              "      <td>-0.097671</td>\n",
              "      <td>-0.087567</td>\n",
              "      <td>-0.080442</td>\n",
              "      <td>-0.075254</td>\n",
              "      <td>-0.071369</td>\n",
              "      <td>-0.068388</td>\n",
              "      <td>-0.066052</td>\n",
              "      <td>-0.064185</td>\n",
              "      <td>-0.062666</td>\n",
              "      <td>-0.061410</td>\n",
              "      <td>-0.060354</td>\n",
              "      <td>-0.059452</td>\n",
              "      <td>690000</td>\n",
              "    </tr>\n",
              "    <tr>\n",
              "      <th>8</th>\n",
              "      <td>-0.161893</td>\n",
              "      <td>-0.276068</td>\n",
              "      <td>-0.295762</td>\n",
              "      <td>-0.257670</td>\n",
              "      <td>-0.206535</td>\n",
              "      <td>-0.163657</td>\n",
              "      <td>-0.132840</td>\n",
              "      <td>-0.111778</td>\n",
              "      <td>-0.097435</td>\n",
              "      <td>-0.087492</td>\n",
              "      <td>-0.080418</td>\n",
              "      <td>-0.075247</td>\n",
              "      <td>-0.071367</td>\n",
              "      <td>-0.068388</td>\n",
              "      <td>-0.066052</td>\n",
              "      <td>-0.064185</td>\n",
              "      <td>-0.062666</td>\n",
              "      <td>-0.061410</td>\n",
              "      <td>-0.060354</td>\n",
              "      <td>-0.059452</td>\n",
              "      <td>838000</td>\n",
              "    </tr>\n",
              "    <tr>\n",
              "      <th>9</th>\n",
              "      <td>0.161284</td>\n",
              "      <td>-0.032761</td>\n",
              "      <td>-0.148392</td>\n",
              "      <td>-0.182783</td>\n",
              "      <td>-0.172845</td>\n",
              "      <td>-0.149655</td>\n",
              "      <td>-0.127313</td>\n",
              "      <td>-0.109671</td>\n",
              "      <td>-0.096651</td>\n",
              "      <td>-0.087205</td>\n",
              "      <td>-0.080315</td>\n",
              "      <td>-0.075210</td>\n",
              "      <td>-0.071354</td>\n",
              "      <td>-0.068383</td>\n",
              "      <td>-0.066050</td>\n",
              "      <td>-0.064184</td>\n",
              "      <td>-0.062666</td>\n",
              "      <td>-0.061410</td>\n",
              "      <td>-0.060354</td>\n",
              "      <td>-0.059452</td>\n",
              "      <td>885000</td>\n",
              "    </tr>\n",
              "  </tbody>\n",
              "</table>\n",
              "</div>"
            ],
            "text/plain": [
              "         X1        X2        X3        X4  ...       X18       X19       X20   price\n",
              "0  0.322873  0.101295 -0.059028 -0.132865  ... -0.061410 -0.060354 -0.059452  420000\n",
              "1 -0.531239 -0.513639 -0.418851 -0.311237  ... -0.061410 -0.060354 -0.059452  385000\n",
              "2 -0.965221 -0.737589 -0.512233 -0.344044  ... -0.061410 -0.060354 -0.059452  495000\n",
              "3  0.692219  0.438753  0.188984  0.020028  ... -0.061408 -0.060353 -0.059452  605000\n",
              "4  0.558331  0.311433  0.091710 -0.042236  ... -0.061409 -0.060354 -0.059452  610000\n",
              "5 -0.457370 -0.469580 -0.397739 -0.302762  ... -0.061410 -0.060354 -0.059452  660000\n",
              "6 -0.586641 -0.545549 -0.433616 -0.316961  ... -0.061410 -0.060354 -0.059452  660000\n",
              "7 -0.457370 -0.469580 -0.397739 -0.302762  ... -0.061410 -0.060354 -0.059452  690000\n",
              "8 -0.161893 -0.276068 -0.295762 -0.257670  ... -0.061410 -0.060354 -0.059452  838000\n",
              "9  0.161284 -0.032761 -0.148392 -0.182783  ... -0.061410 -0.060354 -0.059452  885000\n",
              "\n",
              "[10 rows x 21 columns]"
            ]
          },
          "metadata": {
            "tags": []
          },
          "execution_count": 2
        }
      ]
    },
    {
      "cell_type": "markdown",
      "metadata": {
        "colab_type": "text",
        "id": "DzrAsE20Hbyf"
      },
      "source": [
        "## Base d'apprentissage et de test"
      ]
    },
    {
      "cell_type": "code",
      "metadata": {
        "colab_type": "code",
        "id": "f2cx0UjiHbyh",
        "colab": {}
      },
      "source": [
        "from sklearn.model_selection import train_test_split\n",
        "\n",
        "X = housing.loc[:, housing.columns != 'price']\n",
        "\n",
        "y = housing[['price']]\n",
        "\n",
        "X_train, X_test, y_train, y_test = train_test_split(X, y, test_size=0.3)"
      ],
      "execution_count": null,
      "outputs": []
    },
    {
      "cell_type": "code",
      "metadata": {
        "id": "Jmk57okkuIhO",
        "colab_type": "code",
        "colab": {
          "base_uri": "https://localhost:8080/",
          "height": 424
        },
        "outputId": "f0a46063-d611-434f-f3dc-4324f4e29fab"
      },
      "source": [
        "y"
      ],
      "execution_count": null,
      "outputs": [
        {
          "output_type": "execute_result",
          "data": {
            "text/html": [
              "<div>\n",
              "<style scoped>\n",
              "    .dataframe tbody tr th:only-of-type {\n",
              "        vertical-align: middle;\n",
              "    }\n",
              "\n",
              "    .dataframe tbody tr th {\n",
              "        vertical-align: top;\n",
              "    }\n",
              "\n",
              "    .dataframe thead th {\n",
              "        text-align: right;\n",
              "    }\n",
              "</style>\n",
              "<table border=\"1\" class=\"dataframe\">\n",
              "  <thead>\n",
              "    <tr style=\"text-align: right;\">\n",
              "      <th></th>\n",
              "      <th>price</th>\n",
              "    </tr>\n",
              "  </thead>\n",
              "  <tbody>\n",
              "    <tr>\n",
              "      <th>0</th>\n",
              "      <td>420000</td>\n",
              "    </tr>\n",
              "    <tr>\n",
              "      <th>1</th>\n",
              "      <td>385000</td>\n",
              "    </tr>\n",
              "    <tr>\n",
              "      <th>2</th>\n",
              "      <td>495000</td>\n",
              "    </tr>\n",
              "    <tr>\n",
              "      <th>3</th>\n",
              "      <td>605000</td>\n",
              "    </tr>\n",
              "    <tr>\n",
              "      <th>4</th>\n",
              "      <td>610000</td>\n",
              "    </tr>\n",
              "    <tr>\n",
              "      <th>...</th>\n",
              "      <td>...</td>\n",
              "    </tr>\n",
              "    <tr>\n",
              "      <th>541</th>\n",
              "      <td>915000</td>\n",
              "    </tr>\n",
              "    <tr>\n",
              "      <th>542</th>\n",
              "      <td>940000</td>\n",
              "    </tr>\n",
              "    <tr>\n",
              "      <th>543</th>\n",
              "      <td>1030000</td>\n",
              "    </tr>\n",
              "    <tr>\n",
              "      <th>544</th>\n",
              "      <td>1050000</td>\n",
              "    </tr>\n",
              "    <tr>\n",
              "      <th>545</th>\n",
              "      <td>1050000</td>\n",
              "    </tr>\n",
              "  </tbody>\n",
              "</table>\n",
              "<p>546 rows × 1 columns</p>\n",
              "</div>"
            ],
            "text/plain": [
              "       price\n",
              "0     420000\n",
              "1     385000\n",
              "2     495000\n",
              "3     605000\n",
              "4     610000\n",
              "..       ...\n",
              "541   915000\n",
              "542   940000\n",
              "543  1030000\n",
              "544  1050000\n",
              "545  1050000\n",
              "\n",
              "[546 rows x 1 columns]"
            ]
          },
          "metadata": {
            "tags": []
          },
          "execution_count": 4
        }
      ]
    },
    {
      "cell_type": "code",
      "metadata": {
        "id": "e5-o6wVvuKQz",
        "colab_type": "code",
        "colab": {
          "base_uri": "https://localhost:8080/",
          "height": 424
        },
        "outputId": "07b53637-5062-4ccb-9f7a-ef16515e46b3"
      },
      "source": [
        "X"
      ],
      "execution_count": null,
      "outputs": [
        {
          "output_type": "execute_result",
          "data": {
            "text/html": [
              "<div>\n",
              "<style scoped>\n",
              "    .dataframe tbody tr th:only-of-type {\n",
              "        vertical-align: middle;\n",
              "    }\n",
              "\n",
              "    .dataframe tbody tr th {\n",
              "        vertical-align: top;\n",
              "    }\n",
              "\n",
              "    .dataframe thead th {\n",
              "        text-align: right;\n",
              "    }\n",
              "</style>\n",
              "<table border=\"1\" class=\"dataframe\">\n",
              "  <thead>\n",
              "    <tr style=\"text-align: right;\">\n",
              "      <th></th>\n",
              "      <th>X1</th>\n",
              "      <th>X2</th>\n",
              "      <th>X3</th>\n",
              "      <th>X4</th>\n",
              "      <th>X5</th>\n",
              "      <th>X6</th>\n",
              "      <th>X7</th>\n",
              "      <th>X8</th>\n",
              "      <th>X9</th>\n",
              "      <th>X10</th>\n",
              "      <th>X11</th>\n",
              "      <th>X12</th>\n",
              "      <th>X13</th>\n",
              "      <th>X14</th>\n",
              "      <th>X15</th>\n",
              "      <th>X16</th>\n",
              "      <th>X17</th>\n",
              "      <th>X18</th>\n",
              "      <th>X19</th>\n",
              "      <th>X20</th>\n",
              "    </tr>\n",
              "  </thead>\n",
              "  <tbody>\n",
              "    <tr>\n",
              "      <th>0</th>\n",
              "      <td>0.322873</td>\n",
              "      <td>0.101295</td>\n",
              "      <td>-0.059028</td>\n",
              "      <td>-0.132865</td>\n",
              "      <td>-0.148188</td>\n",
              "      <td>-0.138416</td>\n",
              "      <td>-0.122455</td>\n",
              "      <td>-0.107645</td>\n",
              "      <td>-0.095827</td>\n",
              "      <td>-0.086876</td>\n",
              "      <td>-0.080186</td>\n",
              "      <td>-0.075159</td>\n",
              "      <td>-0.071334</td>\n",
              "      <td>-0.068376</td>\n",
              "      <td>-0.066047</td>\n",
              "      <td>-0.064183</td>\n",
              "      <td>-0.062666</td>\n",
              "      <td>-0.061410</td>\n",
              "      <td>-0.060354</td>\n",
              "      <td>-0.059452</td>\n",
              "    </tr>\n",
              "    <tr>\n",
              "      <th>1</th>\n",
              "      <td>-0.531239</td>\n",
              "      <td>-0.513639</td>\n",
              "      <td>-0.418851</td>\n",
              "      <td>-0.311237</td>\n",
              "      <td>-0.227199</td>\n",
              "      <td>-0.171030</td>\n",
              "      <td>-0.135341</td>\n",
              "      <td>-0.112598</td>\n",
              "      <td>-0.097697</td>\n",
              "      <td>-0.087575</td>\n",
              "      <td>-0.080444</td>\n",
              "      <td>-0.075255</td>\n",
              "      <td>-0.071369</td>\n",
              "      <td>-0.068388</td>\n",
              "      <td>-0.066052</td>\n",
              "      <td>-0.064185</td>\n",
              "      <td>-0.062666</td>\n",
              "      <td>-0.061410</td>\n",
              "      <td>-0.060354</td>\n",
              "      <td>-0.059452</td>\n",
              "    </tr>\n",
              "    <tr>\n",
              "      <th>2</th>\n",
              "      <td>-0.965221</td>\n",
              "      <td>-0.737589</td>\n",
              "      <td>-0.512233</td>\n",
              "      <td>-0.344044</td>\n",
              "      <td>-0.237446</td>\n",
              "      <td>-0.173998</td>\n",
              "      <td>-0.136160</td>\n",
              "      <td>-0.112817</td>\n",
              "      <td>-0.097755</td>\n",
              "      <td>-0.087590</td>\n",
              "      <td>-0.080448</td>\n",
              "      <td>-0.075256</td>\n",
              "      <td>-0.071370</td>\n",
              "      <td>-0.068388</td>\n",
              "      <td>-0.066052</td>\n",
              "      <td>-0.064185</td>\n",
              "      <td>-0.062666</td>\n",
              "      <td>-0.061410</td>\n",
              "      <td>-0.060354</td>\n",
              "      <td>-0.059452</td>\n",
              "    </tr>\n",
              "    <tr>\n",
              "      <th>3</th>\n",
              "      <td>0.692219</td>\n",
              "      <td>0.438753</td>\n",
              "      <td>0.188984</td>\n",
              "      <td>0.020028</td>\n",
              "      <td>-0.064754</td>\n",
              "      <td>-0.096362</td>\n",
              "      <td>-0.102329</td>\n",
              "      <td>-0.098343</td>\n",
              "      <td>-0.091631</td>\n",
              "      <td>-0.085017</td>\n",
              "      <td>-0.079372</td>\n",
              "      <td>-0.074807</td>\n",
              "      <td>-0.071183</td>\n",
              "      <td>-0.068311</td>\n",
              "      <td>-0.066020</td>\n",
              "      <td>-0.064172</td>\n",
              "      <td>-0.062661</td>\n",
              "      <td>-0.061408</td>\n",
              "      <td>-0.060353</td>\n",
              "      <td>-0.059452</td>\n",
              "    </tr>\n",
              "    <tr>\n",
              "      <th>4</th>\n",
              "      <td>0.558331</td>\n",
              "      <td>0.311433</td>\n",
              "      <td>0.091710</td>\n",
              "      <td>-0.042236</td>\n",
              "      <td>-0.099991</td>\n",
              "      <td>-0.114760</td>\n",
              "      <td>-0.111439</td>\n",
              "      <td>-0.102695</td>\n",
              "      <td>-0.093657</td>\n",
              "      <td>-0.085943</td>\n",
              "      <td>-0.079789</td>\n",
              "      <td>-0.074993</td>\n",
              "      <td>-0.071265</td>\n",
              "      <td>-0.068347</td>\n",
              "      <td>-0.066035</td>\n",
              "      <td>-0.064178</td>\n",
              "      <td>-0.062664</td>\n",
              "      <td>-0.061409</td>\n",
              "      <td>-0.060354</td>\n",
              "      <td>-0.059452</td>\n",
              "    </tr>\n",
              "    <tr>\n",
              "      <th>...</th>\n",
              "      <td>...</td>\n",
              "      <td>...</td>\n",
              "      <td>...</td>\n",
              "      <td>...</td>\n",
              "      <td>...</td>\n",
              "      <td>...</td>\n",
              "      <td>...</td>\n",
              "      <td>...</td>\n",
              "      <td>...</td>\n",
              "      <td>...</td>\n",
              "      <td>...</td>\n",
              "      <td>...</td>\n",
              "      <td>...</td>\n",
              "      <td>...</td>\n",
              "      <td>...</td>\n",
              "      <td>...</td>\n",
              "      <td>...</td>\n",
              "      <td>...</td>\n",
              "      <td>...</td>\n",
              "      <td>...</td>\n",
              "    </tr>\n",
              "    <tr>\n",
              "      <th>541</th>\n",
              "      <td>-0.161893</td>\n",
              "      <td>-0.276068</td>\n",
              "      <td>-0.295762</td>\n",
              "      <td>-0.257670</td>\n",
              "      <td>-0.206535</td>\n",
              "      <td>-0.163657</td>\n",
              "      <td>-0.132840</td>\n",
              "      <td>-0.111778</td>\n",
              "      <td>-0.097435</td>\n",
              "      <td>-0.087492</td>\n",
              "      <td>-0.080418</td>\n",
              "      <td>-0.075247</td>\n",
              "      <td>-0.071367</td>\n",
              "      <td>-0.068388</td>\n",
              "      <td>-0.066052</td>\n",
              "      <td>-0.064185</td>\n",
              "      <td>-0.062666</td>\n",
              "      <td>-0.061410</td>\n",
              "      <td>-0.060354</td>\n",
              "      <td>-0.059452</td>\n",
              "    </tr>\n",
              "    <tr>\n",
              "      <th>542</th>\n",
              "      <td>0.392126</td>\n",
              "      <td>0.161278</td>\n",
              "      <td>-0.017291</td>\n",
              "      <td>-0.108537</td>\n",
              "      <td>-0.135651</td>\n",
              "      <td>-0.132457</td>\n",
              "      <td>-0.119769</td>\n",
              "      <td>-0.106477</td>\n",
              "      <td>-0.095332</td>\n",
              "      <td>-0.086671</td>\n",
              "      <td>-0.080101</td>\n",
              "      <td>-0.075125</td>\n",
              "      <td>-0.071321</td>\n",
              "      <td>-0.068370</td>\n",
              "      <td>-0.066045</td>\n",
              "      <td>-0.064182</td>\n",
              "      <td>-0.062666</td>\n",
              "      <td>-0.061410</td>\n",
              "      <td>-0.060354</td>\n",
              "      <td>-0.059452</td>\n",
              "    </tr>\n",
              "    <tr>\n",
              "      <th>543</th>\n",
              "      <td>0.392126</td>\n",
              "      <td>0.161278</td>\n",
              "      <td>-0.017291</td>\n",
              "      <td>-0.108537</td>\n",
              "      <td>-0.135651</td>\n",
              "      <td>-0.132457</td>\n",
              "      <td>-0.119769</td>\n",
              "      <td>-0.106477</td>\n",
              "      <td>-0.095332</td>\n",
              "      <td>-0.086671</td>\n",
              "      <td>-0.080101</td>\n",
              "      <td>-0.075125</td>\n",
              "      <td>-0.071321</td>\n",
              "      <td>-0.068370</td>\n",
              "      <td>-0.066045</td>\n",
              "      <td>-0.064182</td>\n",
              "      <td>-0.062666</td>\n",
              "      <td>-0.061410</td>\n",
              "      <td>-0.060354</td>\n",
              "      <td>-0.059452</td>\n",
              "    </tr>\n",
              "    <tr>\n",
              "      <th>544</th>\n",
              "      <td>0.392126</td>\n",
              "      <td>0.161278</td>\n",
              "      <td>-0.017291</td>\n",
              "      <td>-0.108537</td>\n",
              "      <td>-0.135651</td>\n",
              "      <td>-0.132457</td>\n",
              "      <td>-0.119769</td>\n",
              "      <td>-0.106477</td>\n",
              "      <td>-0.095332</td>\n",
              "      <td>-0.086671</td>\n",
              "      <td>-0.080101</td>\n",
              "      <td>-0.075125</td>\n",
              "      <td>-0.071321</td>\n",
              "      <td>-0.068370</td>\n",
              "      <td>-0.066045</td>\n",
              "      <td>-0.064182</td>\n",
              "      <td>-0.062666</td>\n",
              "      <td>-0.061410</td>\n",
              "      <td>-0.060354</td>\n",
              "      <td>-0.059452</td>\n",
              "    </tr>\n",
              "    <tr>\n",
              "      <th>545</th>\n",
              "      <td>0.392126</td>\n",
              "      <td>0.161278</td>\n",
              "      <td>-0.017291</td>\n",
              "      <td>-0.108537</td>\n",
              "      <td>-0.135651</td>\n",
              "      <td>-0.132457</td>\n",
              "      <td>-0.119769</td>\n",
              "      <td>-0.106477</td>\n",
              "      <td>-0.095332</td>\n",
              "      <td>-0.086671</td>\n",
              "      <td>-0.080101</td>\n",
              "      <td>-0.075125</td>\n",
              "      <td>-0.071321</td>\n",
              "      <td>-0.068370</td>\n",
              "      <td>-0.066045</td>\n",
              "      <td>-0.064182</td>\n",
              "      <td>-0.062666</td>\n",
              "      <td>-0.061410</td>\n",
              "      <td>-0.060354</td>\n",
              "      <td>-0.059452</td>\n",
              "    </tr>\n",
              "  </tbody>\n",
              "</table>\n",
              "<p>546 rows × 20 columns</p>\n",
              "</div>"
            ],
            "text/plain": [
              "           X1        X2        X3  ...       X18       X19       X20\n",
              "0    0.322873  0.101295 -0.059028  ... -0.061410 -0.060354 -0.059452\n",
              "1   -0.531239 -0.513639 -0.418851  ... -0.061410 -0.060354 -0.059452\n",
              "2   -0.965221 -0.737589 -0.512233  ... -0.061410 -0.060354 -0.059452\n",
              "3    0.692219  0.438753  0.188984  ... -0.061408 -0.060353 -0.059452\n",
              "4    0.558331  0.311433  0.091710  ... -0.061409 -0.060354 -0.059452\n",
              "..        ...       ...       ...  ...       ...       ...       ...\n",
              "541 -0.161893 -0.276068 -0.295762  ... -0.061410 -0.060354 -0.059452\n",
              "542  0.392126  0.161278 -0.017291  ... -0.061410 -0.060354 -0.059452\n",
              "543  0.392126  0.161278 -0.017291  ... -0.061410 -0.060354 -0.059452\n",
              "544  0.392126  0.161278 -0.017291  ... -0.061410 -0.060354 -0.059452\n",
              "545  0.392126  0.161278 -0.017291  ... -0.061410 -0.060354 -0.059452\n",
              "\n",
              "[546 rows x 20 columns]"
            ]
          },
          "metadata": {
            "tags": []
          },
          "execution_count": 5
        }
      ]
    },
    {
      "cell_type": "code",
      "metadata": {
        "id": "dDGbl618uIZ-",
        "colab_type": "code",
        "colab": {}
      },
      "source": [
        ""
      ],
      "execution_count": null,
      "outputs": []
    },
    {
      "cell_type": "markdown",
      "metadata": {
        "id": "8wKyfJTcv8NM",
        "colab_type": "text"
      },
      "source": [
        "# Régularisation"
      ]
    },
    {
      "cell_type": "markdown",
      "metadata": {
        "id": "bqNLSPsQw_rm",
        "colab_type": "text"
      },
      "source": [
        "## Régression ridge"
      ]
    },
    {
      "cell_type": "markdown",
      "metadata": {
        "id": "Fg1RhQkNbkGR",
        "colab_type": "text"
      },
      "source": [
        "$$\\hat y= \\beta_0 + \\beta_1 x_1+ ... +\\beta_nx_n$$"
      ]
    },
    {
      "cell_type": "markdown",
      "metadata": {
        "id": "0ZD67U_CdZpo",
        "colab_type": "text"
      },
      "source": [
        "$$MSE=\\sum_{i=1}^{m}(y_i-\\sum_{j=0}^{n}x_{ij}\\beta_j)^2$$"
      ]
    },
    {
      "cell_type": "markdown",
      "metadata": {
        "id": "0QgR9Nsbv-JI",
        "colab_type": "text"
      },
      "source": [
        "$$MSEP=\\sum_{i=1}^{m}(y_i-\\sum_{j=0}^{n}x_{ij}\\beta_j)^2+\\lambda\\sum_{j=0}^{n}\\beta_j^2$$"
      ]
    },
    {
      "cell_type": "code",
      "metadata": {
        "colab_type": "code",
        "id": "qZJ4PTvsofD6",
        "colab": {}
      },
      "source": [
        "\n",
        "from sklearn.linear_model import LinearRegression\n",
        "\n",
        "from sklearn.linear_model import Ridge\n",
        "from sklearn.metrics import mean_squared_error\n",
        "\n",
        "\n"
      ],
      "execution_count": null,
      "outputs": []
    },
    {
      "cell_type": "code",
      "metadata": {
        "id": "m0VSLpycMPgj",
        "colab_type": "code",
        "colab": {}
      },
      "source": [
        "\n",
        "reglinreg=Ridge(alpha=2)\n",
        "\n",
        "linreg=LinearRegression()"
      ],
      "execution_count": null,
      "outputs": []
    },
    {
      "cell_type": "code",
      "metadata": {
        "id": "x0kAEer4NBwK",
        "colab_type": "code",
        "colab": {
          "base_uri": "https://localhost:8080/",
          "height": 34
        },
        "outputId": "c0e653cb-50c6-42a6-9b1c-9969331b2c66"
      },
      "source": [
        "reglinreg.fit(X_train,y_train)\n",
        "linreg.fit(X_train,y_train)"
      ],
      "execution_count": null,
      "outputs": [
        {
          "output_type": "execute_result",
          "data": {
            "text/plain": [
              "LinearRegression(copy_X=True, fit_intercept=True, n_jobs=None, normalize=False)"
            ]
          },
          "metadata": {
            "tags": []
          },
          "execution_count": 205
        }
      ]
    },
    {
      "cell_type": "code",
      "metadata": {
        "id": "T39wCOHrdvsb",
        "colab_type": "code",
        "colab": {
          "base_uri": "https://localhost:8080/",
          "height": 390
        },
        "outputId": "f20f03cc-f5b9-4ea3-b05a-05f1e17efd19"
      },
      "source": [
        "numpy_data = np.vstack((linreg.coef_,reglinreg.coef_))\n",
        "df = pd.DataFrame(data=numpy_data.T)\n",
        "print(df)"
      ],
      "execution_count": null,
      "outputs": [
        {
          "output_type": "stream",
          "text": [
            "               0              1\n",
            "0   8.146198e+10  183024.802522\n",
            "1  -1.777014e+12   90952.520119\n",
            "2   2.189912e+13  -42786.442025\n",
            "3  -1.941700e+14 -102504.935603\n",
            "4   1.313904e+15  -88033.387032\n",
            "5  -6.891851e+15  -42810.350448\n",
            "6   2.815785e+16    1454.877759\n",
            "7  -8.958191e+16   32298.992070\n",
            "8   2.204710e+17   48471.543578\n",
            "9  -4.126162e+17   52964.927270\n",
            "10  5.644916e+17   49497.224290\n",
            "11 -5.079782e+17   41213.028906\n",
            "12  1.778322e+17   30406.464259\n",
            "13  2.416100e+17   18616.273511\n",
            "14 -4.525834e+17    6810.490087\n",
            "15  3.628427e+17   -4441.251990\n",
            "16 -1.552025e+17  -14834.278996\n",
            "17  2.515030e+16  -24233.734675\n",
            "18  5.224640e+15  -32609.727114\n",
            "19 -2.066025e+15  -39994.368572\n"
          ],
          "name": "stdout"
        }
      ]
    },
    {
      "cell_type": "markdown",
      "metadata": {
        "id": "eORURqmsvCan",
        "colab_type": "text"
      },
      "source": [
        "## Evaluation régresion ridge"
      ]
    },
    {
      "cell_type": "code",
      "metadata": {
        "id": "G1wKHy7uvFtj",
        "colab_type": "code",
        "colab": {}
      },
      "source": [
        "housing_predictions = linreg.predict(X_train)\n",
        "lin_rmse_train = np.sqrt(mean_squared_error(y_train, linreg.predict(X_train)))\n",
        "lin_rmse_test = np.sqrt(mean_squared_error(y_test, linreg.predict(X_test)))"
      ],
      "execution_count": null,
      "outputs": []
    },
    {
      "cell_type": "code",
      "metadata": {
        "id": "Xxk8qDgivJoE",
        "colab_type": "code",
        "colab": {
          "base_uri": "https://localhost:8080/",
          "height": 34
        },
        "outputId": "8a7ad0a3-0aed-43a1-e643-64a2e55d14c8"
      },
      "source": [
        "lin_rmse_train"
      ],
      "execution_count": null,
      "outputs": [
        {
          "output_type": "execute_result",
          "data": {
            "text/plain": [
              "216205.66934162777"
            ]
          },
          "metadata": {
            "tags": []
          },
          "execution_count": 208
        }
      ]
    },
    {
      "cell_type": "code",
      "metadata": {
        "id": "V0-NaWLzvKjq",
        "colab_type": "code",
        "colab": {
          "base_uri": "https://localhost:8080/",
          "height": 34
        },
        "outputId": "1f36793e-572f-4625-c7fa-48ca49dd61b5"
      },
      "source": [
        "lin_rmse_test"
      ],
      "execution_count": null,
      "outputs": [
        {
          "output_type": "execute_result",
          "data": {
            "text/plain": [
              "2502527786.4873466"
            ]
          },
          "metadata": {
            "tags": []
          },
          "execution_count": 209
        }
      ]
    },
    {
      "cell_type": "markdown",
      "metadata": {
        "id": "_33SPmkIKhd4",
        "colab_type": "text"
      },
      "source": [
        "Evalution régression ridge"
      ]
    },
    {
      "cell_type": "code",
      "metadata": {
        "colab_type": "code",
        "id": "jffJ1OzaKhp-",
        "colab": {}
      },
      "source": [
        "housing_predictions = reglinreg.predict(X_train)\n",
        "reglinreg_rmse_train = np.sqrt(mean_squared_error(y_train, reglinreg.predict(X_train)))\n",
        "reglinreg_rmse_test = np.sqrt(mean_squared_error(y_test, reglinreg.predict(X_test)))"
      ],
      "execution_count": null,
      "outputs": []
    },
    {
      "cell_type": "code",
      "metadata": {
        "colab_type": "code",
        "id": "-Ks8WQHRKhqA",
        "colab": {
          "base_uri": "https://localhost:8080/",
          "height": 34
        },
        "outputId": "c37e8728-d3f1-46fc-c1d1-08f7603f1a33"
      },
      "source": [
        "reglinreg_rmse_train"
      ],
      "execution_count": null,
      "outputs": [
        {
          "output_type": "execute_result",
          "data": {
            "text/plain": [
              "221769.6386791485"
            ]
          },
          "metadata": {
            "tags": []
          },
          "execution_count": 211
        }
      ]
    },
    {
      "cell_type": "code",
      "metadata": {
        "colab_type": "code",
        "id": "VrnMCUZdKhqC",
        "colab": {
          "base_uri": "https://localhost:8080/",
          "height": 34
        },
        "outputId": "ce206fde-f8df-4977-eb83-5f3cd3b78203"
      },
      "source": [
        "reglinreg_rmse_test"
      ],
      "execution_count": null,
      "outputs": [
        {
          "output_type": "execute_result",
          "data": {
            "text/plain": [
              "208429.74603540357"
            ]
          },
          "metadata": {
            "tags": []
          },
          "execution_count": 212
        }
      ]
    },
    {
      "cell_type": "markdown",
      "metadata": {
        "id": "CSvLRkoNxCGf",
        "colab_type": "text"
      },
      "source": [
        "## Régression Lasso"
      ]
    },
    {
      "cell_type": "markdown",
      "metadata": {
        "id": "tii29jFOxLBR",
        "colab_type": "text"
      },
      "source": [
        "LASSO = Least Absolute Shrinkage and Selection Operator"
      ]
    },
    {
      "cell_type": "markdown",
      "metadata": {
        "id": "V3VxdicpwJHm",
        "colab_type": "text"
      },
      "source": [
        "$$MSEP=\\sum_{i=1}^{m}(y_i-\\sum_{j=0}^{n}x_{ij}\\beta_j)^2+\\lambda\\sum_{j=0}^{n} |\\beta_j|$$"
      ]
    },
    {
      "cell_type": "code",
      "metadata": {
        "colab_type": "code",
        "id": "h54KS5iJJEHV",
        "colab": {}
      },
      "source": [
        "\n",
        "from sklearn.linear_model import LinearRegression\n",
        "\n",
        "from sklearn.metrics import mean_squared_error\n",
        "from sklearn.linear_model import Lasso\n"
      ],
      "execution_count": null,
      "outputs": []
    },
    {
      "cell_type": "code",
      "metadata": {
        "colab_type": "code",
        "id": "k_c5WIAjJEHX",
        "colab": {}
      },
      "source": [
        "reglinreg=Lasso(alpha=20000,max_iter=200000,tol=1)\n",
        "\n",
        "linreg=LinearRegression()"
      ],
      "execution_count": null,
      "outputs": []
    },
    {
      "cell_type": "code",
      "metadata": {
        "colab_type": "code",
        "id": "tt1kspZcJEHZ",
        "colab": {
          "base_uri": "https://localhost:8080/",
          "height": 70
        },
        "outputId": "f61115f2-4570-4b33-973b-280ed88bbac2"
      },
      "source": [
        "reglinreg.fit(X_train,y_train)\n"
      ],
      "execution_count": null,
      "outputs": [
        {
          "output_type": "execute_result",
          "data": {
            "text/plain": [
              "Lasso(alpha=20000, copy_X=True, fit_intercept=True, max_iter=200000,\n",
              "      normalize=False, positive=False, precompute=False, random_state=None,\n",
              "      selection='cyclic', tol=1, warm_start=False)"
            ]
          },
          "metadata": {
            "tags": []
          },
          "execution_count": 232
        }
      ]
    },
    {
      "cell_type": "code",
      "metadata": {
        "id": "f3ElXwTvMHTT",
        "colab_type": "code",
        "colab": {
          "base_uri": "https://localhost:8080/",
          "height": 34
        },
        "outputId": "434c6574-9647-4f0c-b1f3-aadc633b5c98"
      },
      "source": [
        "linreg.fit(X_train,y_train)"
      ],
      "execution_count": null,
      "outputs": [
        {
          "output_type": "execute_result",
          "data": {
            "text/plain": [
              "LinearRegression(copy_X=True, fit_intercept=True, n_jobs=None, normalize=False)"
            ]
          },
          "metadata": {
            "tags": []
          },
          "execution_count": 233
        }
      ]
    },
    {
      "cell_type": "code",
      "metadata": {
        "colab_type": "code",
        "id": "mNin8STxJEHg",
        "colab": {
          "base_uri": "https://localhost:8080/",
          "height": 390
        },
        "outputId": "584b5083-490b-4e9f-8dca-179a930f524f"
      },
      "source": [
        "numpy_data = np.vstack((linreg.coef_,reglinreg.coef_))\n",
        "df = pd.DataFrame(data=numpy_data.T)\n",
        "print(df)"
      ],
      "execution_count": null,
      "outputs": [
        {
          "output_type": "stream",
          "text": [
            "               0              1\n",
            "0   8.146198e+10  123799.424598\n",
            "1  -1.777014e+12       0.000000\n",
            "2   2.189912e+13      -0.000000\n",
            "3  -1.941700e+14      -0.000000\n",
            "4   1.313904e+15      -0.000000\n",
            "5  -6.891851e+15      -0.000000\n",
            "6   2.815785e+16      -0.000000\n",
            "7  -8.958191e+16      -0.000000\n",
            "8   2.204710e+17      -0.000000\n",
            "9  -4.126162e+17       0.000000\n",
            "10  5.644916e+17       0.000000\n",
            "11 -5.079782e+17       0.000000\n",
            "12  1.778322e+17       0.000000\n",
            "13  2.416100e+17       0.000000\n",
            "14 -4.525834e+17       0.000000\n",
            "15  3.628427e+17       0.000000\n",
            "16 -1.552025e+17       0.000000\n",
            "17  2.515030e+16       0.000000\n",
            "18  5.224640e+15       0.000000\n",
            "19 -2.066025e+15       0.000000\n"
          ],
          "name": "stdout"
        }
      ]
    },
    {
      "cell_type": "markdown",
      "metadata": {
        "colab_type": "text",
        "id": "bRNCJoIyKWzQ"
      },
      "source": [
        "## Evaluation régresion Lasso"
      ]
    },
    {
      "cell_type": "markdown",
      "metadata": {
        "colab_type": "text",
        "id": "HzUzY0k-LPd7"
      },
      "source": [
        "Evalution régression ridge"
      ]
    },
    {
      "cell_type": "code",
      "metadata": {
        "colab_type": "code",
        "id": "qkTiY7xoLPd7",
        "colab": {}
      },
      "source": [
        "housing_predictions = reglinreg.predict(X_train)\n",
        "reglinreg_rmse_train = np.sqrt(mean_squared_error(y_train, reglinreg.predict(X_train)))\n",
        "reglinreg_rmse_test = np.sqrt(mean_squared_error(y_test, reglinreg.predict(X_test)))"
      ],
      "execution_count": null,
      "outputs": []
    },
    {
      "cell_type": "code",
      "metadata": {
        "colab_type": "code",
        "id": "txzku9PELPd_",
        "colab": {
          "base_uri": "https://localhost:8080/",
          "height": 34
        },
        "outputId": "32763def-6654-46d3-f8b3-783a12287bce"
      },
      "source": [
        "reglinreg_rmse_train"
      ],
      "execution_count": null,
      "outputs": [
        {
          "output_type": "execute_result",
          "data": {
            "text/plain": [
              "229909.68625880821"
            ]
          },
          "metadata": {
            "tags": []
          },
          "execution_count": 236
        }
      ]
    },
    {
      "cell_type": "code",
      "metadata": {
        "colab_type": "code",
        "id": "4tXHpt2jLPeC",
        "colab": {
          "base_uri": "https://localhost:8080/",
          "height": 34
        },
        "outputId": "ccf41db0-3d5e-4f06-e6e8-d525bcccd5cc"
      },
      "source": [
        "reglinreg_rmse_test"
      ],
      "execution_count": null,
      "outputs": [
        {
          "output_type": "execute_result",
          "data": {
            "text/plain": [
              "216857.6343408123"
            ]
          },
          "metadata": {
            "tags": []
          },
          "execution_count": 237
        }
      ]
    },
    {
      "cell_type": "markdown",
      "metadata": {
        "id": "zbHXzhrLNU9C",
        "colab_type": "text"
      },
      "source": [
        "# Boucle régression régularisée"
      ]
    },
    {
      "cell_type": "code",
      "metadata": {
        "colab_type": "code",
        "id": "J8HMUqdCiZ55",
        "colab": {}
      },
      "source": [
        "df = pd.DataFrame(columns=('rmse_train', 'rmse_test'))\n",
        "\n",
        "for i in range(1000):\n",
        "  X_train, X_test, y_train, y_test = train_test_split(X, y, test_size=0.3)\n",
        "  reglinreg.fit(X_train, y_train)\n",
        "  housing_predictions = reglinreg.predict(X_train)\n",
        "  reglinreg_rmse_train = np.sqrt(mean_squared_error(y_train, reglinreg.predict(X_train)))\n",
        "  reglinreg_rmse_test = np.sqrt(mean_squared_error(y_test, reglinreg.predict(X_test)))\n",
        "  df.loc[i] = [reglinreg_rmse_train,reglinreg_rmse_test]"
      ],
      "execution_count": null,
      "outputs": []
    },
    {
      "cell_type": "code",
      "metadata": {
        "colab_type": "code",
        "id": "ux-WAG6mjR6z",
        "colab": {
          "base_uri": "https://localhost:8080/",
          "height": 287
        },
        "outputId": "8ed1ffe7-7245-4ad8-eb1d-8446dc685a9b"
      },
      "source": [
        "df.describe()"
      ],
      "execution_count": null,
      "outputs": [
        {
          "output_type": "execute_result",
          "data": {
            "text/html": [
              "<div>\n",
              "<style scoped>\n",
              "    .dataframe tbody tr th:only-of-type {\n",
              "        vertical-align: middle;\n",
              "    }\n",
              "\n",
              "    .dataframe tbody tr th {\n",
              "        vertical-align: top;\n",
              "    }\n",
              "\n",
              "    .dataframe thead th {\n",
              "        text-align: right;\n",
              "    }\n",
              "</style>\n",
              "<table border=\"1\" class=\"dataframe\">\n",
              "  <thead>\n",
              "    <tr style=\"text-align: right;\">\n",
              "      <th></th>\n",
              "      <th>rmse_train</th>\n",
              "      <th>rmse_test</th>\n",
              "    </tr>\n",
              "  </thead>\n",
              "  <tbody>\n",
              "    <tr>\n",
              "      <th>count</th>\n",
              "      <td>1000.000000</td>\n",
              "      <td>1000.000000</td>\n",
              "    </tr>\n",
              "    <tr>\n",
              "      <th>mean</th>\n",
              "      <td>225949.870821</td>\n",
              "      <td>225988.769961</td>\n",
              "    </tr>\n",
              "    <tr>\n",
              "      <th>std</th>\n",
              "      <td>6129.541138</td>\n",
              "      <td>14976.830733</td>\n",
              "    </tr>\n",
              "    <tr>\n",
              "      <th>min</th>\n",
              "      <td>202845.602158</td>\n",
              "      <td>183160.194098</td>\n",
              "    </tr>\n",
              "    <tr>\n",
              "      <th>25%</th>\n",
              "      <td>221740.198829</td>\n",
              "      <td>215853.486363</td>\n",
              "    </tr>\n",
              "    <tr>\n",
              "      <th>50%</th>\n",
              "      <td>226477.952798</td>\n",
              "      <td>225133.196725</td>\n",
              "    </tr>\n",
              "    <tr>\n",
              "      <th>75%</th>\n",
              "      <td>230285.336626</td>\n",
              "      <td>236444.111594</td>\n",
              "    </tr>\n",
              "    <tr>\n",
              "      <th>max</th>\n",
              "      <td>243327.463558</td>\n",
              "      <td>273818.439206</td>\n",
              "    </tr>\n",
              "  </tbody>\n",
              "</table>\n",
              "</div>"
            ],
            "text/plain": [
              "          rmse_train      rmse_test\n",
              "count    1000.000000    1000.000000\n",
              "mean   225949.870821  225988.769961\n",
              "std      6129.541138   14976.830733\n",
              "min    202845.602158  183160.194098\n",
              "25%    221740.198829  215853.486363\n",
              "50%    226477.952798  225133.196725\n",
              "75%    230285.336626  236444.111594\n",
              "max    243327.463558  273818.439206"
            ]
          },
          "metadata": {
            "tags": []
          },
          "execution_count": 239
        }
      ]
    },
    {
      "cell_type": "code",
      "metadata": {
        "colab_type": "code",
        "id": "FBhhD1_8j2UT",
        "colab": {
          "base_uri": "https://localhost:8080/",
          "height": 293
        },
        "outputId": "6d762f6d-870f-4939-92a5-f1c27923557a"
      },
      "source": [
        "\n",
        "sns.distplot(df[['rmse_train']], hist=False, rug=True)\n",
        "sns.distplot(df[['rmse_test']], hist=False, rug=True)"
      ],
      "execution_count": null,
      "outputs": [
        {
          "output_type": "execute_result",
          "data": {
            "text/plain": [
              "<matplotlib.axes._subplots.AxesSubplot at 0x7fc65ac73278>"
            ]
          },
          "metadata": {
            "tags": []
          },
          "execution_count": 240
        },
        {
          "output_type": "display_data",
          "data": {
            "image/png": "[encoded data removed]",
            "text/plain": [
              "<Figure size 432x288 with 1 Axes>"
            ]
          },
          "metadata": {
            "tags": [],
            "needs_background": "light"
          }
        }
      ]
    },
    {
      "cell_type": "code",
      "metadata": {
        "id": "HPvfq3qbSVaH",
        "colab_type": "code",
        "colab": {}
      },
      "source": [
        ""
      ],
      "execution_count": null,
      "outputs": []
    }
  ]
}