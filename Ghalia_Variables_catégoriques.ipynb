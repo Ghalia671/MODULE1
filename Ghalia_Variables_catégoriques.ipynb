{
  "nbformat": 4,
  "nbformat_minor": 0,
  "metadata": {
    "colab": {
      "name": "Ghalia - Variables catégoriques.ipynb",
      "provenance": [],
      "collapsed_sections": [],
      "toc_visible": true,
      "include_colab_link": true
    },
    "kernelspec": {
      "name": "python3",
      "display_name": "Python 3"
    }
  },
  "cells": [
    {
      "cell_type": "markdown",
      "metadata": {
        "id": "view-in-github",
        "colab_type": "text"
      },
      "source": [
        "<a href=\"https://colab.research.google.com/github/Ghalia671/MODULE1/blob/master/Ghalia_Variables_cat%C3%A9goriques.ipynb\" target=\"_parent\"><img src=\"https://colab.research.google.com/assets/colab-badge.svg\" alt=\"Open In Colab\"/></a>"
      ]
    },
    {
      "cell_type": "markdown",
      "metadata": {
        "id": "Ft3EWs78Laom"
      },
      "source": [
        "# Variables catégoriques nominales\n"
      ]
    },
    {
      "cell_type": "markdown",
      "metadata": {
        "id": "DIGl4dZAIFCj"
      },
      "source": [
        "## Transformation label binaire"
      ]
    },
    {
      "cell_type": "code",
      "metadata": {
        "id": "NX13uwptLaon",
        "outputId": "d97ccf1d-7054-4287-c7ba-a4ced69fe4a4",
        "colab": {
          "base_uri": "https://localhost:8080/",
          "height": 104
        }
      },
      "source": [
        "import numpy as np\n",
        "from sklearn.preprocessing import LabelBinarizer, MultiLabelBinarizer\n",
        "\n",
        "feature = np.array([\n",
        "    [\"Paris\"],\n",
        "    [\"Courbevoie\"],\n",
        "    [\"Paris\"],\n",
        "    [\"Puteaux\"],\n",
        "    [\"Paris\"]\n",
        "])\n",
        "\n",
        "labelbi = LabelBinarizer()\n",
        "\n",
        "labelbi.fit_transform(feature)"
      ],
      "execution_count": 1,
      "outputs": [
        {
          "output_type": "execute_result",
          "data": {
            "text/plain": [
              "array([[0, 1, 0],\n",
              "       [1, 0, 0],\n",
              "       [0, 1, 0],\n",
              "       [0, 0, 1],\n",
              "       [0, 1, 0]])"
            ]
          },
          "metadata": {
            "tags": []
          },
          "execution_count": 1
        }
      ]
    },
    {
      "cell_type": "code",
      "metadata": {
        "id": "bBhfnirCLaor",
        "outputId": "d23569fc-2dcb-486d-d12c-a405115242e9",
        "colab": {
          "base_uri": "https://localhost:8080/",
          "height": 34
        }
      },
      "source": [
        "labelbi.classes_"
      ],
      "execution_count": 2,
      "outputs": [
        {
          "output_type": "execute_result",
          "data": {
            "text/plain": [
              "array(['Courbevoie', 'Paris', 'Puteaux'], dtype='<U10')"
            ]
          },
          "metadata": {
            "tags": []
          },
          "execution_count": 2
        }
      ]
    },
    {
      "cell_type": "code",
      "metadata": {
        "id": "U2mS3OPELaou",
        "outputId": "f0f17b00-3e7d-437e-93c7-9737303ea8d1",
        "colab": {
          "base_uri": "https://localhost:8080/",
          "height": 34
        }
      },
      "source": [
        "labelbi.inverse_transform(labelbi.transform(feature))"
      ],
      "execution_count": 3,
      "outputs": [
        {
          "output_type": "execute_result",
          "data": {
            "text/plain": [
              "array(['Paris', 'Courbevoie', 'Paris', 'Puteaux', 'Paris'], dtype='<U10')"
            ]
          },
          "metadata": {
            "tags": []
          },
          "execution_count": 3
        }
      ]
    },
    {
      "cell_type": "markdown",
      "metadata": {
        "id": "3qFvxQ8xg12g"
      },
      "source": [
        "**Question** transformer le vecteur suivant en un vecteur binaire."
      ]
    },
    {
      "cell_type": "code",
      "metadata": {
        "id": "oCn7S2rwg5Uh"
      },
      "source": [
        "target = np.array([\n",
        "    [\"oui\"],\n",
        "    [\"oui\"],\n",
        "    [\"non\"],\n",
        "    [\"non\"],\n",
        "    [\"oui\"]\n",
        "])"
      ],
      "execution_count": 4,
      "outputs": []
    },
    {
      "cell_type": "code",
      "metadata": {
        "id": "ttmv58IP_7Fi",
        "outputId": "130e1fa7-de21-49e7-e7e4-13094f0e93f5",
        "colab": {
          "base_uri": "https://localhost:8080/",
          "height": 104
        }
      },
      "source": [
        "\n",
        "labelbi1 = LabelBinarizer()\n",
        "\n",
        "labelbi1.fit_transform(target)"
      ],
      "execution_count": 5,
      "outputs": [
        {
          "output_type": "execute_result",
          "data": {
            "text/plain": [
              "array([[1],\n",
              "       [1],\n",
              "       [0],\n",
              "       [0],\n",
              "       [1]])"
            ]
          },
          "metadata": {
            "tags": []
          },
          "execution_count": 5
        }
      ]
    },
    {
      "cell_type": "markdown",
      "metadata": {
        "id": "gO0YcjLNII5W"
      },
      "source": [
        "## Transformation multilabel"
      ]
    },
    {
      "cell_type": "code",
      "metadata": {
        "id": "CTc1YrI1Laoy",
        "outputId": "27a0bcc1-2988-45a8-fcf6-db8985f4772c",
        "colab": {
          "base_uri": "https://localhost:8080/",
          "height": 104
        }
      },
      "source": [
        "\n",
        "multiclass_feature = [\n",
        "    (\"Paris\", \"75\"),\n",
        "    (\"Courbevoie\", \"92\"),\n",
        "    (\"Paris\", \"75\"),\n",
        "    (\"Puteaux\", \"92\"),\n",
        "    (\"Paris\", \"75\")\n",
        "]\n",
        "\n",
        "\n",
        "label_multiclass = MultiLabelBinarizer()\n",
        "\n",
        "label_multiclass.fit_transform(multiclass_feature)"
      ],
      "execution_count": 6,
      "outputs": [
        {
          "output_type": "execute_result",
          "data": {
            "text/plain": [
              "array([[1, 0, 0, 1, 0],\n",
              "       [0, 1, 1, 0, 0],\n",
              "       [1, 0, 0, 1, 0],\n",
              "       [0, 1, 0, 0, 1],\n",
              "       [1, 0, 0, 1, 0]])"
            ]
          },
          "metadata": {
            "tags": []
          },
          "execution_count": 6
        }
      ]
    },
    {
      "cell_type": "code",
      "metadata": {
        "id": "9nnKgR_9Lao1",
        "outputId": "eb769b80-b1e0-4465-aa8f-41ee9564f683",
        "colab": {
          "base_uri": "https://localhost:8080/",
          "height": 34
        }
      },
      "source": [
        "label_multiclass.classes_"
      ],
      "execution_count": 7,
      "outputs": [
        {
          "output_type": "execute_result",
          "data": {
            "text/plain": [
              "array(['75', '92', 'Courbevoie', 'Paris', 'Puteaux'], dtype=object)"
            ]
          },
          "metadata": {
            "tags": []
          },
          "execution_count": 7
        }
      ]
    },
    {
      "cell_type": "markdown",
      "metadata": {
        "id": "1OqMo_80t9lm"
      },
      "source": [
        ""
      ]
    },
    {
      "cell_type": "markdown",
      "metadata": {
        "id": "EIYvJ5OsKkjA"
      },
      "source": [
        "## Encodeur OneHot"
      ]
    },
    {
      "cell_type": "code",
      "metadata": {
        "id": "2j0ogxBaLa28"
      },
      "source": [
        "from sklearn.preprocessing import OneHotEncoder"
      ],
      "execution_count": 8,
      "outputs": []
    },
    {
      "cell_type": "code",
      "metadata": {
        "id": "Yd9F-FkdMZBr",
        "outputId": "435ab8ad-ec4f-4994-dd47-5821b21393f9",
        "colab": {
          "base_uri": "https://localhost:8080/",
          "height": 52
        }
      },
      "source": [
        "onehotenc = OneHotEncoder(handle_unknown='ignore')\n",
        "\n",
        "onehotenc.fit(multiclass_feature)\n",
        "\n",
        "onehotenc.categories_\n"
      ],
      "execution_count": 9,
      "outputs": [
        {
          "output_type": "execute_result",
          "data": {
            "text/plain": [
              "[array(['Courbevoie', 'Paris', 'Puteaux'], dtype=object),\n",
              " array(['75', '92'], dtype=object)]"
            ]
          },
          "metadata": {
            "tags": []
          },
          "execution_count": 9
        }
      ]
    },
    {
      "cell_type": "code",
      "metadata": {
        "id": "eM5Vs683M7CP",
        "outputId": "b28b77c3-f2e1-4d33-b1fa-6cc7faf036c7",
        "colab": {
          "base_uri": "https://localhost:8080/",
          "height": 104
        }
      },
      "source": [
        "onehotenc.transform(multiclass_feature).toarray()"
      ],
      "execution_count": 10,
      "outputs": [
        {
          "output_type": "execute_result",
          "data": {
            "text/plain": [
              "array([[0., 1., 0., 1., 0.],\n",
              "       [1., 0., 0., 0., 1.],\n",
              "       [0., 1., 0., 1., 0.],\n",
              "       [0., 0., 1., 0., 1.],\n",
              "       [0., 1., 0., 1., 0.]])"
            ]
          },
          "metadata": {
            "tags": []
          },
          "execution_count": 10
        }
      ]
    },
    {
      "cell_type": "markdown",
      "metadata": {
        "id": "Tvzvcdq1LYPX"
      },
      "source": [
        "## Dummy variables"
      ]
    },
    {
      "cell_type": "markdown",
      "metadata": {
        "id": "MJQUkVJAH_us"
      },
      "source": [
        "Fonction équivalent avec `pandas`"
      ]
    },
    {
      "cell_type": "code",
      "metadata": {
        "id": "VCFFysgALaow",
        "outputId": "03043a84-4d21-4381-df33-37325bcb522c",
        "colab": {
          "base_uri": "https://localhost:8080/",
          "height": 206
        }
      },
      "source": [
        "import pandas as pd\n",
        "\n",
        "pd.get_dummies(feature[:, 0])"
      ],
      "execution_count": 11,
      "outputs": [
        {
          "output_type": "execute_result",
          "data": {
            "text/html": [
              "<div>\n",
              "<style scoped>\n",
              "    .dataframe tbody tr th:only-of-type {\n",
              "        vertical-align: middle;\n",
              "    }\n",
              "\n",
              "    .dataframe tbody tr th {\n",
              "        vertical-align: top;\n",
              "    }\n",
              "\n",
              "    .dataframe thead th {\n",
              "        text-align: right;\n",
              "    }\n",
              "</style>\n",
              "<table border=\"1\" class=\"dataframe\">\n",
              "  <thead>\n",
              "    <tr style=\"text-align: right;\">\n",
              "      <th></th>\n",
              "      <th>Courbevoie</th>\n",
              "      <th>Paris</th>\n",
              "      <th>Puteaux</th>\n",
              "    </tr>\n",
              "  </thead>\n",
              "  <tbody>\n",
              "    <tr>\n",
              "      <th>0</th>\n",
              "      <td>0</td>\n",
              "      <td>1</td>\n",
              "      <td>0</td>\n",
              "    </tr>\n",
              "    <tr>\n",
              "      <th>1</th>\n",
              "      <td>1</td>\n",
              "      <td>0</td>\n",
              "      <td>0</td>\n",
              "    </tr>\n",
              "    <tr>\n",
              "      <th>2</th>\n",
              "      <td>0</td>\n",
              "      <td>1</td>\n",
              "      <td>0</td>\n",
              "    </tr>\n",
              "    <tr>\n",
              "      <th>3</th>\n",
              "      <td>0</td>\n",
              "      <td>0</td>\n",
              "      <td>1</td>\n",
              "    </tr>\n",
              "    <tr>\n",
              "      <th>4</th>\n",
              "      <td>0</td>\n",
              "      <td>1</td>\n",
              "      <td>0</td>\n",
              "    </tr>\n",
              "  </tbody>\n",
              "</table>\n",
              "</div>"
            ],
            "text/plain": [
              "   Courbevoie  Paris  Puteaux\n",
              "0           0      1        0\n",
              "1           1      0        0\n",
              "2           0      1        0\n",
              "3           0      0        1\n",
              "4           0      1        0"
            ]
          },
          "metadata": {
            "tags": []
          },
          "execution_count": 11
        }
      ]
    },
    {
      "cell_type": "code",
      "metadata": {
        "id": "RMg8OSLwdAaA",
        "outputId": "78442c59-98b8-4f81-993b-4beb66c5c2ba",
        "colab": {
          "base_uri": "https://localhost:8080/",
          "height": 206
        }
      },
      "source": [
        "\n",
        "pd.get_dummies(feature[:, 0], drop_first=True)\n"
      ],
      "execution_count": 12,
      "outputs": [
        {
          "output_type": "execute_result",
          "data": {
            "text/html": [
              "<div>\n",
              "<style scoped>\n",
              "    .dataframe tbody tr th:only-of-type {\n",
              "        vertical-align: middle;\n",
              "    }\n",
              "\n",
              "    .dataframe tbody tr th {\n",
              "        vertical-align: top;\n",
              "    }\n",
              "\n",
              "    .dataframe thead th {\n",
              "        text-align: right;\n",
              "    }\n",
              "</style>\n",
              "<table border=\"1\" class=\"dataframe\">\n",
              "  <thead>\n",
              "    <tr style=\"text-align: right;\">\n",
              "      <th></th>\n",
              "      <th>Paris</th>\n",
              "      <th>Puteaux</th>\n",
              "    </tr>\n",
              "  </thead>\n",
              "  <tbody>\n",
              "    <tr>\n",
              "      <th>0</th>\n",
              "      <td>1</td>\n",
              "      <td>0</td>\n",
              "    </tr>\n",
              "    <tr>\n",
              "      <th>1</th>\n",
              "      <td>0</td>\n",
              "      <td>0</td>\n",
              "    </tr>\n",
              "    <tr>\n",
              "      <th>2</th>\n",
              "      <td>1</td>\n",
              "      <td>0</td>\n",
              "    </tr>\n",
              "    <tr>\n",
              "      <th>3</th>\n",
              "      <td>0</td>\n",
              "      <td>1</td>\n",
              "    </tr>\n",
              "    <tr>\n",
              "      <th>4</th>\n",
              "      <td>1</td>\n",
              "      <td>0</td>\n",
              "    </tr>\n",
              "  </tbody>\n",
              "</table>\n",
              "</div>"
            ],
            "text/plain": [
              "   Paris  Puteaux\n",
              "0      1        0\n",
              "1      0        0\n",
              "2      1        0\n",
              "3      0        1\n",
              "4      1        0"
            ]
          },
          "metadata": {
            "tags": []
          },
          "execution_count": 12
        }
      ]
    },
    {
      "cell_type": "code",
      "metadata": {
        "id": "cCj25KcgSPdD"
      },
      "source": [
        ""
      ],
      "execution_count": null,
      "outputs": []
    },
    {
      "cell_type": "markdown",
      "metadata": {
        "id": "08IKE6w8Lao3"
      },
      "source": [
        "\n",
        "\n",
        "# Variables catégoriques ordinales"
      ]
    },
    {
      "cell_type": "code",
      "metadata": {
        "id": "z-NcusOSLao4",
        "cellView": "both",
        "outputId": "ab5afe3a-85c0-43f6-e09c-544f63cba4fc",
        "colab": {
          "base_uri": "https://localhost:8080/",
          "height": 121
        }
      },
      "source": [
        "\n",
        "import pandas as pd\n",
        "\n",
        "# exemple de données\n",
        "df = pd.DataFrame({\"Satisfaction\": [\"Pas satisfait\", \"Pas satisfait\", \"Satisfait\", \"Très satisfait\", \"Très satisfait\"]})\n",
        "\n",
        "# créer un dictionnaire de mapping\n",
        "\n",
        "scale_mapper = {\n",
        "    \"Pas satisfait\": 1,\n",
        "    \"Satisfait\": 2,\n",
        "    \"Très satisfait\": 3\n",
        "}\n",
        "\n",
        "# remplacement de valeurs\n",
        "df[\"Satisfaction\"].replace(scale_mapper)"
      ],
      "execution_count": 13,
      "outputs": [
        {
          "output_type": "execute_result",
          "data": {
            "text/plain": [
              "0    1\n",
              "1    1\n",
              "2    2\n",
              "3    3\n",
              "4    3\n",
              "Name: Satisfaction, dtype: int64"
            ]
          },
          "metadata": {
            "tags": []
          },
          "execution_count": 13
        }
      ]
    },
    {
      "cell_type": "markdown",
      "metadata": {
        "id": "SypMxJgAuvKh"
      },
      "source": [
        "On peut aussi utiliser `OrdinalEncoder`"
      ]
    },
    {
      "cell_type": "code",
      "metadata": {
        "id": "1mgy9P_5uQ9h",
        "outputId": "1a7fb93f-9955-4974-9435-140498ddda2b",
        "colab": {
          "base_uri": "https://localhost:8080/",
          "height": 104
        }
      },
      "source": [
        "from sklearn.preprocessing import OrdinalEncoder\n",
        "encoder = OrdinalEncoder(categories=[[\"Pas satisfait\", \"Satisfait\", \"Très satisfait\"]])\n",
        "encoder.fit_transform(df[[\"Satisfaction\"]])\n"
      ],
      "execution_count": 14,
      "outputs": [
        {
          "output_type": "execute_result",
          "data": {
            "text/plain": [
              "array([[0.],\n",
              "       [0.],\n",
              "       [1.],\n",
              "       [2.],\n",
              "       [2.]])"
            ]
          },
          "metadata": {
            "tags": []
          },
          "execution_count": 14
        }
      ]
    },
    {
      "cell_type": "markdown",
      "metadata": {
        "id": "tyPEvLCnLao_"
      },
      "source": [
        "# Gestion des données manquantes"
      ]
    },
    {
      "cell_type": "code",
      "metadata": {
        "id": "r6unRZs3LapA"
      },
      "source": [
        "import numpy as np\n",
        "from sklearn.neighbors import KNeighborsClassifier\n",
        "\n",
        "X = np.array([[0, 2.10, 1.45],\n",
        "            [1, 1.18, 1.33],\n",
        "            [0, 1.22, 1.27],\n",
        "            [0, 2.2, 0.67],\n",
        "            [1, -0.21, -1.19]])\n",
        "\n",
        "X_with_nan = np.array([[np.nan, 0.87, 1.31],\n",
        "                      [np.nan, -0.67, -0.22]])\n",
        "\n",
        "# entrainer le modèle de knn\n",
        "clf = KNeighborsClassifier(3, weights='distance')\n",
        "trained_model = clf.fit(X[:,1:], X[:, 0])\n",
        "\n",
        "# prédire les valeurs manquantes\n",
        "imputed_values = trained_model.predict(X_with_nan[:, 1:])\n",
        "\n",
        "# concaténation\n",
        "X_with_imputed = np.hstack((imputed_values.reshape(-1, 1), X_with_nan[:, 1:]))\n"
      ],
      "execution_count": 15,
      "outputs": []
    },
    {
      "cell_type": "code",
      "metadata": {
        "id": "xSw5RlhwjWiI",
        "outputId": "18081d88-154b-4f19-d201-25babf0a03b3",
        "colab": {
          "base_uri": "https://localhost:8080/",
          "height": 52
        }
      },
      "source": [
        "X_with_imputed"
      ],
      "execution_count": 16,
      "outputs": [
        {
          "output_type": "execute_result",
          "data": {
            "text/plain": [
              "array([[ 0.  ,  0.87,  1.31],\n",
              "       [ 1.  , -0.67, -0.22]])"
            ]
          },
          "metadata": {
            "tags": []
          },
          "execution_count": 16
        }
      ]
    },
    {
      "cell_type": "code",
      "metadata": {
        "id": "p6g9ULu4LapC",
        "outputId": "d6f63dc0-c5fb-4ed6-bf8a-92e4211b0b03",
        "colab": {
          "base_uri": "https://localhost:8080/",
          "height": 52
        }
      },
      "source": [
        "from sklearn.impute import SimpleImputer\n",
        "\n",
        "imputer = SimpleImputer(strategy='most_frequent')\n",
        "\n",
        "imputer.fit(X)"
      ],
      "execution_count": 17,
      "outputs": [
        {
          "output_type": "execute_result",
          "data": {
            "text/plain": [
              "SimpleImputer(add_indicator=False, copy=True, fill_value=None,\n",
              "              missing_values=nan, strategy='most_frequent', verbose=0)"
            ]
          },
          "metadata": {
            "tags": []
          },
          "execution_count": 17
        }
      ]
    },
    {
      "cell_type": "code",
      "metadata": {
        "id": "C4PrdPL1jxLF",
        "outputId": "a88a3285-bc71-436f-d502-5b4dc9497923",
        "colab": {
          "base_uri": "https://localhost:8080/",
          "height": 52
        }
      },
      "source": [
        "imputer.transform(X_with_nan)"
      ],
      "execution_count": 18,
      "outputs": [
        {
          "output_type": "execute_result",
          "data": {
            "text/plain": [
              "array([[ 0.  ,  0.87,  1.31],\n",
              "       [ 0.  , -0.67, -0.22]])"
            ]
          },
          "metadata": {
            "tags": []
          },
          "execution_count": 18
        }
      ]
    },
    {
      "cell_type": "markdown",
      "metadata": {
        "id": "ikZ3uQL7QNLs"
      },
      "source": [
        "# Exercice"
      ]
    },
    {
      "cell_type": "markdown",
      "metadata": {
        "id": "-5wSYxYZQP1K"
      },
      "source": [
        "**Question** transformer les variables catégoriques dans la base de données `insurance` importée dans la cellule suivante."
      ]
    },
    {
      "cell_type": "code",
      "metadata": {
        "id": "zqm34-M7JluI"
      },
      "source": [
        "import pandas as pd\n",
        "url = 'http://dataks.bitbucket.io/ml/insurance.csv'\n",
        "data = pd.read_csv(url)"
      ],
      "execution_count": 19,
      "outputs": []
    },
    {
      "cell_type": "code",
      "metadata": {
        "id": "v33I7C2nJluM",
        "outputId": "83351393-acdf-41af-b1d0-2e3ed4e64fad",
        "colab": {
          "base_uri": "https://localhost:8080/",
          "height": 206
        }
      },
      "source": [
        "data.head()"
      ],
      "execution_count": 20,
      "outputs": [
        {
          "output_type": "execute_result",
          "data": {
            "text/html": [
              "<div>\n",
              "<style scoped>\n",
              "    .dataframe tbody tr th:only-of-type {\n",
              "        vertical-align: middle;\n",
              "    }\n",
              "\n",
              "    .dataframe tbody tr th {\n",
              "        vertical-align: top;\n",
              "    }\n",
              "\n",
              "    .dataframe thead th {\n",
              "        text-align: right;\n",
              "    }\n",
              "</style>\n",
              "<table border=\"1\" class=\"dataframe\">\n",
              "  <thead>\n",
              "    <tr style=\"text-align: right;\">\n",
              "      <th></th>\n",
              "      <th>age</th>\n",
              "      <th>sex</th>\n",
              "      <th>bmi</th>\n",
              "      <th>children</th>\n",
              "      <th>smoker</th>\n",
              "      <th>region</th>\n",
              "      <th>charges</th>\n",
              "    </tr>\n",
              "  </thead>\n",
              "  <tbody>\n",
              "    <tr>\n",
              "      <th>0</th>\n",
              "      <td>19</td>\n",
              "      <td>female</td>\n",
              "      <td>27.900</td>\n",
              "      <td>0</td>\n",
              "      <td>yes</td>\n",
              "      <td>southwest</td>\n",
              "      <td>16884.92400</td>\n",
              "    </tr>\n",
              "    <tr>\n",
              "      <th>1</th>\n",
              "      <td>18</td>\n",
              "      <td>male</td>\n",
              "      <td>33.770</td>\n",
              "      <td>1</td>\n",
              "      <td>no</td>\n",
              "      <td>southeast</td>\n",
              "      <td>1725.55230</td>\n",
              "    </tr>\n",
              "    <tr>\n",
              "      <th>2</th>\n",
              "      <td>28</td>\n",
              "      <td>male</td>\n",
              "      <td>33.000</td>\n",
              "      <td>3</td>\n",
              "      <td>no</td>\n",
              "      <td>southeast</td>\n",
              "      <td>4449.46200</td>\n",
              "    </tr>\n",
              "    <tr>\n",
              "      <th>3</th>\n",
              "      <td>33</td>\n",
              "      <td>male</td>\n",
              "      <td>22.705</td>\n",
              "      <td>0</td>\n",
              "      <td>no</td>\n",
              "      <td>northwest</td>\n",
              "      <td>21984.47061</td>\n",
              "    </tr>\n",
              "    <tr>\n",
              "      <th>4</th>\n",
              "      <td>32</td>\n",
              "      <td>male</td>\n",
              "      <td>28.880</td>\n",
              "      <td>0</td>\n",
              "      <td>no</td>\n",
              "      <td>northwest</td>\n",
              "      <td>3866.85520</td>\n",
              "    </tr>\n",
              "  </tbody>\n",
              "</table>\n",
              "</div>"
            ],
            "text/plain": [
              "   age     sex     bmi  children smoker     region      charges\n",
              "0   19  female  27.900         0    yes  southwest  16884.92400\n",
              "1   18    male  33.770         1     no  southeast   1725.55230\n",
              "2   28    male  33.000         3     no  southeast   4449.46200\n",
              "3   33    male  22.705         0     no  northwest  21984.47061\n",
              "4   32    male  28.880         0     no  northwest   3866.85520"
            ]
          },
          "metadata": {
            "tags": []
          },
          "execution_count": 20
        }
      ]
    },
    {
      "cell_type": "code",
      "metadata": {
        "id": "Z0TXAIxfQPXn"
      },
      "source": [
        "data.info()"
      ],
      "execution_count": null,
      "outputs": []
    },
    {
      "cell_type": "code",
      "metadata": {
        "id": "sn9PwCsFQSRO",
        "outputId": "7c338961-a083-4a4a-a875-5ee500e9506a",
        "colab": {
          "base_uri": "https://localhost:8080/",
          "height": 69
        }
      },
      "source": [
        "label_multiclass1 = MultiLabelBinarizer()\n",
        "\n",
        "label_multiclass1.fit_transform(data[[\"sex\",\"smoker\",\"region\"]])"
      ],
      "execution_count": 23,
      "outputs": [
        {
          "output_type": "execute_result",
          "data": {
            "text/plain": [
              "array([[1, 0, 0, 0, 0, 0, 0, 0, 1, 1],\n",
              "       [1, 0, 0, 1, 1, 0, 1, 1, 1, 0],\n",
              "       [1, 1, 1, 0, 0, 1, 1, 1, 0, 0]])"
            ]
          },
          "metadata": {
            "tags": []
          },
          "execution_count": 23
        }
      ]
    },
    {
      "cell_type": "markdown",
      "metadata": {
        "id": "wRem5AIJMge0"
      },
      "source": [
        "Documentation\n",
        "\n",
        "- https://inmachineswetrust.com/posts/drop-first-columns/\n"
      ]
    }
  ]
}