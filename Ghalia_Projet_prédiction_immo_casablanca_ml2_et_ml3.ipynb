{
  "nbformat": 4,
  "nbformat_minor": 0,
  "metadata": {
    "colab": {
      "name": "Ghalia -  Projet prédiction immo casablanca ml2 et ml3.ipynb",
      "provenance": [],
      "collapsed_sections": [],
      "include_colab_link": true
    },
    "kernelspec": {
      "name": "python3",
      "display_name": "Python 3"
    }
  },
  "cells": [
    {
      "cell_type": "markdown",
      "metadata": {
        "id": "view-in-github",
        "colab_type": "text"
      },
      "source": [
        "<a href=\"https://colab.research.google.com/github/Ghalia671/MODULE1/blob/master/Ghalia_Projet_pr%C3%A9diction_immo_casablanca_ml2_et_ml3.ipynb\" target=\"_parent\"><img src=\"https://colab.research.google.com/assets/colab-badge.svg\" alt=\"Open In Colab\"/></a>"
      ]
    },
    {
      "cell_type": "markdown",
      "metadata": {
        "id": "t2LCk5pzR2Eo"
      },
      "source": [
        "Données simplifées\n"
      ]
    },
    {
      "cell_type": "code",
      "metadata": {
        "id": "HXG3G5S65fPh"
      },
      "source": [
        "import pandas as pd\n",
        "\n",
        "data=pd.read_csv(\"https://dataks.bitbucket.io/ml/casa_racine_light.csv\")"
      ],
      "execution_count": null,
      "outputs": []
    },
    {
      "cell_type": "markdown",
      "metadata": {
        "id": "eRv1kW6dR6OD"
      },
      "source": [
        "Données complètes"
      ]
    },
    {
      "cell_type": "code",
      "metadata": {
        "id": "HwSnRvWC5m2Y"
      },
      "source": [
        "\n",
        "data=pd.read_csv(\"https://dataks.bitbucket.io/ml/casa_racine_full.csv\")"
      ],
      "execution_count": null,
      "outputs": []
    },
    {
      "cell_type": "markdown",
      "metadata": {
        "id": "ihOCGk1GgpoV"
      },
      "source": [
        "Pour chaque phase de l'apprentisssage, mettre en oeuvre ce que vous avez appris pour créer un modèle à partir des données (simplifiées ou complètes), pour prédire le prix immobilier.\n",
        "\n"
      ]
    },
    {
      "cell_type": "code",
      "metadata": {
        "id": "2__mn2I4gzWs",
        "colab": {
          "base_uri": "https://localhost:8080/",
          "height": 798
        },
        "outputId": "09391a6a-31eb-49ac-a07d-e60ef37d34b1"
      },
      "source": [
        "#Import des données et nettoyage\n",
        "import pandas as pd\n",
        "import numpy as np\n",
        "\n",
        "inc=pd.read_csv(\"https://dataks.bitbucket.io/ml/casa_racine_full.csv\",na_values=np.NaN)\n",
        "inc = inc.replace(to_replace='Meublé', value=1, regex=True)\n",
        "inc = inc.replace(to_replace='Non-meublé', value=0, regex=True)\n",
        "inc = inc.replace(to_replace='Appartement', value=0, regex=True)\n",
        "inc = inc.replace(to_replace='Duplex', value=1, regex=True)\n",
        "inc = inc.replace(to_replace='3 + Chambre de service', value=6)\n",
        "inc = inc.replace(to_replace='4 + Chambre de service', value=7)\n",
        "inc = inc.replace(to_replace='5 + Chambre de service', value=8)\n",
        "inc = inc.replace('?',np.NaN)\n",
        "inc = inc.dropna(axis=0, how='any')\n",
        "len(inc) - inc.count()\n",
        "inc.head(15)"
      ],
      "execution_count": 21,
      "outputs": [
        {
          "output_type": "execute_result",
          "data": {
            "text/html": [
              "<div>\n",
              "<style scoped>\n",
              "    .dataframe tbody tr th:only-of-type {\n",
              "        vertical-align: middle;\n",
              "    }\n",
              "\n",
              "    .dataframe tbody tr th {\n",
              "        vertical-align: top;\n",
              "    }\n",
              "\n",
              "    .dataframe thead th {\n",
              "        text-align: right;\n",
              "    }\n",
              "</style>\n",
              "<table border=\"1\" class=\"dataframe\">\n",
              "  <thead>\n",
              "    <tr style=\"text-align: right;\">\n",
              "      <th></th>\n",
              "      <th>Prix</th>\n",
              "      <th>Type</th>\n",
              "      <th>Référence</th>\n",
              "      <th>Pièces</th>\n",
              "      <th>Salles de bains</th>\n",
              "      <th>Mobiliers</th>\n",
              "      <th>Surface</th>\n",
              "      <th>Installation</th>\n",
              "      <th>Agent</th>\n",
              "      <th>Societe</th>\n",
              "      <th>Description</th>\n",
              "      <th>Publication</th>\n",
              "      <th>lien</th>\n",
              "    </tr>\n",
              "  </thead>\n",
              "  <tbody>\n",
              "    <tr>\n",
              "      <th>0</th>\n",
              "      <td>4700000</td>\n",
              "      <td>0</td>\n",
              "      <td>Hana</td>\n",
              "      <td>6</td>\n",
              "      <td>3.0</td>\n",
              "      <td>0.0</td>\n",
              "      <td>240</td>\n",
              "      <td>Agent de sécurité,Animaux autorisés,Balcon,Bua...</td>\n",
              "      <td>Dana Crainic</td>\n",
              "      <td>Dana Immobilier + Partners</td>\n",
              "      <td>Belle appartement a vendre sur RACINE la rue A...</td>\n",
              "      <td>Publié: more than 6 months ago</td>\n",
              "      <td>https://www.sarouty.ma/acheter/appartement-a-v...</td>\n",
              "    </tr>\n",
              "    <tr>\n",
              "      <th>1</th>\n",
              "      <td>5700000</td>\n",
              "      <td>1</td>\n",
              "      <td>Associ</td>\n",
              "      <td>7</td>\n",
              "      <td>4.0</td>\n",
              "      <td>1.0</td>\n",
              "      <td>313</td>\n",
              "      <td>Agent de sécurité,Animaux autorisés,Balcon,Bua...</td>\n",
              "      <td>Dana Crainic</td>\n",
              "      <td>Dana Immobilier + Partners</td>\n",
              "      <td>Ne laissez pas passer cet appartement en duple...</td>\n",
              "      <td>Publié: more than 6 months ago</td>\n",
              "      <td>https://www.sarouty.ma/acheter/duplex-a-vendre...</td>\n",
              "    </tr>\n",
              "    <tr>\n",
              "      <th>2</th>\n",
              "      <td>3600000</td>\n",
              "      <td>0</td>\n",
              "      <td>casaimmo-2065691</td>\n",
              "      <td>3</td>\n",
              "      <td>3.0</td>\n",
              "      <td>0.0</td>\n",
              "      <td>173</td>\n",
              "      <td>Animaux autorisés,Climatisation centrale,Conci...</td>\n",
              "      <td>CASA IMMO STORE</td>\n",
              "      <td>Casa Immo Store</td>\n",
              "      <td>Casa Immo vous propose un appartement de très ...</td>\n",
              "      <td>Publié: il y a 24 jours</td>\n",
              "      <td>https://www.sarouty.ma/acheter/appartement-a-v...</td>\n",
              "    </tr>\n",
              "    <tr>\n",
              "      <th>3</th>\n",
              "      <td>2200000</td>\n",
              "      <td>0</td>\n",
              "      <td>VAQR111200</td>\n",
              "      <td>3</td>\n",
              "      <td>2.0</td>\n",
              "      <td>0.0</td>\n",
              "      <td>111</td>\n",
              "      <td>Balcon,Concierge,Parking couvert,Salle de spor...</td>\n",
              "      <td>Said Nouqrat</td>\n",
              "      <td>Trust Immo</td>\n",
              "      <td>0</td>\n",
              "      <td>Publié: il y a 2 mois</td>\n",
              "      <td>https://www.sarouty.ma/acheter/appartement-a-v...</td>\n",
              "    </tr>\n",
              "    <tr>\n",
              "      <th>5</th>\n",
              "      <td>5500000</td>\n",
              "      <td>0</td>\n",
              "      <td>clvaparr-03</td>\n",
              "      <td>6</td>\n",
              "      <td>4.0</td>\n",
              "      <td>0.0</td>\n",
              "      <td>269</td>\n",
              "      <td>Chambre de personnel de maison,Concierge,Dress...</td>\n",
              "      <td>Clavis conseil immo Nabila Alami</td>\n",
              "      <td>Clavis</td>\n",
              "      <td>A vendre tres bel appartement haut standing de...</td>\n",
              "      <td>Publié: il y a 5 mois</td>\n",
              "      <td>https://www.sarouty.ma/acheter/appartement-a-v...</td>\n",
              "    </tr>\n",
              "    <tr>\n",
              "      <th>6</th>\n",
              "      <td>3400000</td>\n",
              "      <td>0</td>\n",
              "      <td>Skalli</td>\n",
              "      <td>6</td>\n",
              "      <td>3.0</td>\n",
              "      <td>0.0</td>\n",
              "      <td>226</td>\n",
              "      <td>Agent de sécurité,Animaux autorisés,Balcon,Cha...</td>\n",
              "      <td>Dana Crainic</td>\n",
              "      <td>Dana Immobilier + Partners</td>\n",
              "      <td>L'agence Dana_immobilier vous proposer un   be...</td>\n",
              "      <td>Publié: more than 6 months ago</td>\n",
              "      <td>https://www.sarouty.ma/acheter/appartement-a-v...</td>\n",
              "    </tr>\n",
              "    <tr>\n",
              "      <th>8</th>\n",
              "      <td>4650000</td>\n",
              "      <td>0</td>\n",
              "      <td>casaimmo-1737522</td>\n",
              "      <td>3</td>\n",
              "      <td>3.0</td>\n",
              "      <td>0.0</td>\n",
              "      <td>230</td>\n",
              "      <td>Agent de sécurité,Animaux autorisés,Balcon,Bua...</td>\n",
              "      <td>CASA IMMO STORE</td>\n",
              "      <td>Casa Immo Store</td>\n",
              "      <td>0</td>\n",
              "      <td>Publié: il y a 5 mois</td>\n",
              "      <td>https://www.sarouty.ma/acheter/appartement-a-v...</td>\n",
              "    </tr>\n",
              "    <tr>\n",
              "      <th>9</th>\n",
              "      <td>3800000</td>\n",
              "      <td>0</td>\n",
              "      <td>remaxexclusive-2053335</td>\n",
              "      <td>7</td>\n",
              "      <td>3.0</td>\n",
              "      <td>0.0</td>\n",
              "      <td>228</td>\n",
              "      <td>Chambre de personnel de maison</td>\n",
              "      <td>Hicham Boussatta</td>\n",
              "      <td>Remax Exclusive</td>\n",
              "      <td>Racine Vente duplex terrasse \\nRemax Exclusive...</td>\n",
              "      <td>Publié: il y a un mois</td>\n",
              "      <td>https://www.sarouty.ma/acheter/appartement-a-v...</td>\n",
              "    </tr>\n",
              "    <tr>\n",
              "      <th>10</th>\n",
              "      <td>4770000</td>\n",
              "      <td>0</td>\n",
              "      <td>linkedimmo-1544664</td>\n",
              "      <td>7</td>\n",
              "      <td>4.0</td>\n",
              "      <td>0.0</td>\n",
              "      <td>300</td>\n",
              "      <td>Agent de sécurité,Animaux autorisés,Balcon,Cha...</td>\n",
              "      <td>Mohamed Benjelloun</td>\n",
              "      <td>Linked Immo</td>\n",
              "      <td>Linked Immo vous propose à la vente ce grand a...</td>\n",
              "      <td>Publié: more than 6 months ago</td>\n",
              "      <td>https://www.sarouty.ma/acheter/appartement-a-v...</td>\n",
              "    </tr>\n",
              "    <tr>\n",
              "      <th>11</th>\n",
              "      <td>3400000</td>\n",
              "      <td>0</td>\n",
              "      <td>sury-2002598</td>\n",
              "      <td>3</td>\n",
              "      <td>2.0</td>\n",
              "      <td>1.0</td>\n",
              "      <td>143</td>\n",
              "      <td>Agent de sécurité,Animaux autorisés,Balcon,Cli...</td>\n",
              "      <td>Edouard SURY</td>\n",
              "      <td>SURY Immobilier</td>\n",
              "      <td>0</td>\n",
              "      <td>Publié: il y a 2 mois</td>\n",
              "      <td>https://www.sarouty.ma/acheter/appartement-a-v...</td>\n",
              "    </tr>\n",
              "    <tr>\n",
              "      <th>12</th>\n",
              "      <td>3200000</td>\n",
              "      <td>0</td>\n",
              "      <td>Yasser av</td>\n",
              "      <td>6</td>\n",
              "      <td>3.0</td>\n",
              "      <td>0.0</td>\n",
              "      <td>189</td>\n",
              "      <td>Agent de sécurité,Animaux autorisés,Balcon,Bua...</td>\n",
              "      <td>Dana Crainic</td>\n",
              "      <td>Dana Immobilier + Partners</td>\n",
              "      <td>0</td>\n",
              "      <td>Publié: more than 6 months ago</td>\n",
              "      <td>https://www.sarouty.ma/acheter/appartement-a-v...</td>\n",
              "    </tr>\n",
              "    <tr>\n",
              "      <th>13</th>\n",
              "      <td>3500000</td>\n",
              "      <td>0</td>\n",
              "      <td>linkedimmo-1605812</td>\n",
              "      <td>3</td>\n",
              "      <td>3.0</td>\n",
              "      <td>0.0</td>\n",
              "      <td>203</td>\n",
              "      <td>Agent de sécurité,Climatisation centrale,Conci...</td>\n",
              "      <td>Mohamed Benjelloun</td>\n",
              "      <td>Linked Immo</td>\n",
              "      <td>0</td>\n",
              "      <td>Publié: more than 6 months ago</td>\n",
              "      <td>https://www.sarouty.ma/acheter/appartement-a-v...</td>\n",
              "    </tr>\n",
              "    <tr>\n",
              "      <th>14</th>\n",
              "      <td>4600000</td>\n",
              "      <td>0</td>\n",
              "      <td>VAQR240485</td>\n",
              "      <td>7</td>\n",
              "      <td>2.0</td>\n",
              "      <td>0.0</td>\n",
              "      <td>255</td>\n",
              "      <td>Agent de sécurité,Balcon,Buanderie,Chambre de ...</td>\n",
              "      <td>Said Nouqrat</td>\n",
              "      <td>Trust Immo</td>\n",
              "      <td>Agréable appartement à vendre. Prix 4 850 000 ...</td>\n",
              "      <td>Publié: il y a 6 mois</td>\n",
              "      <td>https://www.sarouty.ma/acheter/appartement-a-v...</td>\n",
              "    </tr>\n",
              "    <tr>\n",
              "      <th>16</th>\n",
              "      <td>3600000</td>\n",
              "      <td>0</td>\n",
              "      <td>J5683462</td>\n",
              "      <td>3</td>\n",
              "      <td>3.0</td>\n",
              "      <td>0.0</td>\n",
              "      <td>181</td>\n",
              "      <td>Agent de sécurité,Concierge</td>\n",
              "      <td>Mohamed</td>\n",
              "      <td>Ivendi.ma</td>\n",
              "      <td>0</td>\n",
              "      <td>Publié: more than 6 months ago</td>\n",
              "      <td>https://www.sarouty.ma/acheter/appartement-a-v...</td>\n",
              "    </tr>\n",
              "    <tr>\n",
              "      <th>17</th>\n",
              "      <td>3100000</td>\n",
              "      <td>0</td>\n",
              "      <td>2192886 esmaili</td>\n",
              "      <td>3</td>\n",
              "      <td>3.0</td>\n",
              "      <td>0.0</td>\n",
              "      <td>170</td>\n",
              "      <td>Agent de sécurité,Concierge</td>\n",
              "      <td>Mohamed</td>\n",
              "      <td>Ivendi.ma</td>\n",
              "      <td>A vendre un appartement de 170m² entièrement r...</td>\n",
              "      <td>Publié: il y a 4 mois</td>\n",
              "      <td>https://www.sarouty.ma/acheter/appartement-a-v...</td>\n",
              "    </tr>\n",
              "  </tbody>\n",
              "</table>\n",
              "</div>"
            ],
            "text/plain": [
              "       Prix  ...                                               lien\n",
              "0   4700000  ...  https://www.sarouty.ma/acheter/appartement-a-v...\n",
              "1   5700000  ...  https://www.sarouty.ma/acheter/duplex-a-vendre...\n",
              "2   3600000  ...  https://www.sarouty.ma/acheter/appartement-a-v...\n",
              "3   2200000  ...  https://www.sarouty.ma/acheter/appartement-a-v...\n",
              "5   5500000  ...  https://www.sarouty.ma/acheter/appartement-a-v...\n",
              "6   3400000  ...  https://www.sarouty.ma/acheter/appartement-a-v...\n",
              "8   4650000  ...  https://www.sarouty.ma/acheter/appartement-a-v...\n",
              "9   3800000  ...  https://www.sarouty.ma/acheter/appartement-a-v...\n",
              "10  4770000  ...  https://www.sarouty.ma/acheter/appartement-a-v...\n",
              "11  3400000  ...  https://www.sarouty.ma/acheter/appartement-a-v...\n",
              "12  3200000  ...  https://www.sarouty.ma/acheter/appartement-a-v...\n",
              "13  3500000  ...  https://www.sarouty.ma/acheter/appartement-a-v...\n",
              "14  4600000  ...  https://www.sarouty.ma/acheter/appartement-a-v...\n",
              "16  3600000  ...  https://www.sarouty.ma/acheter/appartement-a-v...\n",
              "17  3100000  ...  https://www.sarouty.ma/acheter/appartement-a-v...\n",
              "\n",
              "[15 rows x 13 columns]"
            ]
          },
          "metadata": {
            "tags": []
          },
          "execution_count": 21
        }
      ]
    },
    {
      "cell_type": "code",
      "metadata": {
        "colab": {
          "base_uri": "https://localhost:8080/"
        },
        "id": "HP4DtW4-KPSz",
        "outputId": "0d486bd4-45ad-4a8c-d999-cba188d0b726"
      },
      "source": [
        "print(inc.info())\n",
        "print(\"Description DF :\\n\",inc.describe())\n",
        "inc.Pièces = pd.to_numeric(inc.Pièces)\n",
        "inc.Type = pd.to_numeric(inc.Type)\n",
        "inc.Mobiliers = pd.to_numeric(inc.Mobiliers)\n",
        "print (\"type:\\n\",inc.Pièces.unique())"
      ],
      "execution_count": 28,
      "outputs": [
        {
          "output_type": "stream",
          "text": [
            "<class 'pandas.core.frame.DataFrame'>\n",
            "Int64Index: 90 entries, 0 to 295\n",
            "Data columns (total 13 columns):\n",
            " #   Column           Non-Null Count  Dtype  \n",
            "---  ------           --------------  -----  \n",
            " 0   Prix             90 non-null     int64  \n",
            " 1   Type             90 non-null     int64  \n",
            " 2   Référence        90 non-null     object \n",
            " 3   Pièces           90 non-null     int64  \n",
            " 4   Salles de bains  90 non-null     float64\n",
            " 5   Mobiliers        90 non-null     float64\n",
            " 6   Surface          90 non-null     int64  \n",
            " 7   Installation     90 non-null     object \n",
            " 8   Agent            90 non-null     object \n",
            " 9   Societe          90 non-null     object \n",
            " 10  Description      90 non-null     object \n",
            " 11  Publication      90 non-null     object \n",
            " 12  lien             90 non-null     object \n",
            "dtypes: float64(2), int64(4), object(7)\n",
            "memory usage: 9.8+ KB\n",
            "None\n",
            "Description DF :\n",
            "                Prix       Type  ...  Mobiliers     Surface\n",
            "count  9.000000e+01  90.000000  ...  90.000000   90.000000\n",
            "mean   3.507194e+06   0.044444  ...   0.111111  180.377778\n",
            "std    1.458764e+06   0.207235  ...   0.316030   67.700859\n",
            "min    1.300000e+06   0.000000  ...   0.000000   50.000000\n",
            "25%    2.600000e+06   0.000000  ...   0.000000  140.000000\n",
            "50%    3.200000e+06   0.000000  ...   0.000000  163.500000\n",
            "75%    4.187500e+06   0.000000  ...   0.000000  225.500000\n",
            "max    1.160000e+07   1.000000  ...   1.000000  431.000000\n",
            "\n",
            "[8 rows x 6 columns]\n",
            "type:\n",
            " [6 7 3 1 2 4 8]\n"
          ],
          "name": "stdout"
        }
      ]
    },
    {
      "cell_type": "code",
      "metadata": {
        "colab": {
          "base_uri": "https://localhost:8080/",
          "height": 1000
        },
        "id": "NX5mOCWQLKK0",
        "outputId": "cab7cbbb-735b-4e90-ab8c-82fbbe939c16"
      },
      "source": [
        "#Analyse descriptive\n",
        "\n",
        "import matplotlib.pyplot as plt\n",
        "\n",
        "print(inc.info())\n",
        "print(\"Description DF :\\n\",inc.describe())\n",
        "\n",
        "pd.plotting.scatter_matrix(inc, diagonal='kde')"
      ],
      "execution_count": 29,
      "outputs": [
        {
          "output_type": "stream",
          "text": [
            "<class 'pandas.core.frame.DataFrame'>\n",
            "Int64Index: 90 entries, 0 to 295\n",
            "Data columns (total 13 columns):\n",
            " #   Column           Non-Null Count  Dtype  \n",
            "---  ------           --------------  -----  \n",
            " 0   Prix             90 non-null     int64  \n",
            " 1   Type             90 non-null     int64  \n",
            " 2   Référence        90 non-null     object \n",
            " 3   Pièces           90 non-null     int64  \n",
            " 4   Salles de bains  90 non-null     float64\n",
            " 5   Mobiliers        90 non-null     float64\n",
            " 6   Surface          90 non-null     int64  \n",
            " 7   Installation     90 non-null     object \n",
            " 8   Agent            90 non-null     object \n",
            " 9   Societe          90 non-null     object \n",
            " 10  Description      90 non-null     object \n",
            " 11  Publication      90 non-null     object \n",
            " 12  lien             90 non-null     object \n",
            "dtypes: float64(2), int64(4), object(7)\n",
            "memory usage: 9.8+ KB\n",
            "None\n",
            "Description DF :\n",
            "                Prix       Type  ...  Mobiliers     Surface\n",
            "count  9.000000e+01  90.000000  ...  90.000000   90.000000\n",
            "mean   3.507194e+06   0.044444  ...   0.111111  180.377778\n",
            "std    1.458764e+06   0.207235  ...   0.316030   67.700859\n",
            "min    1.300000e+06   0.000000  ...   0.000000   50.000000\n",
            "25%    2.600000e+06   0.000000  ...   0.000000  140.000000\n",
            "50%    3.200000e+06   0.000000  ...   0.000000  163.500000\n",
            "75%    4.187500e+06   0.000000  ...   0.000000  225.500000\n",
            "max    1.160000e+07   1.000000  ...   1.000000  431.000000\n",
            "\n",
            "[8 rows x 6 columns]\n"
          ],
          "name": "stdout"
        },
        {
          "output_type": "execute_result",
          "data": {
            "text/plain": [
              "array([[<matplotlib.axes._subplots.AxesSubplot object at 0x7f503bcf92e8>,\n",
              "        <matplotlib.axes._subplots.AxesSubplot object at 0x7f503bc51588>,\n",
              "        <matplotlib.axes._subplots.AxesSubplot object at 0x7f503bc087f0>,\n",
              "        <matplotlib.axes._subplots.AxesSubplot object at 0x7f503bc3ba58>,\n",
              "        <matplotlib.axes._subplots.AxesSubplot object at 0x7f503bbeecc0>,\n",
              "        <matplotlib.axes._subplots.AxesSubplot object at 0x7f503bba5f28>],\n",
              "       [<matplotlib.axes._subplots.AxesSubplot object at 0x7f503bb621d0>,\n",
              "        <matplotlib.axes._subplots.AxesSubplot object at 0x7f503bb16400>,\n",
              "        <matplotlib.axes._subplots.AxesSubplot object at 0x7f503bb16470>,\n",
              "        <matplotlib.axes._subplots.AxesSubplot object at 0x7f503bafc908>,\n",
              "        <matplotlib.axes._subplots.AxesSubplot object at 0x7f503bab1b70>,\n",
              "        <matplotlib.axes._subplots.AxesSubplot object at 0x7f503ba63dd8>],\n",
              "       [<matplotlib.axes._subplots.AxesSubplot object at 0x7f503ba29080>,\n",
              "        <matplotlib.axes._subplots.AxesSubplot object at 0x7f503b9d82e8>,\n",
              "        <matplotlib.axes._subplots.AxesSubplot object at 0x7f503b98c550>,\n",
              "        <matplotlib.axes._subplots.AxesSubplot object at 0x7f503b9be7b8>,\n",
              "        <matplotlib.axes._subplots.AxesSubplot object at 0x7f503b9729e8>,\n",
              "        <matplotlib.axes._subplots.AxesSubplot object at 0x7f503b922c50>],\n",
              "       [<matplotlib.axes._subplots.AxesSubplot object at 0x7f503b8d8eb8>,\n",
              "        <matplotlib.axes._subplots.AxesSubplot object at 0x7f503b898160>,\n",
              "        <matplotlib.axes._subplots.AxesSubplot object at 0x7f503b84a3c8>,\n",
              "        <matplotlib.axes._subplots.AxesSubplot object at 0x7f503b87d630>,\n",
              "        <matplotlib.axes._subplots.AxesSubplot object at 0x7f503b830898>,\n",
              "        <matplotlib.axes._subplots.AxesSubplot object at 0x7f503b7e5b00>],\n",
              "       [<matplotlib.axes._subplots.AxesSubplot object at 0x7f503bc5f4a8>,\n",
              "        <matplotlib.axes._subplots.AxesSubplot object at 0x7f503bb34f98>,\n",
              "        <matplotlib.axes._subplots.AxesSubplot object at 0x7f503b996ba8>,\n",
              "        <matplotlib.axes._subplots.AxesSubplot object at 0x7f503b809240>,\n",
              "        <matplotlib.axes._subplots.AxesSubplot object at 0x7f503b6e02e8>,\n",
              "        <matplotlib.axes._subplots.AxesSubplot object at 0x7f503b693550>],\n",
              "       [<matplotlib.axes._subplots.AxesSubplot object at 0x7f503b6477b8>,\n",
              "        <matplotlib.axes._subplots.AxesSubplot object at 0x7f503b67ba20>,\n",
              "        <matplotlib.axes._subplots.AxesSubplot object at 0x7f503b62ec88>,\n",
              "        <matplotlib.axes._subplots.AxesSubplot object at 0x7f503b5e0ef0>,\n",
              "        <matplotlib.axes._subplots.AxesSubplot object at 0x7f503b5a3198>,\n",
              "        <matplotlib.axes._subplots.AxesSubplot object at 0x7f503b553400>]],\n",
              "      dtype=object)"
            ]
          },
          "metadata": {
            "tags": []
          },
          "execution_count": 29
        },
        {
          "output_type": "display_data",
          "data": {
            "image/png": "[encoded data removed]",
            "text/plain": [
              "<Figure size 432x288 with 36 Axes>"
            ]
          },
          "metadata": {
            "tags": [],
            "needs_background": "light"
          }
        }
      ]
    },
    {
      "cell_type": "code",
      "metadata": {
        "id": "ex-ssmKJOVOY"
      },
      "source": [
        "from sklearn.model_selection import train_test_split\n",
        "\n",
        "X = inc[['Type','Pièces',\n",
        "        'Salles de bains','Mobiliers','Surface']]\n",
        "\n",
        "y = inc['Prix']\n",
        "\n",
        "X_train, X_test, y_train, y_test = train_test_split(X, y, test_size=0.3)\n"
      ],
      "execution_count": 30,
      "outputs": []
    },
    {
      "cell_type": "code",
      "metadata": {
        "colab": {
          "base_uri": "https://localhost:8080/",
          "height": 289
        },
        "id": "jMlG3LI2OoqD",
        "outputId": "0899829c-fec9-4626-c3a0-095d89eda5d1"
      },
      "source": [
        "#Modélisation\n",
        "#On va utiliser la régression logistique\n",
        "import numpy as np\n",
        "from sklearn.linear_model import LogisticRegression\n",
        "\n",
        "\n",
        "clf = LogisticRegression(max_iter=1200,penalty='none')\n",
        "clf.fit(X.iloc[:, :2],y)\n",
        "clf.score(X.iloc[:, :2],y)\n",
        "pred = clf.predict(X.iloc[:, :2])\n",
        "\n",
        "from sklearn.datasets import make_classification\n",
        "import matplotlib.pyplot as plt\n",
        "\n",
        "\n",
        "plt.plot(pred,y)\n",
        "plt.show()"
      ],
      "execution_count": 32,
      "outputs": [
        {
          "output_type": "display_data",
          "data": {
            "image/png": "[encoded data removed]",
            "text/plain": [
              "<Figure size 432x288 with 1 Axes>"
            ]
          },
          "metadata": {
            "tags": [],
            "needs_background": "light"
          }
        }
      ]
    },
    {
      "cell_type": "code",
      "metadata": {
        "colab": {
          "base_uri": "https://localhost:8080/",
          "height": 281
        },
        "id": "WQUqyNkkO-MW",
        "outputId": "390092a6-c524-4c18-ad71-459681e7ec8c"
      },
      "source": [
        "#Modélisation\n",
        "#On va utiliser la KNN car les variables explicatives sont catégoriques et donc on peut détecter un pattern en utilisant KNN\n",
        "\n",
        "\n",
        "from sklearn import model_selection\n",
        "from sklearn.neighbors import KNeighborsClassifier\n",
        "\n",
        "X_train, X_test, y_train, y_test = model_selection.train_test_split(X, y,\n",
        "            test_size=0.3, random_state=0)\n",
        "\n",
        "clf = KNeighborsClassifier(n_neighbors = 5)\n",
        "clf = clf.fit(X_train, y_train)\n",
        "\n",
        "rows = []\n",
        "\n",
        "for nnei in range(1,30):\n",
        "    clf = KNeighborsClassifier(n_neighbors = nnei)\n",
        "    clf = clf.fit(X_train, y_train)\n",
        "    rows.append([nnei,clf.score(X_train, y_train), clf.score(X_test, y_test)])\n",
        "res_scores = pd.DataFrame(rows, columns=[\"n_neighbors\",\"train_score\", \"test_score\"])\n",
        "\n",
        "res_scores.plot(kind=\"line\",x=\"n_neighbors\",y=\"train_score\")\n",
        "plt.plot(res_scores[\"n_neighbors\"],res_scores[\"test_score\"], label = \"test_score\")\n",
        "plt.xlabel('n_neighbors')\n",
        "plt.ylabel('score')\n",
        "plt.legend()\n",
        "plt.show()"
      ],
      "execution_count": 40,
      "outputs": [
        {
          "output_type": "display_data",
          "data": {
            "image/png": "[encoded data removed]",
            "text/plain": [
              "<Figure size 432x288 with 1 Axes>"
            ]
          },
          "metadata": {
            "tags": [],
            "needs_background": "light"
          }
        }
      ]
    },
    {
      "cell_type": "code",
      "metadata": {
        "colab": {
          "base_uri": "https://localhost:8080/",
          "height": 281
        },
        "id": "Ys7CF988PEUF",
        "outputId": "6b582b1e-16ad-49f9-8c5e-484ba3066ecc"
      },
      "source": [
        "# On va faire la normalisation\n",
        "\n",
        "from sklearn.preprocessing import StandardScaler\n",
        "from sklearn.preprocessing import MinMaxScaler\n",
        "\n",
        "X_train, X_test, y_train, y_test = model_selection.train_test_split(X, y,\n",
        "            test_size=0.3, random_state=0)\n",
        "\n",
        "scaler = MinMaxScaler()\n",
        "#scaler = StandardScaler()\n",
        "\n",
        "X_train = scaler.fit_transform(X_train)\n",
        "X_test = scaler.transform(X_test)\n",
        "\n",
        "rows = []\n",
        "\n",
        "for nnei in range(1,30):\n",
        "    clf = KNeighborsClassifier(n_neighbors = nnei)\n",
        "    clf = clf.fit(X_train, y_train)\n",
        "    rows.append([nnei,clf.score(X_train, y_train), clf.score(X_test, y_test)])\n",
        "\n",
        "\n",
        "res_scores = pd.DataFrame(rows, columns=[\"n_neighbors\",\"train_score\", \"test_score\"])\n",
        "\n",
        "res_scores.plot(kind=\"line\",x=\"n_neighbors\",y=\"train_score\")\n",
        "\n",
        "plt.plot(res_scores[\"n_neighbors\"],res_scores[\"test_score\"], label = \"test_score\")\n",
        "\n",
        "plt.xlabel('n_neighbors')\n",
        "plt.ylabel('score')\n",
        "plt.legend()\n",
        "plt.show()"
      ],
      "execution_count": 41,
      "outputs": [
        {
          "output_type": "display_data",
          "data": {
            "image/png": "[encoded data removed]",
            "text/plain": [
              "<Figure size 432x288 with 1 Axes>"
            ]
          },
          "metadata": {
            "tags": [],
            "needs_background": "light"
          }
        }
      ]
    },
    {
      "cell_type": "code",
      "metadata": {
        "colab": {
          "base_uri": "https://localhost:8080/"
        },
        "id": "I9RrTAg2PKTV",
        "outputId": "dfde83f9-5633-43d0-df2a-786b5e8a3a8d"
      },
      "source": [
        "clf.score(X_train, y_train)"
      ],
      "execution_count": 42,
      "outputs": [
        {
          "output_type": "execute_result",
          "data": {
            "text/plain": [
              "0.15873015873015872"
            ]
          },
          "metadata": {
            "tags": []
          },
          "execution_count": 42
        }
      ]
    },
    {
      "cell_type": "code",
      "metadata": {
        "colab": {
          "base_uri": "https://localhost:8080/"
        },
        "id": "mnRdV8isPP__",
        "outputId": "bd062f76-2d80-4592-ad36-68b75dffa14c"
      },
      "source": [
        "clf.score(X_test, y_test)"
      ],
      "execution_count": 44,
      "outputs": [
        {
          "output_type": "execute_result",
          "data": {
            "text/plain": [
              "0.07407407407407407"
            ]
          },
          "metadata": {
            "tags": []
          },
          "execution_count": 44
        }
      ]
    },
    {
      "cell_type": "code",
      "metadata": {
        "colab": {
          "base_uri": "https://localhost:8080/",
          "height": 802
        },
        "id": "BnuouGikPcfG",
        "outputId": "8bac841b-8c9c-46dc-c252-b12b314ec9b3"
      },
      "source": [
        "rows = []\n",
        "\n",
        "for nnei in range(1,30):\n",
        "    clf = KNeighborsClassifier(n_neighbors = nnei,p=nnei)\n",
        "    clf = clf.fit(X_train, y_train)\n",
        "    rows.append([nnei,clf.score(X_train, y_train), clf.score(X_test, y_test)])\n",
        "\n",
        "\n",
        "res_scores = pd.DataFrame(rows, columns=[\"n_neighbors\",\"train_score\", \"test_score\"])\n",
        "print(res_scores)\n",
        "\n",
        "res_scores.plot(kind=\"line\",x=\"n_neighbors\",y=\"train_score\")\n",
        "\n",
        "plt.plot(res_scores[\"n_neighbors\"],res_scores[\"test_score\"], label = \"test_score\")\n",
        "\n",
        "plt.xlabel('n_neighbors')\n",
        "plt.ylabel('score')\n",
        "plt.legend()\n",
        "plt.show()"
      ],
      "execution_count": 45,
      "outputs": [
        {
          "output_type": "stream",
          "text": [
            "    n_neighbors  train_score  test_score\n",
            "0             1     0.968254    0.074074\n",
            "1             2     0.507937    0.000000\n",
            "2             3     0.333333    0.000000\n",
            "3             4     0.253968    0.037037\n",
            "4             5     0.206349    0.074074\n",
            "5             6     0.206349    0.074074\n",
            "6             7     0.190476    0.074074\n",
            "7             8     0.190476    0.074074\n",
            "8             9     0.206349    0.074074\n",
            "9            10     0.174603    0.074074\n",
            "10           11     0.190476    0.074074\n",
            "11           12     0.190476    0.074074\n",
            "12           13     0.174603    0.148148\n",
            "13           14     0.126984    0.148148\n",
            "14           15     0.126984    0.111111\n",
            "15           16     0.126984    0.111111\n",
            "16           17     0.111111    0.111111\n",
            "17           18     0.142857    0.037037\n",
            "18           19     0.158730    0.037037\n",
            "19           20     0.174603    0.037037\n",
            "20           21     0.142857    0.037037\n",
            "21           22     0.142857    0.037037\n",
            "22           23     0.142857    0.037037\n",
            "23           24     0.142857    0.037037\n",
            "24           25     0.126984    0.037037\n",
            "25           26     0.142857    0.000000\n",
            "26           27     0.158730    0.000000\n",
            "27           28     0.142857    0.037037\n",
            "28           29     0.142857    0.037037\n"
          ],
          "name": "stdout"
        },
        {
          "output_type": "display_data",
          "data": {
            "image/png": "[encoded data removed]",
            "text/plain": [
              "<Figure size 432x288 with 1 Axes>"
            ]
          },
          "metadata": {
            "tags": [],
            "needs_background": "light"
          }
        }
      ]
    },
    {
      "cell_type": "code",
      "metadata": {
        "id": "z8iysbV7PoZc"
      },
      "source": [
        ""
      ],
      "execution_count": null,
      "outputs": []
    }
  ]
}