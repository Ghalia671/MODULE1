{
  "nbformat": 4,
  "nbformat_minor": 0,
  "metadata": {
    "colab": {
      "name": "Ghalia -  3.2 GNB LDA QDA.ipynb",
      "provenance": [],
      "collapsed_sections": [],
      "toc_visible": true,
      "include_colab_link": true
    },
    "kernelspec": {
      "name": "python3",
      "display_name": "Python 3"
    }
  },
  "cells": [
    {
      "cell_type": "markdown",
      "metadata": {
        "id": "view-in-github",
        "colab_type": "text"
      },
      "source": [
        "<a href=\"https://colab.research.google.com/github/Ghalia671/MODULE1/blob/master/Ghalia_3_2_GNB_LDA_QDA.ipynb\" target=\"_parent\"><img src=\"https://colab.research.google.com/assets/colab-badge.svg\" alt=\"Open In Colab\"/></a>"
      ]
    },
    {
      "cell_type": "markdown",
      "metadata": {
        "id": "8eJ72tiHIO9c"
      },
      "source": [
        "# Données linéaires"
      ]
    },
    {
      "cell_type": "markdown",
      "metadata": {
        "id": "jaAOS-ppB7IJ"
      },
      "source": [
        "## Données simulées"
      ]
    },
    {
      "cell_type": "code",
      "metadata": {
        "id": "Ba37Xv_M6zpE"
      },
      "source": [
        "import numpy as np\n",
        "import matplotlib.pyplot as plt\n",
        "from sklearn import linear_model\n"
      ],
      "execution_count": 3,
      "outputs": []
    },
    {
      "cell_type": "code",
      "metadata": {
        "id": "POfQ25CPPpvg"
      },
      "source": [
        "from sklearn.datasets import make_blobs\n",
        "X, y = make_blobs(n_samples=20, centers=2, n_features=1,\n",
        "                  random_state=0)"
      ],
      "execution_count": 4,
      "outputs": []
    },
    {
      "cell_type": "code",
      "metadata": {
        "id": "XW9ELj2k65_k"
      },
      "source": [
        "n_samples=20\n",
        "\n",
        "X=np.concatenate((np.random.normal(loc=2, scale=1.0, size=n_samples),\n",
        "                  np.random.normal(loc=5.0, scale=1.0, size=n_samples))).reshape(-1,1)\n",
        "y=np.concatenate((np.repeat(0,n_samples),np.repeat(1,n_samples)))\n"
      ],
      "execution_count": 5,
      "outputs": []
    },
    {
      "cell_type": "code",
      "metadata": {
        "id": "-V0Ho1PT68jN",
        "outputId": "a63387a3-6814-4597-d963-6af97304df08",
        "colab": {
          "base_uri": "https://localhost:8080/",
          "height": 282
        }
      },
      "source": [
        "plt.scatter(X,y,c=y)"
      ],
      "execution_count": 6,
      "outputs": [
        {
          "output_type": "execute_result",
          "data": {
            "text/plain": [
              "<matplotlib.collections.PathCollection at 0x7f38811bb6a0>"
            ]
          },
          "metadata": {
            "tags": []
          },
          "execution_count": 6
        },
        {
          "output_type": "display_data",
          "data": {
            "image/png": "[encoded data removed]",
            "text/plain": [
              "<Figure size 432x288 with 1 Axes>"
            ]
          },
          "metadata": {
            "tags": [],
            "needs_background": "light"
          }
        }
      ]
    },
    {
      "cell_type": "markdown",
      "metadata": {
        "id": "AhxpBT2ZJGqo"
      },
      "source": [
        "## Gaussian NB"
      ]
    },
    {
      "cell_type": "code",
      "metadata": {
        "id": "6ZR8OelEKdTq",
        "outputId": "fb547563-7e50-4690-9e88-5c6357936a37",
        "colab": {
          "base_uri": "https://localhost:8080/",
          "height": 34
        }
      },
      "source": [
        "from sklearn.naive_bayes import GaussianNB\n",
        "gnb = GaussianNB()\n",
        "gnb.fit(X, y)\n"
      ],
      "execution_count": 7,
      "outputs": [
        {
          "output_type": "execute_result",
          "data": {
            "text/plain": [
              "GaussianNB(priors=None, var_smoothing=1e-09)"
            ]
          },
          "metadata": {
            "tags": []
          },
          "execution_count": 7
        }
      ]
    },
    {
      "cell_type": "code",
      "metadata": {
        "id": "dn2Kw-YJMQgu",
        "outputId": "7167d8d4-68c1-4ede-fdf8-1cbfb2635fce",
        "colab": {
          "base_uri": "https://localhost:8080/",
          "height": 712
        }
      },
      "source": [
        "gnb.predict_proba(X.reshape(-1,1))"
      ],
      "execution_count": 8,
      "outputs": [
        {
          "output_type": "execute_result",
          "data": {
            "text/plain": [
              "array([[9.98579671e-01, 1.42032949e-03],\n",
              "       [9.99962586e-01, 3.74143939e-05],\n",
              "       [6.26927823e-01, 3.73072177e-01],\n",
              "       [9.99982606e-01, 1.73935520e-05],\n",
              "       [9.99626696e-01, 3.73304355e-04],\n",
              "       [9.99977515e-01, 2.24845901e-05],\n",
              "       [9.94768619e-01, 5.23138081e-03],\n",
              "       [9.98881988e-01, 1.11801177e-03],\n",
              "       [9.97306381e-01, 2.69361910e-03],\n",
              "       [9.99971975e-01, 2.80254161e-05],\n",
              "       [9.99881966e-01, 1.18033983e-04],\n",
              "       [9.98511931e-01, 1.48806894e-03],\n",
              "       [6.19401219e-01, 3.80598781e-01],\n",
              "       [9.99999999e-01, 1.03090786e-09],\n",
              "       [6.39686741e-01, 3.60313259e-01],\n",
              "       [8.83429608e-01, 1.16570392e-01],\n",
              "       [6.22111405e-01, 3.77888595e-01],\n",
              "       [9.88690971e-01, 1.13090290e-02],\n",
              "       [9.99977022e-01, 2.29775504e-05],\n",
              "       [9.84075563e-01, 1.59244367e-02],\n",
              "       [3.30581325e-04, 9.99669419e-01],\n",
              "       [1.03186619e-03, 9.98968134e-01],\n",
              "       [7.18778622e-03, 9.92812214e-01],\n",
              "       [8.64061851e-02, 9.13593815e-01],\n",
              "       [5.67798312e-02, 9.43220169e-01],\n",
              "       [2.49305840e-01, 7.50694160e-01],\n",
              "       [3.45219924e-03, 9.96547801e-01],\n",
              "       [2.13930987e-02, 9.78606901e-01],\n",
              "       [5.75540061e-03, 9.94244599e-01],\n",
              "       [2.37741903e-03, 9.97622581e-01],\n",
              "       [1.91320370e-02, 9.80867963e-01],\n",
              "       [1.04969080e-01, 8.95030920e-01],\n",
              "       [9.02385280e-01, 9.76147201e-02],\n",
              "       [8.19192715e-04, 9.99180807e-01],\n",
              "       [7.48222975e-03, 9.92517770e-01],\n",
              "       [6.33407433e-02, 9.36659257e-01],\n",
              "       [7.61327008e-03, 9.92386730e-01],\n",
              "       [1.77782355e-02, 9.82221764e-01],\n",
              "       [5.20486391e-02, 9.47951361e-01],\n",
              "       [8.64718343e-03, 9.91352817e-01]])"
            ]
          },
          "metadata": {
            "tags": []
          },
          "execution_count": 8
        }
      ]
    },
    {
      "cell_type": "code",
      "metadata": {
        "id": "hnW2WVU6JXZE"
      },
      "source": [
        "X_test = np.linspace(-1, 8, 300).reshape(-1,1)\n"
      ],
      "execution_count": 9,
      "outputs": []
    },
    {
      "cell_type": "code",
      "metadata": {
        "id": "63Imy94WJLsr",
        "outputId": "cd0e0d02-7d48-4485-ad98-82c23873726d",
        "colab": {
          "base_uri": "https://localhost:8080/",
          "height": 279
        }
      },
      "source": [
        "\n",
        "plt.scatter(X,y)\n",
        "\n",
        "plt.plot(X_test, gnb.predict_proba(X_test.reshape(-1,1))[:,1],color=\"black\")\n",
        "\n",
        "plt.ylabel('y')\n",
        "plt.xlabel('X')\n",
        "\n",
        "plt.axhline(.5, color='.5')\n",
        "plt.show()"
      ],
      "execution_count": 10,
      "outputs": [
        {
          "output_type": "display_data",
          "data": {
            "image/png": "[encoded data removed]",
            "text/plain": [
              "<Figure size 432x288 with 1 Axes>"
            ]
          },
          "metadata": {
            "tags": [],
            "needs_background": "light"
          }
        }
      ]
    },
    {
      "cell_type": "code",
      "metadata": {
        "id": "iFvj9Hax19wb",
        "outputId": "e85f23fd-4d8f-4063-86ff-51add6518e81",
        "colab": {
          "base_uri": "https://localhost:8080/",
          "height": 52
        }
      },
      "source": [
        "gnb.theta_"
      ],
      "execution_count": 11,
      "outputs": [
        {
          "output_type": "execute_result",
          "data": {
            "text/plain": [
              "array([[2.01246077],\n",
              "       [5.09863848]])"
            ]
          },
          "metadata": {
            "tags": []
          },
          "execution_count": 11
        }
      ]
    },
    {
      "cell_type": "code",
      "metadata": {
        "id": "ZKaty1UP1BpU",
        "outputId": "1863a338-a19d-457f-bcaa-c863ac96986b",
        "colab": {
          "base_uri": "https://localhost:8080/",
          "height": 52
        }
      },
      "source": [
        "gnb.sigma_"
      ],
      "execution_count": 12,
      "outputs": [
        {
          "output_type": "execute_result",
          "data": {
            "text/plain": [
              "array([[1.1790426 ],\n",
              "       [0.71668995]])"
            ]
          },
          "metadata": {
            "tags": []
          },
          "execution_count": 12
        }
      ]
    },
    {
      "cell_type": "markdown",
      "metadata": {
        "id": "ZeAMP_hALhaP"
      },
      "source": [
        "## LDA"
      ]
    },
    {
      "cell_type": "code",
      "metadata": {
        "id": "B4GWujUFLim2",
        "outputId": "45af9a5d-3148-4f93-95ac-7a8c87509467",
        "colab": {
          "base_uri": "https://localhost:8080/",
          "height": 52
        }
      },
      "source": [
        "from sklearn.discriminant_analysis import LinearDiscriminantAnalysis\n",
        "lda = LinearDiscriminantAnalysis(store_covariance=True)\n",
        "lda.fit(X, y)\n"
      ],
      "execution_count": 13,
      "outputs": [
        {
          "output_type": "execute_result",
          "data": {
            "text/plain": [
              "LinearDiscriminantAnalysis(n_components=None, priors=None, shrinkage=None,\n",
              "                           solver='svd', store_covariance=True, tol=0.0001)"
            ]
          },
          "metadata": {
            "tags": []
          },
          "execution_count": 13
        }
      ]
    },
    {
      "cell_type": "code",
      "metadata": {
        "id": "hi31cW_xLuFe",
        "outputId": "31afa5e4-dcb2-423a-a08a-80203be6fb3d",
        "colab": {
          "base_uri": "https://localhost:8080/",
          "height": 279
        }
      },
      "source": [
        "plt.scatter(X,y)\n",
        "X_test = np.linspace(-1, 8, 300).reshape(-1,1)\n",
        "\n",
        "plt.plot(X_test, gnb.predict_proba(X_test.reshape(-1,1))[:,1],color=\"black\")\n",
        "plt.plot(X_test, lda.predict_proba(X_test.reshape(-1,1))[:,1],color=\"green\")\n",
        "\n",
        "plt.ylabel('y')\n",
        "plt.xlabel('X')\n",
        "\n",
        "plt.axhline(.5, color='.5')\n",
        "plt.show()"
      ],
      "execution_count": 14,
      "outputs": [
        {
          "output_type": "display_data",
          "data": {
            "image/png": "[encoded data removed]",
            "text/plain": [
              "<Figure size 432x288 with 1 Axes>"
            ]
          },
          "metadata": {
            "tags": [],
            "needs_background": "light"
          }
        }
      ]
    },
    {
      "cell_type": "code",
      "metadata": {
        "id": "0z-TBAejtGTS",
        "outputId": "626b8f07-1b77-4ec9-f33f-066940a359fb",
        "colab": {
          "base_uri": "https://localhost:8080/",
          "height": 52
        }
      },
      "source": [
        "lda.means_"
      ],
      "execution_count": 15,
      "outputs": [
        {
          "output_type": "execute_result",
          "data": {
            "text/plain": [
              "array([[2.01246077],\n",
              "       [5.09863848]])"
            ]
          },
          "metadata": {
            "tags": []
          },
          "execution_count": 15
        }
      ]
    },
    {
      "cell_type": "code",
      "metadata": {
        "id": "YLErb2dMtKPh",
        "outputId": "78f45e09-775c-41c8-fc44-676870d2e6eb",
        "colab": {
          "base_uri": "https://localhost:8080/",
          "height": 34
        }
      },
      "source": [
        "lda.covariance_"
      ],
      "execution_count": 16,
      "outputs": [
        {
          "output_type": "execute_result",
          "data": {
            "text/plain": [
              "array([[0.94786627]])"
            ]
          },
          "metadata": {
            "tags": []
          },
          "execution_count": 16
        }
      ]
    },
    {
      "cell_type": "markdown",
      "metadata": {
        "id": "WbX5AWPv01pa"
      },
      "source": [
        "Estimation à la main"
      ]
    },
    {
      "cell_type": "code",
      "metadata": {
        "id": "fwAUa8PjtwpO",
        "outputId": "9299f33c-8c58-42e7-8ed4-fc3f2d2cb6cd",
        "colab": {
          "base_uri": "https://localhost:8080/",
          "height": 34
        }
      },
      "source": [
        "stdm=(X[y==1].std(ddof=1)+X[y==0].std(ddof=1))/2\n",
        "\n",
        "X[y==1].mean()"
      ],
      "execution_count": 17,
      "outputs": [
        {
          "output_type": "execute_result",
          "data": {
            "text/plain": [
              "5.098638481844649"
            ]
          },
          "metadata": {
            "tags": []
          },
          "execution_count": 17
        }
      ]
    },
    {
      "cell_type": "code",
      "metadata": {
        "id": "Jv9AA60mt2fd",
        "outputId": "6beb9450-4daf-4b19-9f53-2e1b11e40190",
        "colab": {
          "base_uri": "https://localhost:8080/",
          "height": 34
        }
      },
      "source": [
        "stdm"
      ],
      "execution_count": 18,
      "outputs": [
        {
          "output_type": "execute_result",
          "data": {
            "text/plain": [
              "0.9913067987793829"
            ]
          },
          "metadata": {
            "tags": []
          },
          "execution_count": 18
        }
      ]
    },
    {
      "cell_type": "markdown",
      "metadata": {
        "id": "q4iWWC-eWXD6"
      },
      "source": [
        "## QDA"
      ]
    },
    {
      "cell_type": "code",
      "metadata": {
        "id": "E32qEf3dWYNi",
        "outputId": "ca8f3cee-2d09-4b51-e74a-4cb6458acb12",
        "colab": {
          "base_uri": "https://localhost:8080/",
          "height": 52
        }
      },
      "source": [
        "from sklearn.discriminant_analysis import QuadraticDiscriminantAnalysis\n",
        "qda = QuadraticDiscriminantAnalysis(store_covariance=True)\n",
        "qda.fit(X, y)"
      ],
      "execution_count": 19,
      "outputs": [
        {
          "output_type": "execute_result",
          "data": {
            "text/plain": [
              "QuadraticDiscriminantAnalysis(priors=None, reg_param=0.0, store_covariance=True,\n",
              "                              tol=0.0001)"
            ]
          },
          "metadata": {
            "tags": []
          },
          "execution_count": 19
        }
      ]
    },
    {
      "cell_type": "code",
      "metadata": {
        "id": "T4fUH2_8WdCm",
        "outputId": "5e3191ca-954e-4f8a-9e5d-59bebd6251f1",
        "colab": {
          "base_uri": "https://localhost:8080/",
          "height": 606
        }
      },
      "source": [
        "plt.figure(figsize=(10,10))\n",
        "plt.scatter(X,y)\n",
        "X_test = np.linspace(-1, 8, 300).reshape(-1,1)\n",
        "\n",
        "plt.plot(X_test, gnb.predict_proba(X_test.reshape(-1,1))[:,1],color=\"black\")\n",
        "plt.plot(X_test, lda.predict_proba(X_test.reshape(-1,1))[:,1],color=\"green\")\n",
        "plt.plot(X_test, qda.predict_proba(X_test.reshape(-1,1))[:,1],color=\"red\")\n",
        "\n",
        "plt.ylabel('y')\n",
        "plt.xlabel('X')\n",
        "\n",
        "plt.axhline(.5, color='.5')\n",
        "plt.show()"
      ],
      "execution_count": 20,
      "outputs": [
        {
          "output_type": "display_data",
          "data": {
            "image/png": "[encoded data removed]",
            "text/plain": [
              "<Figure size 720x720 with 1 Axes>"
            ]
          },
          "metadata": {
            "tags": [],
            "needs_background": "light"
          }
        }
      ]
    },
    {
      "cell_type": "code",
      "metadata": {
        "id": "fOPTKYg41K0s",
        "outputId": "0e579af6-2590-4a33-b0ae-237bfe2af837",
        "colab": {
          "base_uri": "https://localhost:8080/",
          "height": 34
        }
      },
      "source": [
        "qda.covariance_"
      ],
      "execution_count": 21,
      "outputs": [
        {
          "output_type": "execute_result",
          "data": {
            "text/plain": [
              "[array([[1.24109747]]), array([[0.75441047]])]"
            ]
          },
          "metadata": {
            "tags": []
          },
          "execution_count": 21
        }
      ]
    },
    {
      "cell_type": "code",
      "metadata": {
        "id": "NTloTsQy1SUE",
        "outputId": "e3738e63-59ec-402a-db57-b0036259101c",
        "colab": {
          "base_uri": "https://localhost:8080/",
          "height": 52
        }
      },
      "source": [
        "gnb.sigma_"
      ],
      "execution_count": 22,
      "outputs": [
        {
          "output_type": "execute_result",
          "data": {
            "text/plain": [
              "array([[1.1790426 ],\n",
              "       [0.71668995]])"
            ]
          },
          "metadata": {
            "tags": []
          },
          "execution_count": 22
        }
      ]
    },
    {
      "cell_type": "markdown",
      "metadata": {
        "id": "PjDLb1sxJvcF"
      },
      "source": [
        "## Comparaison avec régression logistique"
      ]
    },
    {
      "cell_type": "markdown",
      "metadata": {
        "id": "-Del-HhIJdWN"
      },
      "source": [
        "**Question** Créer un modèle de régression logistique, et superposer les deux courbes. Que constatez-vous ?"
      ]
    },
    {
      "cell_type": "code",
      "metadata": {
        "id": "ArJ74wjxJqsf",
        "outputId": "92f59f1b-dd8f-4c43-ee37-3e04d3376487",
        "colab": {
          "base_uri": "https://localhost:8080/",
          "height": 265
        }
      },
      "source": [
        "from sklearn.linear_model import LogisticRegression\n",
        "clf = LogisticRegression(max_iter=120)\n",
        "clf.fit(X,y)\n",
        "\n",
        "plt.plot(X,y,color=\"blue\")\n",
        "plt.plot(X_test, lda.predict_proba(X_test.reshape(-1,1))[:,1],color=\"green\")\n",
        "plt.plot(X_test, qda.predict_proba(X_test.reshape(-1,1))[:,1],color=\"red\")\n",
        "plt.show()\n",
        "#je constate que c'est conforme à la réalité"
      ],
      "execution_count": 28,
      "outputs": [
        {
          "output_type": "display_data",
          "data": {
            "image/png": "[encoded data removed]",
            "text/plain": [
              "<Figure size 432x288 with 1 Axes>"
            ]
          },
          "metadata": {
            "tags": [],
            "needs_background": "light"
          }
        }
      ]
    },
    {
      "cell_type": "markdown",
      "metadata": {
        "id": "6QUVMCk-QMdf"
      },
      "source": [
        "# Données non linéaires"
      ]
    },
    {
      "cell_type": "markdown",
      "metadata": {
        "id": "DNX-T4NcQCte"
      },
      "source": [
        "## Données"
      ]
    },
    {
      "cell_type": "code",
      "metadata": {
        "id": "nHJTXB7Ppa0h"
      },
      "source": [
        "import numpy as np\n",
        "import matplotlib.pyplot as plt\n",
        "from sklearn import linear_model\n"
      ],
      "execution_count": 29,
      "outputs": []
    },
    {
      "cell_type": "code",
      "metadata": {
        "id": "1afLoF70pa0p"
      },
      "source": [
        "n_samples=20\n",
        "\n",
        "X=np.concatenate((np.random.normal(loc=2, scale=1.0, size=n_samples),\n",
        "                  np.random.normal(loc=5.0, scale=1.0, size=n_samples),\n",
        "                  np.random.normal(loc=8.0, scale=1.0, size=n_samples))).reshape(-1,1)\n",
        "y=np.concatenate((np.repeat(0,n_samples),np.repeat(1,n_samples),\n",
        "                  np.repeat(0,n_samples)))\n"
      ],
      "execution_count": 30,
      "outputs": []
    },
    {
      "cell_type": "code",
      "metadata": {
        "id": "eD01uYN-pa0r",
        "outputId": "b8099975-5417-49be-8f89-81ab9c6bd3a0",
        "colab": {
          "base_uri": "https://localhost:8080/",
          "height": 282
        }
      },
      "source": [
        "plt.scatter(X,y,c=y)"
      ],
      "execution_count": 31,
      "outputs": [
        {
          "output_type": "execute_result",
          "data": {
            "text/plain": [
              "<matplotlib.collections.PathCollection at 0x7f387df40ba8>"
            ]
          },
          "metadata": {
            "tags": []
          },
          "execution_count": 31
        },
        {
          "output_type": "display_data",
          "data": {
            "image/png": "[encoded data removed]",
            "text/plain": [
              "<Figure size 432x288 with 1 Axes>"
            ]
          },
          "metadata": {
            "tags": [],
            "needs_background": "light"
          }
        }
      ]
    },
    {
      "cell_type": "markdown",
      "metadata": {
        "id": "_yXKNGTnpwLC"
      },
      "source": [
        "## LDA vs QDA"
      ]
    },
    {
      "cell_type": "code",
      "metadata": {
        "id": "RlDd_ClIpyc3",
        "outputId": "54a6dd6c-e4f6-4a5d-d163-54f9abd4f211",
        "colab": {
          "base_uri": "https://localhost:8080/",
          "height": 52
        }
      },
      "source": [
        "from sklearn.discriminant_analysis import QuadraticDiscriminantAnalysis\n",
        "qda = QuadraticDiscriminantAnalysis()\n",
        "qda.fit(X, y)"
      ],
      "execution_count": 32,
      "outputs": [
        {
          "output_type": "execute_result",
          "data": {
            "text/plain": [
              "QuadraticDiscriminantAnalysis(priors=None, reg_param=0.0,\n",
              "                              store_covariance=False, tol=0.0001)"
            ]
          },
          "metadata": {
            "tags": []
          },
          "execution_count": 32
        }
      ]
    },
    {
      "cell_type": "code",
      "metadata": {
        "id": "mtfCmiGfqSSu",
        "outputId": "4497b009-4074-4634-a4dd-85a73d039752",
        "colab": {
          "base_uri": "https://localhost:8080/",
          "height": 52
        }
      },
      "source": [
        "from sklearn.discriminant_analysis import LinearDiscriminantAnalysis\n",
        "lda = LinearDiscriminantAnalysis()\n",
        "lda.fit(X, y)\n"
      ],
      "execution_count": 33,
      "outputs": [
        {
          "output_type": "execute_result",
          "data": {
            "text/plain": [
              "LinearDiscriminantAnalysis(n_components=None, priors=None, shrinkage=None,\n",
              "                           solver='svd', store_covariance=False, tol=0.0001)"
            ]
          },
          "metadata": {
            "tags": []
          },
          "execution_count": 33
        }
      ]
    },
    {
      "cell_type": "code",
      "metadata": {
        "id": "eFg91PYzpyc5",
        "outputId": "c4a13187-fe5b-4c52-b5e8-6b20a1183fa8",
        "colab": {
          "base_uri": "https://localhost:8080/",
          "height": 606
        }
      },
      "source": [
        "plt.figure(figsize=(10,10))\n",
        "plt.scatter(X,y)\n",
        "X_test = np.linspace(-1, 12, 300).reshape(-1,1)\n",
        "\n",
        "plt.plot(X_test, lda.predict_proba(X_test.reshape(-1,1))[:,1],color=\"green\")\n",
        "plt.plot(X_test, qda.predict_proba(X_test.reshape(-1,1))[:,1],color=\"red\")\n",
        "\n",
        "plt.ylabel('y')\n",
        "plt.xlabel('X')\n",
        "\n",
        "plt.axhline(.5, color='.5')\n",
        "plt.show()"
      ],
      "execution_count": 34,
      "outputs": [
        {
          "output_type": "display_data",
          "data": {
            "image/png": "[encoded data removed]",
            "text/plain": [
              "<Figure size 720x720 with 1 Axes>"
            ]
          },
          "metadata": {
            "tags": [],
            "needs_background": "light"
          }
        }
      ]
    },
    {
      "cell_type": "markdown",
      "metadata": {
        "id": "n7cEo-7NCBox"
      },
      "source": [
        "**Question** étudier les écarts-types pris par les deux algorithmes"
      ]
    },
    {
      "cell_type": "code",
      "metadata": {
        "id": "pdKGgPZwCFeR",
        "outputId": "e563a602-ec49-4a4d-d985-3697d2af5444",
        "colab": {
          "base_uri": "https://localhost:8080/",
          "height": 69
        }
      },
      "source": [
        "stdLDA = (X[y==1].std(ddof=1)+X[y==0].std(ddof=1))/2\n",
        "stdQDA_0 = X[y==0].std(ddof=1)\n",
        "stdQDA_1 = X[y==1].std(ddof=1)\n",
        "\n",
        "print(\"Ecart type LDA :\",stdLDA)\n",
        "print(\"Ecart type QDA Cat0 :\",stdQDA_0)\n",
        "print(\"Ecart type QDA Cat1 :\",stdQDA_1)"
      ],
      "execution_count": 37,
      "outputs": [
        {
          "output_type": "stream",
          "text": [
            "Ecart type LDA : 2.102442470374506\n",
            "Ecart type QDA Cat0 : 3.262225466079341\n",
            "Ecart type QDA Cat1 : 0.9426594746696714\n"
          ],
          "name": "stdout"
        }
      ]
    },
    {
      "cell_type": "markdown",
      "metadata": {
        "id": "FUqiYO2rE4CV"
      },
      "source": [
        "**Question** superposer la prédiction de `GaussianNB`."
      ]
    },
    {
      "cell_type": "code",
      "metadata": {
        "id": "ZBbI6TGWE-rj",
        "outputId": "5ecb5c7f-803f-4898-f674-1e5c9713dbfe",
        "colab": {
          "base_uri": "https://localhost:8080/",
          "height": 606
        }
      },
      "source": [
        "plt.figure(figsize=(10,10))\n",
        "plt.scatter(X,y)\n",
        "X_test = np.linspace(-1, 12, 300).reshape(-1,1)\n",
        "\n",
        "plt.plot(X_test, gnb.predict_proba(X_test.reshape(-1,1))[:,1],color=\"black\")\n",
        "plt.plot(X_test, lda.predict_proba(X_test.reshape(-1,1))[:,1],color=\"green\")\n",
        "plt.plot(X_test, qda.predict_proba(X_test.reshape(-1,1))[:,1],color=\"red\")\n",
        "\n",
        "plt.ylabel('y')\n",
        "plt.xlabel('X')\n",
        "\n",
        "plt.axhline(.5, color='.5')\n",
        "plt.show()"
      ],
      "execution_count": 38,
      "outputs": [
        {
          "output_type": "display_data",
          "data": {
            "image/png": "[encoded data removed]",
            "text/plain": [
              "<Figure size 720x720 with 1 Axes>"
            ]
          },
          "metadata": {
            "tags": [],
            "needs_background": "light"
          }
        }
      ]
    }
  ]
}