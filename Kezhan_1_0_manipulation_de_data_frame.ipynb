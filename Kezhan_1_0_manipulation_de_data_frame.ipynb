{
  "nbformat": 4,
  "nbformat_minor": 0,
  "metadata": {
    "colab": {
      "name": "Kezhan -  1.0 manipulation de data frame.ipynb",
      "provenance": [],
      "collapsed_sections": [
        "jtAdvg0nvBte",
        "9AAU_XeGvBti",
        "zRec-uIJagrX",
        "45DTtyNLvBtp",
        "piYw2XyUJlub",
        "N7DtCNoEJluo",
        "tqSBPb6gJlus",
        "11pWtk2WJluw",
        "wB_XjSouJlui",
        "VDrIkGUoJluz",
        "KXXSPrNYJlu8",
        "i0oZEYmqJlvD",
        "XMmHbj_MvBvL"
      ],
      "toc_visible": true,
      "include_colab_link": true
    },
    "kernelspec": {
      "name": "python3",
      "display_name": "Python 3"
    }
  },
  "cells": [
    {
      "cell_type": "markdown",
      "metadata": {
        "id": "view-in-github",
        "colab_type": "text"
      },
      "source": [
        "<a href=\"https://colab.research.google.com/github/Ghalia671/MODULE1/blob/master/Kezhan_1_0_manipulation_de_data_frame.ipynb\" target=\"_parent\"><img src=\"https://colab.research.google.com/assets/colab-badge.svg\" alt=\"Open In Colab\"/></a>"
      ]
    },
    {
      "cell_type": "markdown",
      "metadata": {
        "id": "_dUUq9puJluL"
      },
      "source": [
        "# Description et dimensions"
      ]
    },
    {
      "cell_type": "markdown",
      "metadata": {
        "id": "2fQSBKSpVNe4"
      },
      "source": [
        "importer les données"
      ]
    },
    {
      "cell_type": "code",
      "metadata": {
        "id": "v33I7C2nJluM",
        "outputId": "07e2b794-b79e-4e36-98dd-043f7fbfd725",
        "colab": {
          "base_uri": "https://localhost:8080/",
          "height": 534
        }
      },
      "source": [
        "import pandas as pd\n",
        "import numpy as np\n",
        "\n",
        "url = \"http://dataks.bitbucket.io/titanic/titanic.csv\"\n",
        "df = pd.read_csv(url,sep=\";\")\n",
        "\n",
        "df.head()\n"
      ],
      "execution_count": null,
      "outputs": [
        {
          "output_type": "execute_result",
          "data": {
            "text/html": [
              "<div>\n",
              "<style scoped>\n",
              "    .dataframe tbody tr th:only-of-type {\n",
              "        vertical-align: middle;\n",
              "    }\n",
              "\n",
              "    .dataframe tbody tr th {\n",
              "        vertical-align: top;\n",
              "    }\n",
              "\n",
              "    .dataframe thead th {\n",
              "        text-align: right;\n",
              "    }\n",
              "</style>\n",
              "<table border=\"1\" class=\"dataframe\">\n",
              "  <thead>\n",
              "    <tr style=\"text-align: right;\">\n",
              "      <th></th>\n",
              "      <th>pclass</th>\n",
              "      <th>survived</th>\n",
              "      <th>name</th>\n",
              "      <th>sex</th>\n",
              "      <th>age</th>\n",
              "      <th>sibsp</th>\n",
              "      <th>parch</th>\n",
              "      <th>ticket</th>\n",
              "      <th>fare</th>\n",
              "      <th>cabin</th>\n",
              "      <th>embarked</th>\n",
              "      <th>boat</th>\n",
              "      <th>body</th>\n",
              "      <th>home.dest</th>\n",
              "    </tr>\n",
              "  </thead>\n",
              "  <tbody>\n",
              "    <tr>\n",
              "      <th>0</th>\n",
              "      <td>1.0</td>\n",
              "      <td>1.0</td>\n",
              "      <td>Allen, Miss. Elisabeth Walton</td>\n",
              "      <td>female</td>\n",
              "      <td>29</td>\n",
              "      <td>0.0</td>\n",
              "      <td>0.0</td>\n",
              "      <td>24160</td>\n",
              "      <td>211,3375</td>\n",
              "      <td>B5</td>\n",
              "      <td>S</td>\n",
              "      <td>2</td>\n",
              "      <td>NaN</td>\n",
              "      <td>St Louis, MO</td>\n",
              "    </tr>\n",
              "    <tr>\n",
              "      <th>1</th>\n",
              "      <td>1.0</td>\n",
              "      <td>1.0</td>\n",
              "      <td>Allison, Master. Hudson Trevor</td>\n",
              "      <td>male</td>\n",
              "      <td>0,9167</td>\n",
              "      <td>1.0</td>\n",
              "      <td>2.0</td>\n",
              "      <td>113781</td>\n",
              "      <td>151,5500</td>\n",
              "      <td>C22 C26</td>\n",
              "      <td>S</td>\n",
              "      <td>11</td>\n",
              "      <td>NaN</td>\n",
              "      <td>Montreal, PQ / Chesterville, ON</td>\n",
              "    </tr>\n",
              "    <tr>\n",
              "      <th>2</th>\n",
              "      <td>1.0</td>\n",
              "      <td>0.0</td>\n",
              "      <td>Allison, Miss. Helen Loraine</td>\n",
              "      <td>female</td>\n",
              "      <td>2</td>\n",
              "      <td>1.0</td>\n",
              "      <td>2.0</td>\n",
              "      <td>113781</td>\n",
              "      <td>151,5500</td>\n",
              "      <td>C22 C26</td>\n",
              "      <td>S</td>\n",
              "      <td>NaN</td>\n",
              "      <td>NaN</td>\n",
              "      <td>Montreal, PQ / Chesterville, ON</td>\n",
              "    </tr>\n",
              "    <tr>\n",
              "      <th>3</th>\n",
              "      <td>1.0</td>\n",
              "      <td>0.0</td>\n",
              "      <td>Allison, Mr. Hudson Joshua Creighton</td>\n",
              "      <td>male</td>\n",
              "      <td>30</td>\n",
              "      <td>1.0</td>\n",
              "      <td>2.0</td>\n",
              "      <td>113781</td>\n",
              "      <td>151,5500</td>\n",
              "      <td>C22 C26</td>\n",
              "      <td>S</td>\n",
              "      <td>NaN</td>\n",
              "      <td>135.0</td>\n",
              "      <td>Montreal, PQ / Chesterville, ON</td>\n",
              "    </tr>\n",
              "    <tr>\n",
              "      <th>4</th>\n",
              "      <td>1.0</td>\n",
              "      <td>0.0</td>\n",
              "      <td>Allison, Mrs. Hudson J C (Bessie Waldo Daniels)</td>\n",
              "      <td>female</td>\n",
              "      <td>25</td>\n",
              "      <td>1.0</td>\n",
              "      <td>2.0</td>\n",
              "      <td>113781</td>\n",
              "      <td>151,5500</td>\n",
              "      <td>C22 C26</td>\n",
              "      <td>S</td>\n",
              "      <td>NaN</td>\n",
              "      <td>NaN</td>\n",
              "      <td>Montreal, PQ / Chesterville, ON</td>\n",
              "    </tr>\n",
              "  </tbody>\n",
              "</table>\n",
              "</div>"
            ],
            "text/plain": [
              "   pclass  survived  ...   body                        home.dest\n",
              "0     1.0       1.0  ...    NaN                     St Louis, MO\n",
              "1     1.0       1.0  ...    NaN  Montreal, PQ / Chesterville, ON\n",
              "2     1.0       0.0  ...    NaN  Montreal, PQ / Chesterville, ON\n",
              "3     1.0       0.0  ...  135.0  Montreal, PQ / Chesterville, ON\n",
              "4     1.0       0.0  ...    NaN  Montreal, PQ / Chesterville, ON\n",
              "\n",
              "[5 rows x 14 columns]"
            ]
          },
          "metadata": {
            "tags": []
          },
          "execution_count": 1
        }
      ]
    },
    {
      "cell_type": "code",
      "metadata": {
        "id": "wlLZ-70ZYvkH",
        "outputId": "c54d9166-e236-4cbf-ecae-f26d95c8886a",
        "colab": {
          "base_uri": "https://localhost:8080/",
          "height": 381
        }
      },
      "source": [
        "df.info()"
      ],
      "execution_count": null,
      "outputs": [
        {
          "output_type": "stream",
          "text": [
            "<class 'pandas.core.frame.DataFrame'>\n",
            "RangeIndex: 1310 entries, 0 to 1309\n",
            "Data columns (total 14 columns):\n",
            " #   Column     Non-Null Count  Dtype  \n",
            "---  ------     --------------  -----  \n",
            " 0   pclass     1309 non-null   float64\n",
            " 1   survived   1309 non-null   float64\n",
            " 2   name       1309 non-null   object \n",
            " 3   sex        1309 non-null   object \n",
            " 4   age        1046 non-null   object \n",
            " 5   sibsp      1309 non-null   float64\n",
            " 6   parch      1309 non-null   float64\n",
            " 7   ticket     1309 non-null   object \n",
            " 8   fare       1308 non-null   object \n",
            " 9   cabin      295 non-null    object \n",
            " 10  embarked   1307 non-null   object \n",
            " 11  boat       486 non-null    object \n",
            " 12  body       121 non-null    float64\n",
            " 13  home.dest  745 non-null    object \n",
            "dtypes: float64(5), object(9)\n",
            "memory usage: 143.4+ KB\n"
          ],
          "name": "stdout"
        }
      ]
    },
    {
      "cell_type": "code",
      "metadata": {
        "id": "zoGaSKxJZOE5"
      },
      "source": [
        "df = pd.read_csv(url, delimiter=\";\", decimal=\",\")"
      ],
      "execution_count": null,
      "outputs": []
    },
    {
      "cell_type": "code",
      "metadata": {
        "id": "oQMu6CVeZST6",
        "outputId": "b7134cbc-1d52-427f-ded1-aaa48348294a",
        "colab": {
          "base_uri": "https://localhost:8080/",
          "height": 381
        }
      },
      "source": [
        "df.info()"
      ],
      "execution_count": null,
      "outputs": [
        {
          "output_type": "stream",
          "text": [
            "<class 'pandas.core.frame.DataFrame'>\n",
            "RangeIndex: 1310 entries, 0 to 1309\n",
            "Data columns (total 14 columns):\n",
            " #   Column     Non-Null Count  Dtype  \n",
            "---  ------     --------------  -----  \n",
            " 0   pclass     1309 non-null   float64\n",
            " 1   survived   1309 non-null   float64\n",
            " 2   name       1309 non-null   object \n",
            " 3   sex        1309 non-null   object \n",
            " 4   age        1046 non-null   float64\n",
            " 5   sibsp      1309 non-null   float64\n",
            " 6   parch      1309 non-null   float64\n",
            " 7   ticket     1309 non-null   object \n",
            " 8   fare       1308 non-null   float64\n",
            " 9   cabin      295 non-null    object \n",
            " 10  embarked   1307 non-null   object \n",
            " 11  boat       486 non-null    object \n",
            " 12  body       121 non-null    float64\n",
            " 13  home.dest  745 non-null    object \n",
            "dtypes: float64(7), object(7)\n",
            "memory usage: 143.4+ KB\n"
          ],
          "name": "stdout"
        }
      ]
    },
    {
      "cell_type": "code",
      "metadata": {
        "id": "3DH7ba3RXciJ",
        "outputId": "b93f214b-434e-4ec0-d8ed-a87f1a867d75",
        "colab": {
          "base_uri": "https://localhost:8080/",
          "height": 35
        }
      },
      "source": [
        "\n",
        "print(\"Dimensions: {}\".format(df.shape))"
      ],
      "execution_count": null,
      "outputs": [
        {
          "output_type": "stream",
          "text": [
            "Dimensions: (1310, 14)\n"
          ],
          "name": "stdout"
        }
      ]
    },
    {
      "cell_type": "markdown",
      "metadata": {
        "id": "z9ZiwZKlVXvj"
      },
      "source": [
        "Résumé statistique des variables numériques"
      ]
    },
    {
      "cell_type": "code",
      "metadata": {
        "id": "cWEpA15DXtAi",
        "outputId": "fbc83e43-676e-4f60-d9c0-b761c175ead4",
        "colab": {
          "base_uri": "https://localhost:8080/",
          "height": 294
        }
      },
      "source": [
        "df.describe()"
      ],
      "execution_count": null,
      "outputs": [
        {
          "output_type": "execute_result",
          "data": {
            "text/html": [
              "<div>\n",
              "<style scoped>\n",
              "    .dataframe tbody tr th:only-of-type {\n",
              "        vertical-align: middle;\n",
              "    }\n",
              "\n",
              "    .dataframe tbody tr th {\n",
              "        vertical-align: top;\n",
              "    }\n",
              "\n",
              "    .dataframe thead th {\n",
              "        text-align: right;\n",
              "    }\n",
              "</style>\n",
              "<table border=\"1\" class=\"dataframe\">\n",
              "  <thead>\n",
              "    <tr style=\"text-align: right;\">\n",
              "      <th></th>\n",
              "      <th>pclass</th>\n",
              "      <th>survived</th>\n",
              "      <th>age</th>\n",
              "      <th>sibsp</th>\n",
              "      <th>parch</th>\n",
              "      <th>fare</th>\n",
              "      <th>body</th>\n",
              "    </tr>\n",
              "  </thead>\n",
              "  <tbody>\n",
              "    <tr>\n",
              "      <th>count</th>\n",
              "      <td>1309.000000</td>\n",
              "      <td>1309.000000</td>\n",
              "      <td>1046.000000</td>\n",
              "      <td>1309.000000</td>\n",
              "      <td>1309.000000</td>\n",
              "      <td>1308.000000</td>\n",
              "      <td>121.000000</td>\n",
              "    </tr>\n",
              "    <tr>\n",
              "      <th>mean</th>\n",
              "      <td>2.294882</td>\n",
              "      <td>0.381971</td>\n",
              "      <td>29.881135</td>\n",
              "      <td>0.498854</td>\n",
              "      <td>0.385027</td>\n",
              "      <td>33.295479</td>\n",
              "      <td>160.809917</td>\n",
              "    </tr>\n",
              "    <tr>\n",
              "      <th>std</th>\n",
              "      <td>0.837836</td>\n",
              "      <td>0.486055</td>\n",
              "      <td>14.413500</td>\n",
              "      <td>1.041658</td>\n",
              "      <td>0.865560</td>\n",
              "      <td>51.758668</td>\n",
              "      <td>97.696922</td>\n",
              "    </tr>\n",
              "    <tr>\n",
              "      <th>min</th>\n",
              "      <td>1.000000</td>\n",
              "      <td>0.000000</td>\n",
              "      <td>0.166700</td>\n",
              "      <td>0.000000</td>\n",
              "      <td>0.000000</td>\n",
              "      <td>0.000000</td>\n",
              "      <td>1.000000</td>\n",
              "    </tr>\n",
              "    <tr>\n",
              "      <th>25%</th>\n",
              "      <td>2.000000</td>\n",
              "      <td>0.000000</td>\n",
              "      <td>21.000000</td>\n",
              "      <td>0.000000</td>\n",
              "      <td>0.000000</td>\n",
              "      <td>7.895800</td>\n",
              "      <td>72.000000</td>\n",
              "    </tr>\n",
              "    <tr>\n",
              "      <th>50%</th>\n",
              "      <td>3.000000</td>\n",
              "      <td>0.000000</td>\n",
              "      <td>28.000000</td>\n",
              "      <td>0.000000</td>\n",
              "      <td>0.000000</td>\n",
              "      <td>14.454200</td>\n",
              "      <td>155.000000</td>\n",
              "    </tr>\n",
              "    <tr>\n",
              "      <th>75%</th>\n",
              "      <td>3.000000</td>\n",
              "      <td>1.000000</td>\n",
              "      <td>39.000000</td>\n",
              "      <td>1.000000</td>\n",
              "      <td>0.000000</td>\n",
              "      <td>31.275000</td>\n",
              "      <td>256.000000</td>\n",
              "    </tr>\n",
              "    <tr>\n",
              "      <th>max</th>\n",
              "      <td>3.000000</td>\n",
              "      <td>1.000000</td>\n",
              "      <td>80.000000</td>\n",
              "      <td>8.000000</td>\n",
              "      <td>9.000000</td>\n",
              "      <td>512.329200</td>\n",
              "      <td>328.000000</td>\n",
              "    </tr>\n",
              "  </tbody>\n",
              "</table>\n",
              "</div>"
            ],
            "text/plain": [
              "            pclass     survived  ...         fare        body\n",
              "count  1309.000000  1309.000000  ...  1308.000000  121.000000\n",
              "mean      2.294882     0.381971  ...    33.295479  160.809917\n",
              "std       0.837836     0.486055  ...    51.758668   97.696922\n",
              "min       1.000000     0.000000  ...     0.000000    1.000000\n",
              "25%       2.000000     0.000000  ...     7.895800   72.000000\n",
              "50%       3.000000     0.000000  ...    14.454200  155.000000\n",
              "75%       3.000000     1.000000  ...    31.275000  256.000000\n",
              "max       3.000000     1.000000  ...   512.329200  328.000000\n",
              "\n",
              "[8 rows x 7 columns]"
            ]
          },
          "metadata": {
            "tags": []
          },
          "execution_count": 6
        }
      ]
    },
    {
      "cell_type": "code",
      "metadata": {
        "id": "SchcNDltZOla"
      },
      "source": [
        ""
      ],
      "execution_count": null,
      "outputs": []
    },
    {
      "cell_type": "markdown",
      "metadata": {
        "id": "E1Ro4MzuvBtZ"
      },
      "source": [
        "# Sélection de colonnes"
      ]
    },
    {
      "cell_type": "markdown",
      "metadata": {
        "id": "MTQb-UufvBtZ"
      },
      "source": [
        "## Avec les indices"
      ]
    },
    {
      "cell_type": "code",
      "metadata": {
        "id": "Sr4i2f6xvBta"
      },
      "source": [
        "print(df.iloc[:,3].values[0:10])"
      ],
      "execution_count": null,
      "outputs": []
    },
    {
      "cell_type": "markdown",
      "metadata": {
        "id": "ms5yL0ltvBtc"
      },
      "source": [
        "## Avec les noms des colonnes"
      ]
    },
    {
      "cell_type": "code",
      "metadata": {
        "id": "hMbdz-ZqYlH9"
      },
      "source": [
        "print(df.sex[0:10])"
      ],
      "execution_count": null,
      "outputs": []
    },
    {
      "cell_type": "code",
      "metadata": {
        "id": "X1FwBNxyvBtc"
      },
      "source": [
        "print(df.sex.values[0:10])"
      ],
      "execution_count": null,
      "outputs": []
    },
    {
      "cell_type": "markdown",
      "metadata": {
        "id": "jtAdvg0nvBte"
      },
      "source": [
        "## Avec les types de variables"
      ]
    },
    {
      "cell_type": "code",
      "metadata": {
        "id": "CyUl_FfNYv2i"
      },
      "source": [
        "df.info()"
      ],
      "execution_count": null,
      "outputs": []
    },
    {
      "cell_type": "code",
      "metadata": {
        "id": "KIXSvr_DvBtf"
      },
      "source": [
        "print(df.select_dtypes(include=['float64']).values[:10,])"
      ],
      "execution_count": null,
      "outputs": []
    },
    {
      "cell_type": "markdown",
      "metadata": {
        "id": "E5UhJDFmvBth"
      },
      "source": [
        "# Sélection de lignes"
      ]
    },
    {
      "cell_type": "markdown",
      "metadata": {
        "id": "9AAU_XeGvBti"
      },
      "source": [
        "## Avec les indices"
      ]
    },
    {
      "cell_type": "markdown",
      "metadata": {
        "id": "jR7plFohZC_n"
      },
      "source": [
        "avec `iloc`, on peut sélectionner les lignes avec les numéros de lignes."
      ]
    },
    {
      "cell_type": "code",
      "metadata": {
        "id": "6f_YxwLyaRb9"
      },
      "source": [
        "df.iloc[0]"
      ],
      "execution_count": null,
      "outputs": []
    },
    {
      "cell_type": "code",
      "metadata": {
        "id": "KzmkjPcHvBtj"
      },
      "source": [
        "df.iloc[[0,1,2]]"
      ],
      "execution_count": null,
      "outputs": []
    },
    {
      "cell_type": "markdown",
      "metadata": {
        "id": "y7rxahTcvBtl"
      },
      "source": [
        "On peut aussi supprimer certaines lignes."
      ]
    },
    {
      "cell_type": "code",
      "metadata": {
        "id": "wI8j8_xuvBtm"
      },
      "source": [
        "display(df.drop([0,1,2], axis=0).head())"
      ],
      "execution_count": null,
      "outputs": []
    },
    {
      "cell_type": "markdown",
      "metadata": {
        "id": "tKsX0UDevBtu"
      },
      "source": [
        "On peut préciser aussi des intervalles pour sélectionner les lignes."
      ]
    },
    {
      "cell_type": "code",
      "metadata": {
        "id": "a-STkMXXvBtv"
      },
      "source": [
        "display(df[100:].head())"
      ],
      "execution_count": null,
      "outputs": []
    },
    {
      "cell_type": "code",
      "metadata": {
        "id": "yIKPAdsrvBtx"
      },
      "source": [
        "display(df[-10:].head())"
      ],
      "execution_count": null,
      "outputs": []
    },
    {
      "cell_type": "code",
      "metadata": {
        "id": "NNL6fxolabY0"
      },
      "source": [
        "df.iloc[:4]"
      ],
      "execution_count": null,
      "outputs": []
    },
    {
      "cell_type": "markdown",
      "metadata": {
        "id": "zRec-uIJagrX"
      },
      "source": [
        "## Avec une colonne `index`"
      ]
    },
    {
      "cell_type": "markdown",
      "metadata": {
        "id": "eRvUhSpNamgZ"
      },
      "source": [
        "On peut utiliser une colonne comme `index` pour ensuite sélectionner les lignes avec les valeurs de cette colonne."
      ]
    },
    {
      "cell_type": "code",
      "metadata": {
        "id": "jH5XRW0FJluS"
      },
      "source": [
        "\n",
        "df = df.set_index(df['name'])\n"
      ],
      "execution_count": null,
      "outputs": []
    },
    {
      "cell_type": "code",
      "metadata": {
        "id": "AXxjIms8azCV"
      },
      "source": [
        "df.head()"
      ],
      "execution_count": null,
      "outputs": []
    },
    {
      "cell_type": "code",
      "metadata": {
        "id": "pZbvjZNiYG4b"
      },
      "source": [
        "df.loc['Allen, Miss. Elisabeth Walton']"
      ],
      "execution_count": null,
      "outputs": []
    },
    {
      "cell_type": "markdown",
      "metadata": {
        "id": "45DTtyNLvBtp"
      },
      "source": [
        "## Avec des conditions"
      ]
    },
    {
      "cell_type": "code",
      "metadata": {
        "id": "m-TMshX-vBtq"
      },
      "source": [
        "display(df[df.age>25].head())"
      ],
      "execution_count": null,
      "outputs": []
    },
    {
      "cell_type": "code",
      "metadata": {
        "id": "0GIvwGMUJluV"
      },
      "source": [
        "df[df['sex'] == 'female'].head(5)"
      ],
      "execution_count": null,
      "outputs": []
    },
    {
      "cell_type": "code",
      "metadata": {
        "id": "2jpM9t6fJluY"
      },
      "source": [
        "\n",
        "df[(df['sex'] == 'female') & (df['age'] >= 65)]"
      ],
      "execution_count": null,
      "outputs": []
    },
    {
      "cell_type": "markdown",
      "metadata": {
        "id": "_DMHyeEWbMZq"
      },
      "source": [
        "# Manipulation des valeurs des variables"
      ]
    },
    {
      "cell_type": "markdown",
      "metadata": {
        "id": "piYw2XyUJlub"
      },
      "source": [
        "## Remplacer des valeurs"
      ]
    },
    {
      "cell_type": "code",
      "metadata": {
        "id": "5ivjPwqUJluc"
      },
      "source": [
        "\n",
        "df['sex'].replace('female', 'Woman').head(2)"
      ],
      "execution_count": null,
      "outputs": []
    },
    {
      "cell_type": "code",
      "metadata": {
        "id": "xiqrXy8cJlue"
      },
      "source": [
        "\n",
        "df['sex'].replace(['female', 'male'], ['Woman', 'Man']).head(5)"
      ],
      "execution_count": null,
      "outputs": []
    },
    {
      "cell_type": "code",
      "metadata": {
        "id": "hKzUKZ4lJlug"
      },
      "source": [
        "df.head()"
      ],
      "execution_count": null,
      "outputs": []
    },
    {
      "cell_type": "markdown",
      "metadata": {
        "id": "N7DtCNoEJluo"
      },
      "source": [
        "## Analyse statistique"
      ]
    },
    {
      "cell_type": "code",
      "metadata": {
        "id": "QgitdMYNJluo"
      },
      "source": [
        "print('Maximum: {}'.format(df['age'].max()))\n",
        "print('Minimum: {}'.format(df['age'].min()))\n",
        "print('Mean: {}'.format(df['age'].mean()))\n",
        "print('Sum: {}'.format(df['age'].sum()))\n",
        "print('Count: {}'.format(df['age'].count()))"
      ],
      "execution_count": null,
      "outputs": []
    },
    {
      "cell_type": "code",
      "metadata": {
        "id": "NYu5h1hHJluq"
      },
      "source": [
        "print(\"Variance: {}\".format(df.var()))\n",
        "print(\"Standard Deviation: {}\".format(df.std()))\n",
        "print(\"Kurtosis: {}\".format(df.kurt()))\n",
        "print(\"Skewness: {}\".format(df.skew()))\n"
      ],
      "execution_count": null,
      "outputs": []
    },
    {
      "cell_type": "markdown",
      "metadata": {
        "id": "tqSBPb6gJlus"
      },
      "source": [
        "## Comptage des catégories"
      ]
    },
    {
      "cell_type": "code",
      "metadata": {
        "id": "n1VaCvXHJlut"
      },
      "source": [
        "\n",
        "df['sex'].unique()"
      ],
      "execution_count": null,
      "outputs": []
    },
    {
      "cell_type": "code",
      "metadata": {
        "id": "1s-auTq4Jluu"
      },
      "source": [
        "\n",
        "df['sex'].value_counts()"
      ],
      "execution_count": null,
      "outputs": []
    },
    {
      "cell_type": "markdown",
      "metadata": {
        "id": "11pWtk2WJluw"
      },
      "source": [
        "## Données manquantes"
      ]
    },
    {
      "cell_type": "code",
      "metadata": {
        "id": "MJ4oTp6IJlux"
      },
      "source": [
        "df[df['age'].isnull()].head(2)"
      ],
      "execution_count": null,
      "outputs": []
    },
    {
      "cell_type": "markdown",
      "metadata": {
        "id": "5GMxS7kVXHHe"
      },
      "source": [
        "# Opération sur les colonnes\n"
      ]
    },
    {
      "cell_type": "markdown",
      "metadata": {
        "id": "wB_XjSouJlui"
      },
      "source": [
        "## Renommer les colonnes"
      ]
    },
    {
      "cell_type": "code",
      "metadata": {
        "id": "dIvCnG49Jluj"
      },
      "source": [
        "df.rename(columns={'PClass': 'Passenger Class'}).head(2)"
      ],
      "execution_count": null,
      "outputs": []
    },
    {
      "cell_type": "code",
      "metadata": {
        "id": "YlmutOoaJlul"
      },
      "source": [
        "df.rename(columns={'PClass': 'Passenger Class', 'Sex': 'Gender'}).head(2)"
      ],
      "execution_count": null,
      "outputs": []
    },
    {
      "cell_type": "markdown",
      "metadata": {
        "id": "VDrIkGUoJluz"
      },
      "source": [
        "## Supprimer des colonnes"
      ]
    },
    {
      "cell_type": "code",
      "metadata": {
        "id": "snwK75kuJluz"
      },
      "source": [
        "# axis=1 means the column axis\n",
        "df.drop('age', axis=1).head(2)"
      ],
      "execution_count": null,
      "outputs": []
    },
    {
      "cell_type": "markdown",
      "metadata": {
        "id": "GZ4qx7t2cKT1"
      },
      "source": [
        "# Opération sur les lignes"
      ]
    },
    {
      "cell_type": "markdown",
      "metadata": {
        "id": "KXXSPrNYJlu8"
      },
      "source": [
        "## Supprimer des lignes"
      ]
    },
    {
      "cell_type": "code",
      "metadata": {
        "id": "7Wp2Zb0YJlu8"
      },
      "source": [
        "\n",
        "df[df['sex'] != 'male'].head(2)"
      ],
      "execution_count": null,
      "outputs": []
    },
    {
      "cell_type": "code",
      "metadata": {
        "id": "9uS4xg7lJlu-"
      },
      "source": [
        "\n",
        "df[df['name'] != 'Allison, Miss Helen Loraine'].head(2)"
      ],
      "execution_count": null,
      "outputs": []
    },
    {
      "cell_type": "code",
      "metadata": {
        "id": "BBbkVyg9JlvB"
      },
      "source": [
        "\n",
        "df[df.index != 0].head(2)"
      ],
      "execution_count": null,
      "outputs": []
    },
    {
      "cell_type": "markdown",
      "metadata": {
        "id": "i0oZEYmqJlvD"
      },
      "source": [
        "## Regroupement des lignes"
      ]
    },
    {
      "cell_type": "code",
      "metadata": {
        "id": "IYnO_jzPJlvD"
      },
      "source": [
        "df.groupby('sex').mean()"
      ],
      "execution_count": null,
      "outputs": []
    },
    {
      "cell_type": "code",
      "metadata": {
        "id": "KjTfs_OTJlvF"
      },
      "source": [
        "df.groupby('survived')['name'].count()"
      ],
      "execution_count": null,
      "outputs": []
    },
    {
      "cell_type": "code",
      "metadata": {
        "id": "nhdhBfUdJlvH"
      },
      "source": [
        "df.groupby(['sex', 'survived'])['age'].mean()"
      ],
      "execution_count": null,
      "outputs": []
    },
    {
      "cell_type": "markdown",
      "metadata": {
        "id": "5mXJgDvgJlvV"
      },
      "source": [
        "On peut utiliser `apply` pour appliquer des fonctions spécifiques."
      ]
    },
    {
      "cell_type": "code",
      "metadata": {
        "id": "tJu35Pj7JlvW"
      },
      "source": [
        "df.groupby('sex').apply(lambda x: x.count())"
      ],
      "execution_count": null,
      "outputs": []
    },
    {
      "cell_type": "markdown",
      "metadata": {
        "id": "1GYDaeu9JlvY"
      },
      "source": [
        "En combinant `groupby` et `apply` on peut appliquer des fonctions à des groupes spécifiques.\n"
      ]
    },
    {
      "cell_type": "code",
      "metadata": {
        "id": "gqfyifh-vBvG"
      },
      "source": [
        "df.groupby(['sex','pclass']).agg({'age':np.mean,'sibsp':np.max})"
      ],
      "execution_count": null,
      "outputs": []
    },
    {
      "cell_type": "code",
      "metadata": {
        "id": "jw7Uc712vBvI"
      },
      "source": [
        "df.groupby(['sex','pclass']).agg({'fare':[np.sum,np.mean]})"
      ],
      "execution_count": null,
      "outputs": []
    },
    {
      "cell_type": "markdown",
      "metadata": {
        "id": "XMmHbj_MvBvL"
      },
      "source": [
        "## Tables croisées"
      ]
    },
    {
      "cell_type": "code",
      "metadata": {
        "id": "rZaZt6l-diNu"
      },
      "source": [
        "df.head()"
      ],
      "execution_count": null,
      "outputs": []
    },
    {
      "cell_type": "code",
      "metadata": {
        "id": "7XvNQhu1vBvL"
      },
      "source": [
        "display(df.pivot_table(index='survived', columns='sex', \n",
        "                         values='age',aggfunc=np.mean))"
      ],
      "execution_count": null,
      "outputs": []
    },
    {
      "cell_type": "code",
      "metadata": {
        "id": "Eio7WldadIZz"
      },
      "source": [
        ""
      ],
      "execution_count": null,
      "outputs": []
    }
  ]
}