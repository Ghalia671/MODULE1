{
  "nbformat": 4,
  "nbformat_minor": 0,
  "metadata": {
    "colab": {
      "name": "Kezhan Ghalia - 1.1 Variables numériques.ipynb",
      "provenance": [],
      "collapsed_sections": [],
      "toc_visible": true,
      "include_colab_link": true
    },
    "kernelspec": {
      "name": "python3",
      "display_name": "Python 3"
    }
  },
  "cells": [
    {
      "cell_type": "markdown",
      "metadata": {
        "id": "view-in-github",
        "colab_type": "text"
      },
      "source": [
        "<a href=\"https://colab.research.google.com/github/Ghalia671/MODULE1/blob/master/Kezhan_Ghalia_1_1_Variables_num%C3%A9riques.ipynb\" target=\"_parent\"><img src=\"https://colab.research.google.com/assets/colab-badge.svg\" alt=\"Open In Colab\"/></a>"
      ]
    },
    {
      "cell_type": "markdown",
      "metadata": {
        "id": "-d6vHGyT3kIf"
      },
      "source": [
        "# Normalisation des données numériques\n"
      ]
    },
    {
      "cell_type": "code",
      "metadata": {
        "id": "uYQgD5Pvd2EX"
      },
      "source": [
        "import pandas as pd\n",
        "import seaborn as sns\n",
        "import matplotlib.pyplot as plt\n",
        "\n",
        "data=pd.read_csv(\"https://dataks.bitbucket.io/ml/houses.csv\")"
      ],
      "execution_count": 1,
      "outputs": []
    },
    {
      "cell_type": "code",
      "metadata": {
        "id": "aSX6zi1_cV5c"
      },
      "source": [
        ""
      ],
      "execution_count": null,
      "outputs": []
    },
    {
      "cell_type": "markdown",
      "metadata": {
        "id": "nTljwH2SHWFf"
      },
      "source": [
        "## Normalisation min max\n",
        "\n"
      ]
    },
    {
      "cell_type": "markdown",
      "metadata": {
        "id": "-Ay8xyhaHZL7"
      },
      "source": [
        "$$\n",
        "x_i' = \\frac{x_i - min(x)}{max(x) - min(x)}\n",
        "$$"
      ]
    },
    {
      "cell_type": "code",
      "metadata": {
        "id": "lboxqQQJ3kIh",
        "outputId": "044d6e6c-c31f-40f2-f536-6b1079bd4fcd",
        "colab": {
          "base_uri": "https://localhost:8080/",
          "height": 104
        }
      },
      "source": [
        "import numpy as np\n",
        "from sklearn import preprocessing\n",
        "\n",
        "# exemple de données\n",
        "feature = np.array([\n",
        "    [-50],\n",
        "    [-10],\n",
        "    [0],\n",
        "    [10],\n",
        "    [20]\n",
        "])\n",
        "\n",
        "# utiliser un \"normalisateur\"\n",
        "\n",
        "minmax_scaler = preprocessing.MinMaxScaler(feature_range=(0,1))\n",
        "\n",
        "# normalisation\n",
        "scaled_feature = minmax_scaler.fit_transform(feature)\n",
        "\n",
        "scaled_feature"
      ],
      "execution_count": 2,
      "outputs": [
        {
          "output_type": "execute_result",
          "data": {
            "text/plain": [
              "array([[0.        ],\n",
              "       [0.57142857],\n",
              "       [0.71428571],\n",
              "       [0.85714286],\n",
              "       [1.        ]])"
            ]
          },
          "metadata": {
            "tags": []
          },
          "execution_count": 2
        }
      ]
    },
    {
      "cell_type": "markdown",
      "metadata": {
        "id": "9Obss7L9Yakd"
      },
      "source": [
        "**Question** vérifier à la main le calcul effectué par la fonction `MinMaxScaler`"
      ]
    },
    {
      "cell_type": "code",
      "metadata": {
        "id": "kuHvfN0KYa7d",
        "outputId": "273a139e-db07-4071-b8aa-7a79c7c1977c",
        "colab": {
          "base_uri": "https://localhost:8080/",
          "height": 104
        }
      },
      "source": [
        "minElt = feature.min()\n",
        "maxElt = feature.max()\n",
        "for elt in feature:\n",
        "  xElt = (elt - minElt) / (maxElt - minElt)\n",
        "  print(xElt)\n"
      ],
      "execution_count": 5,
      "outputs": [
        {
          "output_type": "stream",
          "text": [
            "[0.]\n",
            "[0.57142857]\n",
            "[0.71428571]\n",
            "[0.85714286]\n",
            "[1.]\n"
          ],
          "name": "stdout"
        }
      ]
    },
    {
      "cell_type": "markdown",
      "metadata": {
        "id": "MwwJE1jZ3kIl"
      },
      "source": [
        "## Centrer-réduction"
      ]
    },
    {
      "cell_type": "markdown",
      "metadata": {
        "id": "2XU391MAHoPG"
      },
      "source": [
        "$$\n",
        "x_i' = \\frac{x_i - \\bar x}{\\sigma}\n",
        "$$"
      ]
    },
    {
      "cell_type": "code",
      "metadata": {
        "id": "iLJ6A_kU3kIl",
        "outputId": "930a06b7-06ef-4254-dac8-78e047bdfc32",
        "colab": {
          "base_uri": "https://localhost:8080/",
          "height": 104
        }
      },
      "source": [
        "import numpy as np\n",
        "from sklearn import preprocessing\n",
        "\n",
        "# exemple de données\n",
        "feature = np.array([\n",
        "    [-10],\n",
        "    [-20],\n",
        "    [50],\n",
        "    [60],\n",
        "    [90]\n",
        "])\n",
        "\n",
        "# centrer reduction\n",
        "scaler = preprocessing.StandardScaler()\n",
        "\n",
        "# application\n",
        "standardized = scaler.fit_transform(feature)\n",
        "\n",
        "standardized"
      ],
      "execution_count": 6,
      "outputs": [
        {
          "output_type": "execute_result",
          "data": {
            "text/plain": [
              "array([[-1.04173019],\n",
              "       [-1.27848705],\n",
              "       [ 0.37881098],\n",
              "       [ 0.61556784],\n",
              "       [ 1.32583843]])"
            ]
          },
          "metadata": {
            "tags": []
          },
          "execution_count": 6
        }
      ]
    },
    {
      "cell_type": "code",
      "metadata": {
        "id": "WonBJr5r3kIp",
        "outputId": "6ba92f73-0c2e-467b-abe0-c85e767d9890",
        "colab": {
          "base_uri": "https://localhost:8080/",
          "height": 52
        }
      },
      "source": [
        "print(\"Mean {}\".format(round(standardized.mean())))\n",
        "print(\"Standard Deviation: {}\".format(standardized.std()))"
      ],
      "execution_count": 7,
      "outputs": [
        {
          "output_type": "stream",
          "text": [
            "Mean -0.0\n",
            "Standard Deviation: 1.0\n"
          ],
          "name": "stdout"
        }
      ]
    },
    {
      "cell_type": "markdown",
      "metadata": {
        "id": "eWs9CFEbYlKn"
      },
      "source": [
        "**Question** vérifier à la main le calcul effectué par la fonction `StandardScaler`"
      ]
    },
    {
      "cell_type": "code",
      "metadata": {
        "id": "L_2qF3FOYm9Q",
        "outputId": "9c547504-bd16-4950-d226-ad253bcfb7d9",
        "colab": {
          "base_uri": "https://localhost:8080/",
          "height": 104
        }
      },
      "source": [
        "for elt in feature:\n",
        "    xElt = ((elt - feature.mean()) / feature.std())\n",
        "    print(xElt)"
      ],
      "execution_count": 10,
      "outputs": [
        {
          "output_type": "stream",
          "text": [
            "[-1.04173019]\n",
            "[-1.27848705]\n",
            "[0.37881098]\n",
            "[0.61556784]\n",
            "[1.32583843]\n"
          ],
          "name": "stdout"
        }
      ]
    },
    {
      "cell_type": "markdown",
      "metadata": {
        "id": "NPXRKW15JMAW"
      },
      "source": [
        "## Autres méthodes de normalisation"
      ]
    },
    {
      "cell_type": "markdown",
      "metadata": {
        "id": "A87_eWRDKNgs"
      },
      "source": [
        "$$x'=\\frac{x-médiane}{Q(75\\%)-Q(25\\%)}$$"
      ]
    },
    {
      "cell_type": "markdown",
      "metadata": {
        "id": "mMifIxTkKdN2"
      },
      "source": [
        "Pour d'autres méthodes, vous pouvez consulter"
      ]
    },
    {
      "cell_type": "markdown",
      "metadata": {
        "id": "0OmLiln33kIr"
      },
      "source": [
        "\n",
        "\n",
        "https://scikit-learn.org/stable/auto_examples/preprocessing/plot_all_scaling.html\n",
        "\n"
      ]
    },
    {
      "cell_type": "code",
      "metadata": {
        "id": "Sqx11x5D3kIs",
        "outputId": "9c05ed20-de3e-4292-f230-7cc683d0f36b",
        "colab": {
          "base_uri": "https://localhost:8080/",
          "height": 104
        }
      },
      "source": [
        "\n",
        "robust_scaler = preprocessing.RobustScaler()\n",
        "\n",
        "robust_scaler.fit_transform(feature)\n"
      ],
      "execution_count": 11,
      "outputs": [
        {
          "output_type": "execute_result",
          "data": {
            "text/plain": [
              "array([[-0.85714286],\n",
              "       [-1.        ],\n",
              "       [ 0.        ],\n",
              "       [ 0.14285714],\n",
              "       [ 0.57142857]])"
            ]
          },
          "metadata": {
            "tags": []
          },
          "execution_count": 11
        }
      ]
    },
    {
      "cell_type": "code",
      "metadata": {
        "id": "ACTI45MWInQ-",
        "outputId": "a46d7b28-4fec-46c7-ce84-2936fc69325d",
        "colab": {
          "base_uri": "https://localhost:8080/",
          "height": 104
        }
      },
      "source": [
        "preprocessing.StandardScaler().fit_transform(feature)\n"
      ],
      "execution_count": 12,
      "outputs": [
        {
          "output_type": "execute_result",
          "data": {
            "text/plain": [
              "array([[-1.04173019],\n",
              "       [-1.27848705],\n",
              "       [ 0.37881098],\n",
              "       [ 0.61556784],\n",
              "       [ 1.32583843]])"
            ]
          },
          "metadata": {
            "tags": []
          },
          "execution_count": 12
        }
      ]
    },
    {
      "cell_type": "markdown",
      "metadata": {
        "id": "q8TlAV4l3kIu"
      },
      "source": [
        "## Normalisation des observations"
      ]
    },
    {
      "cell_type": "markdown",
      "metadata": {
        "id": "NvQWhXOtKu5_"
      },
      "source": [
        "$$\n",
        "||x||_1 = \\sum_{i=1}^n{|x_i|}\n",
        "$$"
      ]
    },
    {
      "cell_type": "markdown",
      "metadata": {
        "id": "0eCtpXfhKrD5"
      },
      "source": [
        "$$\n",
        "||x||_2 = \\sqrt{x_1^2 + x_2^2 + ... + x_n^2}\n",
        "$$"
      ]
    },
    {
      "cell_type": "code",
      "metadata": {
        "id": "xwnR_IAJ3kIv",
        "outputId": "3f71c742-b508-4269-9d56-25ad9d8493af",
        "colab": {
          "base_uri": "https://localhost:8080/",
          "height": 104
        }
      },
      "source": [
        "import numpy as np\n",
        "from sklearn.preprocessing import Normalizer\n",
        "\n",
        "features = np.array([\n",
        "    [0.5, 0.5],\n",
        "    [1.1, 3.4],\n",
        "    [1.5, 20.2],\n",
        "    [1.63, 34.4],\n",
        "    [10.9, 3.3]\n",
        "])\n",
        "\n",
        "normalizer = Normalizer(norm=\"l2\")\n",
        "\n",
        "normalizer.transform(features)"
      ],
      "execution_count": 14,
      "outputs": [
        {
          "output_type": "execute_result",
          "data": {
            "text/plain": [
              "array([[0.70710678, 0.70710678],\n",
              "       [0.30782029, 0.95144452],\n",
              "       [0.07405353, 0.99725427],\n",
              "       [0.04733062, 0.99887928],\n",
              "       [0.95709822, 0.28976368]])"
            ]
          },
          "metadata": {
            "tags": []
          },
          "execution_count": 14
        }
      ]
    },
    {
      "cell_type": "markdown",
      "metadata": {
        "id": "_oU_YYSgWrD9"
      },
      "source": [
        "**Question** vérifier que la norme 2 de toutes les observations dans la matrice transformée sont bien égales à 1."
      ]
    },
    {
      "cell_type": "code",
      "metadata": {
        "id": "FWfdeBfsW47Q",
        "outputId": "511e8559-4a77-493f-a96e-7611223e8240",
        "colab": {
          "base_uri": "https://localhost:8080/",
          "height": 34
        }
      },
      "source": [
        "xElt = 0\n",
        "for elt in features:\n",
        "  xElt += elt[0]**2\n",
        "  xElt += elt[1]**2\n",
        "elt2 = np.sqrt(xElt)\n",
        "print(elt2)"
      ],
      "execution_count": 22,
      "outputs": [
        {
          "output_type": "stream",
          "text": [
            "41.70463883071042\n"
          ],
          "name": "stdout"
        }
      ]
    },
    {
      "cell_type": "markdown",
      "metadata": {
        "id": "LmZ-0726X9aS"
      },
      "source": [
        "**Question** tester le `Normalizer` avec `l1`, et vérifier la norme de la matrice transformée."
      ]
    },
    {
      "cell_type": "code",
      "metadata": {
        "id": "MezpxmnP3kIx",
        "outputId": "ad6c994a-fd91-48cd-e1a8-b057d917e676",
        "colab": {
          "base_uri": "https://localhost:8080/",
          "height": 104
        }
      },
      "source": [
        "normalizer = Normalizer(norm=\"l1\")\n",
        "\n",
        "normalizer.transform(features)"
      ],
      "execution_count": 23,
      "outputs": [
        {
          "output_type": "execute_result",
          "data": {
            "text/plain": [
              "array([[0.5       , 0.5       ],\n",
              "       [0.24444444, 0.75555556],\n",
              "       [0.06912442, 0.93087558],\n",
              "       [0.04524008, 0.95475992],\n",
              "       [0.76760563, 0.23239437]])"
            ]
          },
          "metadata": {
            "tags": []
          },
          "execution_count": 23
        }
      ]
    },
    {
      "cell_type": "markdown",
      "metadata": {
        "id": "sGcZDU9I3kI3"
      },
      "source": [
        "# Gestion des données manquantes"
      ]
    },
    {
      "cell_type": "markdown",
      "metadata": {
        "id": "4IHrAha1K-8u"
      },
      "source": [
        "## Suppression des données manquantes"
      ]
    },
    {
      "cell_type": "code",
      "metadata": {
        "id": "h_7kwo5I3kI3",
        "outputId": "3e4a227c-19b0-45f2-9777-d5ec7bd5ff6b",
        "colab": {
          "base_uri": "https://localhost:8080/",
          "height": 69
        }
      },
      "source": [
        "import numpy as np\n",
        "\n",
        "features = np.array([\n",
        "    [1.1, 11.1],\n",
        "    [2.2, 22.2],\n",
        "    [3.3, 33.3],\n",
        "    [np.nan, 55]\n",
        "])\n",
        "\n",
        "\n",
        "features[~np.isnan(features).any(axis=1)]"
      ],
      "execution_count": 24,
      "outputs": [
        {
          "output_type": "execute_result",
          "data": {
            "text/plain": [
              "array([[ 1.1, 11.1],\n",
              "       [ 2.2, 22.2],\n",
              "       [ 3.3, 33.3]])"
            ]
          },
          "metadata": {
            "tags": []
          },
          "execution_count": 24
        }
      ]
    },
    {
      "cell_type": "code",
      "metadata": {
        "id": "6xGAhOhv3kI5",
        "outputId": "63fca1bc-ab73-4116-e417-91b6cfa27028",
        "colab": {
          "base_uri": "https://localhost:8080/",
          "height": 143
        }
      },
      "source": [
        "import pandas as pd\n",
        "df = pd.DataFrame(features, columns=[\"feature_1\", \"feature_2\"])\n",
        "df.dropna()"
      ],
      "execution_count": 25,
      "outputs": [
        {
          "output_type": "execute_result",
          "data": {
            "text/html": [
              "<div>\n",
              "<style scoped>\n",
              "    .dataframe tbody tr th:only-of-type {\n",
              "        vertical-align: middle;\n",
              "    }\n",
              "\n",
              "    .dataframe tbody tr th {\n",
              "        vertical-align: top;\n",
              "    }\n",
              "\n",
              "    .dataframe thead th {\n",
              "        text-align: right;\n",
              "    }\n",
              "</style>\n",
              "<table border=\"1\" class=\"dataframe\">\n",
              "  <thead>\n",
              "    <tr style=\"text-align: right;\">\n",
              "      <th></th>\n",
              "      <th>feature_1</th>\n",
              "      <th>feature_2</th>\n",
              "    </tr>\n",
              "  </thead>\n",
              "  <tbody>\n",
              "    <tr>\n",
              "      <th>0</th>\n",
              "      <td>1.1</td>\n",
              "      <td>11.1</td>\n",
              "    </tr>\n",
              "    <tr>\n",
              "      <th>1</th>\n",
              "      <td>2.2</td>\n",
              "      <td>22.2</td>\n",
              "    </tr>\n",
              "    <tr>\n",
              "      <th>2</th>\n",
              "      <td>3.3</td>\n",
              "      <td>33.3</td>\n",
              "    </tr>\n",
              "  </tbody>\n",
              "</table>\n",
              "</div>"
            ],
            "text/plain": [
              "   feature_1  feature_2\n",
              "0        1.1       11.1\n",
              "1        2.2       22.2\n",
              "2        3.3       33.3"
            ]
          },
          "metadata": {
            "tags": []
          },
          "execution_count": 25
        }
      ]
    },
    {
      "cell_type": "markdown",
      "metadata": {
        "id": "s85jATZO3kI9"
      },
      "source": [
        "## Remplacer les valeurs manquantes\n"
      ]
    },
    {
      "cell_type": "code",
      "metadata": {
        "id": "q8oJqofmRBpx",
        "outputId": "49c25eca-2746-4151-89e1-47cfe3407313",
        "colab": {
          "base_uri": "https://localhost:8080/",
          "height": 86
        }
      },
      "source": [
        "import numpy as np\n",
        "from sklearn.impute import SimpleImputer\n",
        "\n",
        "imp = SimpleImputer(missing_values=np.nan, strategy='mean')\n",
        "\n",
        "X_train=[[1, 2], [np.nan, 3], [7, 6]]\n",
        "\n",
        "print(X_train)\n",
        "imp.fit(X_train)\n",
        "\n",
        "X_test = [[np.nan, 2], [6, np.nan], [7, 6]]\n",
        "\n",
        "print(imp.transform(X_test))"
      ],
      "execution_count": 27,
      "outputs": [
        {
          "output_type": "stream",
          "text": [
            "[[1, 2], [nan, 3], [7, 6]]\n",
            "[[4.         2.        ]\n",
            " [6.         3.66666667]\n",
            " [7.         6.        ]]\n"
          ],
          "name": "stdout"
        }
      ]
    },
    {
      "cell_type": "markdown",
      "metadata": {
        "id": "ZluRizgmNhUV"
      },
      "source": [
        "## K plus proches voisins"
      ]
    },
    {
      "cell_type": "code",
      "metadata": {
        "id": "p6g9ULu4LapC",
        "outputId": "1e9fc75f-c523-488d-fad0-ab708bcaa146",
        "colab": {
          "base_uri": "https://localhost:8080/",
          "height": 52
        }
      },
      "source": [
        "import numpy as np\n",
        "from sklearn.impute import KNNImputer\n",
        "\n",
        "imputer = KNNImputer(n_neighbors=3, weights=\"uniform\")\n",
        "\n",
        "X = np.array([[0, 2.10],\n",
        "            [1, 1.18],\n",
        "            [0, 1.22],\n",
        "            [1, -0.21]])\n",
        "\n",
        "X_with_nan = np.array([[np.nan, 0.87],\n",
        "                      [1, -0.67]])\n",
        "\n",
        "\n",
        "imputer.fit(X)\n",
        "\n",
        "\n",
        "imputer.transform(X_with_nan)"
      ],
      "execution_count": 28,
      "outputs": [
        {
          "output_type": "execute_result",
          "data": {
            "text/plain": [
              "array([[ 0.66666667,  0.87      ],\n",
              "       [ 1.        , -0.67      ]])"
            ]
          },
          "metadata": {
            "tags": []
          },
          "execution_count": 28
        }
      ]
    },
    {
      "cell_type": "code",
      "metadata": {
        "id": "NYpJIigBadDI"
      },
      "source": [
        ""
      ],
      "execution_count": null,
      "outputs": []
    },
    {
      "cell_type": "markdown",
      "metadata": {
        "id": "4Ao8d5CVZ5hx"
      },
      "source": [
        "**Question** implémenter l'algorithme de KNN pour retrouver les résultats de `KNNImputer`. Noter que `KNNImputer` calcule la moyenne des voisins, ce qui correspond à un modèle de régression."
      ]
    },
    {
      "cell_type": "code",
      "metadata": {
        "id": "H4NkRhzVbrjs",
        "outputId": "6631c791-c98b-4e31-84a2-03f87633542e",
        "colab": {
          "base_uri": "https://localhost:8080/",
          "height": 89
        }
      },
      "source": [
        "from sklearn import model_selection\n",
        "from sklearn.neighbors import KNeighborsRegressor\n",
        "\n",
        "clf = KNeighborsRegressor(n_neighbors = 2)\n",
        "clf = clf.fit(X,X)\n",
        "clf.score(X,X)"
      ],
      "execution_count": 35,
      "outputs": [
        {
          "output_type": "stream",
          "text": [
            "/usr/local/lib/python3.6/dist-packages/sklearn/base.py:434: FutureWarning: The default value of multioutput (not exposed in score method) will change from 'variance_weighted' to 'uniform_average' in 0.23 to keep consistent with 'metrics.r2_score'. To specify the default value manually and avoid the warning, please either call 'metrics.r2_score' directly or make a custom scorer with 'metrics.make_scorer' (the built-in scorer 'r2' uses multioutput='uniform_average').\n",
            "  \"multioutput='uniform_average').\", FutureWarning)\n"
          ],
          "name": "stderr"
        },
        {
          "output_type": "execute_result",
          "data": {
            "text/plain": [
              "0.6998761340430517"
            ]
          },
          "metadata": {
            "tags": []
          },
          "execution_count": 35
        }
      ]
    },
    {
      "cell_type": "markdown",
      "metadata": {
        "id": "96qRge1WbsK2"
      },
      "source": [
        "Lire cet article pour comprendre l'effet de dicrétisation sur les variables continues: https://scikit-learn.org/stable/auto_examples/preprocessing/plot_discretization.html\n"
      ]
    },
    {
      "cell_type": "markdown",
      "metadata": {
        "id": "U6zbSf8GqZCT"
      },
      "source": [
        "# Discrétisation"
      ]
    },
    {
      "cell_type": "markdown",
      "metadata": {
        "id": "MzYiZE68qZCW"
      },
      "source": [
        "## Uniforme"
      ]
    },
    {
      "cell_type": "code",
      "metadata": {
        "id": "grUWIVZEqZCW",
        "outputId": "737ea57e-2ea2-4fd8-e330-e9618d9f1dfa",
        "colab": {
          "base_uri": "https://localhost:8080/",
          "height": 282
        }
      },
      "source": [
        "\n",
        "data['lotsize'].hist(color='#A9C5D3')\n",
        "\n"
      ],
      "execution_count": 36,
      "outputs": [
        {
          "output_type": "execute_result",
          "data": {
            "text/plain": [
              "<matplotlib.axes._subplots.AxesSubplot at 0x7f4a7b2b3cc0>"
            ]
          },
          "metadata": {
            "tags": []
          },
          "execution_count": 36
        },
        {
          "output_type": "display_data",
          "data": {
            "image/png": "[encoded data removed]",
            "text/plain": [
              "<Figure size 432x288 with 1 Axes>"
            ]
          },
          "metadata": {
            "tags": [],
            "needs_background": "light"
          }
        }
      ]
    },
    {
      "cell_type": "code",
      "metadata": {
        "id": "TiH5JSlKpdwX"
      },
      "source": [
        "from sklearn.preprocessing import KBinsDiscretizer"
      ],
      "execution_count": 37,
      "outputs": []
    },
    {
      "cell_type": "code",
      "metadata": {
        "id": "yBJEsh92pdwZ",
        "outputId": "3aeb28f5-32b8-48bd-bcb9-ad9ba40dc591",
        "colab": {
          "base_uri": "https://localhost:8080/",
          "height": 69
        }
      },
      "source": [
        "kb = KBinsDiscretizer(n_bins=10, strategy='uniform',encode=\"ordinal\")\n",
        "kb.fit(data[[\"lotsize\"]])\n",
        "print(\"bin edges: \\n\", kb.bin_edges_)"
      ],
      "execution_count": 38,
      "outputs": [
        {
          "output_type": "stream",
          "text": [
            "bin edges: \n",
            " [array([ 165. ,  310.5,  456. ,  601.5,  747. ,  892.5, 1038. , 1183.5,\n",
            "       1329. , 1474.5, 1620. ])]\n"
          ],
          "name": "stdout"
        }
      ]
    },
    {
      "cell_type": "code",
      "metadata": {
        "id": "8XzoZPgBpdwb",
        "outputId": "cc08168e-8bc1-4c6d-e914-a2d935f4c7b8",
        "colab": {
          "base_uri": "https://localhost:8080/",
          "height": 1000
        }
      },
      "source": [
        "X_binned = kb.transform(data[[\"lotsize\"]])\n",
        "X_binned"
      ],
      "execution_count": 39,
      "outputs": [
        {
          "output_type": "execute_result",
          "data": {
            "text/plain": [
              "array([[2.],\n",
              "       [1.],\n",
              "       [0.],\n",
              "       [3.],\n",
              "       [3.],\n",
              "       [1.],\n",
              "       [1.],\n",
              "       [1.],\n",
              "       [2.],\n",
              "       [2.],\n",
              "       [3.],\n",
              "       [0.],\n",
              "       [0.],\n",
              "       [0.],\n",
              "       [1.],\n",
              "       [1.],\n",
              "       [1.],\n",
              "       [2.],\n",
              "       [1.],\n",
              "       [1.],\n",
              "       [2.],\n",
              "       [1.],\n",
              "       [1.],\n",
              "       [1.],\n",
              "       [2.],\n",
              "       [0.],\n",
              "       [1.],\n",
              "       [2.],\n",
              "       [0.],\n",
              "       [1.],\n",
              "       [1.],\n",
              "       [1.],\n",
              "       [1.],\n",
              "       [1.],\n",
              "       [3.],\n",
              "       [1.],\n",
              "       [1.],\n",
              "       [2.],\n",
              "       [2.],\n",
              "       [1.],\n",
              "       [1.],\n",
              "       [1.],\n",
              "       [2.],\n",
              "       [4.],\n",
              "       [0.],\n",
              "       [0.],\n",
              "       [0.],\n",
              "       [0.],\n",
              "       [2.],\n",
              "       [1.],\n",
              "       [2.],\n",
              "       [1.],\n",
              "       [5.],\n",
              "       [1.],\n",
              "       [1.],\n",
              "       [1.],\n",
              "       [0.],\n",
              "       [3.],\n",
              "       [1.],\n",
              "       [0.],\n",
              "       [1.],\n",
              "       [2.],\n",
              "       [1.],\n",
              "       [2.],\n",
              "       [2.],\n",
              "       [2.],\n",
              "       [2.],\n",
              "       [2.],\n",
              "       [0.],\n",
              "       [1.],\n",
              "       [1.],\n",
              "       [1.],\n",
              "       [0.],\n",
              "       [0.],\n",
              "       [1.],\n",
              "       [1.],\n",
              "       [0.],\n",
              "       [1.],\n",
              "       [1.],\n",
              "       [3.],\n",
              "       [1.],\n",
              "       [1.],\n",
              "       [1.],\n",
              "       [1.],\n",
              "       [1.],\n",
              "       [3.],\n",
              "       [2.],\n",
              "       [1.],\n",
              "       [0.],\n",
              "       [0.],\n",
              "       [3.],\n",
              "       [2.],\n",
              "       [3.],\n",
              "       [4.],\n",
              "       [4.],\n",
              "       [3.],\n",
              "       [4.],\n",
              "       [4.],\n",
              "       [1.],\n",
              "       [0.],\n",
              "       [1.],\n",
              "       [1.],\n",
              "       [1.],\n",
              "       [1.],\n",
              "       [2.],\n",
              "       [2.],\n",
              "       [1.],\n",
              "       [1.],\n",
              "       [0.],\n",
              "       [1.],\n",
              "       [2.],\n",
              "       [1.],\n",
              "       [2.],\n",
              "       [1.],\n",
              "       [3.],\n",
              "       [1.],\n",
              "       [1.],\n",
              "       [1.],\n",
              "       [1.],\n",
              "       [3.],\n",
              "       [1.],\n",
              "       [6.],\n",
              "       [1.],\n",
              "       [2.],\n",
              "       [1.],\n",
              "       [1.],\n",
              "       [2.],\n",
              "       [4.],\n",
              "       [2.],\n",
              "       [2.],\n",
              "       [2.],\n",
              "       [1.],\n",
              "       [2.],\n",
              "       [1.],\n",
              "       [1.],\n",
              "       [2.],\n",
              "       [1.],\n",
              "       [4.],\n",
              "       [0.],\n",
              "       [1.],\n",
              "       [0.],\n",
              "       [0.],\n",
              "       [1.],\n",
              "       [1.],\n",
              "       [1.],\n",
              "       [1.],\n",
              "       [0.],\n",
              "       [1.],\n",
              "       [2.],\n",
              "       [2.],\n",
              "       [1.],\n",
              "       [0.],\n",
              "       [1.],\n",
              "       [1.],\n",
              "       [1.],\n",
              "       [0.],\n",
              "       [0.],\n",
              "       [0.],\n",
              "       [0.],\n",
              "       [1.],\n",
              "       [1.],\n",
              "       [2.],\n",
              "       [0.],\n",
              "       [0.],\n",
              "       [1.],\n",
              "       [1.],\n",
              "       [1.],\n",
              "       [0.],\n",
              "       [0.],\n",
              "       [0.],\n",
              "       [1.],\n",
              "       [0.],\n",
              "       [0.],\n",
              "       [1.],\n",
              "       [0.],\n",
              "       [1.],\n",
              "       [2.],\n",
              "       [1.],\n",
              "       [1.],\n",
              "       [1.],\n",
              "       [1.],\n",
              "       [1.],\n",
              "       [1.],\n",
              "       [1.],\n",
              "       [1.],\n",
              "       [1.],\n",
              "       [2.],\n",
              "       [1.],\n",
              "       [3.],\n",
              "       [1.],\n",
              "       [1.],\n",
              "       [1.],\n",
              "       [1.],\n",
              "       [1.],\n",
              "       [1.],\n",
              "       [1.],\n",
              "       [1.],\n",
              "       [1.],\n",
              "       [1.],\n",
              "       [1.],\n",
              "       [1.],\n",
              "       [0.],\n",
              "       [1.],\n",
              "       [1.],\n",
              "       [1.],\n",
              "       [1.],\n",
              "       [0.],\n",
              "       [1.],\n",
              "       [1.],\n",
              "       [1.],\n",
              "       [0.],\n",
              "       [0.],\n",
              "       [0.],\n",
              "       [1.],\n",
              "       [1.],\n",
              "       [1.],\n",
              "       [2.],\n",
              "       [1.],\n",
              "       [1.],\n",
              "       [1.],\n",
              "       [1.],\n",
              "       [0.],\n",
              "       [1.],\n",
              "       [0.],\n",
              "       [1.],\n",
              "       [0.],\n",
              "       [1.],\n",
              "       [1.],\n",
              "       [3.],\n",
              "       [1.],\n",
              "       [2.],\n",
              "       [3.],\n",
              "       [1.],\n",
              "       [1.],\n",
              "       [0.],\n",
              "       [1.],\n",
              "       [1.],\n",
              "       [1.],\n",
              "       [0.],\n",
              "       [0.],\n",
              "       [0.],\n",
              "       [0.],\n",
              "       [2.],\n",
              "       [1.],\n",
              "       [1.],\n",
              "       [0.],\n",
              "       [1.],\n",
              "       [3.],\n",
              "       [1.],\n",
              "       [1.],\n",
              "       [1.],\n",
              "       [1.],\n",
              "       [3.],\n",
              "       [2.],\n",
              "       [1.],\n",
              "       [1.],\n",
              "       [1.],\n",
              "       [2.],\n",
              "       [1.],\n",
              "       [2.],\n",
              "       [2.],\n",
              "       [1.],\n",
              "       [1.],\n",
              "       [1.],\n",
              "       [1.],\n",
              "       [1.],\n",
              "       [2.],\n",
              "       [1.],\n",
              "       [1.],\n",
              "       [2.],\n",
              "       [1.],\n",
              "       [2.],\n",
              "       [1.],\n",
              "       [1.],\n",
              "       [1.],\n",
              "       [2.],\n",
              "       [3.],\n",
              "       [1.],\n",
              "       [1.],\n",
              "       [2.],\n",
              "       [2.],\n",
              "       [1.],\n",
              "       [1.],\n",
              "       [3.],\n",
              "       [5.],\n",
              "       [0.],\n",
              "       [3.],\n",
              "       [3.],\n",
              "       [1.],\n",
              "       [1.],\n",
              "       [1.],\n",
              "       [1.],\n",
              "       [0.],\n",
              "       [1.],\n",
              "       [1.],\n",
              "       [1.],\n",
              "       [2.],\n",
              "       [1.],\n",
              "       [2.],\n",
              "       [1.],\n",
              "       [1.],\n",
              "       [4.],\n",
              "       [1.],\n",
              "       [1.],\n",
              "       [2.],\n",
              "       [2.],\n",
              "       [5.],\n",
              "       [1.],\n",
              "       [2.],\n",
              "       [4.],\n",
              "       [2.],\n",
              "       [2.],\n",
              "       [0.],\n",
              "       [2.],\n",
              "       [3.],\n",
              "       [3.],\n",
              "       [2.],\n",
              "       [2.],\n",
              "       [2.],\n",
              "       [2.],\n",
              "       [2.],\n",
              "       [3.],\n",
              "       [4.],\n",
              "       [2.],\n",
              "       [4.],\n",
              "       [4.],\n",
              "       [4.],\n",
              "       [3.],\n",
              "       [3.],\n",
              "       [4.],\n",
              "       [3.],\n",
              "       [5.],\n",
              "       [3.],\n",
              "       [1.],\n",
              "       [3.],\n",
              "       [4.],\n",
              "       [3.],\n",
              "       [4.],\n",
              "       [4.],\n",
              "       [1.],\n",
              "       [0.],\n",
              "       [0.],\n",
              "       [6.],\n",
              "       [2.],\n",
              "       [1.],\n",
              "       [1.],\n",
              "       [1.],\n",
              "       [1.],\n",
              "       [1.],\n",
              "       [1.],\n",
              "       [5.],\n",
              "       [3.],\n",
              "       [4.],\n",
              "       [3.],\n",
              "       [1.],\n",
              "       [5.],\n",
              "       [3.],\n",
              "       [3.],\n",
              "       [7.],\n",
              "       [3.],\n",
              "       [3.],\n",
              "       [4.],\n",
              "       [5.],\n",
              "       [6.],\n",
              "       [9.],\n",
              "       [7.],\n",
              "       [5.],\n",
              "       [4.],\n",
              "       [9.],\n",
              "       [3.],\n",
              "       [3.],\n",
              "       [3.],\n",
              "       [3.],\n",
              "       [3.],\n",
              "       [3.],\n",
              "       [3.],\n",
              "       [2.],\n",
              "       [3.],\n",
              "       [3.],\n",
              "       [1.],\n",
              "       [5.],\n",
              "       [3.],\n",
              "       [7.],\n",
              "       [3.],\n",
              "       [3.],\n",
              "       [3.],\n",
              "       [6.],\n",
              "       [3.],\n",
              "       [3.],\n",
              "       [4.],\n",
              "       [5.],\n",
              "       [6.],\n",
              "       [2.],\n",
              "       [3.],\n",
              "       [3.],\n",
              "       [3.],\n",
              "       [3.],\n",
              "       [3.],\n",
              "       [3.],\n",
              "       [3.],\n",
              "       [3.],\n",
              "       [4.],\n",
              "       [3.],\n",
              "       [3.],\n",
              "       [3.],\n",
              "       [3.],\n",
              "       [3.],\n",
              "       [3.],\n",
              "       [3.],\n",
              "       [3.],\n",
              "       [5.],\n",
              "       [3.],\n",
              "       [3.],\n",
              "       [2.],\n",
              "       [0.],\n",
              "       [3.],\n",
              "       [6.],\n",
              "       [3.],\n",
              "       [4.],\n",
              "       [2.],\n",
              "       [5.],\n",
              "       [2.],\n",
              "       [1.],\n",
              "       [0.],\n",
              "       [1.],\n",
              "       [0.],\n",
              "       [2.],\n",
              "       [1.],\n",
              "       [1.],\n",
              "       [1.],\n",
              "       [1.],\n",
              "       [2.],\n",
              "       [3.],\n",
              "       [6.],\n",
              "       [4.],\n",
              "       [2.],\n",
              "       [4.],\n",
              "       [1.],\n",
              "       [2.],\n",
              "       [3.],\n",
              "       [1.],\n",
              "       [1.],\n",
              "       [1.],\n",
              "       [1.],\n",
              "       [2.],\n",
              "       [6.],\n",
              "       [4.],\n",
              "       [2.],\n",
              "       [1.],\n",
              "       [2.],\n",
              "       [1.],\n",
              "       [2.],\n",
              "       [3.],\n",
              "       [4.],\n",
              "       [3.],\n",
              "       [1.],\n",
              "       [2.],\n",
              "       [2.],\n",
              "       [0.],\n",
              "       [0.],\n",
              "       [0.],\n",
              "       [0.],\n",
              "       [0.],\n",
              "       [0.],\n",
              "       [0.],\n",
              "       [0.],\n",
              "       [0.],\n",
              "       [0.],\n",
              "       [0.],\n",
              "       [0.],\n",
              "       [0.],\n",
              "       [0.],\n",
              "       [5.],\n",
              "       [2.],\n",
              "       [3.],\n",
              "       [3.],\n",
              "       [5.],\n",
              "       [2.],\n",
              "       [2.],\n",
              "       [2.],\n",
              "       [2.],\n",
              "       [2.],\n",
              "       [3.],\n",
              "       [1.],\n",
              "       [2.],\n",
              "       [2.],\n",
              "       [4.],\n",
              "       [4.],\n",
              "       [2.],\n",
              "       [2.],\n",
              "       [7.],\n",
              "       [3.],\n",
              "       [1.],\n",
              "       [4.],\n",
              "       [2.],\n",
              "       [2.],\n",
              "       [1.],\n",
              "       [2.],\n",
              "       [4.],\n",
              "       [4.],\n",
              "       [3.],\n",
              "       [4.],\n",
              "       [3.],\n",
              "       [2.],\n",
              "       [4.],\n",
              "       [2.],\n",
              "       [5.],\n",
              "       [4.],\n",
              "       [4.],\n",
              "       [1.],\n",
              "       [2.],\n",
              "       [2.],\n",
              "       [2.],\n",
              "       [2.],\n",
              "       [3.],\n",
              "       [1.],\n",
              "       [2.],\n",
              "       [2.],\n",
              "       [3.],\n",
              "       [2.],\n",
              "       [4.],\n",
              "       [2.],\n",
              "       [2.],\n",
              "       [2.],\n",
              "       [2.],\n",
              "       [4.],\n",
              "       [2.],\n",
              "       [3.],\n",
              "       [2.],\n",
              "       [2.],\n",
              "       [2.],\n",
              "       [3.],\n",
              "       [7.],\n",
              "       [4.],\n",
              "       [2.],\n",
              "       [2.],\n",
              "       [2.],\n",
              "       [2.],\n",
              "       [3.],\n",
              "       [3.],\n",
              "       [3.],\n",
              "       [2.],\n",
              "       [2.],\n",
              "       [2.],\n",
              "       [2.],\n",
              "       [2.]])"
            ]
          },
          "metadata": {
            "tags": []
          },
          "execution_count": 39
        }
      ]
    },
    {
      "cell_type": "code",
      "metadata": {
        "id": "rrFaL5ArFSvG",
        "outputId": "58d8df46-b283-473d-f7d8-2b3f6b5e68e0",
        "colab": {
          "base_uri": "https://localhost:8080/",
          "height": 86
        }
      },
      "source": [
        "X = [[-2, 1, -4,   -1],\n",
        "     [-1, 2, -3, -0.5],\n",
        "     [ 0, 3, -2,  0.5],\n",
        "     [ 1, 4, -1,    2]]\n",
        "est = KBinsDiscretizer(n_bins=3, encode='ordinal', strategy='uniform')\n",
        "est.fit(X)\n",
        "\n",
        "Xt = est.transform(X)\n",
        "Xt"
      ],
      "execution_count": 40,
      "outputs": [
        {
          "output_type": "execute_result",
          "data": {
            "text/plain": [
              "array([[0., 0., 0., 0.],\n",
              "       [1., 1., 1., 0.],\n",
              "       [2., 2., 2., 1.],\n",
              "       [2., 2., 2., 2.]])"
            ]
          },
          "metadata": {
            "tags": []
          },
          "execution_count": 40
        }
      ]
    },
    {
      "cell_type": "markdown",
      "metadata": {
        "id": "Amn3-mCrFY5U"
      },
      "source": [
        "## Quantiles"
      ]
    },
    {
      "cell_type": "code",
      "metadata": {
        "id": "y-2og9d4Fcpp",
        "outputId": "c228fb6a-5860-4ed7-e27b-e3d446735a1d",
        "colab": {
          "base_uri": "https://localhost:8080/",
          "height": 52
        }
      },
      "source": [
        "kb = KBinsDiscretizer(n_bins=4, strategy='quantile',encode='ordinal')\n",
        "kb.fit(data[[\"lotsize\"]])\n",
        "print(\"bin edges: \\n\", kb.bin_edges_)"
      ],
      "execution_count": 41,
      "outputs": [
        {
          "output_type": "stream",
          "text": [
            "bin edges: \n",
            " [array([ 165.,  360.,  460.,  636., 1620.])]\n"
          ],
          "name": "stdout"
        }
      ]
    },
    {
      "cell_type": "code",
      "metadata": {
        "id": "PzzlAKGKFcps",
        "outputId": "70eebb36-2259-4930-ec1c-49f3da9573db",
        "colab": {
          "base_uri": "https://localhost:8080/",
          "height": 1000
        }
      },
      "source": [
        "X_binned = kb.transform(data[[\"lotsize\"]])\n",
        "X_binned"
      ],
      "execution_count": 42,
      "outputs": [
        {
          "output_type": "execute_result",
          "data": {
            "text/plain": [
              "array([[2.],\n",
              "       [1.],\n",
              "       [0.],\n",
              "       [3.],\n",
              "       [3.],\n",
              "       [1.],\n",
              "       [1.],\n",
              "       [1.],\n",
              "       [2.],\n",
              "       [2.],\n",
              "       [3.],\n",
              "       [0.],\n",
              "       [0.],\n",
              "       [0.],\n",
              "       [1.],\n",
              "       [0.],\n",
              "       [0.],\n",
              "       [2.],\n",
              "       [0.],\n",
              "       [1.],\n",
              "       [2.],\n",
              "       [1.],\n",
              "       [1.],\n",
              "       [1.],\n",
              "       [2.],\n",
              "       [0.],\n",
              "       [1.],\n",
              "       [2.],\n",
              "       [0.],\n",
              "       [1.],\n",
              "       [0.],\n",
              "       [0.],\n",
              "       [1.],\n",
              "       [1.],\n",
              "       [3.],\n",
              "       [1.],\n",
              "       [1.],\n",
              "       [2.],\n",
              "       [2.],\n",
              "       [0.],\n",
              "       [1.],\n",
              "       [1.],\n",
              "       [2.],\n",
              "       [3.],\n",
              "       [0.],\n",
              "       [0.],\n",
              "       [0.],\n",
              "       [0.],\n",
              "       [2.],\n",
              "       [0.],\n",
              "       [2.],\n",
              "       [1.],\n",
              "       [3.],\n",
              "       [1.],\n",
              "       [1.],\n",
              "       [1.],\n",
              "       [0.],\n",
              "       [3.],\n",
              "       [1.],\n",
              "       [0.],\n",
              "       [1.],\n",
              "       [2.],\n",
              "       [1.],\n",
              "       [2.],\n",
              "       [2.],\n",
              "       [2.],\n",
              "       [2.],\n",
              "       [2.],\n",
              "       [0.],\n",
              "       [1.],\n",
              "       [1.],\n",
              "       [0.],\n",
              "       [0.],\n",
              "       [0.],\n",
              "       [0.],\n",
              "       [0.],\n",
              "       [0.],\n",
              "       [0.],\n",
              "       [0.],\n",
              "       [3.],\n",
              "       [1.],\n",
              "       [0.],\n",
              "       [1.],\n",
              "       [0.],\n",
              "       [1.],\n",
              "       [3.],\n",
              "       [2.],\n",
              "       [0.],\n",
              "       [0.],\n",
              "       [0.],\n",
              "       [2.],\n",
              "       [2.],\n",
              "       [3.],\n",
              "       [3.],\n",
              "       [3.],\n",
              "       [3.],\n",
              "       [3.],\n",
              "       [3.],\n",
              "       [0.],\n",
              "       [0.],\n",
              "       [1.],\n",
              "       [0.],\n",
              "       [1.],\n",
              "       [0.],\n",
              "       [2.],\n",
              "       [2.],\n",
              "       [1.],\n",
              "       [1.],\n",
              "       [0.],\n",
              "       [1.],\n",
              "       [2.],\n",
              "       [1.],\n",
              "       [2.],\n",
              "       [1.],\n",
              "       [3.],\n",
              "       [1.],\n",
              "       [1.],\n",
              "       [1.],\n",
              "       [1.],\n",
              "       [3.],\n",
              "       [1.],\n",
              "       [3.],\n",
              "       [1.],\n",
              "       [2.],\n",
              "       [1.],\n",
              "       [1.],\n",
              "       [2.],\n",
              "       [3.],\n",
              "       [1.],\n",
              "       [2.],\n",
              "       [2.],\n",
              "       [1.],\n",
              "       [2.],\n",
              "       [1.],\n",
              "       [1.],\n",
              "       [2.],\n",
              "       [1.],\n",
              "       [3.],\n",
              "       [0.],\n",
              "       [1.],\n",
              "       [0.],\n",
              "       [0.],\n",
              "       [1.],\n",
              "       [1.],\n",
              "       [1.],\n",
              "       [1.],\n",
              "       [0.],\n",
              "       [1.],\n",
              "       [2.],\n",
              "       [2.],\n",
              "       [0.],\n",
              "       [0.],\n",
              "       [1.],\n",
              "       [1.],\n",
              "       [1.],\n",
              "       [0.],\n",
              "       [0.],\n",
              "       [0.],\n",
              "       [0.],\n",
              "       [1.],\n",
              "       [0.],\n",
              "       [2.],\n",
              "       [0.],\n",
              "       [0.],\n",
              "       [0.],\n",
              "       [1.],\n",
              "       [0.],\n",
              "       [0.],\n",
              "       [0.],\n",
              "       [0.],\n",
              "       [1.],\n",
              "       [0.],\n",
              "       [0.],\n",
              "       [1.],\n",
              "       [0.],\n",
              "       [1.],\n",
              "       [2.],\n",
              "       [0.],\n",
              "       [0.],\n",
              "       [1.],\n",
              "       [1.],\n",
              "       [1.],\n",
              "       [1.],\n",
              "       [0.],\n",
              "       [0.],\n",
              "       [0.],\n",
              "       [2.],\n",
              "       [0.],\n",
              "       [3.],\n",
              "       [0.],\n",
              "       [1.],\n",
              "       [1.],\n",
              "       [0.],\n",
              "       [0.],\n",
              "       [0.],\n",
              "       [1.],\n",
              "       [1.],\n",
              "       [1.],\n",
              "       [1.],\n",
              "       [0.],\n",
              "       [1.],\n",
              "       [0.],\n",
              "       [0.],\n",
              "       [0.],\n",
              "       [0.],\n",
              "       [1.],\n",
              "       [0.],\n",
              "       [1.],\n",
              "       [0.],\n",
              "       [1.],\n",
              "       [0.],\n",
              "       [0.],\n",
              "       [0.],\n",
              "       [0.],\n",
              "       [0.],\n",
              "       [1.],\n",
              "       [2.],\n",
              "       [0.],\n",
              "       [1.],\n",
              "       [0.],\n",
              "       [0.],\n",
              "       [0.],\n",
              "       [1.],\n",
              "       [0.],\n",
              "       [0.],\n",
              "       [0.],\n",
              "       [1.],\n",
              "       [0.],\n",
              "       [2.],\n",
              "       [1.],\n",
              "       [2.],\n",
              "       [3.],\n",
              "       [1.],\n",
              "       [1.],\n",
              "       [0.],\n",
              "       [1.],\n",
              "       [1.],\n",
              "       [1.],\n",
              "       [0.],\n",
              "       [0.],\n",
              "       [0.],\n",
              "       [0.],\n",
              "       [2.],\n",
              "       [1.],\n",
              "       [1.],\n",
              "       [0.],\n",
              "       [0.],\n",
              "       [3.],\n",
              "       [0.],\n",
              "       [0.],\n",
              "       [0.],\n",
              "       [0.],\n",
              "       [3.],\n",
              "       [2.],\n",
              "       [1.],\n",
              "       [0.],\n",
              "       [1.],\n",
              "       [2.],\n",
              "       [1.],\n",
              "       [2.],\n",
              "       [2.],\n",
              "       [1.],\n",
              "       [1.],\n",
              "       [1.],\n",
              "       [1.],\n",
              "       [1.],\n",
              "       [2.],\n",
              "       [1.],\n",
              "       [1.],\n",
              "       [2.],\n",
              "       [1.],\n",
              "       [2.],\n",
              "       [1.],\n",
              "       [1.],\n",
              "       [1.],\n",
              "       [2.],\n",
              "       [2.],\n",
              "       [1.],\n",
              "       [1.],\n",
              "       [2.],\n",
              "       [2.],\n",
              "       [1.],\n",
              "       [1.],\n",
              "       [3.],\n",
              "       [3.],\n",
              "       [0.],\n",
              "       [3.],\n",
              "       [3.],\n",
              "       [0.],\n",
              "       [0.],\n",
              "       [1.],\n",
              "       [1.],\n",
              "       [0.],\n",
              "       [1.],\n",
              "       [1.],\n",
              "       [0.],\n",
              "       [2.],\n",
              "       [0.],\n",
              "       [2.],\n",
              "       [1.],\n",
              "       [1.],\n",
              "       [3.],\n",
              "       [1.],\n",
              "       [1.],\n",
              "       [2.],\n",
              "       [2.],\n",
              "       [3.],\n",
              "       [0.],\n",
              "       [2.],\n",
              "       [3.],\n",
              "       [2.],\n",
              "       [2.],\n",
              "       [0.],\n",
              "       [2.],\n",
              "       [3.],\n",
              "       [2.],\n",
              "       [2.],\n",
              "       [2.],\n",
              "       [2.],\n",
              "       [2.],\n",
              "       [2.],\n",
              "       [2.],\n",
              "       [3.],\n",
              "       [2.],\n",
              "       [3.],\n",
              "       [3.],\n",
              "       [3.],\n",
              "       [3.],\n",
              "       [3.],\n",
              "       [3.],\n",
              "       [3.],\n",
              "       [3.],\n",
              "       [3.],\n",
              "       [1.],\n",
              "       [3.],\n",
              "       [3.],\n",
              "       [3.],\n",
              "       [3.],\n",
              "       [3.],\n",
              "       [1.],\n",
              "       [0.],\n",
              "       [0.],\n",
              "       [3.],\n",
              "       [2.],\n",
              "       [1.],\n",
              "       [1.],\n",
              "       [1.],\n",
              "       [1.],\n",
              "       [1.],\n",
              "       [1.],\n",
              "       [3.],\n",
              "       [3.],\n",
              "       [3.],\n",
              "       [3.],\n",
              "       [1.],\n",
              "       [3.],\n",
              "       [2.],\n",
              "       [3.],\n",
              "       [3.],\n",
              "       [3.],\n",
              "       [3.],\n",
              "       [3.],\n",
              "       [3.],\n",
              "       [3.],\n",
              "       [3.],\n",
              "       [3.],\n",
              "       [3.],\n",
              "       [3.],\n",
              "       [3.],\n",
              "       [2.],\n",
              "       [3.],\n",
              "       [3.],\n",
              "       [3.],\n",
              "       [3.],\n",
              "       [3.],\n",
              "       [3.],\n",
              "       [2.],\n",
              "       [3.],\n",
              "       [3.],\n",
              "       [1.],\n",
              "       [3.],\n",
              "       [3.],\n",
              "       [3.],\n",
              "       [3.],\n",
              "       [3.],\n",
              "       [3.],\n",
              "       [3.],\n",
              "       [3.],\n",
              "       [3.],\n",
              "       [3.],\n",
              "       [3.],\n",
              "       [3.],\n",
              "       [2.],\n",
              "       [3.],\n",
              "       [3.],\n",
              "       [3.],\n",
              "       [3.],\n",
              "       [3.],\n",
              "       [3.],\n",
              "       [3.],\n",
              "       [3.],\n",
              "       [3.],\n",
              "       [3.],\n",
              "       [3.],\n",
              "       [3.],\n",
              "       [3.],\n",
              "       [3.],\n",
              "       [3.],\n",
              "       [3.],\n",
              "       [3.],\n",
              "       [3.],\n",
              "       [3.],\n",
              "       [3.],\n",
              "       [2.],\n",
              "       [0.],\n",
              "       [3.],\n",
              "       [3.],\n",
              "       [3.],\n",
              "       [3.],\n",
              "       [2.],\n",
              "       [3.],\n",
              "       [2.],\n",
              "       [0.],\n",
              "       [0.],\n",
              "       [1.],\n",
              "       [0.],\n",
              "       [2.],\n",
              "       [0.],\n",
              "       [0.],\n",
              "       [1.],\n",
              "       [0.],\n",
              "       [2.],\n",
              "       [2.],\n",
              "       [3.],\n",
              "       [3.],\n",
              "       [2.],\n",
              "       [3.],\n",
              "       [0.],\n",
              "       [2.],\n",
              "       [3.],\n",
              "       [0.],\n",
              "       [1.],\n",
              "       [0.],\n",
              "       [1.],\n",
              "       [2.],\n",
              "       [3.],\n",
              "       [3.],\n",
              "       [2.],\n",
              "       [1.],\n",
              "       [2.],\n",
              "       [1.],\n",
              "       [2.],\n",
              "       [2.],\n",
              "       [3.],\n",
              "       [2.],\n",
              "       [1.],\n",
              "       [2.],\n",
              "       [2.],\n",
              "       [0.],\n",
              "       [0.],\n",
              "       [0.],\n",
              "       [0.],\n",
              "       [0.],\n",
              "       [0.],\n",
              "       [0.],\n",
              "       [0.],\n",
              "       [0.],\n",
              "       [0.],\n",
              "       [0.],\n",
              "       [0.],\n",
              "       [0.],\n",
              "       [0.],\n",
              "       [3.],\n",
              "       [2.],\n",
              "       [3.],\n",
              "       [2.],\n",
              "       [3.],\n",
              "       [2.],\n",
              "       [2.],\n",
              "       [2.],\n",
              "       [2.],\n",
              "       [2.],\n",
              "       [3.],\n",
              "       [1.],\n",
              "       [2.],\n",
              "       [2.],\n",
              "       [3.],\n",
              "       [3.],\n",
              "       [2.],\n",
              "       [2.],\n",
              "       [3.],\n",
              "       [2.],\n",
              "       [1.],\n",
              "       [3.],\n",
              "       [2.],\n",
              "       [2.],\n",
              "       [1.],\n",
              "       [2.],\n",
              "       [3.],\n",
              "       [3.],\n",
              "       [3.],\n",
              "       [3.],\n",
              "       [3.],\n",
              "       [2.],\n",
              "       [3.],\n",
              "       [2.],\n",
              "       [3.],\n",
              "       [3.],\n",
              "       [3.],\n",
              "       [1.],\n",
              "       [2.],\n",
              "       [2.],\n",
              "       [2.],\n",
              "       [2.],\n",
              "       [2.],\n",
              "       [0.],\n",
              "       [2.],\n",
              "       [2.],\n",
              "       [2.],\n",
              "       [2.],\n",
              "       [3.],\n",
              "       [2.],\n",
              "       [2.],\n",
              "       [2.],\n",
              "       [2.],\n",
              "       [3.],\n",
              "       [2.],\n",
              "       [2.],\n",
              "       [2.],\n",
              "       [2.],\n",
              "       [2.],\n",
              "       [3.],\n",
              "       [3.],\n",
              "       [3.],\n",
              "       [2.],\n",
              "       [2.],\n",
              "       [2.],\n",
              "       [2.],\n",
              "       [3.],\n",
              "       [3.],\n",
              "       [3.],\n",
              "       [2.],\n",
              "       [2.],\n",
              "       [2.],\n",
              "       [2.],\n",
              "       [2.]])"
            ]
          },
          "metadata": {
            "tags": []
          },
          "execution_count": 42
        }
      ]
    },
    {
      "cell_type": "markdown",
      "metadata": {
        "id": "dtcfmwxJqZCg"
      },
      "source": [
        "## Intervalles personnalisés"
      ]
    },
    {
      "cell_type": "code",
      "metadata": {
        "id": "sURYMKMGXLuz",
        "outputId": "1e361be9-9eb1-4bb4-adc4-6f814214c4d6",
        "colab": {
          "base_uri": "https://localhost:8080/",
          "height": 34
        }
      },
      "source": [
        "data[\"lotsize\"].max()"
      ],
      "execution_count": 43,
      "outputs": [
        {
          "output_type": "execute_result",
          "data": {
            "text/plain": [
              "1620"
            ]
          },
          "metadata": {
            "tags": []
          },
          "execution_count": 43
        }
      ]
    },
    {
      "cell_type": "code",
      "metadata": {
        "id": "jHx7jQerqZCh"
      },
      "source": [
        "bin_ranges = [0, 30, 60, 100, 200, 500,2000]\n",
        "bin_names = [1, 2, 3, 4, 5,6]\n",
        "\n",
        "data['lotsize_bin_custom_range'] = pd.cut(np.array(data['lotsize']), \n",
        "                                               bins=bin_ranges)\n",
        "data['lotsize_bin_custom_label'] = pd.cut(np.array(data['lotsize']), \n",
        "                                               bins=bin_ranges, labels=bin_names)\n"
      ],
      "execution_count": 44,
      "outputs": []
    },
    {
      "cell_type": "code",
      "metadata": {
        "id": "Cchuus-TXDYb",
        "outputId": "b2b21ccd-6e93-41af-8c09-206062cb49c4",
        "colab": {
          "base_uri": "https://localhost:8080/",
          "height": 206
        }
      },
      "source": [
        "data[[\"lotsize\",\"lotsize_bin_custom_range\",\"lotsize_bin_custom_label\"]].head()"
      ],
      "execution_count": 45,
      "outputs": [
        {
          "output_type": "execute_result",
          "data": {
            "text/html": [
              "<div>\n",
              "<style scoped>\n",
              "    .dataframe tbody tr th:only-of-type {\n",
              "        vertical-align: middle;\n",
              "    }\n",
              "\n",
              "    .dataframe tbody tr th {\n",
              "        vertical-align: top;\n",
              "    }\n",
              "\n",
              "    .dataframe thead th {\n",
              "        text-align: right;\n",
              "    }\n",
              "</style>\n",
              "<table border=\"1\" class=\"dataframe\">\n",
              "  <thead>\n",
              "    <tr style=\"text-align: right;\">\n",
              "      <th></th>\n",
              "      <th>lotsize</th>\n",
              "      <th>lotsize_bin_custom_range</th>\n",
              "      <th>lotsize_bin_custom_label</th>\n",
              "    </tr>\n",
              "  </thead>\n",
              "  <tbody>\n",
              "    <tr>\n",
              "      <th>0</th>\n",
              "      <td>585</td>\n",
              "      <td>(500, 2000]</td>\n",
              "      <td>6</td>\n",
              "    </tr>\n",
              "    <tr>\n",
              "      <th>1</th>\n",
              "      <td>400</td>\n",
              "      <td>(200, 500]</td>\n",
              "      <td>5</td>\n",
              "    </tr>\n",
              "    <tr>\n",
              "      <th>2</th>\n",
              "      <td>306</td>\n",
              "      <td>(200, 500]</td>\n",
              "      <td>5</td>\n",
              "    </tr>\n",
              "    <tr>\n",
              "      <th>3</th>\n",
              "      <td>665</td>\n",
              "      <td>(500, 2000]</td>\n",
              "      <td>6</td>\n",
              "    </tr>\n",
              "    <tr>\n",
              "      <th>4</th>\n",
              "      <td>636</td>\n",
              "      <td>(500, 2000]</td>\n",
              "      <td>6</td>\n",
              "    </tr>\n",
              "  </tbody>\n",
              "</table>\n",
              "</div>"
            ],
            "text/plain": [
              "   lotsize lotsize_bin_custom_range lotsize_bin_custom_label\n",
              "0      585              (500, 2000]                        6\n",
              "1      400               (200, 500]                        5\n",
              "2      306               (200, 500]                        5\n",
              "3      665              (500, 2000]                        6\n",
              "4      636              (500, 2000]                        6"
            ]
          },
          "metadata": {
            "tags": []
          },
          "execution_count": 45
        }
      ]
    },
    {
      "cell_type": "markdown",
      "metadata": {
        "id": "UUbif4h4HZcI"
      },
      "source": [
        "**Question** implémenter vous-mêmes la fonction `KBinsDiscretizer` avec la stratégie `quantile` à l'aide de la fonction de discrétisation personnalisée."
      ]
    },
    {
      "cell_type": "code",
      "metadata": {
        "id": "3BRQkinNHmJ9",
        "outputId": "b73a6243-0bd7-425d-b785-8f68c77e8c22",
        "colab": {
          "base_uri": "https://localhost:8080/",
          "height": 52
        }
      },
      "source": [
        "kb = KBinsDiscretizer(n_bins=4, strategy='quantile',encode='ordinal')\n",
        "kb.fit(data[[\"lotsize\"]])\n",
        "print(\"bin edges: \\n\", kb.bin_edges_)"
      ],
      "execution_count": 56,
      "outputs": [
        {
          "output_type": "stream",
          "text": [
            "bin edges: \n",
            " [array([ 165.,  360.,  460.,  636., 1620.])]\n"
          ],
          "name": "stdout"
        }
      ]
    },
    {
      "cell_type": "markdown",
      "metadata": {
        "id": "4KjAweif3kI0"
      },
      "source": [
        "# Regrouper les données avec le clustering"
      ]
    },
    {
      "cell_type": "code",
      "metadata": {
        "id": "3LFyzevI3kI0",
        "outputId": "6c97ef47-d4b1-44cc-ff07-09ef74066a06",
        "colab": {
          "base_uri": "https://localhost:8080/",
          "height": 206
        }
      },
      "source": [
        "import pandas as pd\n",
        "from sklearn.datasets import make_blobs\n",
        "from sklearn.cluster import KMeans\n",
        "\n",
        "features, _ = make_blobs(n_samples = 50,\n",
        "                         n_features = 2,\n",
        "                         centers = 3,\n",
        "                         random_state = 1)\n",
        "\n",
        "df = pd.DataFrame(features, columns=[\"feature_1\", \"feature_2\"])\n",
        "\n",
        "# créer le modèle de clustering avec kmeans\n",
        "clusterer = KMeans(3, random_state=0)\n",
        "\n",
        "# entrainer le kmeans\n",
        "clusterer.fit(features)\n",
        "\n",
        "# prédire les clusters\n",
        "df['group'] = clusterer.predict(features)\n",
        "\n",
        "df.head()"
      ],
      "execution_count": 57,
      "outputs": [
        {
          "output_type": "execute_result",
          "data": {
            "text/html": [
              "<div>\n",
              "<style scoped>\n",
              "    .dataframe tbody tr th:only-of-type {\n",
              "        vertical-align: middle;\n",
              "    }\n",
              "\n",
              "    .dataframe tbody tr th {\n",
              "        vertical-align: top;\n",
              "    }\n",
              "\n",
              "    .dataframe thead th {\n",
              "        text-align: right;\n",
              "    }\n",
              "</style>\n",
              "<table border=\"1\" class=\"dataframe\">\n",
              "  <thead>\n",
              "    <tr style=\"text-align: right;\">\n",
              "      <th></th>\n",
              "      <th>feature_1</th>\n",
              "      <th>feature_2</th>\n",
              "      <th>group</th>\n",
              "    </tr>\n",
              "  </thead>\n",
              "  <tbody>\n",
              "    <tr>\n",
              "      <th>0</th>\n",
              "      <td>-9.877554</td>\n",
              "      <td>-3.336145</td>\n",
              "      <td>2</td>\n",
              "    </tr>\n",
              "    <tr>\n",
              "      <th>1</th>\n",
              "      <td>-7.287210</td>\n",
              "      <td>-8.353986</td>\n",
              "      <td>0</td>\n",
              "    </tr>\n",
              "    <tr>\n",
              "      <th>2</th>\n",
              "      <td>-6.943061</td>\n",
              "      <td>-7.023744</td>\n",
              "      <td>0</td>\n",
              "    </tr>\n",
              "    <tr>\n",
              "      <th>3</th>\n",
              "      <td>-7.440167</td>\n",
              "      <td>-8.791959</td>\n",
              "      <td>0</td>\n",
              "    </tr>\n",
              "    <tr>\n",
              "      <th>4</th>\n",
              "      <td>-6.641388</td>\n",
              "      <td>-8.075888</td>\n",
              "      <td>0</td>\n",
              "    </tr>\n",
              "  </tbody>\n",
              "</table>\n",
              "</div>"
            ],
            "text/plain": [
              "   feature_1  feature_2  group\n",
              "0  -9.877554  -3.336145      2\n",
              "1  -7.287210  -8.353986      0\n",
              "2  -6.943061  -7.023744      0\n",
              "3  -7.440167  -8.791959      0\n",
              "4  -6.641388  -8.075888      0"
            ]
          },
          "metadata": {
            "tags": []
          },
          "execution_count": 57
        }
      ]
    },
    {
      "cell_type": "code",
      "metadata": {
        "id": "dawygO9aNmsT",
        "outputId": "2a5f09de-5381-4691-ad2d-c938bd61163f",
        "colab": {
          "base_uri": "https://localhost:8080/",
          "height": 282
        }
      },
      "source": [
        "import matplotlib.pyplot as plt\n",
        "\n",
        "plt.scatter(df[\"feature_1\"],df[\"feature_2\"])"
      ],
      "execution_count": 58,
      "outputs": [
        {
          "output_type": "execute_result",
          "data": {
            "text/plain": [
              "<matplotlib.collections.PathCollection at 0x7f4a78180cc0>"
            ]
          },
          "metadata": {
            "tags": []
          },
          "execution_count": 58
        },
        {
          "output_type": "display_data",
          "data": {
            "image/png": "[encoded data removed]",
            "text/plain": [
              "<Figure size 432x288 with 1 Axes>"
            ]
          },
          "metadata": {
            "tags": [],
            "needs_background": "light"
          }
        }
      ]
    },
    {
      "cell_type": "code",
      "metadata": {
        "id": "9FQNIyToRi9y",
        "outputId": "79828b2c-5838-426c-aa22-54511b31cb21",
        "colab": {
          "base_uri": "https://localhost:8080/",
          "height": 282
        }
      },
      "source": [
        "plt.scatter(df[\"feature_1\"],df[\"feature_2\"],c=df[\"group\"])"
      ],
      "execution_count": 59,
      "outputs": [
        {
          "output_type": "execute_result",
          "data": {
            "text/plain": [
              "<matplotlib.collections.PathCollection at 0x7f4a780fa518>"
            ]
          },
          "metadata": {
            "tags": []
          },
          "execution_count": 59
        },
        {
          "output_type": "display_data",
          "data": {
            "image/png": "[encoded data removed]",
            "text/plain": [
              "<Figure size 432x288 with 1 Axes>"
            ]
          },
          "metadata": {
            "tags": [],
            "needs_background": "light"
          }
        }
      ]
    },
    {
      "cell_type": "markdown",
      "metadata": {
        "id": "1PKPHhYaqZCz"
      },
      "source": [
        "# Transformation log"
      ]
    },
    {
      "cell_type": "markdown",
      "metadata": {
        "id": "_GApB6TNG5P9"
      },
      "source": [
        "## Analyse de la distribution"
      ]
    },
    {
      "cell_type": "code",
      "metadata": {
        "id": "f5u3Fo8JN9nM"
      },
      "source": [
        "from scipy.stats import skew\n",
        "from scipy.stats import norm\n",
        "from scipy import stats\n",
        "import numpy as np\n"
      ],
      "execution_count": 60,
      "outputs": []
    },
    {
      "cell_type": "code",
      "metadata": {
        "id": "1829-thnOUKZ",
        "outputId": "2d126450-696f-456d-9c87-e2cfd03b7f51",
        "colab": {
          "base_uri": "https://localhost:8080/",
          "height": 52
        }
      },
      "source": [
        "print(\"Skewness: %f\" % data['price'].skew())\n",
        "print(\"Kurtosis: %f\" % data['price'].kurt())\n"
      ],
      "execution_count": null,
      "outputs": [
        {
          "output_type": "stream",
          "text": [
            "Skewness: 1.209829\n",
            "Kurtosis: 1.959740\n"
          ],
          "name": "stdout"
        }
      ]
    },
    {
      "cell_type": "code",
      "metadata": {
        "id": "PPlJCL8CO-Vw",
        "outputId": "7cf37cc5-1941-43cd-fbd5-d79801df1a05",
        "colab": {
          "base_uri": "https://localhost:8080/",
          "height": 69
        }
      },
      "source": [
        "(mu, sigma) = norm.fit(data['price'])\n",
        "print( '\\n mu = {:.2f} and sigma = {:.2f}\\n'.format(mu, sigma))\n"
      ],
      "execution_count": 61,
      "outputs": [
        {
          "output_type": "stream",
          "text": [
            "\n",
            " mu = 681215.97 and sigma = 266782.07\n",
            "\n"
          ],
          "name": "stdout"
        }
      ]
    },
    {
      "cell_type": "code",
      "metadata": {
        "id": "htEtNmaK1sfc",
        "outputId": "1b88a265-4871-4297-c676-0c8227c687b8",
        "colab": {
          "base_uri": "https://localhost:8080/",
          "height": 623
        }
      },
      "source": [
        "# On visualise l'histogramme\n",
        "\n",
        "sns.distplot(data['price'], fit=norm);\n",
        "\n",
        "plt.legend(['Normal dist. ($\\mu=$ {:.2f} and $\\sigma=$ {:.2f} )'.format(mu, sigma)], loc='best')\n",
        "plt.ylabel('Densité de probabilité')\n",
        "fig = plt.figure()\n",
        "res = stats.probplot(data['price'],plot=plt)\n",
        "plt.show()\n"
      ],
      "execution_count": 62,
      "outputs": [
        {
          "output_type": "stream",
          "text": [
            "/usr/local/lib/python3.6/dist-packages/seaborn/distributions.py:2551: FutureWarning: `distplot` is a deprecated function and will be removed in a future version. Please adapt your code to use either `displot` (a figure-level function with similar flexibility) or `histplot` (an axes-level function for histograms).\n",
            "  warnings.warn(msg, FutureWarning)\n"
          ],
          "name": "stderr"
        },
        {
          "output_type": "display_data",
          "data": {
            "image/png": "[encoded data removed]",
            "text/plain": [
              "<Figure size 432x288 with 1 Axes>"
            ]
          },
          "metadata": {
            "tags": [],
            "needs_background": "light"
          }
        },
        {
          "output_type": "display_data",
          "data": {
            "image/png": "[encoded data removed]",
            "text/plain": [
              "<Figure size 432x288 with 1 Axes>"
            ]
          },
          "metadata": {
            "tags": [],
            "needs_background": "light"
          }
        }
      ]
    },
    {
      "cell_type": "markdown",
      "metadata": {
        "id": "Ksgwa7elG9X3"
      },
      "source": [
        "## Transformation log"
      ]
    },
    {
      "cell_type": "code",
      "metadata": {
        "id": "oifN2qqV1sfu"
      },
      "source": [
        "data['log_price'] = np.log(data['price'])"
      ],
      "execution_count": 63,
      "outputs": []
    },
    {
      "cell_type": "code",
      "metadata": {
        "id": "abaRLuz2Pb5W",
        "outputId": "356d3f72-6e27-4195-89d8-d7d9f8a7e342",
        "colab": {
          "base_uri": "https://localhost:8080/",
          "height": 69
        }
      },
      "source": [
        "(mu, sigma) = norm.fit(data['log_price'])\n",
        "print( '\\n mu = {:.2f} and sigma = {:.2f}\\n'.format(mu, sigma))"
      ],
      "execution_count": 64,
      "outputs": [
        {
          "output_type": "stream",
          "text": [
            "\n",
            " mu = 13.36 and sigma = 0.37\n",
            "\n"
          ],
          "name": "stdout"
        }
      ]
    },
    {
      "cell_type": "code",
      "metadata": {
        "id": "Qbophvp0PdaQ",
        "outputId": "24bdbdcd-b53c-4b8e-9dd1-8f9c014b8861",
        "colab": {
          "base_uri": "https://localhost:8080/",
          "height": 52
        }
      },
      "source": [
        "print(\"Skewness: %f\" % data['log_price'].skew())\n",
        "print(\"Kurtosis: %f\" % data['log_price'].kurt())"
      ],
      "execution_count": 65,
      "outputs": [
        {
          "output_type": "stream",
          "text": [
            "Skewness: 0.137613\n",
            "Kurtosis: -0.137420\n"
          ],
          "name": "stdout"
        }
      ]
    },
    {
      "cell_type": "code",
      "metadata": {
        "id": "mS-pB_HY1sf-",
        "outputId": "f23ca752-35d5-44f1-ad2d-46028ad7c714",
        "colab": {
          "base_uri": "https://localhost:8080/",
          "height": 613
        }
      },
      "source": [
        "# On visualise l 'histogramme\n",
        "sns.distplot(data['log_price'], fit=norm);\n",
        "\n",
        "plt.legend(['Normal dist. ($\\mu=$ {:.2f} and $\\sigma=$ {:.2f} )'.format(mu, sigma)], loc='best')\n",
        "\n",
        "fig = plt.figure()\n",
        "res = stats.probplot(data['log_price'],plot=plt)\n",
        "plt.show()\n"
      ],
      "execution_count": 66,
      "outputs": [
        {
          "output_type": "stream",
          "text": [
            "/usr/local/lib/python3.6/dist-packages/seaborn/distributions.py:2551: FutureWarning: `distplot` is a deprecated function and will be removed in a future version. Please adapt your code to use either `displot` (a figure-level function with similar flexibility) or `histplot` (an axes-level function for histograms).\n",
            "  warnings.warn(msg, FutureWarning)\n"
          ],
          "name": "stderr"
        },
        {
          "output_type": "display_data",
          "data": {
            "image/png": "[encoded data removed]",
            "text/plain": [
              "<Figure size 432x288 with 1 Axes>"
            ]
          },
          "metadata": {
            "tags": [],
            "needs_background": "light"
          }
        },
        {
          "output_type": "display_data",
          "data": {
            "image/png": "[encoded data removed]",
            "text/plain": [
              "<Figure size 432x288 with 1 Axes>"
            ]
          },
          "metadata": {
            "tags": [],
            "needs_background": "light"
          }
        }
      ]
    },
    {
      "cell_type": "markdown",
      "metadata": {
        "id": "8ui_O8hDigCN"
      },
      "source": [
        "# Exercice"
      ]
    },
    {
      "cell_type": "markdown",
      "metadata": {
        "id": "vOHaNZeBihPA"
      },
      "source": [
        "**Question** construire la régression linéaire sur les ventes immobilières après une transformation log de la variable `price`.\n",
        "\n",
        "Comparer la performance de modèle."
      ]
    },
    {
      "cell_type": "code",
      "metadata": {
        "id": "L2iOmRgrig1s",
        "outputId": "00c4f6ed-8dd1-4051-90db-c4f1fc83114e",
        "colab": {
          "base_uri": "https://localhost:8080/",
          "height": 290
        }
      },
      "source": [
        "x = data[[\"log_price\"]]\n",
        "y = data[[\"price\"]]\n",
        "# importer le package qui contient le modèle linéaire\n",
        "from sklearn.linear_model import LinearRegression\n",
        "import matplotlib.pyplot as plt\n",
        "\n",
        "# créer le modèle\n",
        "model = LinearRegression()\n",
        "# entraîner le modèle\n",
        "model.fit(x,y)\n",
        "\n",
        "plt.scatter(x,y)\n",
        "plt.plot(x,model.predict(x),color = \"black\")\n",
        "plt.xlabel('log')\n",
        "plt.ylabel('price')\n",
        "plt.show()"
      ],
      "execution_count": 67,
      "outputs": [
        {
          "output_type": "display_data",
          "data": {
            "image/png": "[encoded data removed]",
            "text/plain": [
              "<Figure size 432x288 with 1 Axes>"
            ]
          },
          "metadata": {
            "tags": [],
            "needs_background": "light"
          }
        }
      ]
    }
  ]
}