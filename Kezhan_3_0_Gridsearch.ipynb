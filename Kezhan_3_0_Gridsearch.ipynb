{
  "nbformat": 4,
  "nbformat_minor": 0,
  "metadata": {
    "colab": {
      "name": "Kezhan - 3.0 Gridsearch.ipynb",
      "provenance": [],
      "collapsed_sections": [],
      "toc_visible": true,
      "include_colab_link": true
    },
    "kernelspec": {
      "name": "python3",
      "display_name": "Python 3"
    }
  },
  "cells": [
    {
      "cell_type": "markdown",
      "metadata": {
        "id": "view-in-github",
        "colab_type": "text"
      },
      "source": [
        "<a href=\"https://colab.research.google.com/github/Ghalia671/MODULE1/blob/master/Kezhan_3_0_Gridsearch.ipynb\" target=\"_parent\"><img src=\"https://colab.research.google.com/assets/colab-badge.svg\" alt=\"Open In Colab\"/></a>"
      ]
    },
    {
      "cell_type": "code",
      "metadata": {
        "id": "XC20GI7Hn4qv"
      },
      "source": [
        "import numpy as np\n",
        "np.random.seed(1)\n",
        "\n",
        "nsample=50\n",
        "X=np.concatenate((np.random.normal(0.5,0.05,nsample),\n",
        "                np.random.normal(0.2,0.05,nsample),\n",
        "                np.random.normal(0.8,0.05,nsample))).reshape(-1,1)\n",
        "\n",
        "y=np.concatenate((np.repeat(1,nsample),np.repeat(0,2*nsample)))"
      ],
      "execution_count": 1,
      "outputs": []
    },
    {
      "cell_type": "code",
      "metadata": {
        "id": "2XyTpchgAnpJ"
      },
      "source": [
        "import numpy as np\n",
        "X=np.array([[-1.51], [-1.29], [-1.18], [-0.64],\n",
        "[-0.53], [-0.09], [0.13], [0.35],\n",
        "[0.89], [1.11], [1.33], [1.44]])\n",
        "y=np.array([[0], [0], [0], [0],\n",
        "[1], [1], [1], [1],\n",
        "[0], [0], [0], [0]])"
      ],
      "execution_count": 2,
      "outputs": []
    },
    {
      "cell_type": "code",
      "metadata": {
        "id": "bQjTfVFBnJoc",
        "outputId": "b564e66e-dcf0-443f-d8bd-950aa6addd03",
        "colab": {
          "base_uri": "https://localhost:8080/",
          "height": 282
        }
      },
      "source": [
        "import matplotlib.pyplot as plt\n",
        "plt.scatter(X,y)"
      ],
      "execution_count": 3,
      "outputs": [
        {
          "output_type": "execute_result",
          "data": {
            "text/plain": [
              "<matplotlib.collections.PathCollection at 0x7fa233e36d68>"
            ]
          },
          "metadata": {
            "tags": []
          },
          "execution_count": 3
        },
        {
          "output_type": "display_data",
          "data": {
            "image/png": "[encoded data removed]",
            "text/plain": [
              "<Figure size 432x288 with 1 Axes>"
            ]
          },
          "metadata": {
            "tags": [],
            "needs_background": "light"
          }
        }
      ]
    },
    {
      "cell_type": "code",
      "metadata": {
        "id": "ZVN2rPvgpkL7",
        "outputId": "013916e7-fbfc-4c28-a43a-ea8e5244293d",
        "colab": {
          "base_uri": "https://localhost:8080/",
          "height": 89
        }
      },
      "source": [
        "from sklearn.linear_model import LogisticRegression\n",
        "clf = LogisticRegression(max_iter=8000)\n",
        "clf.fit(X, y)\n",
        "clf.score(X, y)"
      ],
      "execution_count": 4,
      "outputs": [
        {
          "output_type": "stream",
          "text": [
            "/usr/local/lib/python3.6/dist-packages/sklearn/utils/validation.py:760: DataConversionWarning: A column-vector y was passed when a 1d array was expected. Please change the shape of y to (n_samples, ), for example using ravel().\n",
            "  y = column_or_1d(y, warn=True)\n"
          ],
          "name": "stderr"
        },
        {
          "output_type": "execute_result",
          "data": {
            "text/plain": [
              "0.6666666666666666"
            ]
          },
          "metadata": {
            "tags": []
          },
          "execution_count": 4
        }
      ]
    },
    {
      "cell_type": "code",
      "metadata": {
        "id": "fu1iDjMMprSb",
        "outputId": "3b2ae736-fa50-4faa-a843-a3daaa9789aa",
        "colab": {
          "base_uri": "https://localhost:8080/",
          "height": 34
        }
      },
      "source": [
        "clf.predict(X)"
      ],
      "execution_count": 5,
      "outputs": [
        {
          "output_type": "execute_result",
          "data": {
            "text/plain": [
              "array([0, 0, 0, 0, 0, 0, 0, 0, 0, 0, 0, 0])"
            ]
          },
          "metadata": {
            "tags": []
          },
          "execution_count": 5
        }
      ]
    },
    {
      "cell_type": "code",
      "metadata": {
        "id": "GpZma_oyq3km",
        "outputId": "14f72afd-d287-4a07-988f-084fb2bff410",
        "colab": {
          "base_uri": "https://localhost:8080/",
          "height": 282
        }
      },
      "source": [
        "xseq=np.linspace(-10,5,1000).reshape(-1,1)\n",
        "plt.scatter(X,y)\n",
        "plt.plot(xseq,clf.predict(xseq),c=\"red\")"
      ],
      "execution_count": 6,
      "outputs": [
        {
          "output_type": "execute_result",
          "data": {
            "text/plain": [
              "[<matplotlib.lines.Line2D at 0x7fa226d60470>]"
            ]
          },
          "metadata": {
            "tags": []
          },
          "execution_count": 6
        },
        {
          "output_type": "display_data",
          "data": {
            "image/png": "[encoded data removed]",
            "text/plain": [
              "<Figure size 432x288 with 1 Axes>"
            ]
          },
          "metadata": {
            "tags": [],
            "needs_background": "light"
          }
        }
      ]
    },
    {
      "cell_type": "code",
      "metadata": {
        "id": "K_Zri1SKrcSB",
        "outputId": "0a9b6a52-0e90-49cd-c327-12d8c3e6eade",
        "colab": {
          "base_uri": "https://localhost:8080/",
          "height": 52
        }
      },
      "source": [
        "from sklearn.metrics import confusion_matrix\n",
        "confusion_matrix(clf.predict(X),y)"
      ],
      "execution_count": 7,
      "outputs": [
        {
          "output_type": "execute_result",
          "data": {
            "text/plain": [
              "array([[8, 4],\n",
              "       [0, 0]])"
            ]
          },
          "metadata": {
            "tags": []
          },
          "execution_count": 7
        }
      ]
    },
    {
      "cell_type": "markdown",
      "metadata": {
        "id": "sM6n5SXB3ibU"
      },
      "source": [
        "# Tuning d'un paramètre"
      ]
    },
    {
      "cell_type": "markdown",
      "metadata": {
        "id": "Ggb5NZPV7AWv"
      },
      "source": [
        "## Données"
      ]
    },
    {
      "cell_type": "code",
      "metadata": {
        "id": "Pco_afK53q8r"
      },
      "source": [
        "from sklearn.datasets import load_iris\n",
        "from sklearn.datasets import load_breast_cancer\n",
        "import numpy as np\n",
        "\n",
        "iris = load_iris()\n",
        "cancer=load_breast_cancer()\n",
        "\n",
        "X = iris.data\n",
        "y = iris.target"
      ],
      "execution_count": 8,
      "outputs": []
    },
    {
      "cell_type": "markdown",
      "metadata": {
        "id": "peBUAFIb7ELM"
      },
      "source": [
        "## Modèle"
      ]
    },
    {
      "cell_type": "code",
      "metadata": {
        "id": "YaUC7Omg3q8t"
      },
      "source": [
        "from sklearn.svm import SVC\n",
        "from sklearn.model_selection import train_test_split"
      ],
      "execution_count": 9,
      "outputs": []
    },
    {
      "cell_type": "markdown",
      "metadata": {
        "id": "2mcbonDJ7Jtx"
      },
      "source": [
        "## Hyperparamètres"
      ]
    },
    {
      "cell_type": "code",
      "metadata": {
        "id": "M_9M1BrB7IdF",
        "outputId": "6f315733-c685-48ac-bef8-b2b7c18cd90c",
        "colab": {
          "base_uri": "https://localhost:8080/",
          "height": 52
        }
      },
      "source": [
        "param_grid = {'C': [0.001, 0.01, 0.1, 1, 10, 20,100]}\n",
        "\n",
        "print(\"Parameter grid:\\n{}\".format(param_grid))"
      ],
      "execution_count": 10,
      "outputs": [
        {
          "output_type": "stream",
          "text": [
            "Parameter grid:\n",
            "{'C': [0.001, 0.01, 0.1, 1, 10, 20, 100]}\n"
          ],
          "name": "stdout"
        }
      ]
    },
    {
      "cell_type": "markdown",
      "metadata": {
        "id": "fR1rgg7-7No0"
      },
      "source": [
        "## Apprentissage"
      ]
    },
    {
      "cell_type": "code",
      "metadata": {
        "id": "OF9p-WOj31pW"
      },
      "source": [
        "from sklearn.model_selection import GridSearchCV\n",
        "from sklearn.svm import SVC\n",
        "\n",
        "grid_search = GridSearchCV(SVC(), param_grid, cv=5,\n",
        "                          return_train_score=True)"
      ],
      "execution_count": 11,
      "outputs": []
    },
    {
      "cell_type": "code",
      "metadata": {
        "id": "5WJm-Ah531pa"
      },
      "source": [
        "X_train, X_test, y_train, y_test = train_test_split(X, y, random_state=0)"
      ],
      "execution_count": 12,
      "outputs": []
    },
    {
      "cell_type": "code",
      "metadata": {
        "id": "zR9e9XOs31pd",
        "outputId": "168a53ec-a1dd-4dbf-f865-9305256a7bd3",
        "colab": {
          "base_uri": "https://localhost:8080/",
          "height": 208
        }
      },
      "source": [
        "grid_search.fit(X_train, y_train)"
      ],
      "execution_count": 13,
      "outputs": [
        {
          "output_type": "execute_result",
          "data": {
            "text/plain": [
              "GridSearchCV(cv=5, error_score=nan,\n",
              "             estimator=SVC(C=1.0, break_ties=False, cache_size=200,\n",
              "                           class_weight=None, coef0=0.0,\n",
              "                           decision_function_shape='ovr', degree=3,\n",
              "                           gamma='scale', kernel='rbf', max_iter=-1,\n",
              "                           probability=False, random_state=None, shrinking=True,\n",
              "                           tol=0.001, verbose=False),\n",
              "             iid='deprecated', n_jobs=None,\n",
              "             param_grid={'C': [0.001, 0.01, 0.1, 1, 10, 20, 100]},\n",
              "             pre_dispatch='2*n_jobs', refit=True, return_train_score=True,\n",
              "             scoring=None, verbose=0)"
            ]
          },
          "metadata": {
            "tags": []
          },
          "execution_count": 13
        }
      ]
    },
    {
      "cell_type": "markdown",
      "metadata": {
        "id": "53khIfb97WI2"
      },
      "source": [
        "## Résultats"
      ]
    },
    {
      "cell_type": "code",
      "metadata": {
        "id": "-dN5dAgD4Bsn",
        "outputId": "ca2591fb-6166-4454-d0d8-f34324189bdf",
        "colab": {
          "base_uri": "https://localhost:8080/",
          "height": 34
        }
      },
      "source": [
        "print(\"Test set score: {:.2f}\".format(grid_search.score(X_test, y_test)))"
      ],
      "execution_count": 14,
      "outputs": [
        {
          "output_type": "stream",
          "text": [
            "Test set score: 0.97\n"
          ],
          "name": "stdout"
        }
      ]
    },
    {
      "cell_type": "code",
      "metadata": {
        "id": "T_rysW9yxBs3",
        "outputId": "cdb3b8d5-7ffb-40f2-a41c-dfae26774592",
        "colab": {
          "base_uri": "https://localhost:8080/",
          "height": 86
        }
      },
      "source": [
        "grid_search.best_estimator_"
      ],
      "execution_count": 15,
      "outputs": [
        {
          "output_type": "execute_result",
          "data": {
            "text/plain": [
              "SVC(C=10, break_ties=False, cache_size=200, class_weight=None, coef0=0.0,\n",
              "    decision_function_shape='ovr', degree=3, gamma='scale', kernel='rbf',\n",
              "    max_iter=-1, probability=False, random_state=None, shrinking=True,\n",
              "    tol=0.001, verbose=False)"
            ]
          },
          "metadata": {
            "tags": []
          },
          "execution_count": 15
        }
      ]
    },
    {
      "cell_type": "code",
      "metadata": {
        "id": "xnSuUl2A4Bsq",
        "outputId": "6ec1cf5f-c0b5-49b6-ff64-72cc69229cfe",
        "colab": {
          "base_uri": "https://localhost:8080/",
          "height": 52
        }
      },
      "source": [
        "print(\"Best parameters: {}\".format(grid_search.best_params_))\n",
        "print(\"Best cross-validation score: {:.2f}\".format(grid_search.best_score_))"
      ],
      "execution_count": 16,
      "outputs": [
        {
          "output_type": "stream",
          "text": [
            "Best parameters: {'C': 10}\n",
            "Best cross-validation score: 0.97\n"
          ],
          "name": "stdout"
        }
      ]
    },
    {
      "cell_type": "code",
      "metadata": {
        "id": "R1YO_jAa4Bst",
        "outputId": "c2c886b1-724d-42a0-ac5a-2d2471cd6de3",
        "colab": {
          "base_uri": "https://localhost:8080/",
          "height": 104
        }
      },
      "source": [
        "print(\"Best estimator:\\n{}\".format(grid_search.best_estimator_))"
      ],
      "execution_count": 17,
      "outputs": [
        {
          "output_type": "stream",
          "text": [
            "Best estimator:\n",
            "SVC(C=10, break_ties=False, cache_size=200, class_weight=None, coef0=0.0,\n",
            "    decision_function_shape='ovr', degree=3, gamma='scale', kernel='rbf',\n",
            "    max_iter=-1, probability=False, random_state=None, shrinking=True,\n",
            "    tol=0.001, verbose=False)\n"
          ],
          "name": "stdout"
        }
      ]
    },
    {
      "cell_type": "markdown",
      "metadata": {
        "id": "dRh7t2FE7Ysy"
      },
      "source": [
        "## Visualisation"
      ]
    },
    {
      "cell_type": "code",
      "metadata": {
        "id": "2sVCjW4_4peq",
        "outputId": "e3d63cff-3ded-4bca-9cc3-61ad58e84115",
        "colab": {
          "base_uri": "https://localhost:8080/",
          "height": 358
        }
      },
      "source": [
        "import pandas as pd\n",
        "results = pd.DataFrame(grid_search.cv_results_)\n",
        "\n",
        "results"
      ],
      "execution_count": 18,
      "outputs": [
        {
          "output_type": "execute_result",
          "data": {
            "text/html": [
              "<div>\n",
              "<style scoped>\n",
              "    .dataframe tbody tr th:only-of-type {\n",
              "        vertical-align: middle;\n",
              "    }\n",
              "\n",
              "    .dataframe tbody tr th {\n",
              "        vertical-align: top;\n",
              "    }\n",
              "\n",
              "    .dataframe thead th {\n",
              "        text-align: right;\n",
              "    }\n",
              "</style>\n",
              "<table border=\"1\" class=\"dataframe\">\n",
              "  <thead>\n",
              "    <tr style=\"text-align: right;\">\n",
              "      <th></th>\n",
              "      <th>mean_fit_time</th>\n",
              "      <th>std_fit_time</th>\n",
              "      <th>mean_score_time</th>\n",
              "      <th>std_score_time</th>\n",
              "      <th>param_C</th>\n",
              "      <th>params</th>\n",
              "      <th>split0_test_score</th>\n",
              "      <th>split1_test_score</th>\n",
              "      <th>split2_test_score</th>\n",
              "      <th>split3_test_score</th>\n",
              "      <th>split4_test_score</th>\n",
              "      <th>mean_test_score</th>\n",
              "      <th>std_test_score</th>\n",
              "      <th>rank_test_score</th>\n",
              "      <th>split0_train_score</th>\n",
              "      <th>split1_train_score</th>\n",
              "      <th>split2_train_score</th>\n",
              "      <th>split3_train_score</th>\n",
              "      <th>split4_train_score</th>\n",
              "      <th>mean_train_score</th>\n",
              "      <th>std_train_score</th>\n",
              "    </tr>\n",
              "  </thead>\n",
              "  <tbody>\n",
              "    <tr>\n",
              "      <th>0</th>\n",
              "      <td>0.001954</td>\n",
              "      <td>0.001052</td>\n",
              "      <td>0.000479</td>\n",
              "      <td>0.000131</td>\n",
              "      <td>0.001</td>\n",
              "      <td>{'C': 0.001}</td>\n",
              "      <td>0.347826</td>\n",
              "      <td>0.347826</td>\n",
              "      <td>0.363636</td>\n",
              "      <td>0.363636</td>\n",
              "      <td>0.409091</td>\n",
              "      <td>0.366403</td>\n",
              "      <td>0.022485</td>\n",
              "      <td>6</td>\n",
              "      <td>0.370787</td>\n",
              "      <td>0.370787</td>\n",
              "      <td>0.366667</td>\n",
              "      <td>0.366667</td>\n",
              "      <td>0.355556</td>\n",
              "      <td>0.366092</td>\n",
              "      <td>0.005581</td>\n",
              "    </tr>\n",
              "    <tr>\n",
              "      <th>1</th>\n",
              "      <td>0.000823</td>\n",
              "      <td>0.000019</td>\n",
              "      <td>0.000321</td>\n",
              "      <td>0.000013</td>\n",
              "      <td>0.01</td>\n",
              "      <td>{'C': 0.01}</td>\n",
              "      <td>0.347826</td>\n",
              "      <td>0.347826</td>\n",
              "      <td>0.363636</td>\n",
              "      <td>0.363636</td>\n",
              "      <td>0.409091</td>\n",
              "      <td>0.366403</td>\n",
              "      <td>0.022485</td>\n",
              "      <td>6</td>\n",
              "      <td>0.370787</td>\n",
              "      <td>0.370787</td>\n",
              "      <td>0.366667</td>\n",
              "      <td>0.366667</td>\n",
              "      <td>0.355556</td>\n",
              "      <td>0.366092</td>\n",
              "      <td>0.005581</td>\n",
              "    </tr>\n",
              "    <tr>\n",
              "      <th>2</th>\n",
              "      <td>0.000734</td>\n",
              "      <td>0.000013</td>\n",
              "      <td>0.000322</td>\n",
              "      <td>0.000016</td>\n",
              "      <td>0.1</td>\n",
              "      <td>{'C': 0.1}</td>\n",
              "      <td>0.869565</td>\n",
              "      <td>0.826087</td>\n",
              "      <td>0.727273</td>\n",
              "      <td>0.818182</td>\n",
              "      <td>0.863636</td>\n",
              "      <td>0.820949</td>\n",
              "      <td>0.050980</td>\n",
              "      <td>5</td>\n",
              "      <td>0.820225</td>\n",
              "      <td>0.887640</td>\n",
              "      <td>0.788889</td>\n",
              "      <td>0.788889</td>\n",
              "      <td>0.844444</td>\n",
              "      <td>0.826017</td>\n",
              "      <td>0.037222</td>\n",
              "    </tr>\n",
              "    <tr>\n",
              "      <th>3</th>\n",
              "      <td>0.000535</td>\n",
              "      <td>0.000007</td>\n",
              "      <td>0.000289</td>\n",
              "      <td>0.000016</td>\n",
              "      <td>1</td>\n",
              "      <td>{'C': 1}</td>\n",
              "      <td>1.000000</td>\n",
              "      <td>0.956522</td>\n",
              "      <td>1.000000</td>\n",
              "      <td>0.909091</td>\n",
              "      <td>0.954545</td>\n",
              "      <td>0.964032</td>\n",
              "      <td>0.033918</td>\n",
              "      <td>3</td>\n",
              "      <td>0.966292</td>\n",
              "      <td>0.966292</td>\n",
              "      <td>0.955556</td>\n",
              "      <td>0.977778</td>\n",
              "      <td>0.966667</td>\n",
              "      <td>0.966517</td>\n",
              "      <td>0.007030</td>\n",
              "    </tr>\n",
              "    <tr>\n",
              "      <th>4</th>\n",
              "      <td>0.000488</td>\n",
              "      <td>0.000013</td>\n",
              "      <td>0.000273</td>\n",
              "      <td>0.000013</td>\n",
              "      <td>10</td>\n",
              "      <td>{'C': 10}</td>\n",
              "      <td>1.000000</td>\n",
              "      <td>0.956522</td>\n",
              "      <td>1.000000</td>\n",
              "      <td>0.954545</td>\n",
              "      <td>0.954545</td>\n",
              "      <td>0.973123</td>\n",
              "      <td>0.021957</td>\n",
              "      <td>1</td>\n",
              "      <td>0.988764</td>\n",
              "      <td>0.977528</td>\n",
              "      <td>0.977778</td>\n",
              "      <td>0.988889</td>\n",
              "      <td>0.988889</td>\n",
              "      <td>0.984370</td>\n",
              "      <td>0.005485</td>\n",
              "    </tr>\n",
              "    <tr>\n",
              "      <th>5</th>\n",
              "      <td>0.000572</td>\n",
              "      <td>0.000061</td>\n",
              "      <td>0.000308</td>\n",
              "      <td>0.000034</td>\n",
              "      <td>20</td>\n",
              "      <td>{'C': 20}</td>\n",
              "      <td>1.000000</td>\n",
              "      <td>0.913043</td>\n",
              "      <td>1.000000</td>\n",
              "      <td>0.954545</td>\n",
              "      <td>0.954545</td>\n",
              "      <td>0.964427</td>\n",
              "      <td>0.032761</td>\n",
              "      <td>2</td>\n",
              "      <td>0.988764</td>\n",
              "      <td>0.988764</td>\n",
              "      <td>0.977778</td>\n",
              "      <td>0.988889</td>\n",
              "      <td>1.000000</td>\n",
              "      <td>0.988839</td>\n",
              "      <td>0.007028</td>\n",
              "    </tr>\n",
              "    <tr>\n",
              "      <th>6</th>\n",
              "      <td>0.000638</td>\n",
              "      <td>0.000105</td>\n",
              "      <td>0.000428</td>\n",
              "      <td>0.000123</td>\n",
              "      <td>100</td>\n",
              "      <td>{'C': 100}</td>\n",
              "      <td>1.000000</td>\n",
              "      <td>0.956522</td>\n",
              "      <td>0.954545</td>\n",
              "      <td>0.863636</td>\n",
              "      <td>0.954545</td>\n",
              "      <td>0.945850</td>\n",
              "      <td>0.044624</td>\n",
              "      <td>4</td>\n",
              "      <td>0.988764</td>\n",
              "      <td>0.988764</td>\n",
              "      <td>0.977778</td>\n",
              "      <td>1.000000</td>\n",
              "      <td>1.000000</td>\n",
              "      <td>0.991061</td>\n",
              "      <td>0.008328</td>\n",
              "    </tr>\n",
              "  </tbody>\n",
              "</table>\n",
              "</div>"
            ],
            "text/plain": [
              "   mean_fit_time  std_fit_time  ...  mean_train_score  std_train_score\n",
              "0       0.001954      0.001052  ...          0.366092         0.005581\n",
              "1       0.000823      0.000019  ...          0.366092         0.005581\n",
              "2       0.000734      0.000013  ...          0.826017         0.037222\n",
              "3       0.000535      0.000007  ...          0.966517         0.007030\n",
              "4       0.000488      0.000013  ...          0.984370         0.005485\n",
              "5       0.000572      0.000061  ...          0.988839         0.007028\n",
              "6       0.000638      0.000105  ...          0.991061         0.008328\n",
              "\n",
              "[7 rows x 21 columns]"
            ]
          },
          "metadata": {
            "tags": []
          },
          "execution_count": 18
        }
      ]
    },
    {
      "cell_type": "code",
      "metadata": {
        "id": "RjbiwCJ56HIl",
        "outputId": "4bedabae-c5bc-4dd6-d0c7-39d9404a3875",
        "colab": {
          "base_uri": "https://localhost:8080/",
          "height": 282
        }
      },
      "source": [
        "import matplotlib.pyplot as plt\n",
        "\n",
        "plt.scatter(results[\"param_C\"],results[\"mean_test_score\"],label=\"test score\")\n",
        "plt.scatter(results[\"param_C\"],results[\"mean_train_score\"],label=\"train score\")\n",
        "plt.legend()"
      ],
      "execution_count": 19,
      "outputs": [
        {
          "output_type": "execute_result",
          "data": {
            "text/plain": [
              "<matplotlib.legend.Legend at 0x7fa2260a8198>"
            ]
          },
          "metadata": {
            "tags": []
          },
          "execution_count": 19
        },
        {
          "output_type": "display_data",
          "data": {
            "image/png": "[encoded data removed]",
            "text/plain": [
              "<Figure size 432x288 with 1 Axes>"
            ]
          },
          "metadata": {
            "tags": [],
            "needs_background": "light"
          }
        }
      ]
    },
    {
      "cell_type": "markdown",
      "metadata": {
        "id": "Z7_12b1L3mbT"
      },
      "source": [
        "# Tuning de deux paramètres"
      ]
    },
    {
      "cell_type": "markdown",
      "metadata": {
        "id": "_9rhB9YO7eyu"
      },
      "source": [
        "## Hyperparamètres"
      ]
    },
    {
      "cell_type": "code",
      "metadata": {
        "id": "Vz-EiTNjpPkK",
        "outputId": "4138e35a-8e39-4a02-931f-9a4a1685b830",
        "colab": {
          "base_uri": "https://localhost:8080/",
          "height": 52
        }
      },
      "source": [
        "param_grid = {'C': [0.001, 0.01, 0.1, 1, 10, 100],\n",
        "              'gamma': [0.001, 0.01, 0.1, 1, 10, 100]}\n",
        "print(\"Parameter grid:\\n{}\".format(param_grid))"
      ],
      "execution_count": 20,
      "outputs": [
        {
          "output_type": "stream",
          "text": [
            "Parameter grid:\n",
            "{'C': [0.001, 0.01, 0.1, 1, 10, 100], 'gamma': [0.001, 0.01, 0.1, 1, 10, 100]}\n"
          ],
          "name": "stdout"
        }
      ]
    },
    {
      "cell_type": "markdown",
      "metadata": {
        "id": "NizaS9YW7gyB"
      },
      "source": [
        "## Apprentissage"
      ]
    },
    {
      "cell_type": "code",
      "metadata": {
        "id": "Xyua4KojpPkM"
      },
      "source": [
        "from sklearn.model_selection import GridSearchCV\n",
        "from sklearn.svm import SVC\n",
        "grid_search = GridSearchCV(SVC(), param_grid, cv=5,\n",
        "                          return_train_score=True)"
      ],
      "execution_count": 21,
      "outputs": []
    },
    {
      "cell_type": "code",
      "metadata": {
        "id": "S2wR0G4YpPkO"
      },
      "source": [
        "X_train, X_test, y_train, y_test = train_test_split(\n",
        "    iris.data, iris.target, random_state=0)"
      ],
      "execution_count": 22,
      "outputs": []
    },
    {
      "cell_type": "code",
      "metadata": {
        "id": "jAcAlL4mpPkR",
        "outputId": "87ca3e8a-a7ed-4e97-d753-cafd5dfc6b56",
        "colab": {
          "base_uri": "https://localhost:8080/",
          "height": 225
        }
      },
      "source": [
        "grid_search.fit(X_train, y_train)"
      ],
      "execution_count": 23,
      "outputs": [
        {
          "output_type": "execute_result",
          "data": {
            "text/plain": [
              "GridSearchCV(cv=5, error_score=nan,\n",
              "             estimator=SVC(C=1.0, break_ties=False, cache_size=200,\n",
              "                           class_weight=None, coef0=0.0,\n",
              "                           decision_function_shape='ovr', degree=3,\n",
              "                           gamma='scale', kernel='rbf', max_iter=-1,\n",
              "                           probability=False, random_state=None, shrinking=True,\n",
              "                           tol=0.001, verbose=False),\n",
              "             iid='deprecated', n_jobs=None,\n",
              "             param_grid={'C': [0.001, 0.01, 0.1, 1, 10, 100],\n",
              "                         'gamma': [0.001, 0.01, 0.1, 1, 10, 100]},\n",
              "             pre_dispatch='2*n_jobs', refit=True, return_train_score=True,\n",
              "             scoring=None, verbose=0)"
            ]
          },
          "metadata": {
            "tags": []
          },
          "execution_count": 23
        }
      ]
    },
    {
      "cell_type": "markdown",
      "metadata": {
        "id": "gZhMn-N77ju-"
      },
      "source": [
        "## Résultats"
      ]
    },
    {
      "cell_type": "code",
      "metadata": {
        "id": "CNNRiUGipPkT",
        "outputId": "2ad0e640-c203-4f09-94a0-a10a154515eb",
        "colab": {
          "base_uri": "https://localhost:8080/",
          "height": 34
        }
      },
      "source": [
        "print(\"Test set score: {:.2f}\".format(grid_search.score(X_test, y_test)))"
      ],
      "execution_count": 24,
      "outputs": [
        {
          "output_type": "stream",
          "text": [
            "Test set score: 0.97\n"
          ],
          "name": "stdout"
        }
      ]
    },
    {
      "cell_type": "code",
      "metadata": {
        "id": "xJ13zkohpPkV",
        "outputId": "d7c23c8c-7ea5-4b1d-e8e3-709788fa5784",
        "colab": {
          "base_uri": "https://localhost:8080/",
          "height": 52
        }
      },
      "source": [
        "print(\"Best parameters: {}\".format(grid_search.best_params_))\n",
        "print(\"Best cross-validation score: {:.2f}\".format(grid_search.best_score_))"
      ],
      "execution_count": 25,
      "outputs": [
        {
          "output_type": "stream",
          "text": [
            "Best parameters: {'C': 10, 'gamma': 0.1}\n",
            "Best cross-validation score: 0.97\n"
          ],
          "name": "stdout"
        }
      ]
    },
    {
      "cell_type": "code",
      "metadata": {
        "id": "N5Q7C-B4pPkc",
        "outputId": "d879d7a9-d88b-4b2d-8e69-3d341e0d05c0",
        "colab": {
          "base_uri": "https://localhost:8080/",
          "height": 104
        }
      },
      "source": [
        "print(\"Best estimator:\\n{}\".format(grid_search.best_estimator_))"
      ],
      "execution_count": 26,
      "outputs": [
        {
          "output_type": "stream",
          "text": [
            "Best estimator:\n",
            "SVC(C=10, break_ties=False, cache_size=200, class_weight=None, coef0=0.0,\n",
            "    decision_function_shape='ovr', degree=3, gamma=0.1, kernel='rbf',\n",
            "    max_iter=-1, probability=False, random_state=None, shrinking=True,\n",
            "    tol=0.001, verbose=False)\n"
          ],
          "name": "stdout"
        }
      ]
    },
    {
      "cell_type": "markdown",
      "metadata": {
        "id": "A95Y9rn3pPke"
      },
      "source": [
        "## Visualisation"
      ]
    },
    {
      "cell_type": "code",
      "metadata": {
        "id": "f_1ev2oPpPke",
        "outputId": "2de1bf81-075c-4322-fe5b-1b64c9fde17e",
        "colab": {
          "base_uri": "https://localhost:8080/",
          "height": 487
        }
      },
      "source": [
        "\n",
        "results = pd.DataFrame(grid_search.cv_results_)\n",
        "results.head()"
      ],
      "execution_count": 27,
      "outputs": [
        {
          "output_type": "execute_result",
          "data": {
            "text/html": [
              "<div>\n",
              "<style scoped>\n",
              "    .dataframe tbody tr th:only-of-type {\n",
              "        vertical-align: middle;\n",
              "    }\n",
              "\n",
              "    .dataframe tbody tr th {\n",
              "        vertical-align: top;\n",
              "    }\n",
              "\n",
              "    .dataframe thead th {\n",
              "        text-align: right;\n",
              "    }\n",
              "</style>\n",
              "<table border=\"1\" class=\"dataframe\">\n",
              "  <thead>\n",
              "    <tr style=\"text-align: right;\">\n",
              "      <th></th>\n",
              "      <th>mean_fit_time</th>\n",
              "      <th>std_fit_time</th>\n",
              "      <th>mean_score_time</th>\n",
              "      <th>std_score_time</th>\n",
              "      <th>param_C</th>\n",
              "      <th>param_gamma</th>\n",
              "      <th>params</th>\n",
              "      <th>split0_test_score</th>\n",
              "      <th>split1_test_score</th>\n",
              "      <th>split2_test_score</th>\n",
              "      <th>split3_test_score</th>\n",
              "      <th>split4_test_score</th>\n",
              "      <th>mean_test_score</th>\n",
              "      <th>std_test_score</th>\n",
              "      <th>rank_test_score</th>\n",
              "      <th>split0_train_score</th>\n",
              "      <th>split1_train_score</th>\n",
              "      <th>split2_train_score</th>\n",
              "      <th>split3_train_score</th>\n",
              "      <th>split4_train_score</th>\n",
              "      <th>mean_train_score</th>\n",
              "      <th>std_train_score</th>\n",
              "    </tr>\n",
              "  </thead>\n",
              "  <tbody>\n",
              "    <tr>\n",
              "      <th>0</th>\n",
              "      <td>0.001152</td>\n",
              "      <td>0.000196</td>\n",
              "      <td>0.000504</td>\n",
              "      <td>0.000149</td>\n",
              "      <td>0.001</td>\n",
              "      <td>0.001</td>\n",
              "      <td>{'C': 0.001, 'gamma': 0.001}</td>\n",
              "      <td>0.347826</td>\n",
              "      <td>0.347826</td>\n",
              "      <td>0.363636</td>\n",
              "      <td>0.363636</td>\n",
              "      <td>0.409091</td>\n",
              "      <td>0.366403</td>\n",
              "      <td>0.022485</td>\n",
              "      <td>22</td>\n",
              "      <td>0.370787</td>\n",
              "      <td>0.370787</td>\n",
              "      <td>0.366667</td>\n",
              "      <td>0.366667</td>\n",
              "      <td>0.355556</td>\n",
              "      <td>0.366092</td>\n",
              "      <td>0.005581</td>\n",
              "    </tr>\n",
              "    <tr>\n",
              "      <th>1</th>\n",
              "      <td>0.000793</td>\n",
              "      <td>0.000060</td>\n",
              "      <td>0.000321</td>\n",
              "      <td>0.000010</td>\n",
              "      <td>0.001</td>\n",
              "      <td>0.01</td>\n",
              "      <td>{'C': 0.001, 'gamma': 0.01}</td>\n",
              "      <td>0.347826</td>\n",
              "      <td>0.347826</td>\n",
              "      <td>0.363636</td>\n",
              "      <td>0.363636</td>\n",
              "      <td>0.409091</td>\n",
              "      <td>0.366403</td>\n",
              "      <td>0.022485</td>\n",
              "      <td>22</td>\n",
              "      <td>0.370787</td>\n",
              "      <td>0.370787</td>\n",
              "      <td>0.366667</td>\n",
              "      <td>0.366667</td>\n",
              "      <td>0.355556</td>\n",
              "      <td>0.366092</td>\n",
              "      <td>0.005581</td>\n",
              "    </tr>\n",
              "    <tr>\n",
              "      <th>2</th>\n",
              "      <td>0.000826</td>\n",
              "      <td>0.000100</td>\n",
              "      <td>0.000342</td>\n",
              "      <td>0.000026</td>\n",
              "      <td>0.001</td>\n",
              "      <td>0.1</td>\n",
              "      <td>{'C': 0.001, 'gamma': 0.1}</td>\n",
              "      <td>0.347826</td>\n",
              "      <td>0.347826</td>\n",
              "      <td>0.363636</td>\n",
              "      <td>0.363636</td>\n",
              "      <td>0.409091</td>\n",
              "      <td>0.366403</td>\n",
              "      <td>0.022485</td>\n",
              "      <td>22</td>\n",
              "      <td>0.370787</td>\n",
              "      <td>0.370787</td>\n",
              "      <td>0.366667</td>\n",
              "      <td>0.366667</td>\n",
              "      <td>0.355556</td>\n",
              "      <td>0.366092</td>\n",
              "      <td>0.005581</td>\n",
              "    </tr>\n",
              "    <tr>\n",
              "      <th>3</th>\n",
              "      <td>0.000761</td>\n",
              "      <td>0.000007</td>\n",
              "      <td>0.000325</td>\n",
              "      <td>0.000008</td>\n",
              "      <td>0.001</td>\n",
              "      <td>1</td>\n",
              "      <td>{'C': 0.001, 'gamma': 1}</td>\n",
              "      <td>0.347826</td>\n",
              "      <td>0.347826</td>\n",
              "      <td>0.363636</td>\n",
              "      <td>0.363636</td>\n",
              "      <td>0.409091</td>\n",
              "      <td>0.366403</td>\n",
              "      <td>0.022485</td>\n",
              "      <td>22</td>\n",
              "      <td>0.370787</td>\n",
              "      <td>0.370787</td>\n",
              "      <td>0.366667</td>\n",
              "      <td>0.366667</td>\n",
              "      <td>0.355556</td>\n",
              "      <td>0.366092</td>\n",
              "      <td>0.005581</td>\n",
              "    </tr>\n",
              "    <tr>\n",
              "      <th>4</th>\n",
              "      <td>0.000763</td>\n",
              "      <td>0.000022</td>\n",
              "      <td>0.000330</td>\n",
              "      <td>0.000009</td>\n",
              "      <td>0.001</td>\n",
              "      <td>10</td>\n",
              "      <td>{'C': 0.001, 'gamma': 10}</td>\n",
              "      <td>0.347826</td>\n",
              "      <td>0.347826</td>\n",
              "      <td>0.363636</td>\n",
              "      <td>0.363636</td>\n",
              "      <td>0.409091</td>\n",
              "      <td>0.366403</td>\n",
              "      <td>0.022485</td>\n",
              "      <td>22</td>\n",
              "      <td>0.370787</td>\n",
              "      <td>0.370787</td>\n",
              "      <td>0.366667</td>\n",
              "      <td>0.366667</td>\n",
              "      <td>0.355556</td>\n",
              "      <td>0.366092</td>\n",
              "      <td>0.005581</td>\n",
              "    </tr>\n",
              "  </tbody>\n",
              "</table>\n",
              "</div>"
            ],
            "text/plain": [
              "   mean_fit_time  std_fit_time  ...  mean_train_score  std_train_score\n",
              "0       0.001152      0.000196  ...          0.366092         0.005581\n",
              "1       0.000793      0.000060  ...          0.366092         0.005581\n",
              "2       0.000826      0.000100  ...          0.366092         0.005581\n",
              "3       0.000761      0.000007  ...          0.366092         0.005581\n",
              "4       0.000763      0.000022  ...          0.366092         0.005581\n",
              "\n",
              "[5 rows x 22 columns]"
            ]
          },
          "metadata": {
            "tags": []
          },
          "execution_count": 27
        }
      ]
    },
    {
      "cell_type": "code",
      "metadata": {
        "id": "Rmd3rZCLt9vJ",
        "outputId": "ca0ce62d-e912-456b-93e3-250c6512d562",
        "colab": {
          "base_uri": "https://localhost:8080/",
          "height": 269
        }
      },
      "source": [
        "pvt = pd.pivot_table(pd.DataFrame(grid_search.cv_results_),\n",
        "    values='mean_test_score', index='param_gamma', columns='param_C')\n",
        "\n",
        "pvt"
      ],
      "execution_count": 28,
      "outputs": [
        {
          "output_type": "execute_result",
          "data": {
            "text/html": [
              "<div>\n",
              "<style scoped>\n",
              "    .dataframe tbody tr th:only-of-type {\n",
              "        vertical-align: middle;\n",
              "    }\n",
              "\n",
              "    .dataframe tbody tr th {\n",
              "        vertical-align: top;\n",
              "    }\n",
              "\n",
              "    .dataframe thead th {\n",
              "        text-align: right;\n",
              "    }\n",
              "</style>\n",
              "<table border=\"1\" class=\"dataframe\">\n",
              "  <thead>\n",
              "    <tr style=\"text-align: right;\">\n",
              "      <th>param_C</th>\n",
              "      <th>0.001</th>\n",
              "      <th>0.010</th>\n",
              "      <th>0.100</th>\n",
              "      <th>1.000</th>\n",
              "      <th>10.000</th>\n",
              "      <th>100.000</th>\n",
              "    </tr>\n",
              "    <tr>\n",
              "      <th>param_gamma</th>\n",
              "      <th></th>\n",
              "      <th></th>\n",
              "      <th></th>\n",
              "      <th></th>\n",
              "      <th></th>\n",
              "      <th></th>\n",
              "    </tr>\n",
              "  </thead>\n",
              "  <tbody>\n",
              "    <tr>\n",
              "      <th>0.001</th>\n",
              "      <td>0.366403</td>\n",
              "      <td>0.366403</td>\n",
              "      <td>0.366403</td>\n",
              "      <td>0.696443</td>\n",
              "      <td>0.937945</td>\n",
              "      <td>0.964032</td>\n",
              "    </tr>\n",
              "    <tr>\n",
              "      <th>0.010</th>\n",
              "      <td>0.366403</td>\n",
              "      <td>0.366403</td>\n",
              "      <td>0.696443</td>\n",
              "      <td>0.937945</td>\n",
              "      <td>0.964032</td>\n",
              "      <td>0.964427</td>\n",
              "    </tr>\n",
              "    <tr>\n",
              "      <th>0.100</th>\n",
              "      <td>0.366403</td>\n",
              "      <td>0.366403</td>\n",
              "      <td>0.901581</td>\n",
              "      <td>0.964032</td>\n",
              "      <td>0.973123</td>\n",
              "      <td>0.954941</td>\n",
              "    </tr>\n",
              "    <tr>\n",
              "      <th>1.000</th>\n",
              "      <td>0.366403</td>\n",
              "      <td>0.366403</td>\n",
              "      <td>0.955336</td>\n",
              "      <td>0.946640</td>\n",
              "      <td>0.946245</td>\n",
              "      <td>0.946245</td>\n",
              "    </tr>\n",
              "    <tr>\n",
              "      <th>10.000</th>\n",
              "      <td>0.366403</td>\n",
              "      <td>0.366403</td>\n",
              "      <td>0.366403</td>\n",
              "      <td>0.928458</td>\n",
              "      <td>0.911067</td>\n",
              "      <td>0.911067</td>\n",
              "    </tr>\n",
              "    <tr>\n",
              "      <th>100.000</th>\n",
              "      <td>0.366403</td>\n",
              "      <td>0.366403</td>\n",
              "      <td>0.366403</td>\n",
              "      <td>0.501581</td>\n",
              "      <td>0.581423</td>\n",
              "      <td>0.581423</td>\n",
              "    </tr>\n",
              "  </tbody>\n",
              "</table>\n",
              "</div>"
            ],
            "text/plain": [
              "param_C       0.001     0.010     0.100     1.000     10.000    100.000\n",
              "param_gamma                                                            \n",
              "0.001        0.366403  0.366403  0.366403  0.696443  0.937945  0.964032\n",
              "0.010        0.366403  0.366403  0.696443  0.937945  0.964032  0.964427\n",
              "0.100        0.366403  0.366403  0.901581  0.964032  0.973123  0.954941\n",
              "1.000        0.366403  0.366403  0.955336  0.946640  0.946245  0.946245\n",
              "10.000       0.366403  0.366403  0.366403  0.928458  0.911067  0.911067\n",
              "100.000      0.366403  0.366403  0.366403  0.501581  0.581423  0.581423"
            ]
          },
          "metadata": {
            "tags": []
          },
          "execution_count": 28
        }
      ]
    },
    {
      "cell_type": "code",
      "metadata": {
        "id": "Y8_2D_0-uO88",
        "outputId": "000d6b44-9655-44f9-d022-fc0d32daef5f",
        "colab": {
          "base_uri": "https://localhost:8080/",
          "height": 606
        }
      },
      "source": [
        "import seaborn as sns\n",
        "import matplotlib.pyplot as plt\n",
        "\n",
        "fig, ax = plt.subplots(figsize=(12,10))\n",
        "ax = sns.heatmap(pvt,annot=True, cmap=\"YlGnBu\")"
      ],
      "execution_count": 29,
      "outputs": [
        {
          "output_type": "display_data",
          "data": {
            "image/png": "[encoded data removed]",
            "text/plain": [
              "<Figure size 864x720 with 2 Axes>"
            ]
          },
          "metadata": {
            "tags": [],
            "needs_background": "light"
          }
        }
      ]
    },
    {
      "cell_type": "markdown",
      "metadata": {
        "id": "ZLXDiQYz9UZM"
      },
      "source": [
        "# Trois paramètres"
      ]
    },
    {
      "cell_type": "code",
      "metadata": {
        "id": "ykqARy13pPkn",
        "outputId": "41ae78ac-e8f0-43a2-94cc-5c747b764842",
        "colab": {
          "base_uri": "https://localhost:8080/",
          "height": 52
        }
      },
      "source": [
        "param_grid = [{'kernel': ['rbf'],\n",
        "               'C': [0.001, 0.01, 0.1, 1, 10, 100],\n",
        "               'gamma': [0.001, 0.01, 0.1, 1, 10, 100]},\n",
        "              {'kernel': ['linear'],\n",
        "               'C': [0.001, 0.01, 0.1, 1, 10, 100]}]\n",
        "print(\"List of grids:\\n{}\".format(param_grid))"
      ],
      "execution_count": 30,
      "outputs": [
        {
          "output_type": "stream",
          "text": [
            "List of grids:\n",
            "[{'kernel': ['rbf'], 'C': [0.001, 0.01, 0.1, 1, 10, 100], 'gamma': [0.001, 0.01, 0.1, 1, 10, 100]}, {'kernel': ['linear'], 'C': [0.001, 0.01, 0.1, 1, 10, 100]}]\n"
          ],
          "name": "stdout"
        }
      ]
    },
    {
      "cell_type": "code",
      "metadata": {
        "id": "t2UM65sZpPkq",
        "outputId": "2dda5234-c5f2-47cc-e3a3-59bf6f7be9bd",
        "colab": {
          "base_uri": "https://localhost:8080/",
          "height": 52
        }
      },
      "source": [
        "grid_search = GridSearchCV(SVC(), param_grid, cv=5,\n",
        "                          return_train_score=True)\n",
        "grid_search.fit(X_train, y_train)\n",
        "\n",
        "\n",
        "print(\"Best parameters: {}\".format(grid_search.best_params_))\n",
        "print(\"Best cross-validation score: {:.2f}\".format(grid_search.best_score_))"
      ],
      "execution_count": 31,
      "outputs": [
        {
          "output_type": "stream",
          "text": [
            "Best parameters: {'C': 10, 'gamma': 0.1, 'kernel': 'rbf'}\n",
            "Best cross-validation score: 0.97\n"
          ],
          "name": "stdout"
        }
      ]
    },
    {
      "cell_type": "code",
      "metadata": {
        "id": "MsGgBGPKpPkt"
      },
      "source": [
        "results = pd.DataFrame(grid_search.cv_results_)\n"
      ],
      "execution_count": 32,
      "outputs": []
    }
  ]
}