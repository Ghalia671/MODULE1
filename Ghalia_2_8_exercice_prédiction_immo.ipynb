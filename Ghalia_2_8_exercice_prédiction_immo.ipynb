{
  "nbformat": 4,
  "nbformat_minor": 0,
  "metadata": {
    "colab": {
      "name": "Ghalia -  2.8 exercice prédiction immo.ipynb",
      "provenance": [],
      "collapsed_sections": [],
      "toc_visible": true,
      "include_colab_link": true
    },
    "kernelspec": {
      "name": "python3",
      "display_name": "Python 3"
    }
  },
  "cells": [
    {
      "cell_type": "markdown",
      "metadata": {
        "id": "view-in-github",
        "colab_type": "text"
      },
      "source": [
        "<a href=\"https://colab.research.google.com/github/Ghalia671/MODULE1/blob/master/Ghalia_2_8_exercice_pr%C3%A9diction_immo.ipynb\" target=\"_parent\"><img src=\"https://colab.research.google.com/assets/colab-badge.svg\" alt=\"Open In Colab\"/></a>"
      ]
    },
    {
      "cell_type": "markdown",
      "metadata": {
        "id": "o8k7gnJoeo8j"
      },
      "source": [
        "# Données\n"
      ]
    },
    {
      "cell_type": "code",
      "metadata": {
        "id": "uYQgD5Pvd2EX"
      },
      "source": [
        "import pandas as pd\n",
        "housing=pd.read_csv(\"https://dataks.bitbucket.io/ml/houses.csv\")"
      ],
      "execution_count": 1,
      "outputs": []
    },
    {
      "cell_type": "markdown",
      "metadata": {
        "id": "Zeu5CqajG5wc"
      },
      "source": [
        "# Régression linéaire multiple"
      ]
    },
    {
      "cell_type": "markdown",
      "metadata": {
        "id": "DzrAsE20Hbyf"
      },
      "source": [
        "## Base d'apprentissage et de test"
      ]
    },
    {
      "cell_type": "code",
      "metadata": {
        "id": "f2cx0UjiHbyh"
      },
      "source": [
        "from sklearn.model_selection import train_test_split\n",
        "\n",
        "X = housing[['lotsize','bedrooms','stories','bathrms','bathrms','driveway','recroom',\n",
        "        'fullbase','gashw','airco','garagepl','prefarea']]\n",
        "\n",
        "y = housing[['price']]\n",
        "\n",
        "X_train, X_test, y_train, y_test = train_test_split(X, y, test_size=0.3)"
      ],
      "execution_count": 2,
      "outputs": []
    },
    {
      "cell_type": "markdown",
      "metadata": {
        "id": "xjFtYA-VHbyk"
      },
      "source": [
        "## Modèle"
      ]
    },
    {
      "cell_type": "markdown",
      "metadata": {
        "id": "SamNnrjfAFSs"
      },
      "source": [
        "**Question** Créer un pipeline \n",
        "\n",
        "- Transformer les variables catégoriques en utilisant un pipeline.\n",
        "- Créer un modèle de régression linéaire\n",
        "- Transformer la variable cible en calculant son log."
      ]
    },
    {
      "cell_type": "code",
      "metadata": {
        "id": "O6VbSqQWyfvT"
      },
      "source": [
        "import pandas as pd\n",
        "import numpy as np\n",
        "\n",
        "from sklearn.model_selection import train_test_split\n",
        "from sklearn.compose import ColumnTransformer\n",
        "from sklearn.pipeline import Pipeline\n",
        "from sklearn.impute import SimpleImputer\n",
        "from sklearn.preprocessing import StandardScaler, OneHotEncoder\n",
        "\n",
        "categorical_features = ['driveway','recroom',\n",
        "        'fullbase','gashw','airco','prefarea']\n",
        "\n",
        "categorical_transformer = Pipeline(steps=[\n",
        "    ('imputer', SimpleImputer(strategy='constant', fill_value='missing')),\n",
        "    ('onehot', OneHotEncoder(handle_unknown='ignore'))])\n"
      ],
      "execution_count": 14,
      "outputs": []
    },
    {
      "cell_type": "code",
      "metadata": {
        "id": "yA4joJzIsR0M",
        "outputId": "31f81488-0735-40f0-e0a4-87616ce7b66c",
        "colab": {
          "base_uri": "https://localhost:8080/",
          "height": 34
        }
      },
      "source": [
        "from sklearn.linear_model import LinearRegression\n",
        "from sklearn.compose import ColumnTransformer\n",
        "from sklearn.linear_model import LogisticRegression\n",
        "\n",
        "model = LinearRegression()\n",
        "\n",
        "preprocessor = ColumnTransformer(\n",
        "    transformers=[('cat', categorical_transformer, categorical_features)])\n",
        "\n",
        "\n",
        "clf = Pipeline(steps=[('preprocessor', preprocessor),\n",
        "                      ('classifier', model)])\n",
        "\n",
        "\n",
        "clf.fit(X_train, y_train)\n",
        "print(\"model score: %.3f\" % clf.score(X_test, y_test))"
      ],
      "execution_count": 15,
      "outputs": [
        {
          "output_type": "stream",
          "text": [
            "model score: 0.266\n"
          ],
          "name": "stdout"
        }
      ]
    },
    {
      "cell_type": "markdown",
      "metadata": {
        "id": "2gLRbI9y7xki"
      },
      "source": [
        "# Validation croisée"
      ]
    },
    {
      "cell_type": "markdown",
      "metadata": {
        "id": "CC7HN2Wca6ox"
      },
      "source": [
        "**Question** Utiliser la validation croisée pour calculer plusieurs métriques d'évaluation.\n",
        "\n"
      ]
    },
    {
      "cell_type": "code",
      "metadata": {
        "id": "uG6e8odw0msw",
        "outputId": "db4ab242-2a30-4508-ccfc-262afc311b88",
        "colab": {
          "base_uri": "https://localhost:8080/",
          "height": 156
        }
      },
      "source": [
        "from sklearn.model_selection import cross_val_score\n",
        "import numpy as np\n",
        "from sklearn.preprocessing import OneHotEncoder\n",
        "\n",
        "onehotenc = OneHotEncoder(handle_unknown='ignore')\n",
        "\n",
        "onehotenc.fit(X)\n",
        "X1 = onehotenc.transform(X).toarray()\n",
        "\n",
        "print(cross_val_score(model, X1, y, scoring='neg_mean_squared_error'))\n",
        "print(cross_val_score(model, X1, y, scoring='neg_mean_absolute_error'))\n",
        "print(cross_val_score(model, X1, y, scoring='explained_variance'))\n",
        "print(cross_val_score(model, X1, y, scoring='r2'))\n"
      ],
      "execution_count": 32,
      "outputs": [
        {
          "output_type": "stream",
          "text": [
            "[-3.81212002e+37 -4.25590324e+36 -1.75539800e+37 -3.68696758e+37\n",
            " -6.36212235e+36]\n",
            "[-2.94973073e+18 -9.53871866e+17 -1.45813506e+18 -2.08073797e+18\n",
            " -6.86853104e+17]\n",
            "[-7.24831130e+26 -7.88089831e+25 -5.17019094e+26 -4.18382205e+26\n",
            " -1.34618628e+26]\n",
            "[-7.38233237e+26 -7.88118486e+25 -5.35395028e+26 -4.18396764e+26\n",
            " -1.35061377e+26]\n"
          ],
          "name": "stdout"
        }
      ]
    }
  ]
}