{
  "nbformat": 4,
  "nbformat_minor": 0,
  "metadata": {
    "colab": {
      "name": "Ghalia - 3.1.2 exercice - régression linéaire deux variables continues.ipynb",
      "provenance": [],
      "collapsed_sections": [],
      "include_colab_link": true
    },
    "kernelspec": {
      "name": "python3",
      "display_name": "Python 3"
    }
  },
  "cells": [
    {
      "cell_type": "markdown",
      "metadata": {
        "id": "view-in-github",
        "colab_type": "text"
      },
      "source": [
        "<a href=\"https://colab.research.google.com/github/Ghalia671/MODULE1/blob/master/Ghalia_3_1_2_exercice_re%CC%81gression_line%CC%81aire_deux_variables_continues.ipynb\" target=\"_parent\"><img src=\"https://colab.research.google.com/assets/colab-badge.svg\" alt=\"Open In Colab\"/></a>"
      ]
    },
    {
      "cell_type": "code",
      "metadata": {
        "id": "lcFFfRJ_TyTI",
        "colab_type": "code",
        "colab": {
          "base_uri": "https://localhost:8080/",
          "height": 363
        },
        "outputId": "d1ff12f0-4395-432d-af73-d5a55dacd52b"
      },
      "source": [
        "import pandas as pd\n",
        "housing=pd.read_csv(\"https://dataks.bitbucket.io/ml/houses.csv\")\n",
        "housing.head(10)"
      ],
      "execution_count": null,
      "outputs": [
        {
          "output_type": "execute_result",
          "data": {
            "text/html": [
              "<div>\n",
              "<style scoped>\n",
              "    .dataframe tbody tr th:only-of-type {\n",
              "        vertical-align: middle;\n",
              "    }\n",
              "\n",
              "    .dataframe tbody tr th {\n",
              "        vertical-align: top;\n",
              "    }\n",
              "\n",
              "    .dataframe thead th {\n",
              "        text-align: right;\n",
              "    }\n",
              "</style>\n",
              "<table border=\"1\" class=\"dataframe\">\n",
              "  <thead>\n",
              "    <tr style=\"text-align: right;\">\n",
              "      <th></th>\n",
              "      <th>price</th>\n",
              "      <th>lotsize</th>\n",
              "      <th>bedrooms</th>\n",
              "      <th>bathrms</th>\n",
              "      <th>stories</th>\n",
              "      <th>driveway</th>\n",
              "      <th>recroom</th>\n",
              "      <th>fullbase</th>\n",
              "      <th>gashw</th>\n",
              "      <th>airco</th>\n",
              "      <th>garagepl</th>\n",
              "      <th>prefarea</th>\n",
              "    </tr>\n",
              "  </thead>\n",
              "  <tbody>\n",
              "    <tr>\n",
              "      <th>0</th>\n",
              "      <td>420000</td>\n",
              "      <td>585</td>\n",
              "      <td>3</td>\n",
              "      <td>1</td>\n",
              "      <td>2</td>\n",
              "      <td>yes</td>\n",
              "      <td>no</td>\n",
              "      <td>yes</td>\n",
              "      <td>no</td>\n",
              "      <td>no</td>\n",
              "      <td>1</td>\n",
              "      <td>no</td>\n",
              "    </tr>\n",
              "    <tr>\n",
              "      <th>1</th>\n",
              "      <td>385000</td>\n",
              "      <td>400</td>\n",
              "      <td>2</td>\n",
              "      <td>1</td>\n",
              "      <td>1</td>\n",
              "      <td>yes</td>\n",
              "      <td>no</td>\n",
              "      <td>no</td>\n",
              "      <td>no</td>\n",
              "      <td>no</td>\n",
              "      <td>0</td>\n",
              "      <td>no</td>\n",
              "    </tr>\n",
              "    <tr>\n",
              "      <th>2</th>\n",
              "      <td>495000</td>\n",
              "      <td>306</td>\n",
              "      <td>3</td>\n",
              "      <td>1</td>\n",
              "      <td>1</td>\n",
              "      <td>yes</td>\n",
              "      <td>no</td>\n",
              "      <td>no</td>\n",
              "      <td>no</td>\n",
              "      <td>no</td>\n",
              "      <td>0</td>\n",
              "      <td>no</td>\n",
              "    </tr>\n",
              "    <tr>\n",
              "      <th>3</th>\n",
              "      <td>605000</td>\n",
              "      <td>665</td>\n",
              "      <td>3</td>\n",
              "      <td>1</td>\n",
              "      <td>2</td>\n",
              "      <td>yes</td>\n",
              "      <td>yes</td>\n",
              "      <td>no</td>\n",
              "      <td>no</td>\n",
              "      <td>no</td>\n",
              "      <td>0</td>\n",
              "      <td>no</td>\n",
              "    </tr>\n",
              "    <tr>\n",
              "      <th>4</th>\n",
              "      <td>610000</td>\n",
              "      <td>636</td>\n",
              "      <td>2</td>\n",
              "      <td>1</td>\n",
              "      <td>1</td>\n",
              "      <td>yes</td>\n",
              "      <td>no</td>\n",
              "      <td>no</td>\n",
              "      <td>no</td>\n",
              "      <td>no</td>\n",
              "      <td>0</td>\n",
              "      <td>no</td>\n",
              "    </tr>\n",
              "    <tr>\n",
              "      <th>5</th>\n",
              "      <td>660000</td>\n",
              "      <td>416</td>\n",
              "      <td>3</td>\n",
              "      <td>1</td>\n",
              "      <td>1</td>\n",
              "      <td>yes</td>\n",
              "      <td>yes</td>\n",
              "      <td>yes</td>\n",
              "      <td>no</td>\n",
              "      <td>yes</td>\n",
              "      <td>0</td>\n",
              "      <td>no</td>\n",
              "    </tr>\n",
              "    <tr>\n",
              "      <th>6</th>\n",
              "      <td>660000</td>\n",
              "      <td>388</td>\n",
              "      <td>3</td>\n",
              "      <td>2</td>\n",
              "      <td>2</td>\n",
              "      <td>yes</td>\n",
              "      <td>no</td>\n",
              "      <td>yes</td>\n",
              "      <td>no</td>\n",
              "      <td>no</td>\n",
              "      <td>2</td>\n",
              "      <td>no</td>\n",
              "    </tr>\n",
              "    <tr>\n",
              "      <th>7</th>\n",
              "      <td>690000</td>\n",
              "      <td>416</td>\n",
              "      <td>3</td>\n",
              "      <td>1</td>\n",
              "      <td>3</td>\n",
              "      <td>yes</td>\n",
              "      <td>no</td>\n",
              "      <td>no</td>\n",
              "      <td>no</td>\n",
              "      <td>no</td>\n",
              "      <td>0</td>\n",
              "      <td>no</td>\n",
              "    </tr>\n",
              "    <tr>\n",
              "      <th>8</th>\n",
              "      <td>838000</td>\n",
              "      <td>480</td>\n",
              "      <td>3</td>\n",
              "      <td>1</td>\n",
              "      <td>1</td>\n",
              "      <td>yes</td>\n",
              "      <td>yes</td>\n",
              "      <td>yes</td>\n",
              "      <td>no</td>\n",
              "      <td>no</td>\n",
              "      <td>0</td>\n",
              "      <td>no</td>\n",
              "    </tr>\n",
              "    <tr>\n",
              "      <th>9</th>\n",
              "      <td>885000</td>\n",
              "      <td>550</td>\n",
              "      <td>3</td>\n",
              "      <td>2</td>\n",
              "      <td>4</td>\n",
              "      <td>yes</td>\n",
              "      <td>yes</td>\n",
              "      <td>no</td>\n",
              "      <td>no</td>\n",
              "      <td>yes</td>\n",
              "      <td>1</td>\n",
              "      <td>no</td>\n",
              "    </tr>\n",
              "  </tbody>\n",
              "</table>\n",
              "</div>"
            ],
            "text/plain": [
              "    price  lotsize  bedrooms  bathrms  ...  gashw airco garagepl prefarea\n",
              "0  420000      585         3        1  ...     no    no        1       no\n",
              "1  385000      400         2        1  ...     no    no        0       no\n",
              "2  495000      306         3        1  ...     no    no        0       no\n",
              "3  605000      665         3        1  ...     no    no        0       no\n",
              "4  610000      636         2        1  ...     no    no        0       no\n",
              "5  660000      416         3        1  ...     no   yes        0       no\n",
              "6  660000      388         3        2  ...     no    no        2       no\n",
              "7  690000      416         3        1  ...     no    no        0       no\n",
              "8  838000      480         3        1  ...     no    no        0       no\n",
              "9  885000      550         3        2  ...     no   yes        1       no\n",
              "\n",
              "[10 rows x 12 columns]"
            ]
          },
          "metadata": {
            "tags": []
          },
          "execution_count": 3
        }
      ]
    },
    {
      "cell_type": "markdown",
      "metadata": {
        "id": "NtjomIpsUgbT",
        "colab_type": "text"
      },
      "source": [
        "# Apprentissage du modèle"
      ]
    },
    {
      "cell_type": "markdown",
      "metadata": {
        "id": "UGGdxrRiVMLN",
        "colab_type": "text"
      },
      "source": [
        "**Question** créez un modèle linéaire avec deux variables continues, surface (`lotsize`) et le nombre de chambers (`bedrooms`) par exemple."
      ]
    },
    {
      "cell_type": "code",
      "metadata": {
        "id": "uv_NO4g_VKyx",
        "colab_type": "code",
        "colab": {}
      },
      "source": [
        "X = housing[['lotsize',\"bedrooms\"]]\n",
        "y = housing[['price']]"
      ],
      "execution_count": null,
      "outputs": []
    },
    {
      "cell_type": "code",
      "metadata": {
        "id": "JR4v7nnDVeyb",
        "colab_type": "code",
        "colab": {
          "base_uri": "https://localhost:8080/",
          "height": 34
        },
        "outputId": "54ff7395-f5d1-4ceb-a899-3d19b4e343c1"
      },
      "source": [
        "import matplotlib.pyplot as plt\n",
        "from sklearn.linear_model import LinearRegression\n",
        "from sklearn.metrics import mean_squared_error\n",
        " \n",
        "lmodellineaire = LinearRegression()\n",
        "lmodellineaire.fit(X, y)\n",
        "lmodellineaire.score(X, y)"
      ],
      "execution_count": null,
      "outputs": [
        {
          "output_type": "execute_result",
          "data": {
            "text/plain": [
              "0.3702767535369478"
            ]
          },
          "metadata": {
            "tags": []
          },
          "execution_count": 5
        }
      ]
    },
    {
      "cell_type": "markdown",
      "metadata": {
        "id": "6egEf7d0VeNR",
        "colab_type": "text"
      },
      "source": [
        "# Prédiction"
      ]
    },
    {
      "cell_type": "markdown",
      "metadata": {
        "id": "QzTMucHOVjTq",
        "colab_type": "text"
      },
      "source": [
        "**Question** extraire les coefficients du modèle"
      ]
    },
    {
      "cell_type": "code",
      "metadata": {
        "id": "5MfLbVMOUdBY",
        "colab_type": "code",
        "colab": {
          "base_uri": "https://localhost:8080/",
          "height": 34
        },
        "outputId": "5cd3316f-8f82-459f-fb9e-dbaadce66f1a"
      },
      "source": [
        "lmodellineaire.coef_"
      ],
      "execution_count": null,
      "outputs": [
        {
          "output_type": "execute_result",
          "data": {
            "text/plain": [
              "array([[   605.3635141 , 105670.88360516]])"
            ]
          },
          "metadata": {
            "tags": []
          },
          "execution_count": 6
        }
      ]
    },
    {
      "cell_type": "markdown",
      "metadata": {
        "id": "XI-G2xENVnx2",
        "colab_type": "text"
      },
      "source": [
        "**Question** utiliser les coefficients pour estimer le prix d'une maison de 400 m2 avec 4 chambres. Quid de 2, ou 3 chambres ?"
      ]
    },
    {
      "cell_type": "code",
      "metadata": {
        "id": "i_AXjZx3V1-S",
        "colab_type": "code",
        "colab": {
          "base_uri": "https://localhost:8080/",
          "height": 34
        },
        "outputId": "310e9595-7685-4420-c729-7dcb92158af0"
      },
      "source": [
        "import numpy as np\n",
        "\n",
        "lmodellineaire.coef_@np.array([[400,4],[400,2],[400,3]]).T + lmodellineaire.intercept_"
      ],
      "execution_count": null,
      "outputs": [
        {
          "output_type": "execute_result",
          "data": {
            "text/plain": [
              "array([[720907.32802249, 509565.56081217, 615236.44441733]])"
            ]
          },
          "metadata": {
            "tags": []
          },
          "execution_count": 22
        }
      ]
    },
    {
      "cell_type": "markdown",
      "metadata": {
        "id": "tBAYcyqSV2wC",
        "colab_type": "text"
      },
      "source": [
        "**Question** utiliser la méthode `.predict` pour prédire les prix pour les exemples de maisons dans la question précédente. Retrouvez-vous les mêmes valeurs prédites ?"
      ]
    },
    {
      "cell_type": "code",
      "metadata": {
        "id": "PAp2XtJ_WL1A",
        "colab_type": "code",
        "colab": {
          "base_uri": "https://localhost:8080/",
          "height": 69
        },
        "outputId": "d5f2f39c-fc10-435e-b5bc-86e395d2edfe"
      },
      "source": [
        "print(lmodellineaire.predict([[400,4]]))\n",
        "print(lmodellineaire.predict([[400,2]]))\n",
        "print(lmodellineaire.predict([[400,3]]))"
      ],
      "execution_count": null,
      "outputs": [
        {
          "output_type": "stream",
          "text": [
            "[[720907.32802249]]\n",
            "[[509565.56081217]]\n",
            "[[615236.44441733]]\n"
          ],
          "name": "stdout"
        }
      ]
    },
    {
      "cell_type": "markdown",
      "metadata": {
        "id": "xYcjqdEUV5s1",
        "colab_type": "text"
      },
      "source": [
        "**Question** Quel est le RMSE du modèle ? Est-il mieux que le modèle avec une variable ?"
      ]
    },
    {
      "cell_type": "code",
      "metadata": {
        "id": "YLm_GCKUV_oW",
        "colab_type": "code",
        "colab": {
          "base_uri": "https://localhost:8080/",
          "height": 34
        },
        "outputId": "937493e6-c82c-4170-84cb-82da7025a8e2"
      },
      "source": [
        "from sklearn.metrics import r2_score\n",
        "\n",
        "rmse = (np.sqrt(mean_squared_error(y, lmodellineaire.predict(X))))\n",
        "\n",
        "print(\"Le RMSE est : \", rmse)"
      ],
      "execution_count": null,
      "outputs": [
        {
          "output_type": "stream",
          "text": [
            "Le RMSE est :  211705.18579654823\n"
          ],
          "name": "stdout"
        }
      ]
    },
    {
      "cell_type": "markdown",
      "metadata": {
        "id": "7lD1WgRWxYuq",
        "colab_type": "text"
      },
      "source": [
        "- E : Error\n",
        "- S : Square\n",
        "- M : Mean\n",
        "- R : Root"
      ]
    },
    {
      "cell_type": "code",
      "metadata": {
        "id": "-o0DHh95xpIS",
        "colab_type": "code",
        "colab": {
          "base_uri": "https://localhost:8080/",
          "height": 52
        },
        "outputId": "4eec7b37-6d13-4fdf-8acf-d1974a67091f"
      },
      "source": [
        "E = lmodellineaire.predict(X) - y\n",
        "S = E**2\n",
        "M = S.mean()\n",
        "R = np.sqrt(M)\n",
        "R"
      ],
      "execution_count": null,
      "outputs": [
        {
          "output_type": "execute_result",
          "data": {
            "text/plain": [
              "price    211705.185797\n",
              "dtype: float64"
            ]
          },
          "metadata": {
            "tags": []
          },
          "execution_count": 16
        }
      ]
    },
    {
      "cell_type": "code",
      "metadata": {
        "id": "HVlcHBYWyOmm",
        "colab_type": "code",
        "colab": {}
      },
      "source": [
        ""
      ],
      "execution_count": null,
      "outputs": []
    },
    {
      "cell_type": "markdown",
      "metadata": {
        "id": "j4uNLKkjlOuY",
        "colab_type": "text"
      },
      "source": [
        "**Question** Faire la prédiction pour plusieurs observations. Par exemple, deux appartements avec les caractéristiques suivantes:\n",
        "\n",
        "- 300 mètres carrés et 3 chambres\n",
        "- 350 mètres carrés et 2 chambres.\n",
        "\n",
        "Utiliser la méthode `predict` et aussi en utilisant les coefficients du modèle."
      ]
    },
    {
      "cell_type": "code",
      "metadata": {
        "id": "428trh1SlPF3",
        "colab_type": "code",
        "colab": {
          "base_uri": "https://localhost:8080/",
          "height": 52
        },
        "outputId": "e3f0e44a-454d-4d62-b5c1-9e147126e89b"
      },
      "source": [
        "estimationPrix4 = lmodellineaire.predict([[300,3]])\n",
        "print(\"Estimation du prix de vente pour 3 chambres : \",estimationPrix4)\n",
        "estimationPrix5 = lmodellineaire.predict([[350,2]])\n",
        "print(\"Estimation du prix de vente pour 2 chambres : \",estimationPrix5)"
      ],
      "execution_count": null,
      "outputs": [
        {
          "output_type": "stream",
          "text": [
            "Estimation du prix de vente pour 3 chambres :  [[554700.09300766]]\n",
            "Estimation du prix de vente pour 2 chambres :  [[479297.38510734]]\n"
          ],
          "name": "stdout"
        }
      ]
    }
  ]
}