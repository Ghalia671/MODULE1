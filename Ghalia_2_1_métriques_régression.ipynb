{
  "nbformat": 4,
  "nbformat_minor": 0,
  "metadata": {
    "colab": {
      "name": "Ghalia -  2.1 métriques régression.ipynb",
      "provenance": [],
      "collapsed_sections": [],
      "toc_visible": true,
      "include_colab_link": true
    },
    "kernelspec": {
      "name": "python3",
      "display_name": "Python 3"
    }
  },
  "cells": [
    {
      "cell_type": "markdown",
      "metadata": {
        "id": "view-in-github",
        "colab_type": "text"
      },
      "source": [
        "<a href=\"https://colab.research.google.com/github/Ghalia671/MODULE1/blob/master/Ghalia_2_1_m%C3%A9triques_r%C3%A9gression.ipynb\" target=\"_parent\"><img src=\"https://colab.research.google.com/assets/colab-badge.svg\" alt=\"Open In Colab\"/></a>"
      ]
    },
    {
      "cell_type": "markdown",
      "metadata": {
        "id": "myCaor47o3yP"
      },
      "source": [
        "# Métriques modèle régression\n",
        "\n"
      ]
    },
    {
      "cell_type": "code",
      "metadata": {
        "id": "wvI7lZ1_tjG-"
      },
      "source": [
        "from sklearn.datasets import make_regression\n",
        "from sklearn.model_selection import cross_val_score\n",
        "from sklearn.linear_model import LinearRegression\n",
        "\n",
        "X, y = make_regression(n_samples = 100,\n",
        "                       n_features = 3,\n",
        "                       n_informative = 2,\n",
        "                       n_targets = 1,\n",
        "                       noise = 50,\n",
        "                       coef = False,\n",
        "                       random_state = 1)\n",
        "\n",
        "model = LinearRegression()\n"
      ],
      "execution_count": 1,
      "outputs": []
    },
    {
      "cell_type": "markdown",
      "metadata": {
        "id": "P50JZ1-No3yc"
      },
      "source": [
        "## MSE\n"
      ]
    },
    {
      "cell_type": "markdown",
      "metadata": {
        "id": "DMvPRZdvsU1s"
      },
      "source": [
        "$$MSE(y,\\hat y)={1\\over m}\\sum_{i=1}^m (y_i-\\hat y_i)^2$$"
      ]
    },
    {
      "cell_type": "code",
      "metadata": {
        "id": "xS7gD4nBSPRQ",
        "outputId": "97b9727f-77a1-4d27-b247-996b6acafcda",
        "colab": {
          "base_uri": "https://localhost:8080/",
          "height": 34
        }
      },
      "source": [
        "from sklearn.metrics import mean_squared_error\n",
        "from sklearn.model_selection import train_test_split\n",
        "\n",
        "X_train, X_test, y_train, y_test = train_test_split(\n",
        "    X, y, test_size=0.33, random_state=42)\n",
        "\n",
        "model.fit(X_train,y_train)\n",
        "\n",
        "mean_squared_error(model.predict(X_test),y_test)\n"
      ],
      "execution_count": 2,
      "outputs": [
        {
          "output_type": "execute_result",
          "data": {
            "text/plain": [
              "3058.900408143835"
            ]
          },
          "metadata": {
            "tags": []
          },
          "execution_count": 2
        }
      ]
    },
    {
      "cell_type": "markdown",
      "metadata": {
        "id": "XtA6BKHxrzin"
      },
      "source": [
        "**Question** Calculer à la main la MSE."
      ]
    },
    {
      "cell_type": "code",
      "metadata": {
        "id": "z56Mq-VpsUFK",
        "outputId": "5c0a177b-edcc-40d6-a577-3a69bafd835d",
        "colab": {
          "base_uri": "https://localhost:8080/",
          "height": 34
        }
      },
      "source": [
        "E = model.predict(X_test) - y_test\n",
        "S = E**2\n",
        "M = S.mean()\n",
        "M"
      ],
      "execution_count": 4,
      "outputs": [
        {
          "output_type": "execute_result",
          "data": {
            "text/plain": [
              "3058.900408143835"
            ]
          },
          "metadata": {
            "tags": []
          },
          "execution_count": 4
        }
      ]
    },
    {
      "cell_type": "code",
      "metadata": {
        "id": "FlEwi9wso3yc",
        "outputId": "7885b522-822f-4fcc-f2ee-47c761a51e82",
        "colab": {
          "base_uri": "https://localhost:8080/",
          "height": 52
        }
      },
      "source": [
        "cross_val_score(model, X, y, scoring='neg_mean_squared_error')"
      ],
      "execution_count": 5,
      "outputs": [
        {
          "output_type": "execute_result",
          "data": {
            "text/plain": [
              "array([-2914.05749614, -3213.77566901, -2245.14812078, -3141.0813493 ,\n",
              "       -4396.93388687])"
            ]
          },
          "metadata": {
            "tags": []
          },
          "execution_count": 5
        }
      ]
    },
    {
      "cell_type": "markdown",
      "metadata": {
        "id": "FmjOvhVFtmgd"
      },
      "source": [
        "## MAE"
      ]
    },
    {
      "cell_type": "markdown",
      "metadata": {
        "id": "daj0v8pmr3pb"
      },
      "source": [
        "**Question** Calculer à la main la MAE."
      ]
    },
    {
      "cell_type": "code",
      "metadata": {
        "id": "lXIW1Ljvlx_N",
        "outputId": "17eea999-db08-49cd-f721-22194ab563bd",
        "colab": {
          "base_uri": "https://localhost:8080/",
          "height": 34
        }
      },
      "source": [
        "E = model.predict(X_test) - y_test\n",
        "A = abs(E)\n",
        "M = S.mean()\n",
        "M\n"
      ],
      "execution_count": 9,
      "outputs": [
        {
          "output_type": "execute_result",
          "data": {
            "text/plain": [
              "3058.900408143835"
            ]
          },
          "metadata": {
            "tags": []
          },
          "execution_count": 9
        }
      ]
    },
    {
      "cell_type": "code",
      "metadata": {
        "id": "ihztzzc9thq2",
        "outputId": "606262f0-a059-4e06-e725-8d1a52bf8875",
        "colab": {
          "base_uri": "https://localhost:8080/",
          "height": 52
        }
      },
      "source": [
        "cross_val_score(model, X, y, scoring='neg_mean_absolute_error')"
      ],
      "execution_count": 10,
      "outputs": [
        {
          "output_type": "execute_result",
          "data": {
            "text/plain": [
              "array([-43.3660157 , -44.9280652 , -37.83853674, -36.84080219,\n",
              "       -58.04134761])"
            ]
          },
          "metadata": {
            "tags": []
          },
          "execution_count": 10
        }
      ]
    },
    {
      "cell_type": "markdown",
      "metadata": {
        "id": "pZn7DY_0tyhi"
      },
      "source": [
        "## Variance expliquée"
      ]
    },
    {
      "cell_type": "code",
      "metadata": {
        "id": "UNScN7JOt0nH",
        "outputId": "bf9ccc4f-8e2e-4dc8-916d-da67b07ed85a",
        "colab": {
          "base_uri": "https://localhost:8080/",
          "height": 34
        }
      },
      "source": [
        "from sklearn.metrics import explained_variance_score\n",
        "\n",
        "cross_val_score(model, X, y, scoring='explained_variance')\n"
      ],
      "execution_count": 11,
      "outputs": [
        {
          "output_type": "execute_result",
          "data": {
            "text/plain": [
              "array([0.44612691, 0.59616659, 0.7612131 , 0.54028193, 0.56797205])"
            ]
          },
          "metadata": {
            "tags": []
          },
          "execution_count": 11
        }
      ]
    },
    {
      "cell_type": "markdown",
      "metadata": {
        "id": "Pj2AlH9Wtkd4"
      },
      "source": [
        "## R2"
      ]
    },
    {
      "cell_type": "code",
      "metadata": {
        "id": "bzaqwUkEo3ye",
        "outputId": "05f26c71-48e8-4597-f1f5-f4c7005cb321",
        "colab": {
          "base_uri": "https://localhost:8080/",
          "height": 34
        }
      },
      "source": [
        "cross_val_score(model, X, y, scoring='r2')"
      ],
      "execution_count": 12,
      "outputs": [
        {
          "output_type": "execute_result",
          "data": {
            "text/plain": [
              "array([0.31685452, 0.53497568, 0.76115698, 0.52962916, 0.38924881])"
            ]
          },
          "metadata": {
            "tags": []
          },
          "execution_count": 12
        }
      ]
    },
    {
      "cell_type": "markdown",
      "metadata": {
        "id": "in7Mv5JPrSJd"
      },
      "source": [
        "## MAPE"
      ]
    },
    {
      "cell_type": "markdown",
      "metadata": {
        "id": "b_F8c0URrT15"
      },
      "source": [
        "**Question** Calculer la MAPE."
      ]
    },
    {
      "cell_type": "code",
      "metadata": {
        "id": "Ks9qYJvdrTUS",
        "outputId": "4484ec6f-66fa-4211-8d67-e5102bce80da",
        "colab": {
          "base_uri": "https://localhost:8080/",
          "height": 34
        }
      },
      "source": [
        "E = model.predict(X_test) - y_test\n",
        "P = sum(E) / len(E)\n",
        "A = abs(P)\n",
        "M = S.mean()\n",
        "M"
      ],
      "execution_count": 13,
      "outputs": [
        {
          "output_type": "execute_result",
          "data": {
            "text/plain": [
              "3058.900408143835"
            ]
          },
          "metadata": {
            "tags": []
          },
          "execution_count": 13
        }
      ]
    },
    {
      "cell_type": "markdown",
      "metadata": {
        "id": "kTKHqIDy0LlB"
      },
      "source": [
        "# Quartet d'Anscombe"
      ]
    },
    {
      "cell_type": "code",
      "metadata": {
        "id": "UAR5SOLu0Ow3"
      },
      "source": [
        "import matplotlib.pyplot as plt\n",
        "import numpy as np\n",
        "\n",
        "x = [10, 8, 13, 9, 11, 14, 6, 4, 12, 7, 5]\n",
        "y1 = [8.04, 6.95, 7.58, 8.81, 8.33, 9.96, 7.24, 4.26, 10.84, 4.82, 5.68]\n",
        "y2 = [9.14, 8.14, 8.74, 8.77, 9.26, 8.10, 6.13, 3.10, 9.13, 7.26, 4.74]\n",
        "y3 = [7.46, 6.77, 12.74, 7.11, 7.81, 8.84, 6.08, 5.39, 8.15, 6.42, 5.73]\n",
        "\n",
        "\n",
        "x4 = [8, 8, 8, 8, 8, 8, 8, 19, 8, 8, 8]\n",
        "y4 = [6.58, 5.76, 7.71, 8.84, 8.47, 7.04, 5.25, 12.50, 5.56, 7.91, 6.89]\n"
      ],
      "execution_count": 14,
      "outputs": []
    },
    {
      "cell_type": "markdown",
      "metadata": {
        "id": "ApF0eN3T0wQy"
      },
      "source": [
        "## Visualisation"
      ]
    },
    {
      "cell_type": "markdown",
      "metadata": {
        "id": "JfWtECQY00Ve"
      },
      "source": [
        "**Question** Visualiser les 4 séries de données."
      ]
    },
    {
      "cell_type": "code",
      "metadata": {
        "id": "xAnExtRi0z2i",
        "outputId": "8c41f79c-dbea-4fb3-e7a6-fac1ef1b5110",
        "colab": {
          "base_uri": "https://localhost:8080/",
          "height": 371
        }
      },
      "source": [
        "datasets = {\n",
        "    'I': (x, y1),\n",
        "    'II': (x, y2),\n",
        "    'III': (x, y3),\n",
        "    'IV': (x4, y4)\n",
        "}\n",
        "\n",
        "fig, axs = plt.subplots(2, 2, sharex=True, sharey=True, figsize=(6, 6),\n",
        "                        gridspec_kw={'wspace': 0.08, 'hspace': 0.08})\n",
        "axs[0, 0].set(xlim=(0, 20), ylim=(2, 14))\n",
        "axs[0, 0].set(xticks=(0, 10, 20), yticks=(4, 8, 12))\n",
        "\n",
        "for ax, (label, (x, y)) in zip(axs.flat, datasets.items()):\n",
        "    ax.text(0.1, 0.9, label, fontsize=20, transform=ax.transAxes, va='top')\n",
        "    ax.tick_params(direction='in', top=True, right=True)\n",
        "    ax.plot(x, y, 'o')\n",
        "\n",
        "    # linear regression\n",
        "    p1, p0 = np.polyfit(x, y, deg=1)\n",
        "    x_lin = np.array([np.min(x), np.max(x)])\n",
        "    y_lin = p1 * x_lin + p0\n",
        "    ax.plot(x_lin, y_lin, 'r-', lw=2)\n",
        "\n",
        "    # add text box for the statistics\n",
        "    stats = (f'$\\\\mu$ = {np.mean(y):.2f}\\n'\n",
        "             f'$\\\\sigma$ = {np.std(y):.2f}\\n'\n",
        "             f'$r$ = {np.corrcoef(x, y)[0][1]:.2f}')\n",
        "    bbox = dict(boxstyle='round', fc='blanchedalmond', ec='orange', alpha=0.5)\n",
        "    ax.text(0.95, 0.07, stats, fontsize=9, bbox=bbox,\n",
        "            transform=ax.transAxes, horizontalalignment='right')\n",
        "\n",
        "plt.show()"
      ],
      "execution_count": 15,
      "outputs": [
        {
          "output_type": "display_data",
          "data": {
            "image/png": "[encoded data removed]",
            "text/plain": [
              "<Figure size 432x432 with 4 Axes>"
            ]
          },
          "metadata": {
            "tags": [],
            "needs_background": "light"
          }
        }
      ]
    },
    {
      "cell_type": "markdown",
      "metadata": {
        "id": "JACBCrnQ04TV"
      },
      "source": [
        "## Statistiques"
      ]
    },
    {
      "cell_type": "markdown",
      "metadata": {
        "id": "MvCA97S606s7"
      },
      "source": [
        "**Question** Calculer les différents éléments statistiques : moyenne, écart-type, corrélation."
      ]
    },
    {
      "cell_type": "code",
      "metadata": {
        "id": "ai00DoII06WR",
        "outputId": "d2baa1a7-5dbc-452c-a390-48deba17339c",
        "colab": {
          "base_uri": "https://localhost:8080/",
          "height": 225
        }
      },
      "source": [
        "moy1 = sum(x)/ len(x)\n",
        "print(\"moy x\", moy1)\n",
        "moy2 = sum(y1)/ len(y1)\n",
        "print(\"moy y1\",moy2)\n",
        "moy3 = sum(y2)/ len(y2)\n",
        "print(\"moy y2\",moy3)\n",
        "moy4 = sum(y3)/ len(y3)\n",
        "print(\"moy y3\",moy4)\n",
        "moy5 = sum(x4)/ len(x4)\n",
        "print(\"moy x4\",moy5)\n",
        "moy6 = sum(y4)/ len(y4)\n",
        "print(\"moy y4\",moy6)\n",
        "s1 = np.array(x)\n",
        "print(\"std x : \", np.std(s1))\n",
        "s2 = np.array(y1)\n",
        "print(\"std y1 : \", np.std(s2))\n",
        "s3 = np.array(y2)\n",
        "print(\"std y2 : \", np.std(s3))\n",
        "s4 = np.array(y3)\n",
        "print(\"std y3 : \", np.std(s4))\n",
        "s5 = np.array(x4)\n",
        "print(\"std x4 : \", np.std(s5))\n",
        "s6 = np.array(y4)\n",
        "print(\"std y4 : \", np.std(s6))"
      ],
      "execution_count": 24,
      "outputs": [
        {
          "output_type": "stream",
          "text": [
            "moy x 9.0\n",
            "moy y1 7.500909090909093\n",
            "moy y2 7.500909090909091\n",
            "moy y3 7.500000000000001\n",
            "moy x4 9.0\n",
            "moy y4 7.50090909090909\n",
            "std x :  3.1622776601683795\n",
            "std y1 :  1.937024215108669\n",
            "std y2 :  1.93710869148962\n",
            "std y3 :  1.9359329439927313\n",
            "std x4 :  3.1622776601683795\n",
            "std y4 :  1.9360806451340837\n"
          ],
          "name": "stdout"
        }
      ]
    },
    {
      "cell_type": "markdown",
      "metadata": {
        "id": "8S_tZEm91GxW"
      },
      "source": [
        "## Régression linéaire"
      ]
    },
    {
      "cell_type": "markdown",
      "metadata": {
        "id": "nsK3KJPY1ONX"
      },
      "source": [
        "**Question** Créer les 4 modèles de régression linéaire. Calculer les différentes métriques d'évaluation."
      ]
    },
    {
      "cell_type": "code",
      "metadata": {
        "id": "RGSD1cH71H3r",
        "outputId": "b106f995-b25a-438e-cf6a-eb62a2596d37",
        "colab": {
          "base_uri": "https://localhost:8080/",
          "height": 156
        }
      },
      "source": [
        "import pandas as pd\n",
        "\n",
        "model1 = LinearRegression()\n",
        "res = pd.DataFrame(x)\n",
        "res1 = pd.DataFrame(y1)\n",
        "model1.fit(res,res1)\n",
        "p1 = model1.predict(res)\n",
        "print(\" mse model 1 : \",mean_squared_error(p1,res1))\n",
        "print(\"validation croisée model 1 :\", cross_val_score(model1, res, res1, scoring='neg_mean_absolute_error'))\n",
        "\n",
        "model2 = LinearRegression()\n",
        "res2 = pd.DataFrame(y2)\n",
        "model2.fit(res,res2)\n",
        "p2 = model2.predict(res)\n",
        "print(\" mse model 2 : \",mean_squared_error(p2,res2))\n",
        "print(\"validation croisée model 2 :\", cross_val_score(model2, res, res2, scoring='neg_mean_absolute_error'))\n",
        "\n",
        "\n",
        "model3 = LinearRegression()\n",
        "res3 = pd.DataFrame(y3)\n",
        "model3.fit(res,res3)\n",
        "p3 = model3.predict(res)\n",
        "print(\" mse model 3 : \",mean_squared_error(p3,res3))\n",
        "print(\"validation croisée model 3 :\", cross_val_score(model3, res, res3, scoring='neg_mean_absolute_error'))\n",
        "\n",
        "model4 = LinearRegression()\n",
        "res4 = pd.DataFrame(x4)\n",
        "res44 = pd.DataFrame(y4)\n",
        "model4.fit(res4,res44)\n",
        "p4 = model4.predict(res4)\n",
        "print(\" mse model 4 : \",mean_squared_error(p4,res44))\n",
        "print(\"validation croisée model 4 :\", cross_val_score(model4, res4, res44, scoring='neg_mean_absolute_error'))"
      ],
      "execution_count": 32,
      "outputs": [
        {
          "output_type": "stream",
          "text": [
            " mse model 1 :  2.701713636363637\n",
            "validation croisée model 1 : [-0.48809524 -0.93125    -1.36       -3.29       -3.21875   ]\n",
            " mse model 2 :  1.8155900000000003\n",
            "validation croisée model 2 : [-1.04619048 -1.3425     -1.0325     -3.015      -2.42625   ]\n",
            " mse model 3 :  3.3026263636363637\n",
            "validation croisée model 3 : [-2.08904762 -0.35       -1.38       -1.38       -2.045     ]\n",
            " mse model 4 :  1.249317272727273\n",
            "validation croisée model 4 : [-0.83571429 -2.0675     -1.07       -3.47       -0.51      ]\n"
          ],
          "name": "stdout"
        }
      ]
    }
  ]
}