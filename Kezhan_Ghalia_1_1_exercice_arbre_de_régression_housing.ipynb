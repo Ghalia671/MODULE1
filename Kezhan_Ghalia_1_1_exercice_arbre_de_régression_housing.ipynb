{
  "nbformat": 4,
  "nbformat_minor": 0,
  "metadata": {
    "colab": {
      "name": "Kezhan - Ghalia -  1.1 exercice arbre de régression housing.ipynb",
      "provenance": [],
      "collapsed_sections": [],
      "include_colab_link": true
    },
    "kernelspec": {
      "name": "python3",
      "display_name": "Python 3"
    }
  },
  "cells": [
    {
      "cell_type": "markdown",
      "metadata": {
        "id": "view-in-github",
        "colab_type": "text"
      },
      "source": [
        "<a href=\"https://colab.research.google.com/github/Ghalia671/MODULE1/blob/master/Kezhan_Ghalia_1_1_exercice_arbre_de_r%C3%A9gression_housing.ipynb\" target=\"_parent\"><img src=\"https://colab.research.google.com/assets/colab-badge.svg\" alt=\"Open In Colab\"/></a>"
      ]
    },
    {
      "cell_type": "markdown",
      "metadata": {
        "id": "TPwM1evn4R4g",
        "colab_type": "text"
      },
      "source": [
        "# Données"
      ]
    },
    {
      "cell_type": "code",
      "metadata": {
        "colab_type": "code",
        "id": "uYQgD5Pvd2EX",
        "colab": {}
      },
      "source": [
        "import pandas as pd\n",
        "import matplotlib.pyplot as plt\n",
        "\n",
        "housing=pd.read_csv(\"https://dataks.bitbucket.io/ml/houses.csv\")"
      ],
      "execution_count": null,
      "outputs": []
    },
    {
      "cell_type": "code",
      "metadata": {
        "colab_type": "code",
        "id": "FMVMkSsEevvK",
        "colab": {
          "base_uri": "https://localhost:8080/",
          "height": 363
        },
        "outputId": "dd758ad3-2ebd-488f-cc30-bda832e4f53c"
      },
      "source": [
        "housing.head(10)"
      ],
      "execution_count": null,
      "outputs": [
        {
          "output_type": "execute_result",
          "data": {
            "text/html": [
              "<div>\n",
              "<style scoped>\n",
              "    .dataframe tbody tr th:only-of-type {\n",
              "        vertical-align: middle;\n",
              "    }\n",
              "\n",
              "    .dataframe tbody tr th {\n",
              "        vertical-align: top;\n",
              "    }\n",
              "\n",
              "    .dataframe thead th {\n",
              "        text-align: right;\n",
              "    }\n",
              "</style>\n",
              "<table border=\"1\" class=\"dataframe\">\n",
              "  <thead>\n",
              "    <tr style=\"text-align: right;\">\n",
              "      <th></th>\n",
              "      <th>price</th>\n",
              "      <th>lotsize</th>\n",
              "      <th>bedrooms</th>\n",
              "      <th>bathrms</th>\n",
              "      <th>stories</th>\n",
              "      <th>driveway</th>\n",
              "      <th>recroom</th>\n",
              "      <th>fullbase</th>\n",
              "      <th>gashw</th>\n",
              "      <th>airco</th>\n",
              "      <th>garagepl</th>\n",
              "      <th>prefarea</th>\n",
              "    </tr>\n",
              "  </thead>\n",
              "  <tbody>\n",
              "    <tr>\n",
              "      <th>0</th>\n",
              "      <td>420000</td>\n",
              "      <td>585</td>\n",
              "      <td>3</td>\n",
              "      <td>1</td>\n",
              "      <td>2</td>\n",
              "      <td>yes</td>\n",
              "      <td>no</td>\n",
              "      <td>yes</td>\n",
              "      <td>no</td>\n",
              "      <td>no</td>\n",
              "      <td>1</td>\n",
              "      <td>no</td>\n",
              "    </tr>\n",
              "    <tr>\n",
              "      <th>1</th>\n",
              "      <td>385000</td>\n",
              "      <td>400</td>\n",
              "      <td>2</td>\n",
              "      <td>1</td>\n",
              "      <td>1</td>\n",
              "      <td>yes</td>\n",
              "      <td>no</td>\n",
              "      <td>no</td>\n",
              "      <td>no</td>\n",
              "      <td>no</td>\n",
              "      <td>0</td>\n",
              "      <td>no</td>\n",
              "    </tr>\n",
              "    <tr>\n",
              "      <th>2</th>\n",
              "      <td>495000</td>\n",
              "      <td>306</td>\n",
              "      <td>3</td>\n",
              "      <td>1</td>\n",
              "      <td>1</td>\n",
              "      <td>yes</td>\n",
              "      <td>no</td>\n",
              "      <td>no</td>\n",
              "      <td>no</td>\n",
              "      <td>no</td>\n",
              "      <td>0</td>\n",
              "      <td>no</td>\n",
              "    </tr>\n",
              "    <tr>\n",
              "      <th>3</th>\n",
              "      <td>605000</td>\n",
              "      <td>665</td>\n",
              "      <td>3</td>\n",
              "      <td>1</td>\n",
              "      <td>2</td>\n",
              "      <td>yes</td>\n",
              "      <td>yes</td>\n",
              "      <td>no</td>\n",
              "      <td>no</td>\n",
              "      <td>no</td>\n",
              "      <td>0</td>\n",
              "      <td>no</td>\n",
              "    </tr>\n",
              "    <tr>\n",
              "      <th>4</th>\n",
              "      <td>610000</td>\n",
              "      <td>636</td>\n",
              "      <td>2</td>\n",
              "      <td>1</td>\n",
              "      <td>1</td>\n",
              "      <td>yes</td>\n",
              "      <td>no</td>\n",
              "      <td>no</td>\n",
              "      <td>no</td>\n",
              "      <td>no</td>\n",
              "      <td>0</td>\n",
              "      <td>no</td>\n",
              "    </tr>\n",
              "    <tr>\n",
              "      <th>5</th>\n",
              "      <td>660000</td>\n",
              "      <td>416</td>\n",
              "      <td>3</td>\n",
              "      <td>1</td>\n",
              "      <td>1</td>\n",
              "      <td>yes</td>\n",
              "      <td>yes</td>\n",
              "      <td>yes</td>\n",
              "      <td>no</td>\n",
              "      <td>yes</td>\n",
              "      <td>0</td>\n",
              "      <td>no</td>\n",
              "    </tr>\n",
              "    <tr>\n",
              "      <th>6</th>\n",
              "      <td>660000</td>\n",
              "      <td>388</td>\n",
              "      <td>3</td>\n",
              "      <td>2</td>\n",
              "      <td>2</td>\n",
              "      <td>yes</td>\n",
              "      <td>no</td>\n",
              "      <td>yes</td>\n",
              "      <td>no</td>\n",
              "      <td>no</td>\n",
              "      <td>2</td>\n",
              "      <td>no</td>\n",
              "    </tr>\n",
              "    <tr>\n",
              "      <th>7</th>\n",
              "      <td>690000</td>\n",
              "      <td>416</td>\n",
              "      <td>3</td>\n",
              "      <td>1</td>\n",
              "      <td>3</td>\n",
              "      <td>yes</td>\n",
              "      <td>no</td>\n",
              "      <td>no</td>\n",
              "      <td>no</td>\n",
              "      <td>no</td>\n",
              "      <td>0</td>\n",
              "      <td>no</td>\n",
              "    </tr>\n",
              "    <tr>\n",
              "      <th>8</th>\n",
              "      <td>838000</td>\n",
              "      <td>480</td>\n",
              "      <td>3</td>\n",
              "      <td>1</td>\n",
              "      <td>1</td>\n",
              "      <td>yes</td>\n",
              "      <td>yes</td>\n",
              "      <td>yes</td>\n",
              "      <td>no</td>\n",
              "      <td>no</td>\n",
              "      <td>0</td>\n",
              "      <td>no</td>\n",
              "    </tr>\n",
              "    <tr>\n",
              "      <th>9</th>\n",
              "      <td>885000</td>\n",
              "      <td>550</td>\n",
              "      <td>3</td>\n",
              "      <td>2</td>\n",
              "      <td>4</td>\n",
              "      <td>yes</td>\n",
              "      <td>yes</td>\n",
              "      <td>no</td>\n",
              "      <td>no</td>\n",
              "      <td>yes</td>\n",
              "      <td>1</td>\n",
              "      <td>no</td>\n",
              "    </tr>\n",
              "  </tbody>\n",
              "</table>\n",
              "</div>"
            ],
            "text/plain": [
              "    price  lotsize  bedrooms  bathrms  ...  gashw airco garagepl prefarea\n",
              "0  420000      585         3        1  ...     no    no        1       no\n",
              "1  385000      400         2        1  ...     no    no        0       no\n",
              "2  495000      306         3        1  ...     no    no        0       no\n",
              "3  605000      665         3        1  ...     no    no        0       no\n",
              "4  610000      636         2        1  ...     no    no        0       no\n",
              "5  660000      416         3        1  ...     no   yes        0       no\n",
              "6  660000      388         3        2  ...     no    no        2       no\n",
              "7  690000      416         3        1  ...     no    no        0       no\n",
              "8  838000      480         3        1  ...     no    no        0       no\n",
              "9  885000      550         3        2  ...     no   yes        1       no\n",
              "\n",
              "[10 rows x 12 columns]"
            ]
          },
          "metadata": {
            "tags": []
          },
          "execution_count": 2
        }
      ]
    },
    {
      "cell_type": "code",
      "metadata": {
        "id": "ElAwkhyKqrym",
        "colab_type": "code",
        "colab": {}
      },
      "source": [
        "housing = housing.replace(to_replace='yes', value=1, regex=True)\n",
        "housing = housing.replace(to_replace='no', value=0, regex=True)"
      ],
      "execution_count": null,
      "outputs": []
    },
    {
      "cell_type": "markdown",
      "metadata": {
        "id": "gn_Y2jk14VoD",
        "colab_type": "text"
      },
      "source": [
        "# Arbre de régression\n"
      ]
    },
    {
      "cell_type": "markdown",
      "metadata": {
        "colab_type": "text",
        "id": "DzrAsE20Hbyf"
      },
      "source": [
        "## Base d'apprentissage et de test"
      ]
    },
    {
      "cell_type": "code",
      "metadata": {
        "colab_type": "code",
        "id": "f2cx0UjiHbyh",
        "colab": {}
      },
      "source": [
        "from sklearn.model_selection import train_test_split\n",
        "\n",
        "# choisir les variables explicatives, par exemple\n",
        "\n",
        "var_choix=['lotsize']\n",
        "\n",
        "\n",
        "var_choix=['lotsize','bedrooms','stories','bathrms','garagepl']\n",
        "\n",
        "\n",
        "X = housing[var_choix]\n",
        "\n",
        "y = housing[['price']]\n",
        "\n",
        "X_train, X_test, y_train, y_test = train_test_split(X, y, test_size=0.3)"
      ],
      "execution_count": null,
      "outputs": []
    },
    {
      "cell_type": "markdown",
      "metadata": {
        "id": "5uyqO8dR4ejW",
        "colab_type": "text"
      },
      "source": [
        "## Construction de l'arbre"
      ]
    },
    {
      "cell_type": "markdown",
      "metadata": {
        "id": "k-N5PIi1Fsvq",
        "colab_type": "text"
      },
      "source": [
        "**Questions** Construire l'arbre de régression"
      ]
    },
    {
      "cell_type": "code",
      "metadata": {
        "id": "VBmW1fPs4gDs",
        "colab_type": "code",
        "colab": {
          "base_uri": "https://localhost:8080/",
          "height": 121
        },
        "outputId": "c6454dde-05a6-4c69-9611-e75652aac81c"
      },
      "source": [
        "import numpy as np\n",
        "from sklearn.tree import DecisionTreeRegressor\n",
        "import matplotlib.pyplot as plt\n",
        "\n",
        "# Ecrire le code ici pour construire l'arbre de régression\n",
        "\n",
        "reg = DecisionTreeRegressor(max_depth=2)\n",
        "reg.fit(X,y)\n"
      ],
      "execution_count": null,
      "outputs": [
        {
          "output_type": "execute_result",
          "data": {
            "text/plain": [
              "DecisionTreeRegressor(ccp_alpha=0.0, criterion='mse', max_depth=2,\n",
              "                      max_features=None, max_leaf_nodes=None,\n",
              "                      min_impurity_decrease=0.0, min_impurity_split=None,\n",
              "                      min_samples_leaf=1, min_samples_split=2,\n",
              "                      min_weight_fraction_leaf=0.0, presort='deprecated',\n",
              "                      random_state=None, splitter='best')"
            ]
          },
          "metadata": {
            "tags": []
          },
          "execution_count": 12
        }
      ]
    },
    {
      "cell_type": "markdown",
      "metadata": {
        "id": "UtJT14hpFvuB",
        "colab_type": "text"
      },
      "source": [
        "**Questions** Afficher l'arbre de régression"
      ]
    },
    {
      "cell_type": "code",
      "metadata": {
        "id": "KGC0_BFF43OL",
        "colab_type": "code",
        "colab": {
          "base_uri": "https://localhost:8080/",
          "height": 805
        },
        "outputId": "327b2e12-cb77-4a32-db8c-43fd69da5635"
      },
      "source": [
        "from sklearn import tree\n",
        "\n",
        "# \n",
        "fig,ax = plt.subplots(figsize=(12,12))\n",
        "tree.plot_tree(reg)"
      ],
      "execution_count": null,
      "outputs": [
        {
          "output_type": "execute_result",
          "data": {
            "text/plain": [
              "[Text(334.8, 543.6, 'X[0] <= 595.5\\nmse = 71172671399.516\\nsamples = 546\\nvalue = 681215.971'),\n",
              " Text(167.4, 326.16, 'X[3] <= 1.5\\nmse = 34366399237.355\\nsamples = 362\\nvalue = 576388.122'),\n",
              " Text(83.7, 108.72000000000003, 'mse = 23155873061.224\\nsamples = 294\\nvalue = 540035.714'),\n",
              " Text(251.10000000000002, 108.72000000000003, 'mse = 52419275951.557\\nsamples = 68\\nvalue = 733558.824'),\n",
              " Text(502.20000000000005, 326.16, 'X[3] <= 1.5\\nmse = 79431723566.907\\nsamples = 184\\nvalue = 887453.37'),\n",
              " Text(418.5, 108.72000000000003, 'mse = 54217285729.595\\nsamples = 108\\nvalue = 768939.815'),\n",
              " Text(585.9, 108.72000000000003, 'mse = 66940150124.654\\nsamples = 76\\nvalue = 1055867.368')]"
            ]
          },
          "metadata": {
            "tags": []
          },
          "execution_count": 13
        },
        {
          "output_type": "display_data",
          "data": {
            "image/png": "[encoded data removed]",
            "text/plain": [
              "<Figure size 864x864 with 1 Axes>"
            ]
          },
          "metadata": {
            "tags": [],
            "needs_background": "light"
          }
        }
      ]
    },
    {
      "cell_type": "markdown",
      "metadata": {
        "id": "Mqd7Iy1oF6Xv",
        "colab_type": "text"
      },
      "source": [
        "# Boucle sur des hyperparamètres"
      ]
    },
    {
      "cell_type": "markdown",
      "metadata": {
        "id": "hZie243bF9lg",
        "colab_type": "text"
      },
      "source": [
        "**Question** Afin de trouver le meilleur hyperparamètre, on peut créer une boucle pour tester plusieurs valeurs possibles de l'hyperparamètre.\n"
      ]
    },
    {
      "cell_type": "code",
      "metadata": {
        "colab_type": "code",
        "id": "TUHRfzeNXFsR",
        "colab": {
          "base_uri": "https://localhost:8080/",
          "height": 557
        },
        "outputId": "1ddea9a5-f737-4a54-c57d-50e3f5c10f02"
      },
      "source": [
        "\n",
        "from sklearn import model_selection\n",
        "\n",
        "X_train, X_test, y_train, y_test = model_selection.train_test_split(X, y,\n",
        "            test_size=0.4, random_state=0)\n",
        "\n",
        "rows = []\n",
        "\n",
        "for i in range(1,15):\n",
        "    # entraîner le modèle en choissant l'hypermètre à tester\n",
        "    rows.append([i,reg.score(X_train, y_train), reg.score(X_test, y_test)])\n",
        "print(\"\")\n",
        "\n",
        "res_scores = pd.DataFrame(rows, columns=[\"parameter\",\"train_score\", \"test_score\"])\n",
        "print(res_scores)\n",
        "\n",
        "res_scores.plot(kind=\"line\",x=\"parameter\",y=\"train_score\")\n",
        "\n",
        "plt.plot(res_scores[\"parameter\"],res_scores[\"test_score\"], label = \"test_score\")\n",
        "plt.xlabel('parameter')\n",
        "plt.ylabel('score')\n",
        "plt.legend()\n",
        "plt.show()"
      ],
      "execution_count": null,
      "outputs": [
        {
          "output_type": "stream",
          "text": [
            "\n",
            "    parameter  train_score  test_score\n",
            "0           1     0.475028    0.417229\n",
            "1           2     0.475028    0.417229\n",
            "2           3     0.475028    0.417229\n",
            "3           4     0.475028    0.417229\n",
            "4           5     0.475028    0.417229\n",
            "5           6     0.475028    0.417229\n",
            "6           7     0.475028    0.417229\n",
            "7           8     0.475028    0.417229\n",
            "8           9     0.475028    0.417229\n",
            "9          10     0.475028    0.417229\n",
            "10         11     0.475028    0.417229\n",
            "11         12     0.475028    0.417229\n",
            "12         13     0.475028    0.417229\n",
            "13         14     0.475028    0.417229\n"
          ],
          "name": "stdout"
        },
        {
          "output_type": "display_data",
          "data": {
            "image/png": "[encoded data removed]",
            "text/plain": [
              "<Figure size 432x288 with 1 Axes>"
            ]
          },
          "metadata": {
            "tags": [],
            "needs_background": "light"
          }
        }
      ]
    }
  ]
}