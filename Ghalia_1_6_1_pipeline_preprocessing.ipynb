{
  "nbformat": 4,
  "nbformat_minor": 0,
  "metadata": {
    "colab": {
      "name": "Ghalia - 1.6.1 pipeline preprocessing.ipynb",
      "provenance": [],
      "collapsed_sections": [],
      "toc_visible": true,
      "include_colab_link": true
    },
    "kernelspec": {
      "name": "python3",
      "display_name": "Python 3"
    }
  },
  "cells": [
    {
      "cell_type": "markdown",
      "metadata": {
        "id": "view-in-github",
        "colab_type": "text"
      },
      "source": [
        "<a href=\"https://colab.research.google.com/github/Ghalia671/MODULE1/blob/master/Ghalia_1_6_1_pipeline_preprocessing.ipynb\" target=\"_parent\"><img src=\"https://colab.research.google.com/assets/colab-badge.svg\" alt=\"Open In Colab\"/></a>"
      ]
    },
    {
      "cell_type": "markdown",
      "metadata": {
        "id": "Jr8S77GZK_rG"
      },
      "source": [
        "# Preprocessing et modèle"
      ]
    },
    {
      "cell_type": "markdown",
      "metadata": {
        "id": "a8FdGxvRmrtY"
      },
      "source": [
        "## Mauvaise approche"
      ]
    },
    {
      "cell_type": "code",
      "metadata": {
        "id": "-u6jDdDsrzss"
      },
      "source": [
        "from sklearn.svm import SVC\n",
        "from sklearn.datasets import load_breast_cancer\n",
        "from sklearn.model_selection import train_test_split\n",
        "from sklearn.preprocessing import MinMaxScaler\n",
        "\n",
        "cancer = load_breast_cancer()\n",
        "\n",
        "X,y=cancer.data, cancer.target\n",
        "\n",
        "scaler = MinMaxScaler().fit_transform(X)\n",
        "\n",
        "X_train, X_test, y_train, y_test = train_test_split(\n",
        "    X,y, random_state=5)\n"
      ],
      "execution_count": 1,
      "outputs": []
    },
    {
      "cell_type": "code",
      "metadata": {
        "id": "Lu_LXwJNrzsv",
        "outputId": "ba6aeaf0-bdc0-47ff-a9cf-5a6b2b09c0fb",
        "colab": {
          "base_uri": "https://localhost:8080/",
          "height": 52
        }
      },
      "source": [
        "svm = SVC()\n",
        "\n",
        "svm.fit(X_train, y_train)\n",
        "\n",
        "print(\"Train score: {:.2f}\".format(svm.score(X_train, y_train)))\n",
        "print(\"Test score: {:.2f}\".format(svm.score(X_test, y_test)))"
      ],
      "execution_count": 2,
      "outputs": [
        {
          "output_type": "stream",
          "text": [
            "Train score: 0.91\n",
            "Test score: 0.95\n"
          ],
          "name": "stdout"
        }
      ]
    },
    {
      "cell_type": "markdown",
      "metadata": {
        "id": "QjSqBf1ymt22"
      },
      "source": [
        "## Bonne approche"
      ]
    },
    {
      "cell_type": "markdown",
      "metadata": {
        "id": "ZLeGGWxcmviF"
      },
      "source": [
        "éviter le data leakage"
      ]
    },
    {
      "cell_type": "code",
      "metadata": {
        "id": "1wfjz19wcWAR"
      },
      "source": [
        "from sklearn.svm import SVC\n",
        "from sklearn.datasets import load_breast_cancer\n",
        "from sklearn.model_selection import train_test_split\n",
        "from sklearn.preprocessing import MinMaxScaler\n",
        "\n",
        "cancer = load_breast_cancer()\n",
        "X,y=cancer.data, cancer.target\n",
        "\n",
        "X_train, X_test, y_train, y_test = train_test_split(X,y, random_state=5)\n",
        "\n",
        "scaler = MinMaxScaler().fit(X_train)"
      ],
      "execution_count": 3,
      "outputs": []
    },
    {
      "cell_type": "code",
      "metadata": {
        "id": "GOKxNGrFcWAV",
        "outputId": "899dd02d-c67d-4888-e597-29763f5a4744",
        "colab": {
          "base_uri": "https://localhost:8080/",
          "height": 52
        }
      },
      "source": [
        "\n",
        "X_train_scaled = scaler.transform(X_train)\n",
        "#X_train_scaled = scaler.fit_transform(X_train)\n",
        "\n",
        "svm = SVC()\n",
        "\n",
        "svm.fit(X_train_scaled, y_train)\n",
        "\n",
        "X_test_scaled = scaler.transform(X_test)\n",
        "\n",
        "print(\"Train score: {:.2f}\".format(svm.score(X_train_scaled, y_train)))\n",
        "print(\"Test score: {:.2f}\".format(svm.score(X_test_scaled, y_test)))"
      ],
      "execution_count": 4,
      "outputs": [
        {
          "output_type": "stream",
          "text": [
            "Train score: 0.99\n",
            "Test score: 0.98\n"
          ],
          "name": "stdout"
        }
      ]
    },
    {
      "cell_type": "markdown",
      "metadata": {
        "id": "eKS9gAWLdLJi"
      },
      "source": [
        "# Construction de pipeline"
      ]
    },
    {
      "cell_type": "markdown",
      "metadata": {
        "id": "MZF2yBJBfh86"
      },
      "source": [
        "## Utilisation de  `Pipeline`"
      ]
    },
    {
      "cell_type": "code",
      "metadata": {
        "id": "yrO-fAv3fFHf"
      },
      "source": [
        "from sklearn.svm import SVC\n",
        "from sklearn.datasets import load_breast_cancer\n",
        "from sklearn.model_selection import train_test_split\n",
        "from sklearn.preprocessing import MinMaxScaler\n",
        "\n",
        "cancer = load_breast_cancer()\n",
        "X,y=cancer.data, cancer.target\n",
        "\n",
        "X_train, X_test, y_train, y_test = train_test_split(X,y, random_state=0)\n"
      ],
      "execution_count": 5,
      "outputs": []
    },
    {
      "cell_type": "code",
      "metadata": {
        "id": "nIPO9LLKrzs3"
      },
      "source": [
        "from sklearn.pipeline import Pipeline\n",
        "\n",
        "pipe = Pipeline([(\"scaler\", MinMaxScaler()), (\"svm\", SVC())])"
      ],
      "execution_count": 6,
      "outputs": []
    },
    {
      "cell_type": "code",
      "metadata": {
        "id": "ycDZwQidrzs5",
        "outputId": "bda559c4-0ae8-40d6-b86d-e041ca400924",
        "colab": {
          "base_uri": "https://localhost:8080/",
          "height": 34
        }
      },
      "source": [
        "pipe.fit(X_train, y_train)"
      ],
      "execution_count": 7,
      "outputs": [
        {
          "output_type": "execute_result",
          "data": {
            "text/plain": [
              "Pipeline(steps=[('scaler', MinMaxScaler()), ('svm', SVC())])"
            ]
          },
          "metadata": {
            "tags": []
          },
          "execution_count": 7
        }
      ]
    },
    {
      "cell_type": "code",
      "metadata": {
        "id": "nrhVda-2rzs9",
        "outputId": "e25296d6-f8f7-4285-a1ee-c56ded910b71",
        "colab": {
          "base_uri": "https://localhost:8080/",
          "height": 34
        }
      },
      "source": [
        "print(\"Test score: {:.2f}\".format(pipe.score(X_test, y_test)))"
      ],
      "execution_count": 8,
      "outputs": [
        {
          "output_type": "stream",
          "text": [
            "Test score: 0.97\n"
          ],
          "name": "stdout"
        }
      ]
    },
    {
      "cell_type": "markdown",
      "metadata": {
        "id": "h5bJXbkerztY"
      },
      "source": [
        "## Utilisation de ``make_pipeline``"
      ]
    },
    {
      "cell_type": "code",
      "metadata": {
        "id": "amTRmbP0rztZ"
      },
      "source": [
        "from sklearn.pipeline import make_pipeline\n",
        "\n",
        "pipe_long = Pipeline([(\"scaler\", MinMaxScaler()), (\"svm\", SVC(C=100))])\n",
        "\n",
        "pipe_short = make_pipeline(MinMaxScaler(), SVC(C=100))"
      ],
      "execution_count": 8,
      "outputs": []
    },
    {
      "cell_type": "code",
      "metadata": {
        "id": "Uf_bXSxxrzta",
        "outputId": "2620aa45-9489-4065-e6f4-d64a73410e41",
        "colab": {
          "base_uri": "https://localhost:8080/",
          "height": 34
        }
      },
      "source": [
        "pipe_short.steps"
      ],
      "execution_count": 9,
      "outputs": [
        {
          "output_type": "execute_result",
          "data": {
            "text/plain": [
              "[('minmaxscaler', MinMaxScaler()), ('svc', SVC(C=100))]"
            ]
          },
          "metadata": {
            "tags": []
          },
          "execution_count": 9
        }
      ]
    },
    {
      "cell_type": "code",
      "metadata": {
        "id": "dz0yFO18gyWT",
        "outputId": "68fa41c8-5281-4964-887d-fea9c7b15d88",
        "colab": {
          "base_uri": "https://localhost:8080/",
          "height": 34
        }
      },
      "source": [
        "pipe_long.steps"
      ],
      "execution_count": 10,
      "outputs": [
        {
          "output_type": "execute_result",
          "data": {
            "text/plain": [
              "[('scaler', MinMaxScaler()), ('svm', SVC(C=100))]"
            ]
          },
          "metadata": {
            "tags": []
          },
          "execution_count": 10
        }
      ]
    },
    {
      "cell_type": "markdown",
      "metadata": {
        "id": "opIwKH6vhElg"
      },
      "source": [
        "## Pipeline à trois étapes"
      ]
    },
    {
      "cell_type": "code",
      "metadata": {
        "id": "J1bV7brxhHwA",
        "outputId": "a0458217-31ee-4e4a-ec86-fbc21438d0e5",
        "colab": {
          "base_uri": "https://localhost:8080/",
          "height": 69
        }
      },
      "source": [
        "from sklearn.preprocessing import StandardScaler\n",
        "from sklearn.decomposition import PCA\n",
        "\n",
        "pipe = make_pipeline(StandardScaler(), PCA(n_components=2), SVC(C=100))\n",
        "\n",
        "pipe.steps"
      ],
      "execution_count": 11,
      "outputs": [
        {
          "output_type": "execute_result",
          "data": {
            "text/plain": [
              "[('standardscaler', StandardScaler()),\n",
              " ('pca', PCA(n_components=2)),\n",
              " ('svc', SVC(C=100))]"
            ]
          },
          "metadata": {
            "tags": []
          },
          "execution_count": 11
        }
      ]
    },
    {
      "cell_type": "code",
      "metadata": {
        "id": "Zjd4lwuuhSXi",
        "outputId": "c5a803b3-376b-49c2-ea46-316d329fabdc",
        "colab": {
          "base_uri": "https://localhost:8080/",
          "height": 52
        }
      },
      "source": [
        "pipe.fit(X_train, y_train)"
      ],
      "execution_count": 12,
      "outputs": [
        {
          "output_type": "execute_result",
          "data": {
            "text/plain": [
              "Pipeline(steps=[('standardscaler', StandardScaler()),\n",
              "                ('pca', PCA(n_components=2)), ('svc', SVC(C=100))])"
            ]
          },
          "metadata": {
            "tags": []
          },
          "execution_count": 12
        }
      ]
    },
    {
      "cell_type": "code",
      "metadata": {
        "id": "P89_uvplhSXl",
        "outputId": "9c9f8d66-5da7-4c05-e6ad-0aeb240ef98a",
        "colab": {
          "base_uri": "https://localhost:8080/",
          "height": 34
        }
      },
      "source": [
        "print(\"Test score: {:.2f}\".format(pipe.score(X_test, y_test)))"
      ],
      "execution_count": 13,
      "outputs": [
        {
          "output_type": "stream",
          "text": [
            "Test score: 0.92\n"
          ],
          "name": "stdout"
        }
      ]
    },
    {
      "cell_type": "markdown",
      "metadata": {
        "id": "z4v8rO_4hc0p"
      },
      "source": [
        "## Diagramme"
      ]
    },
    {
      "cell_type": "code",
      "metadata": {
        "id": "3Nw89WQwd4RE",
        "outputId": "16d0177a-c5a0-4a27-bac2-48180dd866d4",
        "colab": {
          "base_uri": "https://localhost:8080/",
          "height": 144
        }
      },
      "source": [
        "from sklearn import set_config\n",
        "set_config(display='diagram')\n",
        "pipe"
      ],
      "execution_count": 14,
      "outputs": [
        {
          "output_type": "execute_result",
          "data": {
            "text/html": [
              "<style>div.sk-top-container {color: black;background-color: white;}div.sk-toggleable {background-color: white;}label.sk-toggleable__label {cursor: pointer;display: block;width: 100%;margin-bottom: 0;padding: 0.2em 0.3em;box-sizing: border-box;text-align: center;}div.sk-toggleable__content {max-height: 0;max-width: 0;overflow: hidden;text-align: left;background-color: #f0f8ff;}div.sk-toggleable__content pre {margin: 0.2em;color: black;border-radius: 0.25em;background-color: #f0f8ff;}input.sk-toggleable__control:checked~div.sk-toggleable__content {max-height: 200px;max-width: 100%;overflow: auto;}div.sk-estimator input.sk-toggleable__control:checked~label.sk-toggleable__label {background-color: #d4ebff;}div.sk-label input.sk-toggleable__control:checked~label.sk-toggleable__label {background-color: #d4ebff;}input.sk-hidden--visually {border: 0;clip: rect(1px 1px 1px 1px);clip: rect(1px, 1px, 1px, 1px);height: 1px;margin: -1px;overflow: hidden;padding: 0;position: absolute;width: 1px;}div.sk-estimator {font-family: monospace;background-color: #f0f8ff;margin: 0.25em 0.25em;border: 1px dotted black;border-radius: 0.25em;box-sizing: border-box;}div.sk-estimator:hover {background-color: #d4ebff;}div.sk-parallel-item::after {content: \"\";width: 100%;border-bottom: 1px solid gray;flex-grow: 1;}div.sk-label:hover label.sk-toggleable__label {background-color: #d4ebff;}div.sk-serial::before {content: \"\";position: absolute;border-left: 1px solid gray;box-sizing: border-box;top: 2em;bottom: 0;left: 50%;}div.sk-serial {display: flex;flex-direction: column;align-items: center;background-color: white;}div.sk-item {z-index: 1;}div.sk-parallel {display: flex;align-items: stretch;justify-content: center;background-color: white;}div.sk-parallel-item {display: flex;flex-direction: column;position: relative;background-color: white;}div.sk-parallel-item:first-child::after {align-self: flex-end;width: 50%;}div.sk-parallel-item:last-child::after {align-self: flex-start;width: 50%;}div.sk-parallel-item:only-child::after {width: 0;}div.sk-dashed-wrapped {border: 1px dashed gray;margin: 0.2em;box-sizing: border-box;padding-bottom: 0.1em;background-color: white;position: relative;}div.sk-label label {font-family: monospace;font-weight: bold;background-color: white;display: inline-block;line-height: 1.2em;}div.sk-label-container {position: relative;z-index: 2;text-align: center;}div.sk-container {display: inline-block;position: relative;}</style><div class=\"sk-top-container\"><div class=\"sk-container\"><div class=\"sk-item sk-dashed-wrapped\"><div class=\"sk-label-container\"><div class=\"sk-label sk-toggleable\"><input class=\"sk-toggleable__control sk-hidden--visually\" id=\"078365d6-d0ea-4d00-9419-2027f88350c0\" type=\"checkbox\" ><label class=\"sk-toggleable__label\" for=\"078365d6-d0ea-4d00-9419-2027f88350c0\">Pipeline</label><div class=\"sk-toggleable__content\"><pre>Pipeline(steps=[('standardscaler', StandardScaler()),\n",
              "                ('pca', PCA(n_components=2)), ('svc', SVC(C=100))])</pre></div></div></div><div class=\"sk-serial\"><div class=\"sk-item\"><div class=\"sk-estimator sk-toggleable\"><input class=\"sk-toggleable__control sk-hidden--visually\" id=\"96b8a5ac-f547-42bf-bdc0-1a7779b72071\" type=\"checkbox\" ><label class=\"sk-toggleable__label\" for=\"96b8a5ac-f547-42bf-bdc0-1a7779b72071\">StandardScaler</label><div class=\"sk-toggleable__content\"><pre>StandardScaler()</pre></div></div></div><div class=\"sk-item\"><div class=\"sk-estimator sk-toggleable\"><input class=\"sk-toggleable__control sk-hidden--visually\" id=\"b22f8b3d-dbed-48fd-88eb-19826494e29f\" type=\"checkbox\" ><label class=\"sk-toggleable__label\" for=\"b22f8b3d-dbed-48fd-88eb-19826494e29f\">PCA</label><div class=\"sk-toggleable__content\"><pre>PCA(n_components=2)</pre></div></div></div><div class=\"sk-item\"><div class=\"sk-estimator sk-toggleable\"><input class=\"sk-toggleable__control sk-hidden--visually\" id=\"15a1d330-54fb-46d4-b83f-7333b4fbb2f1\" type=\"checkbox\" ><label class=\"sk-toggleable__label\" for=\"15a1d330-54fb-46d4-b83f-7333b4fbb2f1\">SVC</label><div class=\"sk-toggleable__content\"><pre>SVC(C=100)</pre></div></div></div></div></div></div></div>"
            ],
            "text/plain": [
              "Pipeline(steps=[('standardscaler', StandardScaler()),\n",
              "                ('pca', PCA(n_components=2)), ('svc', SVC(C=100))])"
            ]
          },
          "metadata": {
            "tags": []
          },
          "execution_count": 14
        }
      ]
    },
    {
      "cell_type": "code",
      "metadata": {
        "id": "S-wdHOmXhqV2",
        "outputId": "49aeaf53-a3fe-43fc-fbe3-1a2c8d2028d9",
        "colab": {
          "base_uri": "https://localhost:8080/",
          "height": 34
        }
      },
      "source": [
        "import sklearn\n",
        "print('The scikit-learn version is {}.'.format(sklearn.__version__))"
      ],
      "execution_count": 15,
      "outputs": [
        {
          "output_type": "stream",
          "text": [
            "The scikit-learn version is 0.23.2.\n"
          ],
          "name": "stdout"
        }
      ]
    },
    {
      "cell_type": "code",
      "metadata": {
        "id": "_4dJFJjie_Ge",
        "outputId": "65924af8-b9d2-4a9e-a1cf-7b4c570e7aa5",
        "colab": {
          "base_uri": "https://localhost:8080/",
          "height": 351
        }
      },
      "source": [
        "#!pip install --upgrade scikit-learn"
      ],
      "execution_count": 18,
      "outputs": [
        {
          "output_type": "stream",
          "text": [
            "Collecting scikit-learn\n",
            "\u001b[?25l  Downloading https://files.pythonhosted.org/packages/5c/a1/273def87037a7fb010512bbc5901c31cfddfca8080bc63b42b26e3cc55b3/scikit_learn-0.23.2-cp36-cp36m-manylinux1_x86_64.whl (6.8MB)\n",
            "\u001b[K     |████████████████████████████████| 6.8MB 2.8MB/s \n",
            "\u001b[?25hRequirement already satisfied, skipping upgrade: joblib>=0.11 in /usr/local/lib/python3.6/dist-packages (from scikit-learn) (0.16.0)\n",
            "Requirement already satisfied, skipping upgrade: numpy>=1.13.3 in /usr/local/lib/python3.6/dist-packages (from scikit-learn) (1.18.5)\n",
            "Requirement already satisfied, skipping upgrade: scipy>=0.19.1 in /usr/local/lib/python3.6/dist-packages (from scikit-learn) (1.4.1)\n",
            "Collecting threadpoolctl>=2.0.0\n",
            "  Downloading https://files.pythonhosted.org/packages/f7/12/ec3f2e203afa394a149911729357aa48affc59c20e2c1c8297a60f33f133/threadpoolctl-2.1.0-py3-none-any.whl\n",
            "Installing collected packages: threadpoolctl, scikit-learn\n",
            "  Found existing installation: scikit-learn 0.22.2.post1\n",
            "    Uninstalling scikit-learn-0.22.2.post1:\n",
            "      Successfully uninstalled scikit-learn-0.22.2.post1\n",
            "Successfully installed scikit-learn-0.23.2 threadpoolctl-2.1.0\n"
          ],
          "name": "stdout"
        },
        {
          "output_type": "display_data",
          "data": {
            "application/vnd.colab-display-data+json": {
              "pip_warning": {
                "packages": [
                  "sklearn"
                ]
              }
            }
          },
          "metadata": {
            "tags": []
          }
        }
      ]
    },
    {
      "cell_type": "markdown",
      "metadata": {
        "id": "rIxeWnaTfwbS"
      },
      "source": [
        "# Etapes dans un pipeline"
      ]
    },
    {
      "cell_type": "code",
      "metadata": {
        "id": "GDXZVKKmmP_M",
        "outputId": "ed3271f5-9a51-4f6b-99a7-6f9661cd691a",
        "colab": {
          "base_uri": "https://localhost:8080/",
          "height": 69
        }
      },
      "source": [
        "pipe.steps"
      ],
      "execution_count": 16,
      "outputs": [
        {
          "output_type": "execute_result",
          "data": {
            "text/plain": [
              "[('standardscaler', StandardScaler()),\n",
              " ('pca', PCA(n_components=2)),\n",
              " ('svc', SVC(C=100))]"
            ]
          },
          "metadata": {
            "tags": []
          },
          "execution_count": 16
        }
      ]
    },
    {
      "cell_type": "code",
      "metadata": {
        "id": "euD9Ofollkcq",
        "outputId": "2ed611cf-689c-41ba-cbe8-228334cf93dc",
        "colab": {
          "base_uri": "https://localhost:8080/",
          "height": 121
        }
      },
      "source": [
        "pipe.named_steps[\"svc\"].support_"
      ],
      "execution_count": 17,
      "outputs": [
        {
          "output_type": "execute_result",
          "data": {
            "text/plain": [
              "array([  4,  14,  36,  40,  56,  79, 102, 105, 109, 111, 136, 148, 157,\n",
              "       179, 185, 194, 195, 213, 218, 237, 269, 286, 292, 307, 310, 312,\n",
              "       341, 370, 377, 378, 384, 392, 407,   8,   9,  42,  82,  87, 112,\n",
              "       117, 124, 166, 181, 184, 188, 204, 208, 226, 259, 283, 294, 306,\n",
              "       316, 324, 355, 366, 367, 368, 381, 393, 405, 408, 412, 419],\n",
              "      dtype=int32)"
            ]
          },
          "metadata": {
            "tags": []
          },
          "execution_count": 17
        }
      ]
    },
    {
      "cell_type": "code",
      "metadata": {
        "id": "g6Q9BZhOrztf",
        "outputId": "8a8d839e-5915-4c24-9234-8d49d5238914",
        "colab": {
          "base_uri": "https://localhost:8080/",
          "height": 225
        }
      },
      "source": [
        "\n",
        "pipe.named_steps[\"pca\"].components_\n"
      ],
      "execution_count": 18,
      "outputs": [
        {
          "output_type": "execute_result",
          "data": {
            "text/plain": [
              "array([[ 0.22136524,  0.10000219,  0.22951811,  0.22352098,  0.14302288,\n",
              "         0.24211071,  0.26026925,  0.26425272,  0.1342154 ,  0.058505  ,\n",
              "         0.20686479,  0.00729622,  0.20987422,  0.20223841,  0.01725187,\n",
              "         0.16639025,  0.13855921,  0.17994092,  0.02943904,  0.10192967,\n",
              "         0.23041956,  0.100572  ,  0.23779661,  0.22751009,  0.13135979,\n",
              "         0.21077884,  0.2301419 ,  0.25334406,  0.11911651,  0.13088259],\n",
              "       [-0.2301732 , -0.05721755, -0.21335503, -0.22693534,  0.17877041,\n",
              "         0.14744861,  0.06557463, -0.03134067,  0.19050711,  0.36396122,\n",
              "        -0.10501365,  0.0939736 , -0.0974744 , -0.14961032,  0.21204003,\n",
              "         0.235435  ,  0.21050921,  0.15228014,  0.1810749 ,  0.27867942,\n",
              "        -0.2159829 , -0.04249497, -0.20003599, -0.21518192,  0.17146856,\n",
              "         0.13883173,  0.10503362,  0.00064033,  0.14065767,  0.27318654]])"
            ]
          },
          "metadata": {
            "tags": []
          },
          "execution_count": 18
        }
      ]
    },
    {
      "cell_type": "code",
      "metadata": {
        "id": "bgF8lGe5mb6c",
        "outputId": "ada9e28b-3c86-45e7-ad33-2b72f77036b7",
        "colab": {
          "base_uri": "https://localhost:8080/",
          "height": 156
        }
      },
      "source": [
        "pipe.named_steps[\"standardscaler\"].mean_"
      ],
      "execution_count": 19,
      "outputs": [
        {
          "output_type": "execute_result",
          "data": {
            "text/plain": [
              "array([1.41591714e+01, 1.92330047e+01, 9.21438967e+01, 6.58415023e+02,\n",
              "       9.63659859e-02, 1.03669601e-01, 8.86501308e-02, 4.91440610e-02,\n",
              "       1.80473239e-01, 6.26169953e-02, 4.04795070e-01, 1.21222723e+00,\n",
              "       2.84097934e+00, 4.06956737e+01, 6.98667371e-03, 2.50779930e-02,\n",
              "       3.16993207e-02, 1.17015352e-02, 2.04367559e-02, 3.71274953e-03,\n",
              "       1.63168169e+01, 2.56379812e+01, 1.07459131e+02, 8.87647887e+02,\n",
              "       1.32503404e-01, 2.52836338e-01, 2.69481120e-01, 1.15279345e-01,\n",
              "       2.89649296e-01, 8.35402582e-02])"
            ]
          },
          "metadata": {
            "tags": []
          },
          "execution_count": 19
        }
      ]
    },
    {
      "cell_type": "code",
      "metadata": {
        "id": "Hge4wvHpmfkD"
      },
      "source": [
        ""
      ],
      "execution_count": null,
      "outputs": []
    },
    {
      "cell_type": "markdown",
      "metadata": {
        "id": "ypRyaG6CzM8-"
      },
      "source": [
        "# Exercice"
      ]
    },
    {
      "cell_type": "markdown",
      "metadata": {
        "id": "7XkQsfF-zOq_"
      },
      "source": [
        "**Question** Construire un modèle de classification avec KNN sur les données iris, sans et avec la normalisation (min max et centrer-réduction). Comparer les performances des deux modèles."
      ]
    },
    {
      "cell_type": "code",
      "metadata": {
        "id": "d5b5j83IzN8P",
        "outputId": "7ae8d9c6-f83b-4eee-8038-0a8afe2fe0f9",
        "colab": {
          "base_uri": "https://localhost:8080/",
          "height": 52
        }
      },
      "source": [
        "from sklearn import model_selection\n",
        "from sklearn.neighbors import KNeighborsClassifier\n",
        "from sklearn.datasets import load_iris\n",
        "\n",
        "iris = load_iris()\n",
        "\n",
        "X,y=iris.data, iris.target\n",
        "X_train, X_test, y_train, y_test = model_selection.train_test_split(X, y,\n",
        "            test_size=0.4, random_state=0)\n",
        "clf = KNeighborsClassifier(n_neighbors = 5)\n",
        "clf = clf.fit(X_train, y_train)\n",
        "print(\"train score : \",clf.score(X_train, y_train))\n",
        "print(\"test score : \",clf.score(X_test, y_test))"
      ],
      "execution_count": 20,
      "outputs": [
        {
          "output_type": "stream",
          "text": [
            "train score :  1.0\n",
            "test score :  0.95\n"
          ],
          "name": "stdout"
        }
      ]
    },
    {
      "cell_type": "code",
      "metadata": {
        "id": "ByfYaD6gKyk4",
        "outputId": "0230b231-be35-4443-f830-ac5654b3d990",
        "colab": {
          "base_uri": "https://localhost:8080/",
          "height": 52
        }
      },
      "source": [
        "scaler = MinMaxScaler().fit(X_train)\n",
        "clf = clf.fit(X_train, y_train)\n",
        "X_train_scaled = scaler.transform(X_train)\n",
        "X_test_scaled = scaler.transform(X_test)\n",
        "print(\"train score : \",clf.score(X_train_scaled, y_train))\n",
        "print(\"test score : \",clf.score(X_test_scaled, y_test))"
      ],
      "execution_count": 21,
      "outputs": [
        {
          "output_type": "stream",
          "text": [
            "train score :  0.37777777777777777\n",
            "test score :  0.26666666666666666\n"
          ],
          "name": "stdout"
        }
      ]
    },
    {
      "cell_type": "code",
      "metadata": {
        "id": "fr_PwmIfLQ3y",
        "outputId": "5cc5acf4-d10e-42d1-c231-e62296cf5218",
        "colab": {
          "base_uri": "https://localhost:8080/",
          "height": 52
        }
      },
      "source": [
        "scaler = StandardScaler().fit(X_train)\n",
        "clf = clf.fit(X_train, y_train)\n",
        "X_train_scaled = scaler.transform(X_train)\n",
        "X_test_scaled = scaler.transform(X_test)\n",
        "print(\"train score : \",clf.score(X_train_scaled, y_train))\n",
        "print(\"test score : \",clf.score(X_test_scaled, y_test))"
      ],
      "execution_count": 22,
      "outputs": [
        {
          "output_type": "stream",
          "text": [
            "train score :  0.37777777777777777\n",
            "test score :  0.26666666666666666\n"
          ],
          "name": "stdout"
        }
      ]
    }
  ]
}