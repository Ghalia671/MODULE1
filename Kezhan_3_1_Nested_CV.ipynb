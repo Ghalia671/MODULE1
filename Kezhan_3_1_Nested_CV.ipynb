{
  "nbformat": 4,
  "nbformat_minor": 0,
  "metadata": {
    "colab": {
      "name": "Kezhan -  3.1 Nested CV.ipynb",
      "provenance": [],
      "collapsed_sections": [],
      "toc_visible": true,
      "include_colab_link": true
    },
    "kernelspec": {
      "name": "python3",
      "display_name": "Python 3"
    }
  },
  "cells": [
    {
      "cell_type": "markdown",
      "metadata": {
        "id": "view-in-github",
        "colab_type": "text"
      },
      "source": [
        "<a href=\"https://colab.research.google.com/github/Ghalia671/MODULE1/blob/master/Kezhan_3_1_Nested_CV.ipynb\" target=\"_parent\"><img src=\"https://colab.research.google.com/assets/colab-badge.svg\" alt=\"Open In Colab\"/></a>"
      ]
    },
    {
      "cell_type": "markdown",
      "metadata": {
        "id": "PvFNdkfAVOGc"
      },
      "source": [
        "# Données"
      ]
    },
    {
      "cell_type": "code",
      "metadata": {
        "id": "Pco_afK53q8r"
      },
      "source": [
        "from sklearn.datasets import load_iris\n",
        "from sklearn.datasets import load_breast_cancer\n",
        "import numpy as np\n",
        "\n",
        "from sklearn.svm import SVC\n",
        "from sklearn.model_selection import train_test_split\n",
        "\n",
        "iris = load_iris()\n",
        "cancer=load_breast_cancer()\n",
        "\n",
        "X = cancer.data\n",
        "y = cancer.target"
      ],
      "execution_count": 1,
      "outputs": []
    },
    {
      "cell_type": "markdown",
      "metadata": {
        "id": "HsBCmq0t-Te8"
      },
      "source": [
        "# Validation croisée de Grid Search"
      ]
    },
    {
      "cell_type": "code",
      "metadata": {
        "id": "KMfuaovdpPkz"
      },
      "source": [
        "from sklearn.model_selection import GridSearchCV, cross_val_score\n",
        "\n",
        "param_grid = {'C': [0.001, 0.01, 0.1, 1, 10, 100],\n",
        "              'gamma': [0.001, 0.01, 0.1, 1, 10, 100]}\n"
      ],
      "execution_count": 2,
      "outputs": []
    },
    {
      "cell_type": "code",
      "metadata": {
        "id": "3VawPF4GQQbr"
      },
      "source": [
        "gridsearch=GridSearchCV(SVC(), param_grid, cv=5)\n"
      ],
      "execution_count": 3,
      "outputs": []
    },
    {
      "cell_type": "code",
      "metadata": {
        "id": "Rhpt_p4dcWRT",
        "outputId": "26d66dbe-0949-471c-95b0-2700c71ee62f",
        "colab": {
          "base_uri": "https://localhost:8080/",
          "height": 225
        }
      },
      "source": [
        "gridsearch.fit(X,y)"
      ],
      "execution_count": 4,
      "outputs": [
        {
          "output_type": "execute_result",
          "data": {
            "text/plain": [
              "GridSearchCV(cv=5, error_score=nan,\n",
              "             estimator=SVC(C=1.0, break_ties=False, cache_size=200,\n",
              "                           class_weight=None, coef0=0.0,\n",
              "                           decision_function_shape='ovr', degree=3,\n",
              "                           gamma='scale', kernel='rbf', max_iter=-1,\n",
              "                           probability=False, random_state=None, shrinking=True,\n",
              "                           tol=0.001, verbose=False),\n",
              "             iid='deprecated', n_jobs=None,\n",
              "             param_grid={'C': [0.001, 0.01, 0.1, 1, 10, 100],\n",
              "                         'gamma': [0.001, 0.01, 0.1, 1, 10, 100]},\n",
              "             pre_dispatch='2*n_jobs', refit=True, return_train_score=False,\n",
              "             scoring=None, verbose=0)"
            ]
          },
          "metadata": {
            "tags": []
          },
          "execution_count": 4
        }
      ]
    },
    {
      "cell_type": "code",
      "metadata": {
        "id": "8JYkQMVfdLHO",
        "outputId": "4514c621-256a-41d8-d8c9-a5719ded8bd9",
        "colab": {
          "base_uri": "https://localhost:8080/",
          "height": 86
        }
      },
      "source": [
        "SVC().fit(X,y)"
      ],
      "execution_count": 5,
      "outputs": [
        {
          "output_type": "execute_result",
          "data": {
            "text/plain": [
              "SVC(C=1.0, break_ties=False, cache_size=200, class_weight=None, coef0=0.0,\n",
              "    decision_function_shape='ovr', degree=3, gamma='scale', kernel='rbf',\n",
              "    max_iter=-1, probability=False, random_state=None, shrinking=True,\n",
              "    tol=0.001, verbose=False)"
            ]
          },
          "metadata": {
            "tags": []
          },
          "execution_count": 5
        }
      ]
    },
    {
      "cell_type": "code",
      "metadata": {
        "id": "gsI1zm3rQPLV",
        "outputId": "16369354-80ac-40fe-af77-bd29fe1f2b3e",
        "colab": {
          "base_uri": "https://localhost:8080/",
          "height": 52
        }
      },
      "source": [
        "scores = cross_val_score(gridsearch,X, y, cv=5)\n",
        "\n",
        "print(\"Cross-validation scores: \", scores)\n",
        "print(\"Mean cross-validation score: \", scores.mean())"
      ],
      "execution_count": 6,
      "outputs": [
        {
          "output_type": "stream",
          "text": [
            "Cross-validation scores:  [0.92982456 0.92105263 0.92105263 0.94736842 0.89380531]\n",
            "Mean cross-validation score:  0.9226207110697097\n"
          ],
          "name": "stdout"
        }
      ]
    },
    {
      "cell_type": "code",
      "metadata": {
        "id": "wLClxUo5dgc7",
        "outputId": "9cb5a0d8-0f9a-4dbb-d4c3-ed89ffa64150",
        "colab": {
          "base_uri": "https://localhost:8080/",
          "height": 34
        }
      },
      "source": [
        "scores"
      ],
      "execution_count": 7,
      "outputs": [
        {
          "output_type": "execute_result",
          "data": {
            "text/plain": [
              "array([0.92982456, 0.92105263, 0.92105263, 0.94736842, 0.89380531])"
            ]
          },
          "metadata": {
            "tags": []
          },
          "execution_count": 7
        }
      ]
    },
    {
      "cell_type": "code",
      "metadata": {
        "id": "Ff1-pD2t-bt8"
      },
      "source": [
        "from sklearn.model_selection import cross_validate\n",
        "\n",
        "gscv=cross_validate(gridsearch,X, y, cv=5,return_train_score=True,return_estimator=True)"
      ],
      "execution_count": 8,
      "outputs": []
    },
    {
      "cell_type": "code",
      "metadata": {
        "id": "bj-sFZENKqLM",
        "outputId": "9846b795-35d8-4014-f9f0-8fb390a3cc62",
        "colab": {
          "base_uri": "https://localhost:8080/",
          "height": 1000
        }
      },
      "source": [
        "gscv"
      ],
      "execution_count": 9,
      "outputs": [
        {
          "output_type": "execute_result",
          "data": {
            "text/plain": [
              "{'estimator': (GridSearchCV(cv=5, error_score=nan,\n",
              "               estimator=SVC(C=1.0, break_ties=False, cache_size=200,\n",
              "                             class_weight=None, coef0=0.0,\n",
              "                             decision_function_shape='ovr', degree=3,\n",
              "                             gamma='scale', kernel='rbf', max_iter=-1,\n",
              "                             probability=False, random_state=None, shrinking=True,\n",
              "                             tol=0.001, verbose=False),\n",
              "               iid='deprecated', n_jobs=None,\n",
              "               param_grid={'C': [0.001, 0.01, 0.1, 1, 10, 100],\n",
              "                           'gamma': [0.001, 0.01, 0.1, 1, 10, 100]},\n",
              "               pre_dispatch='2*n_jobs', refit=True, return_train_score=False,\n",
              "               scoring=None, verbose=0), GridSearchCV(cv=5, error_score=nan,\n",
              "               estimator=SVC(C=1.0, break_ties=False, cache_size=200,\n",
              "                             class_weight=None, coef0=0.0,\n",
              "                             decision_function_shape='ovr', degree=3,\n",
              "                             gamma='scale', kernel='rbf', max_iter=-1,\n",
              "                             probability=False, random_state=None, shrinking=True,\n",
              "                             tol=0.001, verbose=False),\n",
              "               iid='deprecated', n_jobs=None,\n",
              "               param_grid={'C': [0.001, 0.01, 0.1, 1, 10, 100],\n",
              "                           'gamma': [0.001, 0.01, 0.1, 1, 10, 100]},\n",
              "               pre_dispatch='2*n_jobs', refit=True, return_train_score=False,\n",
              "               scoring=None, verbose=0), GridSearchCV(cv=5, error_score=nan,\n",
              "               estimator=SVC(C=1.0, break_ties=False, cache_size=200,\n",
              "                             class_weight=None, coef0=0.0,\n",
              "                             decision_function_shape='ovr', degree=3,\n",
              "                             gamma='scale', kernel='rbf', max_iter=-1,\n",
              "                             probability=False, random_state=None, shrinking=True,\n",
              "                             tol=0.001, verbose=False),\n",
              "               iid='deprecated', n_jobs=None,\n",
              "               param_grid={'C': [0.001, 0.01, 0.1, 1, 10, 100],\n",
              "                           'gamma': [0.001, 0.01, 0.1, 1, 10, 100]},\n",
              "               pre_dispatch='2*n_jobs', refit=True, return_train_score=False,\n",
              "               scoring=None, verbose=0), GridSearchCV(cv=5, error_score=nan,\n",
              "               estimator=SVC(C=1.0, break_ties=False, cache_size=200,\n",
              "                             class_weight=None, coef0=0.0,\n",
              "                             decision_function_shape='ovr', degree=3,\n",
              "                             gamma='scale', kernel='rbf', max_iter=-1,\n",
              "                             probability=False, random_state=None, shrinking=True,\n",
              "                             tol=0.001, verbose=False),\n",
              "               iid='deprecated', n_jobs=None,\n",
              "               param_grid={'C': [0.001, 0.01, 0.1, 1, 10, 100],\n",
              "                           'gamma': [0.001, 0.01, 0.1, 1, 10, 100]},\n",
              "               pre_dispatch='2*n_jobs', refit=True, return_train_score=False,\n",
              "               scoring=None, verbose=0), GridSearchCV(cv=5, error_score=nan,\n",
              "               estimator=SVC(C=1.0, break_ties=False, cache_size=200,\n",
              "                             class_weight=None, coef0=0.0,\n",
              "                             decision_function_shape='ovr', degree=3,\n",
              "                             gamma='scale', kernel='rbf', max_iter=-1,\n",
              "                             probability=False, random_state=None, shrinking=True,\n",
              "                             tol=0.001, verbose=False),\n",
              "               iid='deprecated', n_jobs=None,\n",
              "               param_grid={'C': [0.001, 0.01, 0.1, 1, 10, 100],\n",
              "                           'gamma': [0.001, 0.01, 0.1, 1, 10, 100]},\n",
              "               pre_dispatch='2*n_jobs', refit=True, return_train_score=False,\n",
              "               scoring=None, verbose=0)),\n",
              " 'fit_time': array([2.36063027, 2.34417772, 2.33900476, 2.3332696 , 2.35405612]),\n",
              " 'score_time': array([0.00224924, 0.00210381, 0.0021596 , 0.00207758, 0.00225019]),\n",
              " 'test_score': array([0.92982456, 0.92105263, 0.92105263, 0.94736842, 0.89380531]),\n",
              " 'train_score': array([0.97362637, 0.97802198, 0.97362637, 0.97802198, 0.97149123])}"
            ]
          },
          "metadata": {
            "tags": []
          },
          "execution_count": 9
        }
      ]
    },
    {
      "cell_type": "markdown",
      "metadata": {
        "id": "fk88H6RTQE2N"
      },
      "source": [
        "# Validation croisée du meilleur estimateur"
      ]
    },
    {
      "cell_type": "code",
      "metadata": {
        "id": "wwpDmkqJQHuX",
        "outputId": "eec86cef-2304-4bf2-8f15-ad7c5af6611b",
        "colab": {
          "base_uri": "https://localhost:8080/",
          "height": 225
        }
      },
      "source": [
        "gridsearch.fit(X,y)"
      ],
      "execution_count": 10,
      "outputs": [
        {
          "output_type": "execute_result",
          "data": {
            "text/plain": [
              "GridSearchCV(cv=5, error_score=nan,\n",
              "             estimator=SVC(C=1.0, break_ties=False, cache_size=200,\n",
              "                           class_weight=None, coef0=0.0,\n",
              "                           decision_function_shape='ovr', degree=3,\n",
              "                           gamma='scale', kernel='rbf', max_iter=-1,\n",
              "                           probability=False, random_state=None, shrinking=True,\n",
              "                           tol=0.001, verbose=False),\n",
              "             iid='deprecated', n_jobs=None,\n",
              "             param_grid={'C': [0.001, 0.01, 0.1, 1, 10, 100],\n",
              "                         'gamma': [0.001, 0.01, 0.1, 1, 10, 100]},\n",
              "             pre_dispatch='2*n_jobs', refit=True, return_train_score=False,\n",
              "             scoring=None, verbose=0)"
            ]
          },
          "metadata": {
            "tags": []
          },
          "execution_count": 10
        }
      ]
    },
    {
      "cell_type": "code",
      "metadata": {
        "id": "osn35XpkQYVn"
      },
      "source": [
        "best_est=gridsearch.best_estimator_"
      ],
      "execution_count": 11,
      "outputs": []
    },
    {
      "cell_type": "code",
      "metadata": {
        "id": "kCPRjpgBQbuI",
        "outputId": "1c1fd3b2-0081-494b-d994-3f076777da3e",
        "colab": {
          "base_uri": "https://localhost:8080/",
          "height": 34
        }
      },
      "source": [
        "cross_val_score(best_est,X, y, cv=5)"
      ],
      "execution_count": 12,
      "outputs": [
        {
          "output_type": "execute_result",
          "data": {
            "text/plain": [
              "array([0.92982456, 0.92105263, 0.92105263, 0.94736842, 0.89380531])"
            ]
          },
          "metadata": {
            "tags": []
          },
          "execution_count": 12
        }
      ]
    },
    {
      "cell_type": "code",
      "metadata": {
        "id": "3NA0g5BweCyX"
      },
      "source": [
        ""
      ],
      "execution_count": null,
      "outputs": []
    }
  ]
}