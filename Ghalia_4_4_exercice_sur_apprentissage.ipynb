{
  "nbformat": 4,
  "nbformat_minor": 0,
  "metadata": {
    "colab": {
      "name": "Ghalia - 4.4 exercice - sur apprentissage.ipynb",
      "provenance": [],
      "collapsed_sections": [],
      "include_colab_link": true
    },
    "kernelspec": {
      "name": "python3",
      "display_name": "Python 3"
    }
  },
  "cells": [
    {
      "cell_type": "markdown",
      "metadata": {
        "id": "view-in-github",
        "colab_type": "text"
      },
      "source": [
        "<a href=\"https://colab.research.google.com/github/Ghalia671/MODULE1/blob/master/Ghalia_4_4_exercice_sur_apprentissage.ipynb\" target=\"_parent\"><img src=\"https://colab.research.google.com/assets/colab-badge.svg\" alt=\"Open In Colab\"/></a>"
      ]
    },
    {
      "cell_type": "code",
      "metadata": {
        "id": "kjcCd0-n6VOV",
        "colab_type": "code",
        "colab": {}
      },
      "source": [
        "import numpy as np\n",
        "import pandas as pd\n",
        "from sklearn.datasets import load_breast_cancer\n",
        "\n",
        "cancer = load_breast_cancer()\n",
        "df = pd.DataFrame(data=cancer['data'], columns = cancer[\"feature_names\"])\n",
        "df[\"target\"]=cancer['target']"
      ],
      "execution_count": null,
      "outputs": []
    },
    {
      "cell_type": "markdown",
      "metadata": {
        "id": "C--fUrSb6fOy",
        "colab_type": "text"
      },
      "source": [
        "Construire des arbres de décision avec des variables de votre choix.\n"
      ]
    },
    {
      "cell_type": "code",
      "metadata": {
        "id": "7wlTx2Xu6lTc",
        "colab_type": "code",
        "colab": {}
      },
      "source": [
        "df.head()\n",
        "\n",
        "# exemples de variables à prendre en compte\n",
        "\n",
        "X=df[[\"mean radius\",\"mean texture\",\"mean perimeter\",\"mean smoothness\"]]\n",
        "y=df[\"target\"]"
      ],
      "execution_count": null,
      "outputs": []
    },
    {
      "cell_type": "code",
      "metadata": {
        "id": "AssbhxmDV0Lx",
        "colab_type": "code",
        "colab": {
          "base_uri": "https://localhost:8080/",
          "height": 248
        },
        "outputId": "2058331d-7a4e-4bd1-b4ee-cc4ddcd519b5"
      },
      "source": [
        "from sklearn.tree import DecisionTreeClassifier\n",
        "import matplotlib.pyplot as plt\n",
        "\n",
        "dtc = DecisionTreeClassifier(max_depth=3)\n",
        "dtc.fit(X,y)\n",
        "from sklearn.tree import plot_tree\n",
        "plot_tree(dtc,filled=True,impurity=True)\n",
        "plt.show()\n"
      ],
      "execution_count": null,
      "outputs": [
        {
          "output_type": "display_data",
          "data": {
            "image/png": "[encoded data removed]",
            "text/plain": [
              "<Figure size 432x288 with 1 Axes>"
            ]
          },
          "metadata": {
            "tags": [],
            "needs_background": "light"
          }
        }
      ]
    },
    {
      "cell_type": "markdown",
      "metadata": {
        "id": "1RCdmKfXV0tV",
        "colab_type": "text"
      },
      "source": [
        "Split train test\n",
        "\n"
      ]
    },
    {
      "cell_type": "code",
      "metadata": {
        "id": "qSysv1j-V5r_",
        "colab_type": "code",
        "colab": {}
      },
      "source": [
        "from sklearn import model_selection\n",
        "\n",
        "X_train, X_test, y_train, y_test = model_selection.train_test_split(X, y,\n",
        "            test_size=0.4, random_state=0)\n"
      ],
      "execution_count": null,
      "outputs": []
    },
    {
      "cell_type": "markdown",
      "metadata": {
        "id": "jXtxIf0Q4GeS",
        "colab_type": "text"
      },
      "source": [
        "Utiliser directement la méthode `.score` dans la classe `DecisionTreeClassifier` pour avoir le score du modèle pour la base d'apprentissage et du test."
      ]
    },
    {
      "cell_type": "code",
      "metadata": {
        "id": "Sfk4R5loOx6f",
        "colab_type": "code",
        "colab": {
          "base_uri": "https://localhost:8080/",
          "height": 52
        },
        "outputId": "03fb98b4-e1b3-48c0-cd41-627c4b5f8394"
      },
      "source": [
        "print(\"apprentissage : \", dtc.score(X_train,y_train))\n",
        "print(\"test :\", dtc.score(X_test,y_test))"
      ],
      "execution_count": null,
      "outputs": [
        {
          "output_type": "stream",
          "text": [
            "apprentissage :  0.9296187683284457\n",
            "test : 0.9122807017543859\n"
          ],
          "name": "stdout"
        }
      ]
    },
    {
      "cell_type": "code",
      "metadata": {
        "id": "XtBruNJQ4yuE",
        "colab_type": "code",
        "colab": {}
      },
      "source": [
        "score_App =[]\n",
        "score_test =[]\n",
        "max_dept = []\n",
        "for i in range(1,100) :\n",
        "  dtc = DecisionTreeClassifier(max_depth=i)\n",
        "  dtc.fit(X,y)\n",
        "  from sklearn import model_selection\n",
        "  X_train, X_test, y_train, y_test = model_selection.train_test_split(X, y,\n",
        "            test_size=0.4, random_state=0)\n",
        "  score_App.append(dtc.score(X_train,y_train))\n",
        "  score_test.append(dtc.score(X_test,y_test))\n",
        "  max_dept.append(i)\n",
        "df_scores = pd.DataFrame({\"apprentissage\":score_App,\"test\":score_test,\"depth\":max_dept})\n"
      ],
      "execution_count": null,
      "outputs": []
    },
    {
      "cell_type": "code",
      "metadata": {
        "id": "iEqObboM4zB0",
        "colab_type": "code",
        "colab": {
          "base_uri": "https://localhost:8080/",
          "height": 424
        },
        "outputId": "a4fca4da-febb-4e67-f232-c11d0b633b4b"
      },
      "source": [
        "df_scores"
      ],
      "execution_count": null,
      "outputs": [
        {
          "output_type": "execute_result",
          "data": {
            "text/html": [
              "<div>\n",
              "<style scoped>\n",
              "    .dataframe tbody tr th:only-of-type {\n",
              "        vertical-align: middle;\n",
              "    }\n",
              "\n",
              "    .dataframe tbody tr th {\n",
              "        vertical-align: top;\n",
              "    }\n",
              "\n",
              "    .dataframe thead th {\n",
              "        text-align: right;\n",
              "    }\n",
              "</style>\n",
              "<table border=\"1\" class=\"dataframe\">\n",
              "  <thead>\n",
              "    <tr style=\"text-align: right;\">\n",
              "      <th></th>\n",
              "      <th>apprentissage</th>\n",
              "      <th>test</th>\n",
              "      <th>depth</th>\n",
              "    </tr>\n",
              "  </thead>\n",
              "  <tbody>\n",
              "    <tr>\n",
              "      <th>0</th>\n",
              "      <td>0.016949</td>\n",
              "      <td>0.025</td>\n",
              "      <td>1</td>\n",
              "    </tr>\n",
              "    <tr>\n",
              "      <th>1</th>\n",
              "      <td>0.016949</td>\n",
              "      <td>0.050</td>\n",
              "      <td>2</td>\n",
              "    </tr>\n",
              "    <tr>\n",
              "      <th>2</th>\n",
              "      <td>0.033898</td>\n",
              "      <td>0.050</td>\n",
              "      <td>3</td>\n",
              "    </tr>\n",
              "    <tr>\n",
              "      <th>3</th>\n",
              "      <td>0.050847</td>\n",
              "      <td>0.050</td>\n",
              "      <td>4</td>\n",
              "    </tr>\n",
              "    <tr>\n",
              "      <th>4</th>\n",
              "      <td>0.050847</td>\n",
              "      <td>0.075</td>\n",
              "      <td>5</td>\n",
              "    </tr>\n",
              "    <tr>\n",
              "      <th>...</th>\n",
              "      <td>...</td>\n",
              "      <td>...</td>\n",
              "      <td>...</td>\n",
              "    </tr>\n",
              "    <tr>\n",
              "      <th>94</th>\n",
              "      <td>0.050847</td>\n",
              "      <td>0.125</td>\n",
              "      <td>95</td>\n",
              "    </tr>\n",
              "    <tr>\n",
              "      <th>95</th>\n",
              "      <td>0.050847</td>\n",
              "      <td>0.125</td>\n",
              "      <td>96</td>\n",
              "    </tr>\n",
              "    <tr>\n",
              "      <th>96</th>\n",
              "      <td>0.050847</td>\n",
              "      <td>0.125</td>\n",
              "      <td>97</td>\n",
              "    </tr>\n",
              "    <tr>\n",
              "      <th>97</th>\n",
              "      <td>0.050847</td>\n",
              "      <td>0.125</td>\n",
              "      <td>98</td>\n",
              "    </tr>\n",
              "    <tr>\n",
              "      <th>98</th>\n",
              "      <td>0.050847</td>\n",
              "      <td>0.125</td>\n",
              "      <td>99</td>\n",
              "    </tr>\n",
              "  </tbody>\n",
              "</table>\n",
              "<p>99 rows × 3 columns</p>\n",
              "</div>"
            ],
            "text/plain": [
              "    apprentissage   test  depth\n",
              "0        0.016949  0.025      1\n",
              "1        0.016949  0.050      2\n",
              "2        0.033898  0.050      3\n",
              "3        0.050847  0.050      4\n",
              "4        0.050847  0.075      5\n",
              "..            ...    ...    ...\n",
              "94       0.050847  0.125     95\n",
              "95       0.050847  0.125     96\n",
              "96       0.050847  0.125     97\n",
              "97       0.050847  0.125     98\n",
              "98       0.050847  0.125     99\n",
              "\n",
              "[99 rows x 3 columns]"
            ]
          },
          "metadata": {
            "tags": []
          },
          "execution_count": 20
        }
      ]
    },
    {
      "cell_type": "markdown",
      "metadata": {
        "id": "Qv9kCJhM4zlU",
        "colab_type": "text"
      },
      "source": [
        "Utiliser une boucle `for` pour tester différentes valeurs de `max_depth` dans `DecisionTreeClassifier`, et stocker les scores pour la base d'apprentissage et de test.\n",
        "\n",
        "Créer un graphique pour visualiser l'évolution des erreurs (ou scores) d'apprentissage et du test en fonction de `max_depth`"
      ]
    },
    {
      "cell_type": "code",
      "metadata": {
        "id": "Cp4EFKABPDOF",
        "colab_type": "code",
        "colab": {
          "base_uri": "https://localhost:8080/",
          "height": 265
        },
        "outputId": "0bdbfed2-ec50-4b84-86af-e478836643bf"
      },
      "source": [
        "X = df_scores[['apprentissage','test']]\n",
        "y=df_scores[['depth']]\n",
        "\n",
        "import matplotlib.pyplot as plt\n",
        "\n",
        "plt.plot(X,y)\n",
        "plt.xlabel='Score'\n",
        "plt.ylabel='Depth'\n",
        "plt.show()\n",
        "# la légende ne s'affiche pas correctement je ne sais pas pourquoi ?"
      ],
      "execution_count": null,
      "outputs": [
        {
          "output_type": "display_data",
          "data": {
            "image/png": "[encoded data removed]",
            "text/plain": [
              "<Figure size 432x288 with 1 Axes>"
            ]
          },
          "metadata": {
            "tags": [],
            "needs_background": "light"
          }
        }
      ]
    },
    {
      "cell_type": "code",
      "metadata": {
        "id": "BVuJv89d5CPI",
        "colab_type": "code",
        "colab": {}
      },
      "source": [
        ""
      ],
      "execution_count": null,
      "outputs": []
    }
  ]
}