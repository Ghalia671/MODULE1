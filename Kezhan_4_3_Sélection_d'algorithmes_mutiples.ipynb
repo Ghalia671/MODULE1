{
  "nbformat": 4,
  "nbformat_minor": 0,
  "metadata": {
    "colab": {
      "name": "Kezhan - 4.3 Sélection d'algorithmes mutiples.ipynb",
      "provenance": [],
      "collapsed_sections": [],
      "toc_visible": true,
      "include_colab_link": true
    },
    "kernelspec": {
      "name": "python3",
      "display_name": "Python 3"
    }
  },
  "cells": [
    {
      "cell_type": "markdown",
      "metadata": {
        "id": "view-in-github",
        "colab_type": "text"
      },
      "source": [
        "<a href=\"https://colab.research.google.com/github/Ghalia671/MODULE1/blob/master/Kezhan_4_3_S%C3%A9lection_d'algorithmes_mutiples.ipynb\" target=\"_parent\"><img src=\"https://colab.research.google.com/assets/colab-badge.svg\" alt=\"Open In Colab\"/></a>"
      ]
    },
    {
      "cell_type": "markdown",
      "metadata": {
        "id": "PvFNdkfAVOGc"
      },
      "source": [
        "# Données"
      ]
    },
    {
      "cell_type": "code",
      "metadata": {
        "id": "Pco_afK53q8r"
      },
      "source": [
        "from sklearn.datasets import load_iris\n",
        "from sklearn.datasets import load_breast_cancer\n",
        "import numpy as np\n",
        "\n",
        "from sklearn.model_selection import train_test_split\n",
        "\n",
        "iris = load_iris()\n",
        "cancer=load_breast_cancer()\n",
        "\n",
        "X = cancer.data\n",
        "y = cancer.target"
      ],
      "execution_count": 1,
      "outputs": []
    },
    {
      "cell_type": "markdown",
      "metadata": {
        "id": "WFndVdQxWAkq"
      },
      "source": [
        "# Grid search avec plusieurs algorithmes\n"
      ]
    },
    {
      "cell_type": "code",
      "metadata": {
        "id": "H8hqN39HrzuB"
      },
      "source": [
        "from sklearn.ensemble import RandomForestClassifier\n",
        "from sklearn.svm import SVC\n",
        "from sklearn.preprocessing import StandardScaler\n",
        "from sklearn.decomposition import PCA\n",
        "from sklearn.model_selection import GridSearchCV\n",
        "from sklearn.pipeline import Pipeline"
      ],
      "execution_count": 2,
      "outputs": []
    },
    {
      "cell_type": "markdown",
      "metadata": {
        "id": "aaTldfJWXTlx"
      },
      "source": [
        "## Initialisation du pipeline"
      ]
    },
    {
      "cell_type": "code",
      "metadata": {
        "id": "-K7aKt7_WjtH"
      },
      "source": [
        "pipe = Pipeline([('preprocessing', StandardScaler()), ('classifier', SVC())])\n"
      ],
      "execution_count": 3,
      "outputs": []
    },
    {
      "cell_type": "markdown",
      "metadata": {
        "id": "zrmrJV5hXXpM"
      },
      "source": [
        "## Hyperparamètres de plusieurs algorithmes"
      ]
    },
    {
      "cell_type": "code",
      "metadata": {
        "id": "mFFL9eiTXbQV"
      },
      "source": [
        "param_grid = [\n",
        "    {'classifier': [SVC()], \n",
        "     'classifier__gamma': [0.001, 0.01, 0.1, 1, 10, 100],\n",
        "     'classifier__C': [0.001, 0.01, 0.1, 1, 10, 100]},\n",
        "    {'classifier': [RandomForestClassifier(n_estimators=100)],\n",
        "     'preprocessing': [None], 'classifier__max_features': [1, 2, 3]}]"
      ],
      "execution_count": 4,
      "outputs": []
    },
    {
      "cell_type": "markdown",
      "metadata": {
        "id": "RYTAGhy_Xcp1"
      },
      "source": [
        "## Grid search"
      ]
    },
    {
      "cell_type": "code",
      "metadata": {
        "id": "NtRzOvnirzuD",
        "outputId": "d6e4dfbc-ac72-4969-af1d-54d79cd8120f",
        "colab": {
          "base_uri": "https://localhost:8080/",
          "height": 538
        }
      },
      "source": [
        "X_train, X_test, y_train, y_test = train_test_split(\n",
        "    cancer.data, cancer.target, random_state=0)\n",
        "\n",
        "grid = GridSearchCV(pipe, param_grid, cv=5)\n",
        "grid.fit(X_train, y_train)\n"
      ],
      "execution_count": 5,
      "outputs": [
        {
          "output_type": "execute_result",
          "data": {
            "text/plain": [
              "GridSearchCV(cv=5, error_score=nan,\n",
              "             estimator=Pipeline(memory=None,\n",
              "                                steps=[('preprocessing',\n",
              "                                        StandardScaler(copy=True,\n",
              "                                                       with_mean=True,\n",
              "                                                       with_std=True)),\n",
              "                                       ('classifier',\n",
              "                                        SVC(C=1.0, break_ties=False,\n",
              "                                            cache_size=200, class_weight=None,\n",
              "                                            coef0=0.0,\n",
              "                                            decision_function_shape='ovr',\n",
              "                                            degree=3, gamma='scale',\n",
              "                                            kernel='rbf', max_iter=-1,\n",
              "                                            probability=False,\n",
              "                                            random_state=None, shrinki...\n",
              "                                                                min_impurity_decrease=0.0,\n",
              "                                                                min_impurity_split=None,\n",
              "                                                                min_samples_leaf=1,\n",
              "                                                                min_samples_split=2,\n",
              "                                                                min_weight_fraction_leaf=0.0,\n",
              "                                                                n_estimators=100,\n",
              "                                                                n_jobs=None,\n",
              "                                                                oob_score=False,\n",
              "                                                                random_state=None,\n",
              "                                                                verbose=0,\n",
              "                                                                warm_start=False)],\n",
              "                          'classifier__max_features': [1, 2, 3],\n",
              "                          'preprocessing': [None]}],\n",
              "             pre_dispatch='2*n_jobs', refit=True, return_train_score=False,\n",
              "             scoring=None, verbose=0)"
            ]
          },
          "metadata": {
            "tags": []
          },
          "execution_count": 5
        }
      ]
    },
    {
      "cell_type": "markdown",
      "metadata": {
        "id": "PJbIDyS_Ujbo"
      },
      "source": [
        "# Résultat: meilleur modèle"
      ]
    },
    {
      "cell_type": "code",
      "metadata": {
        "id": "d73pZcRxUpLs",
        "outputId": "ad7e2fa2-042e-4810-f8e9-e389c054e1ce",
        "colab": {
          "base_uri": "https://localhost:8080/",
          "height": 191
        }
      },
      "source": [
        "grid.best_estimator_"
      ],
      "execution_count": 6,
      "outputs": [
        {
          "output_type": "execute_result",
          "data": {
            "text/plain": [
              "Pipeline(memory=None,\n",
              "         steps=[('preprocessing',\n",
              "                 StandardScaler(copy=True, with_mean=True, with_std=True)),\n",
              "                ('classifier',\n",
              "                 SVC(C=10, break_ties=False, cache_size=200, class_weight=None,\n",
              "                     coef0=0.0, decision_function_shape='ovr', degree=3,\n",
              "                     gamma=0.01, kernel='rbf', max_iter=-1, probability=False,\n",
              "                     random_state=None, shrinking=True, tol=0.001,\n",
              "                     verbose=False))],\n",
              "         verbose=False)"
            ]
          },
          "metadata": {
            "tags": []
          },
          "execution_count": 6
        }
      ]
    },
    {
      "cell_type": "code",
      "metadata": {
        "id": "LSBB2sXgWS02",
        "outputId": "3b94ffb3-e3a3-4c41-9353-edd1b6ddec7b",
        "colab": {
          "base_uri": "https://localhost:8080/",
          "height": 156
        }
      },
      "source": [
        "\n",
        "print(\"Best params:\\n{}\\n\".format(grid.best_params_))\n",
        "print(\"Best cross-validation score: {:.2f}\".format(grid.best_score_))\n",
        "print(\"Test-set score: {:.2f}\".format(grid.score(X_test, y_test)))"
      ],
      "execution_count": 7,
      "outputs": [
        {
          "output_type": "stream",
          "text": [
            "Best params:\n",
            "{'classifier': SVC(C=10, break_ties=False, cache_size=200, class_weight=None, coef0=0.0,\n",
            "    decision_function_shape='ovr', degree=3, gamma=0.01, kernel='rbf',\n",
            "    max_iter=-1, probability=False, random_state=None, shrinking=True,\n",
            "    tol=0.001, verbose=False), 'classifier__C': 10, 'classifier__gamma': 0.01}\n",
            "\n",
            "Best cross-validation score: 0.99\n",
            "Test-set score: 0.98\n"
          ],
          "name": "stdout"
        }
      ]
    },
    {
      "cell_type": "code",
      "metadata": {
        "id": "f-R5A9qqUmxN"
      },
      "source": [
        ""
      ],
      "execution_count": null,
      "outputs": []
    }
  ]
}