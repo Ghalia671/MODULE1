{
  "nbformat": 4,
  "nbformat_minor": 0,
  "metadata": {
    "colab": {
      "name": "Ghalia - 4.2 exercice tuning preprocessing.ipynb",
      "provenance": [],
      "collapsed_sections": [],
      "toc_visible": true,
      "include_colab_link": true
    },
    "kernelspec": {
      "name": "python3",
      "display_name": "Python 3"
    }
  },
  "cells": [
    {
      "cell_type": "markdown",
      "metadata": {
        "id": "view-in-github",
        "colab_type": "text"
      },
      "source": [
        "<a href=\"https://colab.research.google.com/github/Ghalia671/MODULE1/blob/master/Ghalia_4_2_exercice_tuning_preprocessing.ipynb\" target=\"_parent\"><img src=\"https://colab.research.google.com/assets/colab-badge.svg\" alt=\"Open In Colab\"/></a>"
      ]
    },
    {
      "cell_type": "markdown",
      "metadata": {
        "id": "LEMIGLL3NY9_"
      },
      "source": [
        "# Données"
      ]
    },
    {
      "cell_type": "markdown",
      "metadata": {
        "id": "sMbWm_GhNbNt"
      },
      "source": [
        "**Question** importer les données `breast_cancer`."
      ]
    },
    {
      "cell_type": "code",
      "metadata": {
        "id": "Ii0EOcEyNavT"
      },
      "source": [
        "from sklearn.datasets import load_iris\n",
        "from sklearn.datasets import load_breast_cancer\n",
        "from sklearn.preprocessing import PolynomialFeatures\n",
        "from sklearn.linear_model import LogisticRegression\n",
        "from sklearn.model_selection import train_test_split,GridSearchCV\n",
        "from sklearn.pipeline import make_pipeline\n",
        "from sklearn.preprocessing import StandardScaler\n",
        "import numpy as np\n",
        "\n",
        "iris = load_iris()\n",
        "cancer=load_breast_cancer()\n",
        "\n",
        "X = cancer.data\n",
        "y = cancer.target\n",
        "\n",
        "X_train, X_test, y_train, y_test = train_test_split(X,y,\n",
        "                                                    random_state=0)"
      ],
      "execution_count": 4,
      "outputs": []
    },
    {
      "cell_type": "markdown",
      "metadata": {
        "id": "xb07jBMUNfLB"
      },
      "source": [
        "# Sélection de modèle"
      ]
    },
    {
      "cell_type": "markdown",
      "metadata": {
        "id": "VLSHt10iN3bX"
      },
      "source": [
        "## Création de pipeline"
      ]
    },
    {
      "cell_type": "markdown",
      "metadata": {
        "id": "7FLd21YaNi7U"
      },
      "source": [
        "**Question** Créer un pipeline comprenant les étapes suivantes:\n",
        "\n",
        "- Centrer-réduction des variables explicatives\n",
        "- Choix du nombre de composantes principales suite à une ACP\n",
        "- Régression logistique"
      ]
    },
    {
      "cell_type": "code",
      "metadata": {
        "id": "IMua8ksSN1_k",
        "outputId": "6bf8e822-e10b-40c2-9762-4696189310a4",
        "colab": {
          "base_uri": "https://localhost:8080/",
          "height": 34
        }
      },
      "source": [
        "clf = LogisticRegression(max_iter=8000)\n",
        "\n",
        "pipe = make_pipeline(\n",
        "    StandardScaler(),\n",
        "    PolynomialFeatures(),\n",
        "    clf)\n",
        "\n",
        "clf.fit(X, y)\n",
        "clf.score(X, y)"
      ],
      "execution_count": 5,
      "outputs": [
        {
          "output_type": "execute_result",
          "data": {
            "text/plain": [
              "0.9578207381370826"
            ]
          },
          "metadata": {
            "tags": []
          },
          "execution_count": 5
        }
      ]
    },
    {
      "cell_type": "markdown",
      "metadata": {
        "id": "W8FBn8QNN61L"
      },
      "source": [
        "## Hyperparamètres"
      ]
    },
    {
      "cell_type": "markdown",
      "metadata": {
        "id": "Rs-B3yQ4N1gL"
      },
      "source": [
        "**Question** créer une grille de recherche d'hyperparamètres:\n",
        "\n",
        "- pour l'ACP, le nombre de composantes principales\n",
        "- pour la régression logistique, le choix de norme pour la régularisation et des valeurs de C différentes.\n",
        "\n"
      ]
    },
    {
      "cell_type": "code",
      "metadata": {
        "id": "ZwrpI4MhOR8Z",
        "outputId": "c55c4736-8d0a-408f-95aa-6daa31910f0a",
        "colab": {
          "base_uri": "https://localhost:8080/",
          "height": 52
        }
      },
      "source": [
        "param_grid = {'C': [0.001, 0.01, 0.1, 1, 10, 100],\n",
        "              'tol': [0.001, 0.01, 0.1, 1, 10, 100]}\n",
        "print(\"Parameter grid:\\n{}\".format(param_grid))"
      ],
      "execution_count": 14,
      "outputs": [
        {
          "output_type": "stream",
          "text": [
            "Parameter grid:\n",
            "{'C': [0.001, 0.01, 0.1, 1, 10, 100], 'tol': [0.001, 0.01, 0.1, 1, 10, 100]}\n"
          ],
          "name": "stdout"
        }
      ]
    },
    {
      "cell_type": "markdown",
      "metadata": {
        "id": "FpP0dyBxORS7"
      },
      "source": [
        "## Grid search"
      ]
    },
    {
      "cell_type": "markdown",
      "metadata": {
        "id": "DrJV6IhKOUJk"
      },
      "source": [
        "**Question** réaliser le grid search pour trouver le meilleur modèle"
      ]
    },
    {
      "cell_type": "code",
      "metadata": {
        "id": "hjGLv_UOOYtt",
        "outputId": "6fddcc25-4794-44f9-a925-33d6b05ece27",
        "colab": {
          "base_uri": "https://localhost:8080/",
          "height": 260
        }
      },
      "source": [
        "gridsearch=GridSearchCV(clf, param_grid, cv=5)\n",
        "gridsearch.fit(X_train, y_train)"
      ],
      "execution_count": 15,
      "outputs": [
        {
          "output_type": "execute_result",
          "data": {
            "text/plain": [
              "GridSearchCV(cv=5, error_score=nan,\n",
              "             estimator=LogisticRegression(C=1.0, class_weight=None, dual=False,\n",
              "                                          fit_intercept=True,\n",
              "                                          intercept_scaling=1, l1_ratio=None,\n",
              "                                          max_iter=8000, multi_class='auto',\n",
              "                                          n_jobs=None, penalty='l2',\n",
              "                                          random_state=None, solver='lbfgs',\n",
              "                                          tol=0.0001, verbose=0,\n",
              "                                          warm_start=False),\n",
              "             iid='deprecated', n_jobs=None,\n",
              "             param_grid={'C': [0.001, 0.01, 0.1, 1, 10, 100],\n",
              "                         'tol': [0.001, 0.01, 0.1, 1, 10, 100]},\n",
              "             pre_dispatch='2*n_jobs', refit=True, return_train_score=False,\n",
              "             scoring=None, verbose=0)"
            ]
          },
          "metadata": {
            "tags": []
          },
          "execution_count": 15
        }
      ]
    },
    {
      "cell_type": "markdown",
      "metadata": {
        "id": "0dhOdHUoOZFS"
      },
      "source": [
        "# Analyse du meilleur modèle"
      ]
    },
    {
      "cell_type": "markdown",
      "metadata": {
        "id": "aLp9aJFaOfNk"
      },
      "source": [
        "**Question** examiner les informations du meilleur estimateur, notamment le nombre de composantes principales."
      ]
    },
    {
      "cell_type": "code",
      "metadata": {
        "id": "ESw0zBAnOdAG",
        "outputId": "abb33161-a4c8-4fc7-c521-93564394854a",
        "colab": {
          "base_uri": "https://localhost:8080/",
          "height": 104
        }
      },
      "source": [
        "gridsearch.best_estimator_"
      ],
      "execution_count": 17,
      "outputs": [
        {
          "output_type": "execute_result",
          "data": {
            "text/plain": [
              "LogisticRegression(C=100, class_weight=None, dual=False, fit_intercept=True,\n",
              "                   intercept_scaling=1, l1_ratio=None, max_iter=8000,\n",
              "                   multi_class='auto', n_jobs=None, penalty='l2',\n",
              "                   random_state=None, solver='lbfgs', tol=0.001, verbose=0,\n",
              "                   warm_start=False)"
            ]
          },
          "metadata": {
            "tags": []
          },
          "execution_count": 17
        }
      ]
    },
    {
      "cell_type": "code",
      "metadata": {
        "id": "0iLblQDCJuLU",
        "outputId": "2c2a43eb-d085-4154-db4e-0924bca6f582",
        "colab": {
          "base_uri": "https://localhost:8080/",
          "height": 34
        }
      },
      "source": [
        "print(\"Best parameters: {}\".format(gridsearch.best_params_))"
      ],
      "execution_count": 18,
      "outputs": [
        {
          "output_type": "stream",
          "text": [
            "Best parameters: {'C': 100, 'tol': 0.001}\n"
          ],
          "name": "stdout"
        }
      ]
    },
    {
      "cell_type": "code",
      "metadata": {
        "id": "wW25kOgsJ18V",
        "outputId": "80cd89df-cb26-4b07-c5ad-db3076a92a0a",
        "colab": {
          "base_uri": "https://localhost:8080/",
          "height": 34
        }
      },
      "source": [
        "print(\"Test-set score: {:.2f}\".format(gridsearch.score(X_test, y_test)))"
      ],
      "execution_count": 19,
      "outputs": [
        {
          "output_type": "stream",
          "text": [
            "Test-set score: 0.96\n"
          ],
          "name": "stdout"
        }
      ]
    }
  ]
}