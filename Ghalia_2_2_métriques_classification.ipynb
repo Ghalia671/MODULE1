{
  "nbformat": 4,
  "nbformat_minor": 0,
  "metadata": {
    "colab": {
      "name": "Ghalia - 2.2 métriques classification.ipynb",
      "provenance": [],
      "collapsed_sections": [],
      "toc_visible": true,
      "include_colab_link": true
    },
    "kernelspec": {
      "name": "python3",
      "display_name": "Python 3"
    }
  },
  "cells": [
    {
      "cell_type": "markdown",
      "metadata": {
        "id": "view-in-github",
        "colab_type": "text"
      },
      "source": [
        "<a href=\"https://colab.research.google.com/github/Ghalia671/MODULE1/blob/master/Ghalia_2_2_m%C3%A9triques_classification.ipynb\" target=\"_parent\"><img src=\"https://colab.research.google.com/assets/colab-badge.svg\" alt=\"Open In Colab\"/></a>"
      ]
    },
    {
      "cell_type": "markdown",
      "metadata": {
        "id": "dpYnMgDZU0Lf"
      },
      "source": [
        "# Apprentissage/test"
      ]
    },
    {
      "cell_type": "code",
      "metadata": {
        "id": "MPFHJsc7T-nk"
      },
      "source": [
        "import matplotlib.pyplot as plt\n",
        "from sklearn import datasets\n",
        "\n",
        "from sklearn import metrics\n",
        "\n",
        "cancer = datasets.load_breast_cancer()\n",
        "X = cancer.data\n",
        "y = cancer.target\n"
      ],
      "execution_count": 1,
      "outputs": []
    },
    {
      "cell_type": "code",
      "metadata": {
        "id": "3IWuJHravJzO",
        "outputId": "bcb9b688-0372-4b15-80a5-cfcc0595969a",
        "colab": {
          "base_uri": "https://localhost:8080/",
          "height": 34
        }
      },
      "source": [
        "from sklearn.model_selection import train_test_split\n",
        "\n",
        "X_train, X_test, y_train, y_test = train_test_split(X, y, test_size=0.3, random_state=42)\n",
        "print(X_train.shape, X_test.shape)"
      ],
      "execution_count": 2,
      "outputs": [
        {
          "output_type": "stream",
          "text": [
            "(398, 30) (171, 30)\n"
          ],
          "name": "stdout"
        }
      ]
    },
    {
      "cell_type": "code",
      "metadata": {
        "id": "cZoxbq7vvJzP",
        "outputId": "d6b2649f-1928-4b71-9228-ce199bd7bf04",
        "colab": {
          "base_uri": "https://localhost:8080/",
          "height": 104
        }
      },
      "source": [
        "from sklearn import linear_model\n",
        "\n",
        "clf = linear_model.LogisticRegression(max_iter=5000)\n",
        "clf.fit(X_train,y_train)"
      ],
      "execution_count": 3,
      "outputs": [
        {
          "output_type": "execute_result",
          "data": {
            "text/plain": [
              "LogisticRegression(C=1.0, class_weight=None, dual=False, fit_intercept=True,\n",
              "                   intercept_scaling=1, l1_ratio=None, max_iter=5000,\n",
              "                   multi_class='auto', n_jobs=None, penalty='l2',\n",
              "                   random_state=None, solver='lbfgs', tol=0.0001, verbose=0,\n",
              "                   warm_start=False)"
            ]
          },
          "metadata": {
            "tags": []
          },
          "execution_count": 3
        }
      ]
    },
    {
      "cell_type": "code",
      "metadata": {
        "id": "j7_8fKcBU3tM",
        "outputId": "cc590941-0ee5-4552-8409-eb4e27f71201",
        "colab": {
          "base_uri": "https://localhost:8080/",
          "height": 34
        }
      },
      "source": [
        "from sklearn.metrics import accuracy_score\n",
        "\n",
        "accuracy_score(y_test,clf.predict(X_test))"
      ],
      "execution_count": 4,
      "outputs": [
        {
          "output_type": "execute_result",
          "data": {
            "text/plain": [
              "0.9766081871345029"
            ]
          },
          "metadata": {
            "tags": []
          },
          "execution_count": 4
        }
      ]
    },
    {
      "cell_type": "markdown",
      "metadata": {
        "id": "SNUVmY_qcMPd"
      },
      "source": [
        "## Matrice de confusion"
      ]
    },
    {
      "cell_type": "code",
      "metadata": {
        "id": "V365DYqKcO1Z"
      },
      "source": [
        "cm=metrics.confusion_matrix(y_test,clf.predict(X_test))"
      ],
      "execution_count": 5,
      "outputs": []
    },
    {
      "cell_type": "code",
      "metadata": {
        "id": "Yn7TiZ4Zc2gS",
        "outputId": "eac66bd0-fcd2-4c6e-a64d-e96dcce8d6c1",
        "colab": {
          "base_uri": "https://localhost:8080/",
          "height": 52
        }
      },
      "source": [
        "cm"
      ],
      "execution_count": 6,
      "outputs": [
        {
          "output_type": "execute_result",
          "data": {
            "text/plain": [
              "array([[ 61,   2],\n",
              "       [  2, 106]])"
            ]
          },
          "metadata": {
            "tags": []
          },
          "execution_count": 6
        }
      ]
    },
    {
      "cell_type": "code",
      "metadata": {
        "id": "XANa9AwAcxJV"
      },
      "source": [
        "tn, fp, fn, tp = cm.ravel()"
      ],
      "execution_count": 7,
      "outputs": []
    },
    {
      "cell_type": "markdown",
      "metadata": {
        "id": "qOGoQkoWc5Up"
      },
      "source": [
        "**Question** Calculer la précision, rappel, le taux de faux positif, le taux de vrai positif, ainsi que le score F1."
      ]
    },
    {
      "cell_type": "code",
      "metadata": {
        "id": "yhTPc6f1c73v",
        "outputId": "07e4b983-86c1-40ba-bf4c-7b47139b1d73",
        "colab": {
          "base_uri": "https://localhost:8080/",
          "height": 86
        }
      },
      "source": [
        "accuracy = 1 - ((2+2)/(61+2+2+106))\n",
        "print(\"accuracy : \",round(accuracy * 100,2),\" %\")\n",
        "\n",
        "precision = 106/(106+2)\n",
        "print(\"precision : \",round(precision * 100,2),\" %\")\n",
        "\n",
        "rappel = 2 / (61+2)\n",
        "print(\"rappel : \",round(rappel * 100,2),\" %\")\n",
        "\n",
        "score_F1 = 2 * ((precision * rappel)/(precision + rappel))\n",
        "print(\"score F1 : \",round(score_F1 * 100,2),\" %\")"
      ],
      "execution_count": 9,
      "outputs": [
        {
          "output_type": "stream",
          "text": [
            "accuracy :  97.66  %\n",
            "precision :  98.15  %\n",
            "rappel :  3.17  %\n",
            "score F1 :  6.15  %\n"
          ],
          "name": "stdout"
        }
      ]
    },
    {
      "cell_type": "markdown",
      "metadata": {
        "id": "D_B-E0dqI44a"
      },
      "source": [
        "## Rapport des résultats de prédiction"
      ]
    },
    {
      "cell_type": "markdown",
      "metadata": {
        "id": "XapRuhK8J_xQ"
      },
      "source": [
        "On peut utiliser la fonction `classification_report` pour avoir un ensemble de résultats."
      ]
    },
    {
      "cell_type": "code",
      "metadata": {
        "id": "CTdNlbqFI6GQ",
        "outputId": "b0923e52-626b-4f35-b46f-df1dc19a2b82",
        "colab": {
          "base_uri": "https://localhost:8080/",
          "height": 173
        }
      },
      "source": [
        "from sklearn.metrics import classification_report\n",
        "\n",
        "print(classification_report(y_test,clf.predict(X_test)))"
      ],
      "execution_count": 10,
      "outputs": [
        {
          "output_type": "stream",
          "text": [
            "              precision    recall  f1-score   support\n",
            "\n",
            "           0       0.97      0.97      0.97        63\n",
            "           1       0.98      0.98      0.98       108\n",
            "\n",
            "    accuracy                           0.98       171\n",
            "   macro avg       0.97      0.97      0.97       171\n",
            "weighted avg       0.98      0.98      0.98       171\n",
            "\n"
          ],
          "name": "stdout"
        }
      ]
    },
    {
      "cell_type": "markdown",
      "metadata": {
        "id": "-M7RocxNcFLs"
      },
      "source": [
        "# Validation croisée"
      ]
    },
    {
      "cell_type": "markdown",
      "metadata": {
        "id": "OHa1IMTJUZ-R"
      },
      "source": [
        "## Justesse"
      ]
    },
    {
      "cell_type": "code",
      "metadata": {
        "id": "gw4BDoW_UWPq",
        "outputId": "0eef2dad-5190-4dad-8b46-f42686dc9d90",
        "colab": {
          "base_uri": "https://localhost:8080/",
          "height": 34
        }
      },
      "source": [
        "from sklearn.model_selection import cross_val_score\n",
        "\n",
        "cross_val_score(clf, X, y, scoring='accuracy')"
      ],
      "execution_count": 11,
      "outputs": [
        {
          "output_type": "execute_result",
          "data": {
            "text/plain": [
              "array([0.93859649, 0.94736842, 0.98245614, 0.92982456, 0.96460177])"
            ]
          },
          "metadata": {
            "tags": []
          },
          "execution_count": 11
        }
      ]
    },
    {
      "cell_type": "markdown",
      "metadata": {
        "id": "6esUTsR6UwZR"
      },
      "source": [
        "## Score F1"
      ]
    },
    {
      "cell_type": "code",
      "metadata": {
        "id": "yR-VqErsVFT0",
        "outputId": "810a0018-e07c-476e-9d29-ee48407f2c1c",
        "colab": {
          "base_uri": "https://localhost:8080/",
          "height": 34
        }
      },
      "source": [
        "cross_val_score(clf, X, y, scoring='f1')"
      ],
      "execution_count": 12,
      "outputs": [
        {
          "output_type": "execute_result",
          "data": {
            "text/plain": [
              "array([0.95302013, 0.95833333, 0.98611111, 0.94444444, 0.97142857])"
            ]
          },
          "metadata": {
            "tags": []
          },
          "execution_count": 12
        }
      ]
    },
    {
      "cell_type": "markdown",
      "metadata": {
        "id": "4b8LvhoLWTN1"
      },
      "source": [
        "## ROC AUC"
      ]
    },
    {
      "cell_type": "code",
      "metadata": {
        "id": "WAoP5J7AV8Kd",
        "outputId": "b089f1c2-233a-4d24-b066-aabb996aa8e4",
        "colab": {
          "base_uri": "https://localhost:8080/",
          "height": 34
        }
      },
      "source": [
        "cross_val_score(clf, X, y, scoring='roc_auc')"
      ],
      "execution_count": 13,
      "outputs": [
        {
          "output_type": "execute_result",
          "data": {
            "text/plain": [
              "array([0.99410416, 0.99344907, 0.99801587, 0.97949735, 0.99765258])"
            ]
          },
          "metadata": {
            "tags": []
          },
          "execution_count": 13
        }
      ]
    },
    {
      "cell_type": "markdown",
      "metadata": {
        "id": "bt9axlWDqpMp"
      },
      "source": [
        "# Validation croisée stratifiée"
      ]
    },
    {
      "cell_type": "markdown",
      "metadata": {
        "id": "v5vExW35qsc9"
      },
      "source": [
        "**Question** Utiliser la validation croisée stratifiée"
      ]
    },
    {
      "cell_type": "code",
      "metadata": {
        "id": "pQ9EBAwOqr0U",
        "outputId": "372c313d-e91c-4d77-831f-7cffcc63a0be",
        "colab": {
          "base_uri": "https://localhost:8080/",
          "height": 34
        }
      },
      "source": [
        "import numpy as np\n",
        "from sklearn.model_selection import StratifiedKFold\n",
        "\n",
        "skf = StratifiedKFold(n_splits=5)\n",
        "cross_val_score(clf, X, y, cv=skf)"
      ],
      "execution_count": 14,
      "outputs": [
        {
          "output_type": "execute_result",
          "data": {
            "text/plain": [
              "array([0.93859649, 0.94736842, 0.98245614, 0.92982456, 0.96460177])"
            ]
          },
          "metadata": {
            "tags": []
          },
          "execution_count": 14
        }
      ]
    },
    {
      "cell_type": "markdown",
      "metadata": {
        "id": "5_pOTtu6lzQY"
      },
      "source": [
        "# Classification multiclasse"
      ]
    },
    {
      "cell_type": "markdown",
      "metadata": {
        "id": "fKwvTIGHl4iA"
      },
      "source": [
        "On peut prendre l'exemple des données `iris` pour lesquelles on a trois classes (trois espèces d'iris).\n",
        "\n"
      ]
    },
    {
      "cell_type": "code",
      "metadata": {
        "id": "1c_KqIuhl3-V"
      },
      "source": [
        "# Importer les données\n",
        "from sklearn.datasets import load_iris\n",
        "\n",
        "iris = load_iris()\n",
        "X = iris.data\n",
        "y = iris.target"
      ],
      "execution_count": 15,
      "outputs": []
    },
    {
      "cell_type": "markdown",
      "metadata": {
        "id": "HCeZ-nuFmZic"
      },
      "source": [
        "## Calculs de métriques"
      ]
    },
    {
      "cell_type": "markdown",
      "metadata": {
        "id": "anijaIlDmE4V"
      },
      "source": [
        "**Question** appliquer les différentes métriques comme `accuracy`, `precision`, `recall`."
      ]
    },
    {
      "cell_type": "code",
      "metadata": {
        "id": "hOq7MSg1mOMA"
      },
      "source": [
        "from sklearn.model_selection import train_test_split\n",
        "\n",
        "X_train, X_test, y_train, y_test = train_test_split(X, y, test_size=0.3, random_state=42)\n",
        "from sklearn import linear_model\n",
        "\n",
        "clf = linear_model.LogisticRegression(max_iter=5000)\n",
        "clf.fit(X_train,y_train)\n",
        "\n",
        "from sklearn.metrics import accuracy_score\n",
        "\n",
        "accuracy_score(y_test,clf.predict(X_test))"
      ],
      "execution_count": null,
      "outputs": []
    },
    {
      "cell_type": "code",
      "metadata": {
        "id": "4wxD9y6J5YDl",
        "outputId": "7873e7fa-75d8-4a57-8aaa-2ab1fb41fa18",
        "colab": {
          "base_uri": "https://localhost:8080/",
          "height": 69
        }
      },
      "source": [
        "cm=metrics.confusion_matrix(y_test,clf.predict(X_test))\n",
        "cm"
      ],
      "execution_count": 18,
      "outputs": [
        {
          "output_type": "execute_result",
          "data": {
            "text/plain": [
              "array([[19,  0,  0],\n",
              "       [ 0, 13,  0],\n",
              "       [ 0,  0, 13]])"
            ]
          },
          "metadata": {
            "tags": []
          },
          "execution_count": 18
        }
      ]
    },
    {
      "cell_type": "code",
      "metadata": {
        "id": "5M2t084b5c3d",
        "outputId": "830ddd7a-7e87-4a59-dab1-7c9065b7ab42",
        "colab": {
          "base_uri": "https://localhost:8080/",
          "height": 191
        }
      },
      "source": [
        "from sklearn.metrics import classification_report\n",
        "\n",
        "print(classification_report(y_test,clf.predict(X_test)))"
      ],
      "execution_count": 19,
      "outputs": [
        {
          "output_type": "stream",
          "text": [
            "              precision    recall  f1-score   support\n",
            "\n",
            "           0       1.00      1.00      1.00        19\n",
            "           1       1.00      1.00      1.00        13\n",
            "           2       1.00      1.00      1.00        13\n",
            "\n",
            "    accuracy                           1.00        45\n",
            "   macro avg       1.00      1.00      1.00        45\n",
            "weighted avg       1.00      1.00      1.00        45\n",
            "\n"
          ],
          "name": "stdout"
        }
      ]
    },
    {
      "cell_type": "markdown",
      "metadata": {
        "id": "0m4jrz5qmcYW"
      },
      "source": [
        "## Méthodes de calculs de moyenne"
      ]
    },
    {
      "cell_type": "markdown",
      "metadata": {
        "id": "TkV08Pv7mfny"
      },
      "source": [
        "Pour le score F1, on doit préciser `f1_micro` ou `f1_macro`."
      ]
    },
    {
      "cell_type": "code",
      "metadata": {
        "id": "T9j4hd__ml2S",
        "outputId": "02a5b608-94d4-4479-8869-43fef7ad968c",
        "colab": {
          "base_uri": "https://localhost:8080/",
          "height": 34
        }
      },
      "source": [
        "cross_val_score(clf, X, y, scoring='f1_micro')"
      ],
      "execution_count": 20,
      "outputs": [
        {
          "output_type": "execute_result",
          "data": {
            "text/plain": [
              "array([0.96666667, 1.        , 0.93333333, 0.96666667, 1.        ])"
            ]
          },
          "metadata": {
            "tags": []
          },
          "execution_count": 20
        }
      ]
    },
    {
      "cell_type": "markdown",
      "metadata": {
        "id": "zHnS_xlgmrQm"
      },
      "source": [
        "**Explication des moyennes micro, macro**\n",
        "\n",
        "Le score F1 se calcule à partir du couple précision et rappel. Les calculs de moyennes micro ou macro portent sur les moyenens de précision et de rappel.\n",
        "\n",
        "Prenons l'exemple de calcul de précision, pour trois classes suivantes:\n",
        "\n",
        "- Classe 1: 1 Vrai Positif (VP) et 1 Faux Positif (FP)\n",
        "- Classe 2: 20 VP et 80 FP\n",
        "- Classe 3: 1 VP et 1 FP\n",
        "\n"
      ]
    },
    {
      "cell_type": "markdown",
      "metadata": {
        "id": "_xQ0weUqnYPl"
      },
      "source": [
        "On peut calculer la précision pour les trois classes: \n",
        "\n",
        "- Classe 1: précision $Pr_1 = 0.5$\n",
        "- Classe 2: précision $Pr_2 = 0.2$\n",
        "- Classe 3: précision $Pr_3 = 0.5$"
      ]
    },
    {
      "cell_type": "markdown",
      "metadata": {
        "id": "GFKy4iSDn01V"
      },
      "source": [
        "La moyenne macro se calcule de la manière suivante:\n",
        "\n",
        "$$Pr_{macro}=\\frac{Pr_1+Pr_2+Pr_3}{3}=\\frac{0.5+0.2+0.5}{3}=0.4$$"
      ]
    },
    {
      "cell_type": "markdown",
      "metadata": {
        "id": "cgYL-UJsoX7s"
      },
      "source": [
        "La moyenne micro se calcule de la manière suivante: \n",
        "\n",
        "$$Pr_{micro}=\\frac{1+20+1}{2+100+2}=0.21$$"
      ]
    },
    {
      "cell_type": "markdown",
      "metadata": {
        "id": "xUmzAhSAo2gh"
      },
      "source": [
        ""
      ]
    }
  ]
}