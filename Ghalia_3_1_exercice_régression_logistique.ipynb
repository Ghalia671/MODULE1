{
  "nbformat": 4,
  "nbformat_minor": 0,
  "metadata": {
    "colab": {
      "name": "Ghalia - 3.1 exercice régression logistique.ipynb",
      "provenance": [],
      "collapsed_sections": [],
      "toc_visible": true,
      "include_colab_link": true
    },
    "kernelspec": {
      "name": "python3",
      "display_name": "Python 3"
    }
  },
  "cells": [
    {
      "cell_type": "markdown",
      "metadata": {
        "id": "view-in-github",
        "colab_type": "text"
      },
      "source": [
        "<a href=\"https://colab.research.google.com/github/Ghalia671/MODULE1/blob/master/Ghalia_3_1_exercice_r%C3%A9gression_logistique.ipynb\" target=\"_parent\"><img src=\"https://colab.research.google.com/assets/colab-badge.svg\" alt=\"Open In Colab\"/></a>"
      ]
    },
    {
      "cell_type": "markdown",
      "metadata": {
        "id": "TPwM1evn4R4g"
      },
      "source": [
        "# Données"
      ]
    },
    {
      "cell_type": "code",
      "metadata": {
        "id": "gVNo00W12yNp"
      },
      "source": [
        "import pandas as pd\n",
        "import numpy as np\n",
        "\n"
      ],
      "execution_count": null,
      "outputs": []
    },
    {
      "cell_type": "code",
      "metadata": {
        "id": "uYSEnO3321Uq"
      },
      "source": [
        "dic={'x': {0: '1', 1: '3', 2: '4', 3: '7', 4: '9', 5: '10', 6: '11', 7: '13', 8: '14', 9: '16'},\n",
        "    'y': {0: '0', 1: '0', 2: '0', 3: '1', 4: '0', 5: '1', 6: '1', 7: '1', 8: '1', 9: '1'}}\n",
        "\n",
        "df = pd.DataFrame(dic)\n"
      ],
      "execution_count": null,
      "outputs": []
    },
    {
      "cell_type": "markdown",
      "metadata": {
        "id": "gn_Y2jk14VoD"
      },
      "source": [
        "## Données d'apprentissage\n"
      ]
    },
    {
      "cell_type": "code",
      "metadata": {
        "id": "T-RpbLcH4gXs"
      },
      "source": [
        "X=df[[\"x\"]]\n",
        "y=df[[\"y\"]]"
      ],
      "execution_count": null,
      "outputs": []
    },
    {
      "cell_type": "markdown",
      "metadata": {
        "id": "5uyqO8dR4ejW"
      },
      "source": [
        "# Régression logistique avec une variable"
      ]
    },
    {
      "cell_type": "markdown",
      "metadata": {
        "id": "ZqXaTtvdu3M6"
      },
      "source": [
        "$$f(x)=\\frac{1}{1+e^{-(ax+b)}}$$"
      ]
    },
    {
      "cell_type": "markdown",
      "metadata": {
        "id": "qmdxBkJL6XAt"
      },
      "source": [
        "**Question** Tracer un graphique de cette fonction en choisissant quelques valeurs pour a et b.\n",
        "\n",
        "En particulier, la fonction s'appelle sigmoïde si a=1 et b=0."
      ]
    },
    {
      "cell_type": "code",
      "metadata": {
        "id": "3dyY2iXN6WuA"
      },
      "source": [
        ""
      ],
      "execution_count": null,
      "outputs": []
    },
    {
      "cell_type": "markdown",
      "metadata": {
        "id": "BV4k-TQ-2cDR"
      },
      "source": [
        "Vraisemblance du modèle\n"
      ]
    },
    {
      "cell_type": "markdown",
      "metadata": {
        "id": "GPlH4bFh1YAo"
      },
      "source": [
        "$$L(a,b)= \\prod_{i=1}^m \\hat y_i ^{y_i}\\cdot  (1- \\hat y_i)^{ (1-y_i)}$$"
      ]
    },
    {
      "cell_type": "markdown",
      "metadata": {
        "id": "4zlL9Swv2d_V"
      },
      "source": [
        "Log vraisemblance\n",
        "\n",
        "$$logL(a,b)= \\sum_{i=1}^m \\hat y_i\\cdot y_i + (1- \\hat y_i) \\cdot (1-y_i)$$"
      ]
    },
    {
      "cell_type": "markdown",
      "metadata": {
        "id": "GeyYX7waxaj3"
      },
      "source": [
        "## Création de modèle"
      ]
    },
    {
      "cell_type": "markdown",
      "metadata": {
        "id": "SHhX1xqywoHW"
      },
      "source": [
        "**Questions** Créer un modèle de régression logistique.\n",
        "\n",
        "A noter que par défaut, le modèle propose une régularisation des paramètres. Pour ne pas prendre en compte la régularisation, on peut préciser: `penalty='none'`.\n"
      ]
    },
    {
      "cell_type": "code",
      "metadata": {
        "id": "VBmW1fPs4gDs",
        "outputId": "8007640a-b19e-40dd-8e69-041807c84f17",
        "colab": {
          "base_uri": "https://localhost:8080/",
          "height": 156
        }
      },
      "source": [
        "import numpy as np\n",
        "from sklearn.linear_model import LogisticRegression\n",
        "\n",
        "# clf = ... créer et entraîner le modèle\n"
      ],
      "execution_count": null,
      "outputs": [
        {
          "output_type": "stream",
          "text": [
            "/usr/local/lib/python3.6/dist-packages/sklearn/utils/validation.py:760: DataConversionWarning: A column-vector y was passed when a 1d array was expected. Please change the shape of y to (n_samples, ), for example using ravel().\n",
            "  y = column_or_1d(y, warn=True)\n"
          ],
          "name": "stderr"
        },
        {
          "output_type": "execute_result",
          "data": {
            "text/plain": [
              "LogisticRegression(C=1.0, class_weight=None, dual=False, fit_intercept=True,\n",
              "                   intercept_scaling=1, l1_ratio=None, max_iter=100,\n",
              "                   multi_class='auto', n_jobs=None, penalty='none',\n",
              "                   random_state=None, solver='lbfgs', tol=0.0001, verbose=0,\n",
              "                   warm_start=False)"
            ]
          },
          "metadata": {
            "tags": []
          },
          "execution_count": 4
        }
      ]
    },
    {
      "cell_type": "code",
      "metadata": {
        "id": "-ydRAiGjokJm",
        "outputId": "7aa54e76-a910-4d74-f937-cad34d26656d",
        "colab": {
          "base_uri": "https://localhost:8080/",
          "height": 34
        }
      },
      "source": [
        "clf.coef_"
      ],
      "execution_count": null,
      "outputs": [
        {
          "output_type": "execute_result",
          "data": {
            "text/plain": [
              "array([[0.69868573]])"
            ]
          },
          "metadata": {
            "tags": []
          },
          "execution_count": 5
        }
      ]
    },
    {
      "cell_type": "code",
      "metadata": {
        "id": "2tywhtx4oqdB",
        "outputId": "5411746d-fcde-45f3-d42a-6f6fc0271f90",
        "colab": {
          "base_uri": "https://localhost:8080/",
          "height": 34
        }
      },
      "source": [
        "clf.intercept_"
      ],
      "execution_count": null,
      "outputs": [
        {
          "output_type": "execute_result",
          "data": {
            "text/plain": [
              "array([-5.26936572])"
            ]
          },
          "metadata": {
            "tags": []
          },
          "execution_count": 6
        }
      ]
    },
    {
      "cell_type": "markdown",
      "metadata": {
        "id": "155alqmoKRVH"
      },
      "source": [
        "**Question** tracer la courbe en S."
      ]
    },
    {
      "cell_type": "code",
      "metadata": {
        "id": "--UrlfRpu27u"
      },
      "source": [
        ""
      ],
      "execution_count": null,
      "outputs": []
    },
    {
      "cell_type": "markdown",
      "metadata": {
        "id": "8Ejnyha2wJiO"
      },
      "source": [
        "## Régularisation"
      ]
    },
    {
      "cell_type": "markdown",
      "metadata": {
        "id": "DCTf_sGZwLSi"
      },
      "source": [
        "Il est possible d'utiliser le paramètre `C` pour créer un effet de régularisation sur les coefficients.\n",
        "\n",
        "**Question** Tester des valeurs différentes de `C` et examiner l'influence sur les coefficients."
      ]
    },
    {
      "cell_type": "code",
      "metadata": {
        "id": "pbkMdv9xwKwN"
      },
      "source": [
        ""
      ],
      "execution_count": null,
      "outputs": []
    },
    {
      "cell_type": "markdown",
      "metadata": {
        "id": "pyQDBMVwvtMX"
      },
      "source": [
        "## Prédictions"
      ]
    },
    {
      "cell_type": "markdown",
      "metadata": {
        "id": "qk9Jh648vlFJ"
      },
      "source": [
        "**Question** Faire des prédictions pour les valeurs de x allant de 0 à 20. Et tracer la courbe."
      ]
    },
    {
      "cell_type": "code",
      "metadata": {
        "id": "6KfILkrCvvXs"
      },
      "source": [
        ""
      ],
      "execution_count": null,
      "outputs": []
    },
    {
      "cell_type": "markdown",
      "metadata": {
        "id": "BXD7I-XMxMsj"
      },
      "source": [
        "# Régression logistique avec deux variables"
      ]
    },
    {
      "cell_type": "markdown",
      "metadata": {
        "id": "uRa9i5ZCxdLf"
      },
      "source": [
        "## Simulation des données"
      ]
    },
    {
      "cell_type": "markdown",
      "metadata": {
        "id": "NjP_5nIQz2dy"
      },
      "source": [
        "On peut utiliser des fonctions existantes pour simuler des données."
      ]
    },
    {
      "cell_type": "code",
      "metadata": {
        "id": "zglcaprfFNB4",
        "outputId": "c995c620-827d-4314-fd47-066bb2dbc250",
        "colab": {
          "base_uri": "https://localhost:8080/",
          "height": 265
        }
      },
      "source": [
        "from sklearn.datasets import make_classification\n",
        "import matplotlib.pyplot as plt\n",
        "\n",
        "\n",
        "plt.figure()\n",
        "X, y = make_classification(n_samples = 100, n_features=2,\n",
        "                                n_redundant=0, n_informative=2,\n",
        "                                n_clusters_per_class=1, flip_y = 0.1,\n",
        "                                class_sep = 0.5, random_state=0)\n",
        "plt.scatter(X_C2[:, 0], X_C2[:, 1], c=y_C2,\n",
        "           marker= 'o', s=50)\n",
        "plt.show()"
      ],
      "execution_count": null,
      "outputs": [
        {
          "output_type": "display_data",
          "data": {
            "image/png": "[encoded data removed]",
            "text/plain": [
              "<Figure size 432x288 with 1 Axes>"
            ]
          },
          "metadata": {
            "tags": [],
            "needs_background": "light"
          }
        }
      ]
    },
    {
      "cell_type": "markdown",
      "metadata": {
        "id": "fg3bIqP6z7E8"
      },
      "source": [
        "## Création de modèles"
      ]
    },
    {
      "cell_type": "markdown",
      "metadata": {
        "id": "FQd64aap0CpL"
      },
      "source": [
        "**Question**  créer un modèle de régression logistique pour les deux variables."
      ]
    },
    {
      "cell_type": "code",
      "metadata": {
        "id": "SY5-ErUj5UNb"
      },
      "source": [
        "from sklearn.linear_model import LogisticRegression\n",
        "from sklearn.model_selection import train_test_split\n",
        "\n",
        "\n"
      ],
      "execution_count": null,
      "outputs": []
    },
    {
      "cell_type": "markdown",
      "metadata": {
        "id": "gjDhqwpKz-r5"
      },
      "source": [
        "## Visualisation des prédictions"
      ]
    },
    {
      "cell_type": "code",
      "metadata": {
        "id": "0yo4kpVZ0CHj"
      },
      "source": [
        ""
      ],
      "execution_count": null,
      "outputs": []
    },
    {
      "cell_type": "code",
      "metadata": {
        "id": "dmE97-gw6gDR"
      },
      "source": [
        "import numpy as np\n",
        "\n",
        "def visualisation_predictions(clf, X, y, X_test, y_test, title, subplot, target_names = None, plot_decision_regions = True):\n",
        "\n",
        "    numClasses = np.amax(y) + 1\n",
        "    color_list_light = ['#FFFFAA', '#EFEFEF', '#AAFFAA', '#AAAAFF']\n",
        "    color_list_bold = ['#EEEE00', '#000000', '#00CC00', '#0000CC']\n",
        "    cmap_light = ListedColormap(color_list_light[0:numClasses])\n",
        "    cmap_bold  = ListedColormap(color_list_bold[0:numClasses])\n",
        "\n",
        "    h = 0.03\n",
        "    k = 0.5\n",
        "    x_plot_adjust = 0.1\n",
        "    y_plot_adjust = 0.1\n",
        "    plot_symbol_size = 50\n",
        "\n",
        "    x_min = X[:, 0].min()\n",
        "    x_max = X[:, 0].max()\n",
        "    y_min = X[:, 1].min()\n",
        "    y_max = X[:, 1].max()\n",
        "    \n",
        "    x2, y2 = np.meshgrid(np.arange(x_min-k, x_max+k, h), np.arange(y_min-k, y_max+k, h))\n",
        "\n",
        "    P = clf.predict(np.c_[x2.ravel(), y2.ravel()])\n",
        "    P = P.reshape(x2.shape)\n",
        "\n",
        "    if plot_decision_regions:\n",
        "        subplot.contourf(x2, y2, P, cmap=cmap_light, alpha = 0.8)\n",
        "\n",
        "    subplot.scatter(X[:, 0], X[:, 1], c=y, cmap=cmap_bold, s=plot_symbol_size, edgecolor = 'black')\n",
        "    subplot.set_xlim(x_min - x_plot_adjust, x_max + x_plot_adjust)\n",
        "    subplot.set_ylim(y_min - y_plot_adjust, y_max + y_plot_adjust)\n",
        "\n",
        "    if (X_test is not None):\n",
        "        subplot.scatter(X_test[:, 0], X_test[:, 1], c=y_test, cmap=cmap_bold, s=plot_symbol_size, marker='^', edgecolor = 'black')\n",
        "        train_score = clf.score(X, y)\n",
        "        test_score  = clf.score(X_test, y_test)\n",
        "        title = title + \"\\nTrain score = {:.2f}, Test score = {:.2f}\".format(train_score, test_score)\n",
        "\n",
        "    subplot.set_title(title)\n",
        "\n",
        "    if (target_names is not None):\n",
        "        legend_handles = []\n",
        "        for i in range(0, len(target_names)):\n",
        "            patch = mpatches.Patch(color=color_list_bold[i], label=target_names[i])\n",
        "            legend_handles.append(patch)\n",
        "        subplot.legend(loc=0, handles=legend_handles)\n",
        "\n"
      ],
      "execution_count": null,
      "outputs": []
    },
    {
      "cell_type": "code",
      "metadata": {
        "id": "ie_vOOIrzDqC",
        "outputId": "d1a2f811-421d-4a5c-ca23-c56704294f0a",
        "colab": {
          "base_uri": "https://localhost:8080/",
          "height": 336
        }
      },
      "source": [
        "\n",
        "# vous pouvez appeler votre classifieur clf, la fonction suivante va fonctionner\n",
        "\n",
        "visualisation_predictions(clf, X_train, y_train,\n",
        "                                         None, None, title, subaxes)\n",
        "\n"
      ],
      "execution_count": null,
      "outputs": [
        {
          "output_type": "display_data",
          "data": {
            "image/png": "[encoded data removed]",
            "text/plain": [
              "<Figure size 504x360 with 1 Axes>"
            ]
          },
          "metadata": {
            "tags": [],
            "needs_background": "light"
          }
        }
      ]
    },
    {
      "cell_type": "code",
      "metadata": {
        "id": "DF2ZmYy4zUe5"
      },
      "source": [
        ""
      ],
      "execution_count": null,
      "outputs": []
    }
  ]
}