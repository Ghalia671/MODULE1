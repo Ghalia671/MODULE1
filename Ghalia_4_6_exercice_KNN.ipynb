{
  "nbformat": 4,
  "nbformat_minor": 0,
  "metadata": {
    "colab": {
      "name": "Ghalia - 4.6 exercice KNN.ipynb",
      "provenance": [],
      "collapsed_sections": [],
      "include_colab_link": true
    },
    "kernelspec": {
      "name": "python3",
      "display_name": "Python 3"
    }
  },
  "cells": [
    {
      "cell_type": "markdown",
      "metadata": {
        "id": "view-in-github",
        "colab_type": "text"
      },
      "source": [
        "<a href=\"https://colab.research.google.com/github/Ghalia671/MODULE1/blob/master/Ghalia_4_6_exercice_KNN.ipynb\" target=\"_parent\"><img src=\"https://colab.research.google.com/assets/colab-badge.svg\" alt=\"Open In Colab\"/></a>"
      ]
    },
    {
      "cell_type": "code",
      "metadata": {
        "id": "z98nehs0GDOp",
        "colab_type": "code",
        "colab": {}
      },
      "source": [
        "import numpy as np\n",
        "import pandas as pd\n",
        "from sklearn.datasets import load_breast_cancer\n",
        "\n",
        "cancer = load_breast_cancer()\n",
        "df = pd.DataFrame(data=cancer['data'], columns = cancer[\"feature_names\"])\n",
        "df[\"target\"]=cancer['target']"
      ],
      "execution_count": 1,
      "outputs": []
    },
    {
      "cell_type": "code",
      "metadata": {
        "id": "ZNgH0vytDte4",
        "colab_type": "code",
        "colab": {}
      },
      "source": [
        "X=df.loc[:, df.columns != 'target']\n",
        "y=df[\"target\"]"
      ],
      "execution_count": 3,
      "outputs": []
    },
    {
      "cell_type": "code",
      "metadata": {
        "id": "4hkPXH0DHQs0",
        "colab_type": "code",
        "colab": {}
      },
      "source": [
        "X, y = load_breast_cancer(return_X_y=True)"
      ],
      "execution_count": 4,
      "outputs": []
    },
    {
      "cell_type": "code",
      "metadata": {
        "id": "sJKh5wLqReGM",
        "colab_type": "code",
        "colab": {}
      },
      "source": [
        "from sklearn import model_selection\n",
        "from sklearn.neighbors import KNeighborsClassifier\n",
        "\n",
        "X_train, X_test, y_train, y_test = model_selection.train_test_split(X, y,\n",
        "            test_size=0.4, random_state=0)"
      ],
      "execution_count": 5,
      "outputs": []
    },
    {
      "cell_type": "code",
      "metadata": {
        "id": "H-vzWjgtRnzO",
        "colab_type": "code",
        "colab": {}
      },
      "source": [
        "clf = KNeighborsClassifier(n_neighbors = 5)\n",
        "clf = clf.fit(X_train, y_train)"
      ],
      "execution_count": 6,
      "outputs": []
    },
    {
      "cell_type": "code",
      "metadata": {
        "id": "BH53GMXgRq36",
        "colab_type": "code",
        "colab": {
          "base_uri": "https://localhost:8080/",
          "height": 34
        },
        "outputId": "1ca72b3a-1494-4eec-bd8a-f3bc31d4cabd"
      },
      "source": [
        "clf.score(X_train, y_train)"
      ],
      "execution_count": 7,
      "outputs": [
        {
          "output_type": "execute_result",
          "data": {
            "text/plain": [
              "0.9325513196480938"
            ]
          },
          "metadata": {
            "tags": []
          },
          "execution_count": 7
        }
      ]
    },
    {
      "cell_type": "code",
      "metadata": {
        "id": "4Qv-GA1qRyvM",
        "colab_type": "code",
        "colab": {
          "base_uri": "https://localhost:8080/",
          "height": 34
        },
        "outputId": "714db3a6-07b6-46bd-92f5-72cccbb72183"
      },
      "source": [
        "clf.score(X_test, y_test)"
      ],
      "execution_count": 8,
      "outputs": [
        {
          "output_type": "execute_result",
          "data": {
            "text/plain": [
              "0.9517543859649122"
            ]
          },
          "metadata": {
            "tags": []
          },
          "execution_count": 8
        }
      ]
    },
    {
      "cell_type": "code",
      "metadata": {
        "id": "RddcdSYzR0VW",
        "colab_type": "code",
        "colab": {}
      },
      "source": [
        "\n",
        "rows = []\n",
        "\n",
        "for nnei in range(1,30):\n",
        "    clf = KNeighborsClassifier(n_neighbors = nnei)\n",
        "    clf = clf.fit(X_train, y_train)\n",
        "    rows.append([nnei,clf.score(X_train, y_train), clf.score(X_test, y_test)])\n"
      ],
      "execution_count": 9,
      "outputs": []
    },
    {
      "cell_type": "code",
      "metadata": {
        "id": "S86IDGQ_SIde",
        "colab_type": "code",
        "colab": {
          "base_uri": "https://localhost:8080/",
          "height": 538
        },
        "outputId": "b54e653a-65ec-4aa3-8df6-269ea5c22a8e"
      },
      "source": [
        "res_scores = pd.DataFrame(rows, columns=[\"n_neighbors\",\"train_score\", \"test_score\"])\n",
        "print(res_scores)"
      ],
      "execution_count": 10,
      "outputs": [
        {
          "output_type": "stream",
          "text": [
            "    n_neighbors  train_score  test_score\n",
            "0             1     1.000000    0.929825\n",
            "1             2     0.950147    0.916667\n",
            "2             3     0.947214    0.938596\n",
            "3             4     0.938416    0.942982\n",
            "4             5     0.932551    0.951754\n",
            "5             6     0.926686    0.947368\n",
            "6             7     0.929619    0.956140\n",
            "7             8     0.926686    0.960526\n",
            "8             9     0.917889    0.964912\n",
            "9            10     0.920821    0.964912\n",
            "10           11     0.923754    0.964912\n",
            "11           12     0.923754    0.960526\n",
            "12           13     0.917889    0.964912\n",
            "13           14     0.917889    0.964912\n",
            "14           15     0.917889    0.964912\n",
            "15           16     0.920821    0.960526\n",
            "16           17     0.926686    0.960526\n",
            "17           18     0.920821    0.960526\n",
            "18           19     0.912023    0.960526\n",
            "19           20     0.917889    0.960526\n",
            "20           21     0.909091    0.960526\n",
            "21           22     0.912023    0.960526\n",
            "22           23     0.909091    0.960526\n",
            "23           24     0.909091    0.960526\n",
            "24           25     0.912023    0.960526\n",
            "25           26     0.909091    0.960526\n",
            "26           27     0.900293    0.951754\n",
            "27           28     0.903226    0.956140\n",
            "28           29     0.903226    0.947368\n"
          ],
          "name": "stdout"
        }
      ]
    },
    {
      "cell_type": "code",
      "metadata": {
        "id": "_IztKtB0SLTy",
        "colab_type": "code",
        "colab": {
          "base_uri": "https://localhost:8080/",
          "height": 280
        },
        "outputId": "aee62f4f-2b7c-49e5-8258-5fe088ef9840"
      },
      "source": [
        "import matplotlib.pyplot as plt\n",
        "res_scores.plot(kind=\"line\",x=\"n_neighbors\",y=\"train_score\")\n",
        "plt.plot(res_scores[\"n_neighbors\"],res_scores[\"test_score\"], label = \"test_score\")\n",
        "plt.xlabel('n_neighbors')\n",
        "plt.ylabel('score')\n",
        "plt.legend()\n",
        "plt.show()"
      ],
      "execution_count": 11,
      "outputs": [
        {
          "output_type": "display_data",
          "data": {
            "image/png": "[encoded data removed]",
            "text/plain": [
              "<Figure size 432x288 with 1 Axes>"
            ]
          },
          "metadata": {
            "tags": [],
            "needs_background": "light"
          }
        }
      ]
    },
    {
      "cell_type": "code",
      "metadata": {
        "id": "rTenI3wjSQWK",
        "colab_type": "code",
        "colab": {}
      },
      "source": [
        "from sklearn.preprocessing import StandardScaler\n",
        "from sklearn.preprocessing import MinMaxScaler\n",
        "\n",
        "X_train, X_test, y_train, y_test = model_selection.train_test_split(X, y,\n",
        "            test_size=0.2, random_state=0)\n",
        "\n",
        "scaler = MinMaxScaler()\n",
        "#scaler = StandardScaler()\n",
        "\n",
        "X_train = scaler.fit_transform(X_train)\n",
        "X_test = scaler.transform(X_test)\n"
      ],
      "execution_count": 12,
      "outputs": []
    },
    {
      "cell_type": "code",
      "metadata": {
        "id": "EVi5DKLPS3XM",
        "colab_type": "code",
        "colab": {
          "base_uri": "https://localhost:8080/",
          "height": 801
        },
        "outputId": "e0341fc3-89ad-44e1-b3eb-dea97ba9d618"
      },
      "source": [
        "\n",
        "rows = []\n",
        "\n",
        "for nnei in range(1,30):\n",
        "    clf = KNeighborsClassifier(n_neighbors = nnei)\n",
        "    clf = clf.fit(X_train, y_train)\n",
        "    rows.append([nnei,clf.score(X_train, y_train), clf.score(X_test, y_test)])\n",
        "\n",
        "\n",
        "res_scores = pd.DataFrame(rows, columns=[\"n_neighbors\",\"train_score\", \"test_score\"])\n",
        "print(res_scores)\n",
        "\n",
        "res_scores.plot(kind=\"line\",x=\"n_neighbors\",y=\"train_score\")\n",
        "\n",
        "plt.plot(res_scores[\"n_neighbors\"],res_scores[\"test_score\"], label = \"test_score\")\n",
        "\n",
        "plt.xlabel('n_neighbors')\n",
        "plt.ylabel('score')\n",
        "plt.legend()\n",
        "plt.show()"
      ],
      "execution_count": 13,
      "outputs": [
        {
          "output_type": "stream",
          "text": [
            "    n_neighbors  train_score  test_score\n",
            "0             1     1.000000    0.947368\n",
            "1             2     0.971429    0.938596\n",
            "2             3     0.986813    0.947368\n",
            "3             4     0.980220    0.956140\n",
            "4             5     0.980220    0.956140\n",
            "5             6     0.971429    0.982456\n",
            "6             7     0.980220    0.964912\n",
            "7             8     0.973626    0.973684\n",
            "8             9     0.980220    0.973684\n",
            "9            10     0.980220    0.982456\n",
            "10           11     0.980220    0.973684\n",
            "11           12     0.973626    0.973684\n",
            "12           13     0.978022    0.973684\n",
            "13           14     0.980220    0.973684\n",
            "14           15     0.971429    0.973684\n",
            "15           16     0.971429    0.973684\n",
            "16           17     0.969231    0.973684\n",
            "17           18     0.973626    0.973684\n",
            "18           19     0.969231    0.973684\n",
            "19           20     0.971429    0.964912\n",
            "20           21     0.969231    0.964912\n",
            "21           22     0.971429    0.964912\n",
            "22           23     0.964835    0.964912\n",
            "23           24     0.964835    0.964912\n",
            "24           25     0.964835    0.947368\n",
            "25           26     0.962637    0.956140\n",
            "26           27     0.962637    0.947368\n",
            "27           28     0.964835    0.956140\n",
            "28           29     0.958242    0.947368\n"
          ],
          "name": "stdout"
        },
        {
          "output_type": "display_data",
          "data": {
            "image/png": "[encoded data removed]",
            "text/plain": [
              "<Figure size 432x288 with 1 Axes>"
            ]
          },
          "metadata": {
            "tags": [],
            "needs_background": "light"
          }
        }
      ]
    },
    {
      "cell_type": "markdown",
      "metadata": {
        "id": "UBvIvUdu3Qkj",
        "colab_type": "text"
      },
      "source": [
        "# Exercice"
      ]
    },
    {
      "cell_type": "markdown",
      "metadata": {
        "id": "xFkQPq613xj1",
        "colab_type": "text"
      },
      "source": [
        "**Question** Changer le paramètre `p` et analyser l'impact sur le modèle"
      ]
    },
    {
      "cell_type": "code",
      "metadata": {
        "id": "DVWiI2Sr34wj",
        "colab_type": "code",
        "colab": {
          "base_uri": "https://localhost:8080/",
          "height": 801
        },
        "outputId": "d83e564c-e145-4a49-9348-e35a732937b7"
      },
      "source": [
        "rows = []\n",
        "\n",
        "for nnei in range(1,30):\n",
        "    clf = KNeighborsClassifier(n_neighbors = nnei,p=nnei)\n",
        "    clf = clf.fit(X_train, y_train)\n",
        "    rows.append([nnei,clf.score(X_train, y_train), clf.score(X_test, y_test)])\n",
        "\n",
        "\n",
        "res_scores = pd.DataFrame(rows, columns=[\"n_neighbors\",\"train_score\", \"test_score\"])\n",
        "print(res_scores)\n",
        "\n",
        "res_scores.plot(kind=\"line\",x=\"n_neighbors\",y=\"train_score\")\n",
        "\n",
        "plt.plot(res_scores[\"n_neighbors\"],res_scores[\"test_score\"], label = \"test_score\")\n",
        "\n",
        "plt.xlabel('n_neighbors')\n",
        "plt.ylabel('score')\n",
        "plt.legend()\n",
        "plt.show()\n",
        "#l'impact sur lodèle en changeant le paramètre p est qu'il y a une plus grande divergence entre les datas et les tests"
      ],
      "execution_count": 15,
      "outputs": [
        {
          "output_type": "stream",
          "text": [
            "    n_neighbors  train_score  test_score\n",
            "0             1     1.000000    0.956140\n",
            "1             2     0.971429    0.938596\n",
            "2             3     0.986813    0.947368\n",
            "3             4     0.971429    0.938596\n",
            "4             5     0.973626    0.938596\n",
            "5             6     0.971429    0.947368\n",
            "6             7     0.964835    0.938596\n",
            "7             8     0.960440    0.938596\n",
            "8             9     0.958242    0.938596\n",
            "9            10     0.956044    0.947368\n",
            "10           11     0.956044    0.938596\n",
            "11           12     0.956044    0.938596\n",
            "12           13     0.953846    0.938596\n",
            "13           14     0.951648    0.938596\n",
            "14           15     0.949451    0.938596\n",
            "15           16     0.951648    0.947368\n",
            "16           17     0.949451    0.956140\n",
            "17           18     0.945055    0.956140\n",
            "18           19     0.949451    0.947368\n",
            "19           20     0.949451    0.947368\n",
            "20           21     0.945055    0.947368\n",
            "21           22     0.945055    0.947368\n",
            "22           23     0.945055    0.947368\n",
            "23           24     0.947253    0.947368\n",
            "24           25     0.945055    0.938596\n",
            "25           26     0.945055    0.938596\n",
            "26           27     0.945055    0.938596\n",
            "27           28     0.945055    0.938596\n",
            "28           29     0.942857    0.938596\n"
          ],
          "name": "stdout"
        },
        {
          "output_type": "display_data",
          "data": {
            "image/png": "[encoded data removed]",
            "text/plain": [
              "<Figure size 432x288 with 1 Axes>"
            ]
          },
          "metadata": {
            "tags": [],
            "needs_background": "light"
          }
        }
      ]
    },
    {
      "cell_type": "markdown",
      "metadata": {
        "id": "49rPdjCl3TPr",
        "colab_type": "text"
      },
      "source": [
        "**Question** Créer le même type de courbe en prenant le score F1."
      ]
    },
    {
      "cell_type": "code",
      "metadata": {
        "id": "1f7tCERD37K5",
        "colab_type": "code",
        "colab": {
          "base_uri": "https://localhost:8080/",
          "height": 283
        },
        "outputId": "f7fd6bae-beb4-421b-c214-ee6fd2d53602"
      },
      "source": [
        "import matplotlib.pyplot as plt\n",
        "from sklearn.datasets import make_classification\n",
        "from sklearn.metrics import plot_confusion_matrix\n",
        "from sklearn.svm import SVC\n",
        "\n",
        "clf = SVC(random_state=0)\n",
        "clf.fit(X_train, y_train)\n",
        "SVC(random_state=0)\n",
        "plot_confusion_matrix(clf, X_test, y_test)\n",
        "plt.show()"
      ],
      "execution_count": 19,
      "outputs": [
        {
          "output_type": "display_data",
          "data": {
            "image/png": "[encoded data removed]",
            "text/plain": [
              "<Figure size 432x288 with 2 Axes>"
            ]
          },
          "metadata": {
            "tags": [],
            "needs_background": "light"
          }
        }
      ]
    },
    {
      "cell_type": "code",
      "metadata": {
        "id": "1IiRjeItiS3x",
        "colab_type": "code",
        "colab": {
          "base_uri": "https://localhost:8080/",
          "height": 86
        },
        "outputId": "d679a53f-9123-4d55-abde-af0cebea64d5"
      },
      "source": [
        "accuracy = 1 - ((2+1)/(12+1+2+10))\n",
        "print(\"accuracy : \",round(accuracy * 100,2),\" %\")\n",
        "\n",
        "precision = 10/(10+2)\n",
        "print(\"precision : \",round(precision * 100,2),\" %\")\n",
        "\n",
        "rappel = 10 / (10+2)\n",
        "print(\"rappel : \",round(rappel * 100,2),\" %\")\n",
        "\n",
        "score_F1 = 2 * ((precision * rappel)/(precision + rappel))\n",
        "print(\"score F1 : \",round(score_F1 * 100,2),\" %\")"
      ],
      "execution_count": 21,
      "outputs": [
        {
          "output_type": "stream",
          "text": [
            "accuracy :  88.0  %\n",
            "precision :  83.33  %\n",
            "rappel :  83.33  %\n",
            "score F1 :  83.33  %\n"
          ],
          "name": "stdout"
        }
      ]
    },
    {
      "cell_type": "code",
      "metadata": {
        "id": "YJDxLx9YjMUx",
        "colab_type": "code",
        "colab": {
          "base_uri": "https://localhost:8080/",
          "height": 801
        },
        "outputId": "329dab79-15fd-47dd-ebc0-cf51a5a5019b"
      },
      "source": [
        "rows = []\n",
        "\n",
        "for nnei in range(1,30):\n",
        "    clf = KNeighborsClassifier(n_neighbors = nnei,p=nnei)\n",
        "    clf = clf.fit(X_train, y_train)\n",
        "    rows.append([nnei,clf.score(X_train, y_train), clf.score(X_test, y_test),score_F1])\n",
        "\n",
        "\n",
        "res_scores = pd.DataFrame(rows, columns=[\"n_neighbors\",\"train_score\", \"test_score\",\"score_F1\"])\n",
        "print(res_scores)\n",
        "\n",
        "res_scores.plot(kind=\"line\",x=\"n_neighbors\",y=\"train_score\")\n",
        "plt.plot(res_scores[\"n_neighbors\"],res_scores[\"test_score\"], label = \"test_score\")\n",
        "plt.plot(res_scores[\"n_neighbors\"],res_scores[\"score_F1\"], label = \"score_F1\")\n",
        "plt.xlabel('n_neighbors')\n",
        "plt.ylabel('score')\n",
        "plt.legend()\n",
        "plt.show()"
      ],
      "execution_count": 25,
      "outputs": [
        {
          "output_type": "stream",
          "text": [
            "    n_neighbors  train_score  test_score  score_F1\n",
            "0             1     1.000000        0.76  0.833333\n",
            "1             2     0.906667        0.68  0.833333\n",
            "2             3     0.933333        0.72  0.833333\n",
            "3             4     0.893333        0.68  0.833333\n",
            "4             5     0.880000        0.64  0.833333\n",
            "5             6     0.866667        0.64  0.833333\n",
            "6             7     0.880000        0.60  0.833333\n",
            "7             8     0.840000        0.64  0.833333\n",
            "8             9     0.920000        0.64  0.833333\n",
            "9            10     0.840000        0.68  0.833333\n",
            "10           11     0.826667        0.72  0.833333\n",
            "11           12     0.813333        0.68  0.833333\n",
            "12           13     0.826667        0.68  0.833333\n",
            "13           14     0.786667        0.72  0.833333\n",
            "14           15     0.826667        0.80  0.833333\n",
            "15           16     0.800000        0.72  0.833333\n",
            "16           17     0.786667        0.72  0.833333\n",
            "17           18     0.773333        0.72  0.833333\n",
            "18           19     0.786667        0.72  0.833333\n",
            "19           20     0.800000        0.76  0.833333\n",
            "20           21     0.813333        0.80  0.833333\n",
            "21           22     0.800000        0.80  0.833333\n",
            "22           23     0.786667        0.76  0.833333\n",
            "23           24     0.800000        0.76  0.833333\n",
            "24           25     0.800000        0.80  0.833333\n",
            "25           26     0.800000        0.84  0.833333\n",
            "26           27     0.800000        0.88  0.833333\n",
            "27           28     0.786667        0.84  0.833333\n",
            "28           29     0.840000        0.88  0.833333\n"
          ],
          "name": "stdout"
        },
        {
          "output_type": "display_data",
          "data": {
            "image/png": "[encoded data removed]",
            "text/plain": [
              "<Figure size 432x288 with 1 Axes>"
            ]
          },
          "metadata": {
            "tags": [],
            "needs_background": "light"
          }
        }
      ]
    }
  ]
}