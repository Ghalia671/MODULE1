{
  "nbformat": 4,
  "nbformat_minor": 0,
  "metadata": {
    "colab": {
      "name": "Ghalia - 2.0 validation croisée.ipynb",
      "provenance": [],
      "collapsed_sections": [],
      "include_colab_link": true
    },
    "kernelspec": {
      "name": "python3",
      "display_name": "Python 3"
    }
  },
  "cells": [
    {
      "cell_type": "markdown",
      "metadata": {
        "id": "view-in-github",
        "colab_type": "text"
      },
      "source": [
        "<a href=\"https://colab.research.google.com/github/Ghalia671/MODULE1/blob/master/Ghalia_2_0_validation_crois%C3%A9e.ipynb\" target=\"_parent\"><img src=\"https://colab.research.google.com/assets/colab-badge.svg\" alt=\"Open In Colab\"/></a>"
      ]
    },
    {
      "cell_type": "markdown",
      "metadata": {
        "id": "wrdoZInI26k8"
      },
      "source": [
        "# Revue de la problématique de sur apprentissage"
      ]
    },
    {
      "cell_type": "code",
      "metadata": {
        "id": "7uA_MINU-sMR"
      },
      "source": [
        "import pandas as pd\n",
        "import numpy as np"
      ],
      "execution_count": 1,
      "outputs": []
    },
    {
      "cell_type": "markdown",
      "metadata": {
        "id": "pmsq1n3lMY_W"
      },
      "source": [
        "## Données"
      ]
    },
    {
      "cell_type": "code",
      "metadata": {
        "deletable": true,
        "editable": true,
        "id": "bG1JlB8JBTrg"
      },
      "source": [
        "from sklearn.datasets import load_iris\n",
        "\n",
        "iris = load_iris()\n",
        "X = iris.data\n",
        "y = iris.target\n"
      ],
      "execution_count": 2,
      "outputs": []
    },
    {
      "cell_type": "code",
      "metadata": {
        "id": "vplYLGWNfsbT"
      },
      "source": [
        "from sklearn.datasets import load_breast_cancer\n",
        "cancer=load_breast_cancer()\n",
        "\n",
        "X = cancer.data\n",
        "y = cancer.target"
      ],
      "execution_count": 3,
      "outputs": []
    },
    {
      "cell_type": "markdown",
      "metadata": {
        "id": "NqZuhb9-MaIq"
      },
      "source": [
        "## Algorithmes"
      ]
    },
    {
      "cell_type": "code",
      "metadata": {
        "deletable": true,
        "editable": true,
        "id": "8x0461EMBTrk"
      },
      "source": [
        "from sklearn.neighbors import KNeighborsClassifier\n",
        "model = KNeighborsClassifier(n_neighbors=1)"
      ],
      "execution_count": 4,
      "outputs": []
    },
    {
      "cell_type": "markdown",
      "metadata": {
        "id": "zCfjFUVsMh0i"
      },
      "source": [
        "**Question** créer d'autres modèles et choisissez les hyperparamètres pour avoir le sur-apprentissage"
      ]
    },
    {
      "cell_type": "code",
      "metadata": {
        "id": "DOdv3VhqMxUC",
        "outputId": "2baa67f6-3ea9-486f-8801-b600efa04452",
        "colab": {
          "base_uri": "https://localhost:8080/",
          "height": 469
        }
      },
      "source": [
        "from sklearn.svm import SVC\n",
        "svm_lin = SVC(kernel = 'linear', random_state = 0,probability=True,C=0.3)\n",
        "\n",
        "svm_lin.fit(X,y)\n",
        "pred_svm = svm_lin.predict(X)\n",
        "pred_svm"
      ],
      "execution_count": 7,
      "outputs": [
        {
          "output_type": "execute_result",
          "data": {
            "text/plain": [
              "array([0, 0, 0, 0, 0, 0, 0, 0, 0, 0, 0, 0, 0, 1, 0, 0, 0, 0, 0, 1, 1, 1,\n",
              "       0, 0, 0, 0, 0, 0, 0, 0, 0, 0, 0, 0, 0, 0, 0, 1, 1, 0, 0, 1, 0, 0,\n",
              "       0, 0, 1, 0, 1, 1, 1, 1, 1, 0, 0, 1, 0, 0, 1, 1, 1, 1, 0, 1, 0, 0,\n",
              "       1, 1, 1, 1, 0, 1, 0, 1, 1, 0, 1, 0, 0, 1, 1, 1, 0, 0, 1, 0, 1, 0,\n",
              "       1, 1, 1, 1, 1, 1, 0, 0, 1, 1, 1, 0, 0, 1, 1, 1, 1, 0, 1, 1, 0, 1,\n",
              "       1, 1, 1, 1, 1, 1, 1, 0, 0, 0, 1, 0, 0, 1, 1, 1, 0, 0, 1, 0, 1, 0,\n",
              "       0, 1, 0, 1, 1, 1, 0, 1, 1, 0, 1, 1, 1, 1, 1, 1, 1, 1, 1, 1, 1, 1,\n",
              "       1, 1, 0, 1, 1, 1, 1, 0, 0, 1, 0, 1, 1, 0, 0, 1, 1, 0, 0, 1, 1, 1,\n",
              "       1, 0, 1, 1, 0, 0, 0, 1, 0, 1, 0, 1, 1, 1, 0, 1, 1, 0, 0, 1, 0, 0,\n",
              "       0, 0, 1, 0, 0, 0, 1, 0, 1, 0, 1, 1, 0, 1, 0, 1, 0, 0, 1, 1, 0, 0,\n",
              "       1, 1, 1, 0, 1, 1, 1, 1, 1, 0, 0, 1, 1, 0, 1, 1, 0, 0, 0, 0, 1, 1,\n",
              "       1, 1, 0, 1, 1, 1, 1, 1, 0, 1, 0, 0, 0, 1, 0, 0, 0, 0, 0, 0, 0, 0,\n",
              "       0, 0, 1, 1, 1, 1, 1, 1, 0, 1, 0, 1, 1, 1, 1, 1, 0, 1, 0, 0, 1, 1,\n",
              "       1, 1, 1, 1, 1, 1, 1, 1, 1, 1, 1, 1, 1, 1, 0, 1, 0, 1, 1, 1, 1, 1,\n",
              "       1, 1, 1, 1, 1, 1, 1, 1, 1, 0, 1, 1, 1, 0, 1, 0, 1, 1, 1, 1, 0, 0,\n",
              "       0, 1, 1, 1, 1, 0, 1, 0, 1, 0, 1, 1, 1, 0, 1, 1, 1, 1, 1, 1, 1, 0,\n",
              "       0, 0, 1, 1, 1, 1, 1, 1, 1, 1, 1, 1, 1, 0, 0, 1, 0, 0, 0, 1, 0, 0,\n",
              "       1, 1, 1, 1, 1, 0, 1, 1, 1, 1, 1, 1, 1, 1, 1, 0, 1, 1, 0, 0, 1, 1,\n",
              "       1, 1, 1, 1, 0, 1, 1, 1, 1, 1, 1, 1, 0, 1, 1, 1, 1, 0, 0, 1, 1, 0,\n",
              "       1, 1, 1, 1, 1, 1, 1, 1, 1, 1, 1, 1, 0, 1, 0, 0, 1, 0, 1, 1, 1, 1,\n",
              "       1, 0, 1, 1, 0, 1, 0, 1, 1, 0, 1, 0, 1, 1, 1, 0, 1, 1, 1, 1, 0, 0,\n",
              "       1, 1, 1, 0, 1, 1, 0, 1, 1, 1, 1, 1, 1, 1, 0, 1, 1, 0, 1, 1, 1, 1,\n",
              "       1, 1, 1, 0, 1, 0, 1, 1, 0, 1, 1, 1, 1, 1, 0, 0, 1, 0, 1, 0, 1, 1,\n",
              "       1, 1, 1, 0, 1, 1, 0, 1, 0, 1, 0, 0, 1, 1, 1, 0, 1, 1, 1, 1, 1, 1,\n",
              "       1, 1, 1, 1, 1, 0, 1, 0, 1, 1, 1, 1, 1, 0, 1, 1, 1, 1, 1, 1, 1, 1,\n",
              "       1, 1, 1, 1, 1, 1, 1, 1, 1, 1, 1, 1, 0, 0, 0, 0, 0, 0, 1])"
            ]
          },
          "metadata": {
            "tags": []
          },
          "execution_count": 7
        }
      ]
    },
    {
      "cell_type": "markdown",
      "metadata": {
        "id": "egGloQX4MccS"
      },
      "source": [
        "## Apprentissage des modèles"
      ]
    },
    {
      "cell_type": "code",
      "metadata": {
        "deletable": true,
        "editable": true,
        "id": "v6-IXWtJBTro"
      },
      "source": [
        "model.fit(X, y)\n",
        "pred = model.predict(X)"
      ],
      "execution_count": 5,
      "outputs": []
    },
    {
      "cell_type": "markdown",
      "metadata": {
        "id": "vo2wPmCEMfi8"
      },
      "source": [
        "## Performance"
      ]
    },
    {
      "cell_type": "code",
      "metadata": {
        "deletable": true,
        "editable": true,
        "id": "m732vpVRBTrq",
        "outputId": "0e2c33b7-9baa-4609-fe16-7f20612ef8ba",
        "colab": {
          "base_uri": "https://localhost:8080/",
          "height": 34
        }
      },
      "source": [
        "from sklearn.metrics import accuracy_score\n",
        "accuracy_score(y, pred)"
      ],
      "execution_count": 8,
      "outputs": [
        {
          "output_type": "execute_result",
          "data": {
            "text/plain": [
              "1.0"
            ]
          },
          "metadata": {
            "tags": []
          },
          "execution_count": 8
        }
      ]
    },
    {
      "cell_type": "markdown",
      "metadata": {
        "id": "a53FGROGhMyl"
      },
      "source": [
        "# Split apprentissage/test"
      ]
    },
    {
      "cell_type": "markdown",
      "metadata": {
        "id": "V4wowKjPM1Ts"
      },
      "source": [
        "## Split avec fonction"
      ]
    },
    {
      "cell_type": "code",
      "metadata": {
        "deletable": true,
        "editable": true,
        "id": "AJASQUUYBTru"
      },
      "source": [
        "from sklearn.model_selection import train_test_split\n",
        "\n",
        "X_train, X_test, y_train, y_test = train_test_split(X, y, random_state=0,\n",
        "                                  train_size=0.3)\n"
      ],
      "execution_count": 9,
      "outputs": []
    },
    {
      "cell_type": "markdown",
      "metadata": {
        "id": "P-OKsM4EM3wp"
      },
      "source": [
        "## Split à la main"
      ]
    },
    {
      "cell_type": "markdown",
      "metadata": {
        "id": "kzMQjoaYNTGw"
      },
      "source": [
        "**Question** Pour vérifier la compréhension du split, implémenter une fonction à la main, avec `random.permutation` de `numpy`. "
      ]
    },
    {
      "cell_type": "code",
      "metadata": {
        "id": "aEJRvxm0NNJ-",
        "outputId": "33dd7e6d-20d2-4ccb-b1c4-0e33d4a0a69e",
        "colab": {
          "base_uri": "https://localhost:8080/",
          "height": 52
        }
      },
      "source": [
        "matrix = np.random.permutation(10)\n",
        "train_DB = np.random.choice(range(matrix.shape[0]), size=(8,), replace=False)    \n",
        "test_DB = np.random.choice(range(matrix.shape[0]), size=(2,), replace=False)    \n",
        "print(train_DB)\n",
        "print(test_DB)\n"
      ],
      "execution_count": 27,
      "outputs": [
        {
          "output_type": "stream",
          "text": [
            "[3 7 1 8 9 2 6 0]\n",
            "[6 7]\n"
          ],
          "name": "stdout"
        }
      ]
    },
    {
      "cell_type": "markdown",
      "metadata": {
        "id": "D6sdV_osNNp2"
      },
      "source": [
        "## Performance du test"
      ]
    },
    {
      "cell_type": "code",
      "metadata": {
        "id": "vbrJGC7FNPmQ",
        "outputId": "1ee95c2b-ed98-445c-8b25-93a13b5edb19",
        "colab": {
          "base_uri": "https://localhost:8080/",
          "height": 34
        }
      },
      "source": [
        "model.fit(X_train, y_train)\n",
        "\n",
        "pred_test = model.predict(X_test)\n",
        "\n",
        "accuracy_score(y_test, pred_test)"
      ],
      "execution_count": 28,
      "outputs": [
        {
          "output_type": "execute_result",
          "data": {
            "text/plain": [
              "0.9147869674185464"
            ]
          },
          "metadata": {
            "tags": []
          },
          "execution_count": 28
        }
      ]
    },
    {
      "cell_type": "markdown",
      "metadata": {
        "id": "XSn6-aL9gzU2"
      },
      "source": [
        "# Validation croisée"
      ]
    },
    {
      "cell_type": "markdown",
      "metadata": {
        "id": "eA21m9Tc2OBf"
      },
      "source": [
        "## Exemple simple"
      ]
    },
    {
      "cell_type": "code",
      "metadata": {
        "id": "YH3hFN9SntmE",
        "outputId": "b5a3ccfe-770e-42e6-be90-45a40645c72c",
        "colab": {
          "base_uri": "https://localhost:8080/",
          "height": 69
        }
      },
      "source": [
        "import numpy as np\n",
        "\n",
        "from sklearn.model_selection import KFold\n",
        "\n",
        "data = np.arange(1,10,1)\n",
        "\n",
        "kfold = KFold(3, shuffle=True, random_state=1)\n",
        "\n",
        "for train, test in kfold.split(data):\n",
        "\tprint('train: %s, test: %s' % (data[train], data[test]))"
      ],
      "execution_count": 29,
      "outputs": [
        {
          "output_type": "stream",
          "text": [
            "train: [1 2 4 5 6 8], test: [3 7 9]\n",
            "train: [3 4 5 6 7 9], test: [1 2 8]\n",
            "train: [1 2 3 7 8 9], test: [4 5 6]\n"
          ],
          "name": "stdout"
        }
      ]
    },
    {
      "cell_type": "code",
      "metadata": {
        "id": "VRFf9h5y_lux",
        "outputId": "712b6f16-46e6-46bb-d69b-6ca4f6a815f2",
        "colab": {
          "base_uri": "https://localhost:8080/",
          "height": 69
        }
      },
      "source": [
        "kfold = KFold(3, shuffle=False)\n",
        "\n",
        "for train, test in kfold.split(data):\n",
        "\tprint('train: %s, test: %s' % (data[train], data[test]))"
      ],
      "execution_count": 30,
      "outputs": [
        {
          "output_type": "stream",
          "text": [
            "train: [4 5 6 7 8 9], test: [1 2 3]\n",
            "train: [1 2 3 7 8 9], test: [4 5 6]\n",
            "train: [1 2 3 4 5 6], test: [7 8 9]\n"
          ],
          "name": "stdout"
        }
      ]
    },
    {
      "cell_type": "markdown",
      "metadata": {
        "id": "80p3oWI78oWA"
      },
      "source": [
        "## Application à un modèle"
      ]
    },
    {
      "cell_type": "code",
      "metadata": {
        "deletable": true,
        "editable": true,
        "id": "RYYW1h_7BTr1",
        "outputId": "d30fdc95-b0d9-4bca-c3cb-e15749a78967",
        "colab": {
          "base_uri": "https://localhost:8080/",
          "height": 34
        }
      },
      "source": [
        "from sklearn.model_selection import cross_val_score\n",
        "\n",
        "scores=cross_val_score(model, X, y, cv=5)\n",
        "\n",
        "scores"
      ],
      "execution_count": 31,
      "outputs": [
        {
          "output_type": "execute_result",
          "data": {
            "text/plain": [
              "array([0.85964912, 0.92982456, 0.9122807 , 0.9122807 , 0.91150442])"
            ]
          },
          "metadata": {
            "tags": []
          },
          "execution_count": 31
        }
      ]
    },
    {
      "cell_type": "code",
      "metadata": {
        "id": "iJb8U7TP6XWo",
        "outputId": "20a0bdad-e298-48f3-b371-0f84962c6139",
        "colab": {
          "base_uri": "https://localhost:8080/",
          "height": 34
        }
      },
      "source": [
        "model = KNeighborsClassifier(n_neighbors=2)\n",
        "cross_val_score(model, X, y, cv=5)\n"
      ],
      "execution_count": 32,
      "outputs": [
        {
          "output_type": "execute_result",
          "data": {
            "text/plain": [
              "array([0.89473684, 0.9122807 , 0.92982456, 0.89473684, 0.89380531])"
            ]
          },
          "metadata": {
            "tags": []
          },
          "execution_count": 32
        }
      ]
    },
    {
      "cell_type": "code",
      "metadata": {
        "id": "GClSyT7s86G8",
        "outputId": "952f31b0-d04a-4b2d-fa2c-0c086941825b",
        "colab": {
          "base_uri": "https://localhost:8080/",
          "height": 34
        }
      },
      "source": [
        "scores.mean()"
      ],
      "execution_count": 33,
      "outputs": [
        {
          "output_type": "execute_result",
          "data": {
            "text/plain": [
              "0.9051079024996118"
            ]
          },
          "metadata": {
            "tags": []
          },
          "execution_count": 33
        }
      ]
    },
    {
      "cell_type": "markdown",
      "metadata": {
        "id": "vkOzsLkC8d96"
      },
      "source": [
        "## Plus d'informations"
      ]
    },
    {
      "cell_type": "code",
      "metadata": {
        "id": "VF5Mh-T2pPjV",
        "outputId": "d2176259-1104-4fba-a6b2-8970220817ad",
        "colab": {
          "base_uri": "https://localhost:8080/",
          "height": 86
        }
      },
      "source": [
        "from sklearn.model_selection import cross_validate\n",
        "\n",
        "res = cross_validate(model, X, y, cv=5,\n",
        "                     return_train_score=True)\n",
        "res"
      ],
      "execution_count": 34,
      "outputs": [
        {
          "output_type": "execute_result",
          "data": {
            "text/plain": [
              "{'fit_time': array([0.0016818 , 0.00109291, 0.00111747, 0.00106978, 0.00107646]),\n",
              " 'score_time': array([0.00630498, 0.00417805, 0.00427747, 0.00417161, 0.00408816]),\n",
              " 'test_score': array([0.89473684, 0.9122807 , 0.92982456, 0.89473684, 0.89380531]),\n",
              " 'train_score': array([0.96703297, 0.97142857, 0.96703297, 0.96703297, 0.97149123])}"
            ]
          },
          "metadata": {
            "tags": []
          },
          "execution_count": 34
        }
      ]
    },
    {
      "cell_type": "code",
      "metadata": {
        "id": "bN9yW65SpPjZ",
        "outputId": "b29086a5-1fc9-402a-e66e-8c2aebf4a195",
        "colab": {
          "base_uri": "https://localhost:8080/",
          "height": 310
        }
      },
      "source": [
        "res_df = pd.DataFrame(res)\n",
        "display(res_df)\n",
        "print(\"Mean times and scores:\\n\", res_df.mean())"
      ],
      "execution_count": 35,
      "outputs": [
        {
          "output_type": "display_data",
          "data": {
            "text/html": [
              "<div>\n",
              "<style scoped>\n",
              "    .dataframe tbody tr th:only-of-type {\n",
              "        vertical-align: middle;\n",
              "    }\n",
              "\n",
              "    .dataframe tbody tr th {\n",
              "        vertical-align: top;\n",
              "    }\n",
              "\n",
              "    .dataframe thead th {\n",
              "        text-align: right;\n",
              "    }\n",
              "</style>\n",
              "<table border=\"1\" class=\"dataframe\">\n",
              "  <thead>\n",
              "    <tr style=\"text-align: right;\">\n",
              "      <th></th>\n",
              "      <th>fit_time</th>\n",
              "      <th>score_time</th>\n",
              "      <th>test_score</th>\n",
              "      <th>train_score</th>\n",
              "    </tr>\n",
              "  </thead>\n",
              "  <tbody>\n",
              "    <tr>\n",
              "      <th>0</th>\n",
              "      <td>0.001682</td>\n",
              "      <td>0.006305</td>\n",
              "      <td>0.894737</td>\n",
              "      <td>0.967033</td>\n",
              "    </tr>\n",
              "    <tr>\n",
              "      <th>1</th>\n",
              "      <td>0.001093</td>\n",
              "      <td>0.004178</td>\n",
              "      <td>0.912281</td>\n",
              "      <td>0.971429</td>\n",
              "    </tr>\n",
              "    <tr>\n",
              "      <th>2</th>\n",
              "      <td>0.001117</td>\n",
              "      <td>0.004277</td>\n",
              "      <td>0.929825</td>\n",
              "      <td>0.967033</td>\n",
              "    </tr>\n",
              "    <tr>\n",
              "      <th>3</th>\n",
              "      <td>0.001070</td>\n",
              "      <td>0.004172</td>\n",
              "      <td>0.894737</td>\n",
              "      <td>0.967033</td>\n",
              "    </tr>\n",
              "    <tr>\n",
              "      <th>4</th>\n",
              "      <td>0.001076</td>\n",
              "      <td>0.004088</td>\n",
              "      <td>0.893805</td>\n",
              "      <td>0.971491</td>\n",
              "    </tr>\n",
              "  </tbody>\n",
              "</table>\n",
              "</div>"
            ],
            "text/plain": [
              "   fit_time  score_time  test_score  train_score\n",
              "0  0.001682    0.006305    0.894737     0.967033\n",
              "1  0.001093    0.004178    0.912281     0.971429\n",
              "2  0.001117    0.004277    0.929825     0.967033\n",
              "3  0.001070    0.004172    0.894737     0.967033\n",
              "4  0.001076    0.004088    0.893805     0.971491"
            ]
          },
          "metadata": {
            "tags": []
          }
        },
        {
          "output_type": "stream",
          "text": [
            "Mean times and scores:\n",
            " fit_time       0.001208\n",
            "score_time     0.004604\n",
            "test_score     0.905077\n",
            "train_score    0.968804\n",
            "dtype: float64\n"
          ],
          "name": "stdout"
        }
      ]
    },
    {
      "cell_type": "markdown",
      "metadata": {
        "id": "utHceJdWFF4J"
      },
      "source": [
        "## `Suffle` de la fonction k fold"
      ]
    },
    {
      "cell_type": "code",
      "metadata": {
        "id": "fx03sXerpPji"
      },
      "source": [
        "from sklearn.model_selection import KFold\n",
        "kfold = KFold(n_splits=5)"
      ],
      "execution_count": 36,
      "outputs": []
    },
    {
      "cell_type": "code",
      "metadata": {
        "id": "YlEDZICNpPjl",
        "outputId": "b8658b96-3c0a-408d-8980-d713d844a495",
        "colab": {
          "base_uri": "https://localhost:8080/",
          "height": 34
        }
      },
      "source": [
        "cross_val_score(model, iris.data, iris.target, cv=kfold)"
      ],
      "execution_count": 37,
      "outputs": [
        {
          "output_type": "execute_result",
          "data": {
            "text/plain": [
              "array([1.        , 1.        , 0.9       , 0.9       , 0.73333333])"
            ]
          },
          "metadata": {
            "tags": []
          },
          "execution_count": 37
        }
      ]
    },
    {
      "cell_type": "code",
      "metadata": {
        "id": "ij3NZ1a3pPjn",
        "outputId": "5e858e1b-54c4-456b-9f53-7339b7a89258",
        "colab": {
          "base_uri": "https://localhost:8080/",
          "height": 34
        }
      },
      "source": [
        "kfold = KFold(n_splits=3)\n",
        "cross_val_score(model, iris.data, iris.target, cv=kfold)"
      ],
      "execution_count": 38,
      "outputs": [
        {
          "output_type": "execute_result",
          "data": {
            "text/plain": [
              "array([0., 0., 0.])"
            ]
          },
          "metadata": {
            "tags": []
          },
          "execution_count": 38
        }
      ]
    },
    {
      "cell_type": "code",
      "metadata": {
        "id": "FZ2zSqc_pPjq",
        "outputId": "0a8bcf7d-7e66-44f6-91dc-e4b1e9a5676b",
        "colab": {
          "base_uri": "https://localhost:8080/",
          "height": 34
        }
      },
      "source": [
        "kfold = KFold(n_splits=3, shuffle=True, random_state=0)\n",
        "\n",
        "cross_val_score(model, iris.data, iris.target, cv=kfold)"
      ],
      "execution_count": 39,
      "outputs": [
        {
          "output_type": "execute_result",
          "data": {
            "text/plain": [
              "array([0.96, 0.92, 0.96])"
            ]
          },
          "metadata": {
            "tags": []
          },
          "execution_count": 39
        }
      ]
    },
    {
      "cell_type": "markdown",
      "metadata": {
        "id": "TWHR2aqVpPjc"
      },
      "source": [
        "# Validation croisée Stratifiée"
      ]
    },
    {
      "cell_type": "markdown",
      "metadata": {
        "id": "jaXOj7p1cPA0"
      },
      "source": [
        "## Principe"
      ]
    },
    {
      "cell_type": "code",
      "metadata": {
        "deletable": true,
        "editable": true,
        "id": "RRCsKyFqGv2T"
      },
      "source": [
        "from sklearn.datasets import load_iris\n",
        "\n",
        "iris = load_iris()\n",
        "X = iris.data\n",
        "y = iris.target\n"
      ],
      "execution_count": 40,
      "outputs": []
    },
    {
      "cell_type": "code",
      "metadata": {
        "id": "epHZNk2tfBOv"
      },
      "source": [
        "import numpy as np\n",
        "from sklearn.model_selection import StratifiedKFold\n",
        "\n",
        "skf = StratifiedKFold(n_splits=5)\n"
      ],
      "execution_count": 41,
      "outputs": []
    },
    {
      "cell_type": "code",
      "metadata": {
        "id": "X5SG9S6TG1LQ",
        "outputId": "c0cfdeff-d010-4e7b-e66f-cd45e479bd57",
        "colab": {
          "base_uri": "https://localhost:8080/",
          "height": 712
        }
      },
      "source": [
        "for train_index, test_index in skf.split(X, y):\n",
        "    print(\"TRAIN:\", train_index, \"TEST:\", test_index)\n",
        "    X_train, X_test = X[train_index], X[test_index]\n",
        "    y_train, y_test = y[train_index], y[test_index]"
      ],
      "execution_count": 42,
      "outputs": [
        {
          "output_type": "stream",
          "text": [
            "TRAIN: [ 10  11  12  13  14  15  16  17  18  19  20  21  22  23  24  25  26  27\n",
            "  28  29  30  31  32  33  34  35  36  37  38  39  40  41  42  43  44  45\n",
            "  46  47  48  49  60  61  62  63  64  65  66  67  68  69  70  71  72  73\n",
            "  74  75  76  77  78  79  80  81  82  83  84  85  86  87  88  89  90  91\n",
            "  92  93  94  95  96  97  98  99 110 111 112 113 114 115 116 117 118 119\n",
            " 120 121 122 123 124 125 126 127 128 129 130 131 132 133 134 135 136 137\n",
            " 138 139 140 141 142 143 144 145 146 147 148 149] TEST: [  0   1   2   3   4   5   6   7   8   9  50  51  52  53  54  55  56  57\n",
            "  58  59 100 101 102 103 104 105 106 107 108 109]\n",
            "TRAIN: [  0   1   2   3   4   5   6   7   8   9  20  21  22  23  24  25  26  27\n",
            "  28  29  30  31  32  33  34  35  36  37  38  39  40  41  42  43  44  45\n",
            "  46  47  48  49  50  51  52  53  54  55  56  57  58  59  70  71  72  73\n",
            "  74  75  76  77  78  79  80  81  82  83  84  85  86  87  88  89  90  91\n",
            "  92  93  94  95  96  97  98  99 100 101 102 103 104 105 106 107 108 109\n",
            " 120 121 122 123 124 125 126 127 128 129 130 131 132 133 134 135 136 137\n",
            " 138 139 140 141 142 143 144 145 146 147 148 149] TEST: [ 10  11  12  13  14  15  16  17  18  19  60  61  62  63  64  65  66  67\n",
            "  68  69 110 111 112 113 114 115 116 117 118 119]\n",
            "TRAIN: [  0   1   2   3   4   5   6   7   8   9  10  11  12  13  14  15  16  17\n",
            "  18  19  30  31  32  33  34  35  36  37  38  39  40  41  42  43  44  45\n",
            "  46  47  48  49  50  51  52  53  54  55  56  57  58  59  60  61  62  63\n",
            "  64  65  66  67  68  69  80  81  82  83  84  85  86  87  88  89  90  91\n",
            "  92  93  94  95  96  97  98  99 100 101 102 103 104 105 106 107 108 109\n",
            " 110 111 112 113 114 115 116 117 118 119 130 131 132 133 134 135 136 137\n",
            " 138 139 140 141 142 143 144 145 146 147 148 149] TEST: [ 20  21  22  23  24  25  26  27  28  29  70  71  72  73  74  75  76  77\n",
            "  78  79 120 121 122 123 124 125 126 127 128 129]\n",
            "TRAIN: [  0   1   2   3   4   5   6   7   8   9  10  11  12  13  14  15  16  17\n",
            "  18  19  20  21  22  23  24  25  26  27  28  29  40  41  42  43  44  45\n",
            "  46  47  48  49  50  51  52  53  54  55  56  57  58  59  60  61  62  63\n",
            "  64  65  66  67  68  69  70  71  72  73  74  75  76  77  78  79  90  91\n",
            "  92  93  94  95  96  97  98  99 100 101 102 103 104 105 106 107 108 109\n",
            " 110 111 112 113 114 115 116 117 118 119 120 121 122 123 124 125 126 127\n",
            " 128 129 140 141 142 143 144 145 146 147 148 149] TEST: [ 30  31  32  33  34  35  36  37  38  39  80  81  82  83  84  85  86  87\n",
            "  88  89 130 131 132 133 134 135 136 137 138 139]\n",
            "TRAIN: [  0   1   2   3   4   5   6   7   8   9  10  11  12  13  14  15  16  17\n",
            "  18  19  20  21  22  23  24  25  26  27  28  29  30  31  32  33  34  35\n",
            "  36  37  38  39  50  51  52  53  54  55  56  57  58  59  60  61  62  63\n",
            "  64  65  66  67  68  69  70  71  72  73  74  75  76  77  78  79  80  81\n",
            "  82  83  84  85  86  87  88  89 100 101 102 103 104 105 106 107 108 109\n",
            " 110 111 112 113 114 115 116 117 118 119 120 121 122 123 124 125 126 127\n",
            " 128 129 130 131 132 133 134 135 136 137 138 139] TEST: [ 40  41  42  43  44  45  46  47  48  49  90  91  92  93  94  95  96  97\n",
            "  98  99 140 141 142 143 144 145 146 147 148 149]\n"
          ],
          "name": "stdout"
        }
      ]
    },
    {
      "cell_type": "markdown",
      "metadata": {
        "id": "Y10TW6nEcMjK"
      },
      "source": [
        "## Application"
      ]
    },
    {
      "cell_type": "markdown",
      "metadata": {
        "id": "rmwFlYQ-cQxg"
      },
      "source": [
        "**Question** implémenter la validation croisée avec `StratifiedKFold`, en utilisant les données `iris`."
      ]
    },
    {
      "cell_type": "code",
      "metadata": {
        "id": "EDlwjzQZdCvK",
        "outputId": "6061d54c-c4c1-4980-cb04-dd71ef007934",
        "colab": {
          "base_uri": "https://localhost:8080/",
          "height": 34
        }
      },
      "source": [
        "cross_val_score(model, iris.data, iris.target, cv=skf)"
      ],
      "execution_count": 44,
      "outputs": [
        {
          "output_type": "execute_result",
          "data": {
            "text/plain": [
              "array([0.96666667, 0.93333333, 0.93333333, 0.9       , 1.        ])"
            ]
          },
          "metadata": {
            "tags": []
          },
          "execution_count": 44
        }
      ]
    },
    {
      "cell_type": "markdown",
      "metadata": {
        "id": "3HtLEGn7pPjt"
      },
      "source": [
        "# Validation croisée Leave-one-out"
      ]
    },
    {
      "cell_type": "markdown",
      "metadata": {
        "id": "rqz_XhRuFU97"
      },
      "source": [
        "LOOCV: Leave-one-out cross-validation"
      ]
    },
    {
      "cell_type": "markdown",
      "metadata": {
        "id": "QSbR3mSjdm_C"
      },
      "source": [
        "Equivalent à `KFold(n_splits=n)` où `n` est le nombre d'observations."
      ]
    },
    {
      "cell_type": "markdown",
      "metadata": {
        "id": "NSsZvWy-2U6-"
      },
      "source": [
        "## Leave One Out"
      ]
    },
    {
      "cell_type": "code",
      "metadata": {
        "id": "7oChjqPBncWZ",
        "outputId": "cb26a119-76d5-49e1-c81a-fac4df2ccbc7",
        "colab": {
          "base_uri": "https://localhost:8080/",
          "height": 69
        }
      },
      "source": [
        "import numpy as np\n",
        "from sklearn.model_selection import LeaveOneOut\n",
        "\n",
        "X = np.array([[1, 2,3], [4,5,6],[7,8,9]])\n",
        "y = np.array([1,2,2])\n",
        "\n",
        "loo = LeaveOneOut()\n",
        "loo.get_n_splits(X)\n",
        "\n",
        "for train_index, test_index in loo.split(X):\n",
        "    print(\"TRAIN:\", train_index, \"TEST:\", test_index)\n",
        "    X_train, X_test = X[train_index], X[test_index]\n",
        "    y_train, y_test = y[train_index], y[test_index]\n",
        "    #print(X_train, X_test, y_train, y_test)"
      ],
      "execution_count": 45,
      "outputs": [
        {
          "output_type": "stream",
          "text": [
            "TRAIN: [1 2] TEST: [0]\n",
            "TRAIN: [0 2] TEST: [1]\n",
            "TRAIN: [0 1] TEST: [2]\n"
          ],
          "name": "stdout"
        }
      ]
    },
    {
      "cell_type": "code",
      "metadata": {
        "id": "MMnxwAxOnRzO",
        "outputId": "74ce3255-953d-4ca1-8f2f-f2771ac72ed7",
        "colab": {
          "base_uri": "https://localhost:8080/",
          "height": 34
        }
      },
      "source": [
        "loo.get_n_splits(X)"
      ],
      "execution_count": 46,
      "outputs": [
        {
          "output_type": "execute_result",
          "data": {
            "text/plain": [
              "3"
            ]
          },
          "metadata": {
            "tags": []
          },
          "execution_count": 46
        }
      ]
    },
    {
      "cell_type": "markdown",
      "metadata": {
        "id": "ItZDPUrwdxWU"
      },
      "source": [
        "## Application"
      ]
    },
    {
      "cell_type": "markdown",
      "metadata": {
        "id": "kgFajM4Qdzke"
      },
      "source": [
        "**Question** implémenter la méthode de validation croisée avec `LeaveOneOut`."
      ]
    },
    {
      "cell_type": "code",
      "metadata": {
        "deletable": true,
        "editable": true,
        "id": "-UsUhmqyBTr4",
        "outputId": "79e7d8c7-86b2-479f-98e6-ee32ca1e233a",
        "colab": {
          "base_uri": "https://localhost:8080/",
          "height": 173
        }
      },
      "source": [
        "\n",
        "# application aux données iris ou breast cancer\n",
        "cross_val_score(model, iris.data, iris.target, cv=loo)"
      ],
      "execution_count": 47,
      "outputs": [
        {
          "output_type": "execute_result",
          "data": {
            "text/plain": [
              "array([1., 1., 1., 1., 1., 1., 1., 1., 1., 1., 1., 1., 1., 1., 1., 1., 1.,\n",
              "       1., 1., 1., 1., 1., 1., 1., 1., 1., 1., 1., 1., 1., 1., 1., 1., 1.,\n",
              "       1., 1., 1., 1., 1., 1., 1., 1., 1., 1., 1., 1., 1., 1., 1., 1., 1.,\n",
              "       1., 1., 1., 1., 1., 1., 1., 1., 1., 1., 1., 1., 1., 1., 1., 1., 1.,\n",
              "       1., 1., 0., 1., 0., 1., 1., 1., 1., 1., 1., 1., 1., 1., 1., 0., 1.,\n",
              "       1., 1., 1., 1., 1., 1., 1., 1., 1., 1., 1., 1., 1., 1., 1., 1., 1.,\n",
              "       1., 1., 1., 1., 0., 1., 1., 1., 1., 1., 1., 1., 1., 1., 1., 1., 1.,\n",
              "       0., 1., 1., 1., 1., 1., 1., 1., 1., 1., 1., 1., 1., 1., 0., 0., 1.,\n",
              "       1., 1., 0., 1., 1., 1., 1., 1., 1., 1., 1., 1., 1., 1.])"
            ]
          },
          "metadata": {
            "tags": []
          },
          "execution_count": 47
        }
      ]
    },
    {
      "cell_type": "code",
      "metadata": {
        "id": "IMqiFE_FdKvf",
        "outputId": "a4ea42a0-cd43-4f6b-8343-8722d6aae849",
        "colab": {
          "base_uri": "https://localhost:8080/",
          "height": 607
        }
      },
      "source": [
        "cross_val_score(model, cancer.data, cancer.target, cv=loo)"
      ],
      "execution_count": 48,
      "outputs": [
        {
          "output_type": "execute_result",
          "data": {
            "text/plain": [
              "array([1., 1., 1., 0., 1., 1., 1., 1., 1., 1., 1., 1., 1., 1., 0., 1., 1.,\n",
              "       1., 1., 1., 1., 1., 1., 1., 1., 1., 1., 1., 1., 1., 1., 1., 1., 1.,\n",
              "       1., 1., 1., 1., 0., 0., 1., 1., 1., 1., 1., 1., 1., 1., 1., 1., 1.,\n",
              "       1., 1., 1., 1., 1., 1., 1., 1., 1., 1., 1., 1., 1., 1., 1., 1., 1.,\n",
              "       1., 1., 1., 1., 1., 1., 1., 1., 1., 1., 1., 1., 1., 1., 1., 1., 1.,\n",
              "       1., 0., 1., 1., 0., 0., 0., 0., 1., 1., 1., 1., 1., 1., 0., 1., 1.,\n",
              "       1., 1., 1., 1., 1., 1., 1., 1., 1., 1., 0., 1., 1., 0., 1., 1., 1.,\n",
              "       1., 1., 1., 1., 1., 1., 1., 1., 1., 0., 1., 1., 1., 1., 0., 1., 0.,\n",
              "       1., 1., 1., 1., 1., 1., 1., 1., 1., 1., 0., 1., 1., 1., 1., 1., 1.,\n",
              "       1., 1., 1., 1., 0., 1., 1., 1., 1., 1., 1., 1., 1., 1., 1., 1., 1.,\n",
              "       1., 1., 1., 1., 1., 1., 1., 1., 1., 1., 1., 1., 1., 1., 1., 1., 1.,\n",
              "       1., 1., 1., 0., 1., 1., 1., 0., 1., 1., 1., 1., 1., 1., 1., 1., 1.,\n",
              "       0., 1., 1., 1., 1., 0., 1., 1., 1., 0., 1., 0., 1., 1., 1., 1., 1.,\n",
              "       1., 1., 1., 1., 1., 1., 1., 1., 1., 1., 1., 1., 1., 1., 1., 1., 1.,\n",
              "       0., 1., 1., 1., 1., 1., 1., 1., 1., 1., 1., 1., 1., 1., 1., 1., 1.,\n",
              "       0., 1., 1., 1., 1., 1., 1., 1., 1., 1., 1., 1., 1., 1., 1., 1., 1.,\n",
              "       1., 1., 1., 1., 1., 1., 0., 1., 1., 1., 1., 1., 1., 1., 1., 1., 1.,\n",
              "       1., 0., 1., 1., 1., 1., 1., 1., 0., 0., 1., 1., 1., 1., 1., 1., 1.,\n",
              "       1., 1., 1., 1., 1., 1., 1., 1., 1., 1., 1., 1., 1., 1., 1., 1., 1.,\n",
              "       1., 1., 1., 1., 1., 1., 1., 1., 1., 1., 1., 1., 1., 1., 1., 1., 1.,\n",
              "       1., 1., 1., 1., 1., 1., 1., 1., 1., 1., 1., 1., 1., 1., 1., 1., 1.,\n",
              "       1., 1., 1., 1., 1., 1., 0., 1., 1., 1., 1., 1., 1., 1., 0., 1., 1.,\n",
              "       1., 0., 1., 1., 1., 1., 1., 1., 1., 1., 1., 0., 1., 1., 1., 1., 1.,\n",
              "       1., 1., 1., 1., 1., 1., 1., 1., 1., 1., 1., 1., 1., 1., 1., 0., 0.,\n",
              "       1., 1., 1., 1., 1., 1., 1., 1., 1., 1., 1., 1., 1., 0., 1., 1., 1.,\n",
              "       1., 1., 1., 1., 1., 0., 1., 1., 1., 1., 1., 1., 1., 0., 1., 1., 1.,\n",
              "       1., 1., 1., 1., 1., 1., 1., 1., 1., 1., 1., 1., 1., 1., 1., 1., 1.,\n",
              "       1., 1., 1., 0., 1., 1., 0., 1., 1., 1., 1., 1., 1., 0., 1., 1., 1.,\n",
              "       0., 1., 1., 0., 1., 0., 1., 1., 0., 1., 1., 1., 1., 1., 1., 0., 1.,\n",
              "       1., 1., 1., 1., 1., 1., 1., 1., 1., 1., 1., 1., 1., 1., 1., 0., 1.,\n",
              "       1., 1., 1., 1., 1., 1., 1., 1., 0., 1., 1., 1., 1., 1., 1., 1., 1.,\n",
              "       1., 1., 1., 1., 1., 0., 1., 1., 1., 0., 1., 1., 1., 1., 0., 1., 1.,\n",
              "       1., 1., 1., 1., 1., 0., 1., 1., 1., 1., 1., 1., 1., 1., 1., 1., 1.,\n",
              "       1., 1., 1., 1., 1., 1., 1., 1.])"
            ]
          },
          "metadata": {
            "tags": []
          },
          "execution_count": 48
        }
      ]
    },
    {
      "cell_type": "markdown",
      "metadata": {
        "id": "z4Dz72lCpPjw"
      },
      "source": [
        "# Validation croisée avec sélections aléatoires"
      ]
    },
    {
      "cell_type": "markdown",
      "metadata": {
        "id": "TuweBSSQPDZ2"
      },
      "source": [
        "## Split aléatoire"
      ]
    },
    {
      "cell_type": "code",
      "metadata": {
        "id": "kTSa5ZgUGLh7",
        "outputId": "a344da2a-038f-4800-8cbd-ba763ec3e355",
        "colab": {
          "base_uri": "https://localhost:8080/",
          "height": 69
        }
      },
      "source": [
        "from sklearn.model_selection import ShuffleSplit\n",
        "\n",
        "shufflesplit=ShuffleSplit(test_size=.3, train_size=.5, n_splits=3)\n",
        "\n",
        "data = np.arange(0,10,1)\n",
        "\n",
        "for train, test in shufflesplit.split(data):\n",
        "\tprint('train: %s, test: %s' % (data[train], data[test]))\n",
        " "
      ],
      "execution_count": 49,
      "outputs": [
        {
          "output_type": "stream",
          "text": [
            "train: [8 7 3 0 6], test: [5 2 1]\n",
            "train: [7 9 5 3 4], test: [8 0 6]\n",
            "train: [9 8 1 4 0], test: [3 5 7]\n"
          ],
          "name": "stdout"
        }
      ]
    },
    {
      "cell_type": "markdown",
      "metadata": {
        "id": "AxT5qnuApXG3"
      },
      "source": [
        "Appication à iris"
      ]
    },
    {
      "cell_type": "code",
      "metadata": {
        "id": "hsNmxBwppPjy",
        "outputId": "54003f61-357e-453e-f277-67c4927a8785",
        "colab": {
          "base_uri": "https://localhost:8080/",
          "height": 69
        }
      },
      "source": [
        "from sklearn.model_selection import ShuffleSplit\n",
        "\n",
        "shuffle_split = ShuffleSplit(test_size=.5, train_size=.5, n_splits=10)\n",
        "\n",
        "scores = cross_val_score(model, iris.data, iris.target, cv=shuffle_split)\n",
        "\n",
        "print(\"Cross-validation scores:\\n{}\".format(scores))"
      ],
      "execution_count": 50,
      "outputs": [
        {
          "output_type": "stream",
          "text": [
            "Cross-validation scores:\n",
            "[0.88       0.94666667 0.94666667 0.94666667 0.94666667 0.94666667\n",
            " 0.96       0.94666667 0.92       0.96      ]\n"
          ],
          "name": "stdout"
        }
      ]
    },
    {
      "cell_type": "markdown",
      "metadata": {
        "id": "x2VW3F7sNrAy"
      },
      "source": [
        "## Split stratifié"
      ]
    },
    {
      "cell_type": "markdown",
      "metadata": {
        "id": "jDBq60Iwpkaz"
      },
      "source": [
        "**Question** application du split stratifié pour les données `iris`."
      ]
    },
    {
      "cell_type": "code",
      "metadata": {
        "id": "XTw5zmFNNtD6",
        "outputId": "8cbf5127-1a92-442e-ef5b-3abcac1b586d",
        "colab": {
          "base_uri": "https://localhost:8080/",
          "height": 330
        }
      },
      "source": [
        "from sklearn.model_selection import StratifiedShuffleSplit\n",
        "\n",
        "split = StratifiedShuffleSplit(n_splits=100, test_size=0.2)\n",
        "\n",
        "# code \n",
        "\n",
        "scs = cross_val_score(model, iris.data, iris.target, cv=split)\n",
        "\n",
        "print(\"Cross-validation scores:\\n{}\".format(scs))"
      ],
      "execution_count": 51,
      "outputs": [
        {
          "output_type": "stream",
          "text": [
            "Cross-validation scores:\n",
            "[0.93333333 0.96666667 0.93333333 0.86666667 0.9        0.96666667\n",
            " 0.93333333 0.93333333 0.93333333 0.96666667 0.96666667 0.96666667\n",
            " 0.93333333 1.         0.93333333 0.93333333 1.         0.93333333\n",
            " 1.         0.96666667 0.96666667 0.9        0.96666667 0.9\n",
            " 0.9        0.9        0.93333333 0.93333333 0.93333333 0.96666667\n",
            " 0.96666667 0.86666667 1.         0.93333333 0.96666667 0.96666667\n",
            " 0.93333333 0.96666667 0.96666667 0.93333333 0.96666667 0.96666667\n",
            " 0.9        0.96666667 0.93333333 1.         0.96666667 0.93333333\n",
            " 0.96666667 0.86666667 0.93333333 0.96666667 0.96666667 0.93333333\n",
            " 0.93333333 1.         0.93333333 0.96666667 0.9        0.86666667\n",
            " 0.96666667 0.96666667 0.86666667 0.93333333 1.         1.\n",
            " 0.93333333 0.9        0.96666667 0.96666667 0.96666667 0.96666667\n",
            " 0.96666667 0.93333333 1.         0.9        0.9        0.93333333\n",
            " 0.93333333 0.96666667 0.93333333 0.93333333 0.96666667 0.9\n",
            " 0.96666667 1.         0.9        1.         0.96666667 1.\n",
            " 0.93333333 0.96666667 0.96666667 0.96666667 0.96666667 1.\n",
            " 0.93333333 0.9        0.96666667 0.96666667]\n"
          ],
          "name": "stdout"
        }
      ]
    }
  ]
}