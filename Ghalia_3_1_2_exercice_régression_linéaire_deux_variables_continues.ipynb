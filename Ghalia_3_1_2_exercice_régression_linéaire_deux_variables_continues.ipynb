{
  "nbformat": 4,
  "nbformat_minor": 0,
  "metadata": {
    "colab": {
      "name": "Ghalia - 3.1.2 exercice - régression linéaire deux variables continues.ipynb",
      "provenance": [],
      "collapsed_sections": [],
      "include_colab_link": true
    },
    "kernelspec": {
      "name": "python3",
      "display_name": "Python 3"
    }
  },
  "cells": [
    {
      "cell_type": "markdown",
      "metadata": {
        "id": "view-in-github",
        "colab_type": "text"
      },
      "source": [
        "<a href=\"https://colab.research.google.com/github/Ghalia671/MODULE1/blob/master/Ghalia_3_1_2_exercice_re%CC%81gression_line%CC%81aire_deux_variables_continues.ipynb\" target=\"_parent\"><img src=\"https://colab.research.google.com/assets/colab-badge.svg\" alt=\"Open In Colab\"/></a>"
      ]
    },
    {
      "cell_type": "code",
      "metadata": {
        "id": "lcFFfRJ_TyTI",
        "colab_type": "code",
        "colab": {
          "base_uri": "https://localhost:8080/",
          "height": 363
        },
        "outputId": "7bd5bfd9-7696-49da-a517-fa5e704fd6b8"
      },
      "source": [
        "import pandas as pd\n",
        "housing=pd.read_csv(\"https://dataks.bitbucket.io/ml/houses.csv\")\n",
        "housing.head(10)"
      ],
      "execution_count": null,
      "outputs": [
        {
          "output_type": "execute_result",
          "data": {
            "text/html": [
              "<div>\n",
              "<style scoped>\n",
              "    .dataframe tbody tr th:only-of-type {\n",
              "        vertical-align: middle;\n",
              "    }\n",
              "\n",
              "    .dataframe tbody tr th {\n",
              "        vertical-align: top;\n",
              "    }\n",
              "\n",
              "    .dataframe thead th {\n",
              "        text-align: right;\n",
              "    }\n",
              "</style>\n",
              "<table border=\"1\" class=\"dataframe\">\n",
              "  <thead>\n",
              "    <tr style=\"text-align: right;\">\n",
              "      <th></th>\n",
              "      <th>price</th>\n",
              "      <th>lotsize</th>\n",
              "      <th>bedrooms</th>\n",
              "      <th>bathrms</th>\n",
              "      <th>stories</th>\n",
              "      <th>driveway</th>\n",
              "      <th>recroom</th>\n",
              "      <th>fullbase</th>\n",
              "      <th>gashw</th>\n",
              "      <th>airco</th>\n",
              "      <th>garagepl</th>\n",
              "      <th>prefarea</th>\n",
              "    </tr>\n",
              "  </thead>\n",
              "  <tbody>\n",
              "    <tr>\n",
              "      <th>0</th>\n",
              "      <td>420000</td>\n",
              "      <td>585</td>\n",
              "      <td>3</td>\n",
              "      <td>1</td>\n",
              "      <td>2</td>\n",
              "      <td>yes</td>\n",
              "      <td>no</td>\n",
              "      <td>yes</td>\n",
              "      <td>no</td>\n",
              "      <td>no</td>\n",
              "      <td>1</td>\n",
              "      <td>no</td>\n",
              "    </tr>\n",
              "    <tr>\n",
              "      <th>1</th>\n",
              "      <td>385000</td>\n",
              "      <td>400</td>\n",
              "      <td>2</td>\n",
              "      <td>1</td>\n",
              "      <td>1</td>\n",
              "      <td>yes</td>\n",
              "      <td>no</td>\n",
              "      <td>no</td>\n",
              "      <td>no</td>\n",
              "      <td>no</td>\n",
              "      <td>0</td>\n",
              "      <td>no</td>\n",
              "    </tr>\n",
              "    <tr>\n",
              "      <th>2</th>\n",
              "      <td>495000</td>\n",
              "      <td>306</td>\n",
              "      <td>3</td>\n",
              "      <td>1</td>\n",
              "      <td>1</td>\n",
              "      <td>yes</td>\n",
              "      <td>no</td>\n",
              "      <td>no</td>\n",
              "      <td>no</td>\n",
              "      <td>no</td>\n",
              "      <td>0</td>\n",
              "      <td>no</td>\n",
              "    </tr>\n",
              "    <tr>\n",
              "      <th>3</th>\n",
              "      <td>605000</td>\n",
              "      <td>665</td>\n",
              "      <td>3</td>\n",
              "      <td>1</td>\n",
              "      <td>2</td>\n",
              "      <td>yes</td>\n",
              "      <td>yes</td>\n",
              "      <td>no</td>\n",
              "      <td>no</td>\n",
              "      <td>no</td>\n",
              "      <td>0</td>\n",
              "      <td>no</td>\n",
              "    </tr>\n",
              "    <tr>\n",
              "      <th>4</th>\n",
              "      <td>610000</td>\n",
              "      <td>636</td>\n",
              "      <td>2</td>\n",
              "      <td>1</td>\n",
              "      <td>1</td>\n",
              "      <td>yes</td>\n",
              "      <td>no</td>\n",
              "      <td>no</td>\n",
              "      <td>no</td>\n",
              "      <td>no</td>\n",
              "      <td>0</td>\n",
              "      <td>no</td>\n",
              "    </tr>\n",
              "    <tr>\n",
              "      <th>5</th>\n",
              "      <td>660000</td>\n",
              "      <td>416</td>\n",
              "      <td>3</td>\n",
              "      <td>1</td>\n",
              "      <td>1</td>\n",
              "      <td>yes</td>\n",
              "      <td>yes</td>\n",
              "      <td>yes</td>\n",
              "      <td>no</td>\n",
              "      <td>yes</td>\n",
              "      <td>0</td>\n",
              "      <td>no</td>\n",
              "    </tr>\n",
              "    <tr>\n",
              "      <th>6</th>\n",
              "      <td>660000</td>\n",
              "      <td>388</td>\n",
              "      <td>3</td>\n",
              "      <td>2</td>\n",
              "      <td>2</td>\n",
              "      <td>yes</td>\n",
              "      <td>no</td>\n",
              "      <td>yes</td>\n",
              "      <td>no</td>\n",
              "      <td>no</td>\n",
              "      <td>2</td>\n",
              "      <td>no</td>\n",
              "    </tr>\n",
              "    <tr>\n",
              "      <th>7</th>\n",
              "      <td>690000</td>\n",
              "      <td>416</td>\n",
              "      <td>3</td>\n",
              "      <td>1</td>\n",
              "      <td>3</td>\n",
              "      <td>yes</td>\n",
              "      <td>no</td>\n",
              "      <td>no</td>\n",
              "      <td>no</td>\n",
              "      <td>no</td>\n",
              "      <td>0</td>\n",
              "      <td>no</td>\n",
              "    </tr>\n",
              "    <tr>\n",
              "      <th>8</th>\n",
              "      <td>838000</td>\n",
              "      <td>480</td>\n",
              "      <td>3</td>\n",
              "      <td>1</td>\n",
              "      <td>1</td>\n",
              "      <td>yes</td>\n",
              "      <td>yes</td>\n",
              "      <td>yes</td>\n",
              "      <td>no</td>\n",
              "      <td>no</td>\n",
              "      <td>0</td>\n",
              "      <td>no</td>\n",
              "    </tr>\n",
              "    <tr>\n",
              "      <th>9</th>\n",
              "      <td>885000</td>\n",
              "      <td>550</td>\n",
              "      <td>3</td>\n",
              "      <td>2</td>\n",
              "      <td>4</td>\n",
              "      <td>yes</td>\n",
              "      <td>yes</td>\n",
              "      <td>no</td>\n",
              "      <td>no</td>\n",
              "      <td>yes</td>\n",
              "      <td>1</td>\n",
              "      <td>no</td>\n",
              "    </tr>\n",
              "  </tbody>\n",
              "</table>\n",
              "</div>"
            ],
            "text/plain": [
              "    price  lotsize  bedrooms  bathrms  ...  gashw airco garagepl prefarea\n",
              "0  420000      585         3        1  ...     no    no        1       no\n",
              "1  385000      400         2        1  ...     no    no        0       no\n",
              "2  495000      306         3        1  ...     no    no        0       no\n",
              "3  605000      665         3        1  ...     no    no        0       no\n",
              "4  610000      636         2        1  ...     no    no        0       no\n",
              "5  660000      416         3        1  ...     no   yes        0       no\n",
              "6  660000      388         3        2  ...     no    no        2       no\n",
              "7  690000      416         3        1  ...     no    no        0       no\n",
              "8  838000      480         3        1  ...     no    no        0       no\n",
              "9  885000      550         3        2  ...     no   yes        1       no\n",
              "\n",
              "[10 rows x 12 columns]"
            ]
          },
          "metadata": {
            "tags": []
          },
          "execution_count": 96
        }
      ]
    },
    {
      "cell_type": "markdown",
      "metadata": {
        "id": "NtjomIpsUgbT",
        "colab_type": "text"
      },
      "source": [
        "# Apprentissage du modèle"
      ]
    },
    {
      "cell_type": "markdown",
      "metadata": {
        "id": "UGGdxrRiVMLN",
        "colab_type": "text"
      },
      "source": [
        "**Question** créez un modèle linéaire avec deux variables continues, surface (`lotsize`) et le nombre de chambers (`bedrooms`) par exemple."
      ]
    },
    {
      "cell_type": "code",
      "metadata": {
        "id": "uv_NO4g_VKyx",
        "colab_type": "code",
        "colab": {}
      },
      "source": [
        "X = housing[['lotsize',\"bedrooms\"]]\n",
        "y = housing[['price']]"
      ],
      "execution_count": null,
      "outputs": []
    },
    {
      "cell_type": "code",
      "metadata": {
        "id": "JR4v7nnDVeyb",
        "colab_type": "code",
        "colab": {
          "base_uri": "https://localhost:8080/",
          "height": 34
        },
        "outputId": "ba0455cf-87db-44f2-88e0-f8248921d4ad"
      },
      "source": [
        "import matplotlib.pyplot as plt\n",
        "from sklearn.linear_model import LinearRegression\n",
        "from sklearn.metrics import mean_squared_error\n",
        " \n",
        "lmodellineaire = LinearRegression()\n",
        "lmodellineaire.fit(X, y)\n",
        "lmodellineaire.score(X, y)"
      ],
      "execution_count": null,
      "outputs": [
        {
          "output_type": "execute_result",
          "data": {
            "text/plain": [
              "0.3702767535369478"
            ]
          },
          "metadata": {
            "tags": []
          },
          "execution_count": 98
        }
      ]
    },
    {
      "cell_type": "markdown",
      "metadata": {
        "id": "6egEf7d0VeNR",
        "colab_type": "text"
      },
      "source": [
        "# Prédiction"
      ]
    },
    {
      "cell_type": "markdown",
      "metadata": {
        "id": "QzTMucHOVjTq",
        "colab_type": "text"
      },
      "source": [
        "**Question** extraire les coefficients du modèle"
      ]
    },
    {
      "cell_type": "code",
      "metadata": {
        "id": "5MfLbVMOUdBY",
        "colab_type": "code",
        "colab": {
          "base_uri": "https://localhost:8080/",
          "height": 34
        },
        "outputId": "a11d2ad8-4131-44b2-9914-ac78b638676f"
      },
      "source": [
        "lmodellineaire.coef_"
      ],
      "execution_count": null,
      "outputs": [
        {
          "output_type": "execute_result",
          "data": {
            "text/plain": [
              "array([[   605.3635141 , 105670.88360516]])"
            ]
          },
          "metadata": {
            "tags": []
          },
          "execution_count": 99
        }
      ]
    },
    {
      "cell_type": "markdown",
      "metadata": {
        "id": "XI-G2xENVnx2",
        "colab_type": "text"
      },
      "source": [
        "**Question** utiliser les coefficients pour estimer le prix d'une maison de 400 m2 avec 4 chambres. Quid de 2, ou 3 chambres ?"
      ]
    },
    {
      "cell_type": "code",
      "metadata": {
        "id": "i_AXjZx3V1-S",
        "colab_type": "code",
        "colab": {
          "base_uri": "https://localhost:8080/",
          "height": 52
        },
        "outputId": "bf53380e-83b8-4035-d582-083ea83c977c"
      },
      "source": [
        "import numpy as np\n",
        "import pandas as pd\n",
        "\n",
        "housing[\"selection\"] = housing.apply(lambda row: row[\"price\"] if ((row['lotsize'] == 400) & (row['bedrooms'] ==4) or(row['lotsize'] == 400) & (row['bedrooms'] ==2)\n",
        "or (row['lotsize'] == 400) & (row['bedrooms'] ==3)) else 0, axis=1)\n",
        "\n",
        "data = housing[housing[\"selection\"] >0]\n",
        "dfX = pd.DataFrame(data,columns=['lotsize','bedrooms','price'])\n",
        "dfX.drop_duplicates(subset=['lotsize','bedrooms','price'], keep='first', inplace=True)\n",
        "\n",
        "ser1 = dfX[['lotsize',\"bedrooms\"]]\n",
        "Y1 = dfX[['price']]\n",
        "\n",
        "X1 = ser1.loc[ser1['bedrooms'] == 4]\n",
        "X2 = ser1.loc[ser1['bedrooms'] == 2]\n",
        "X3 = ser1.loc[ser1['bedrooms'] == 3]\n",
        "\n",
        "model1 = LinearRegression()\n",
        "model1.fit(ser1,Y1)\n",
        "\n",
        "print(\"le coefficient est :\", model1.coef_)\n",
        "estimationPrix = model1.coef_ * model1.predict(ser1) + model1.intercept_\n",
        "print(\"Le prix estimé en fonction du nouveau coefficient est : \",round(estimationPrix.mean()))"
      ],
      "execution_count": null,
      "outputs": [
        {
          "output_type": "stream",
          "text": [
            "le coefficient est : [[     0. 100200.]]\n",
            "Le prix estimé en fonction du nouveau coefficient est :  28917103891.0\n"
          ],
          "name": "stdout"
        }
      ]
    },
    {
      "cell_type": "markdown",
      "metadata": {
        "id": "tBAYcyqSV2wC",
        "colab_type": "text"
      },
      "source": [
        "**Question** utiliser la méthode `.predict` pour prédire les prix pour les exemples de maisons dans la question précédente. Retrouvez-vous les mêmes valeurs prédites ?"
      ]
    },
    {
      "cell_type": "code",
      "metadata": {
        "id": "PAp2XtJ_WL1A",
        "colab_type": "code",
        "colab": {
          "base_uri": "https://localhost:8080/",
          "height": 69
        },
        "outputId": "8c532d61-a959-4793-a38b-bfde8541d622"
      },
      "source": [
        "estimationPrix1 = lmodellineaire.coef_ * lmodellineaire.predict(X1) + lmodellineaire.intercept_\n",
        "print(\"Estimation du prix de vente pour 4 chambres : \",round(estimationPrix1.mean()))\n",
        "\n",
        "estimationPrix2 = lmodellineaire.coef_ * lmodellineaire.predict(X2) + lmodellineaire.intercept_\n",
        "print(\"Estimation du prix de vente pour 2 chambres : \",round(estimationPrix2.mean()))\n",
        "\n",
        "estimationPrix3 = lmodellineaire.coef_ * lmodellineaire.predict(X3) + lmodellineaire.intercept_\n",
        "print(\"Estimation du prix de vente pour 3 chambres : \",round(estimationPrix3.mean()))"
      ],
      "execution_count": null,
      "outputs": [
        {
          "output_type": "stream",
          "text": [
            "Estimation du prix de vente pour 4 chambres :  38307718750.0\n",
            "Estimation du prix de vente pour 2 chambres :  27077413811.0\n",
            "Estimation du prix de vente pour 3 chambres :  32692566280.0\n"
          ],
          "name": "stdout"
        }
      ]
    },
    {
      "cell_type": "markdown",
      "metadata": {
        "id": "xYcjqdEUV5s1",
        "colab_type": "text"
      },
      "source": [
        "**Question** Quel est le RMSE du modèle ? Est-il mieux que le modèle avec une variable ?"
      ]
    },
    {
      "cell_type": "code",
      "metadata": {
        "id": "YLm_GCKUV_oW",
        "colab_type": "code",
        "colab": {
          "base_uri": "https://localhost:8080/",
          "height": 34
        },
        "outputId": "43b5e3d5-63ee-4843-8226-6b7e379b27d7"
      },
      "source": [
        "from sklearn.metrics import r2_score\n",
        "\n",
        "rmse = (np.sqrt(mean_squared_error(y, lmodellineaire.predict(X))))\n",
        "\n",
        "print(\"Le RMSE est : \", rmse)"
      ],
      "execution_count": null,
      "outputs": [
        {
          "output_type": "stream",
          "text": [
            "Le RMSE est :  211705.18579654823\n"
          ],
          "name": "stdout"
        }
      ]
    },
    {
      "cell_type": "markdown",
      "metadata": {
        "id": "j4uNLKkjlOuY",
        "colab_type": "text"
      },
      "source": [
        "**Question** Faire la prédiction pour plusieurs observations. Par exemple, deux appartements avec les caractéristiques suivantes:\n",
        "\n",
        "- 300 mètres carrés et 3 chambres\n",
        "- 350 mètres carrés et 2 chambres.\n",
        "\n",
        "Utiliser la méthode `predict` et aussi en utilisant les coefficients du modèle."
      ]
    },
    {
      "cell_type": "code",
      "metadata": {
        "id": "428trh1SlPF3",
        "colab_type": "code",
        "colab": {
          "base_uri": "https://localhost:8080/",
          "height": 52
        },
        "outputId": "987c2464-f5f8-4da4-c09e-205c3ebd17be"
      },
      "source": [
        "X4 = X.loc[(X['lotsize'] == 300) & (X['bedrooms'] ==3)]\n",
        "X5 = X.loc[(X['lotsize'] == 350) & (X['bedrooms'] ==2)]\n",
        "\n",
        "estimationPrix4 = lmodellineaire.coef_ * lmodellineaire.predict(X4) + lmodellineaire.intercept_\n",
        "print(\"Estimation du prix de vente pour 3 chambres : \",round(estimationPrix4.mean()))\n",
        "\n",
        "estimationPrix5 = lmodellineaire.coef_ * lmodellineaire.predict(X5) + lmodellineaire.intercept_\n",
        "print(\"Estimation du prix de vente pour 2 chambres : \",round(estimationPrix5.mean()))"
      ],
      "execution_count": null,
      "outputs": [
        {
          "output_type": "stream",
          "text": [
            "Estimation du prix de vente pour 3 chambres :  29475778159.0\n",
            "Estimation du prix de vente pour 2 chambres :  25469019750.0\n"
          ],
          "name": "stdout"
        }
      ]
    }
  ]
}