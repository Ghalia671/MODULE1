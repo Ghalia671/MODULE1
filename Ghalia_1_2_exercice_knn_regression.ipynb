{
  "nbformat": 4,
  "nbformat_minor": 0,
  "metadata": {
    "colab": {
      "name": "Ghalia - 1.2 exercice knn regression.ipynb",
      "provenance": [],
      "collapsed_sections": [],
      "toc_visible": true,
      "include_colab_link": true
    },
    "kernelspec": {
      "name": "python3",
      "display_name": "Python 3"
    }
  },
  "cells": [
    {
      "cell_type": "markdown",
      "metadata": {
        "id": "view-in-github",
        "colab_type": "text"
      },
      "source": [
        "<a href=\"https://colab.research.google.com/github/Ghalia671/MODULE1/blob/master/Ghalia_1_2_exercice_knn_regression.ipynb\" target=\"_parent\"><img src=\"https://colab.research.google.com/assets/colab-badge.svg\" alt=\"Open In Colab\"/></a>"
      ]
    },
    {
      "cell_type": "markdown",
      "metadata": {
        "id": "TPwM1evn4R4g",
        "colab_type": "text"
      },
      "source": [
        "# Données"
      ]
    },
    {
      "cell_type": "code",
      "metadata": {
        "colab_type": "code",
        "id": "uYQgD5Pvd2EX",
        "colab": {}
      },
      "source": [
        "import pandas as pd\n",
        "import numpy as np\n",
        "\n",
        "housing=pd.read_csv(\"https://dataks.bitbucket.io/ml/houses.csv\")"
      ],
      "execution_count": 32,
      "outputs": []
    },
    {
      "cell_type": "code",
      "metadata": {
        "colab_type": "code",
        "id": "FMVMkSsEevvK",
        "colab": {
          "base_uri": "https://localhost:8080/",
          "height": 363
        },
        "outputId": "3c497388-926a-4af5-d74d-0db1f4b984e9"
      },
      "source": [
        "housing.head(10)"
      ],
      "execution_count": 33,
      "outputs": [
        {
          "output_type": "execute_result",
          "data": {
            "text/html": [
              "<div>\n",
              "<style scoped>\n",
              "    .dataframe tbody tr th:only-of-type {\n",
              "        vertical-align: middle;\n",
              "    }\n",
              "\n",
              "    .dataframe tbody tr th {\n",
              "        vertical-align: top;\n",
              "    }\n",
              "\n",
              "    .dataframe thead th {\n",
              "        text-align: right;\n",
              "    }\n",
              "</style>\n",
              "<table border=\"1\" class=\"dataframe\">\n",
              "  <thead>\n",
              "    <tr style=\"text-align: right;\">\n",
              "      <th></th>\n",
              "      <th>price</th>\n",
              "      <th>lotsize</th>\n",
              "      <th>bedrooms</th>\n",
              "      <th>bathrms</th>\n",
              "      <th>stories</th>\n",
              "      <th>driveway</th>\n",
              "      <th>recroom</th>\n",
              "      <th>fullbase</th>\n",
              "      <th>gashw</th>\n",
              "      <th>airco</th>\n",
              "      <th>garagepl</th>\n",
              "      <th>prefarea</th>\n",
              "    </tr>\n",
              "  </thead>\n",
              "  <tbody>\n",
              "    <tr>\n",
              "      <th>0</th>\n",
              "      <td>420000</td>\n",
              "      <td>585</td>\n",
              "      <td>3</td>\n",
              "      <td>1</td>\n",
              "      <td>2</td>\n",
              "      <td>yes</td>\n",
              "      <td>no</td>\n",
              "      <td>yes</td>\n",
              "      <td>no</td>\n",
              "      <td>no</td>\n",
              "      <td>1</td>\n",
              "      <td>no</td>\n",
              "    </tr>\n",
              "    <tr>\n",
              "      <th>1</th>\n",
              "      <td>385000</td>\n",
              "      <td>400</td>\n",
              "      <td>2</td>\n",
              "      <td>1</td>\n",
              "      <td>1</td>\n",
              "      <td>yes</td>\n",
              "      <td>no</td>\n",
              "      <td>no</td>\n",
              "      <td>no</td>\n",
              "      <td>no</td>\n",
              "      <td>0</td>\n",
              "      <td>no</td>\n",
              "    </tr>\n",
              "    <tr>\n",
              "      <th>2</th>\n",
              "      <td>495000</td>\n",
              "      <td>306</td>\n",
              "      <td>3</td>\n",
              "      <td>1</td>\n",
              "      <td>1</td>\n",
              "      <td>yes</td>\n",
              "      <td>no</td>\n",
              "      <td>no</td>\n",
              "      <td>no</td>\n",
              "      <td>no</td>\n",
              "      <td>0</td>\n",
              "      <td>no</td>\n",
              "    </tr>\n",
              "    <tr>\n",
              "      <th>3</th>\n",
              "      <td>605000</td>\n",
              "      <td>665</td>\n",
              "      <td>3</td>\n",
              "      <td>1</td>\n",
              "      <td>2</td>\n",
              "      <td>yes</td>\n",
              "      <td>yes</td>\n",
              "      <td>no</td>\n",
              "      <td>no</td>\n",
              "      <td>no</td>\n",
              "      <td>0</td>\n",
              "      <td>no</td>\n",
              "    </tr>\n",
              "    <tr>\n",
              "      <th>4</th>\n",
              "      <td>610000</td>\n",
              "      <td>636</td>\n",
              "      <td>2</td>\n",
              "      <td>1</td>\n",
              "      <td>1</td>\n",
              "      <td>yes</td>\n",
              "      <td>no</td>\n",
              "      <td>no</td>\n",
              "      <td>no</td>\n",
              "      <td>no</td>\n",
              "      <td>0</td>\n",
              "      <td>no</td>\n",
              "    </tr>\n",
              "    <tr>\n",
              "      <th>5</th>\n",
              "      <td>660000</td>\n",
              "      <td>416</td>\n",
              "      <td>3</td>\n",
              "      <td>1</td>\n",
              "      <td>1</td>\n",
              "      <td>yes</td>\n",
              "      <td>yes</td>\n",
              "      <td>yes</td>\n",
              "      <td>no</td>\n",
              "      <td>yes</td>\n",
              "      <td>0</td>\n",
              "      <td>no</td>\n",
              "    </tr>\n",
              "    <tr>\n",
              "      <th>6</th>\n",
              "      <td>660000</td>\n",
              "      <td>388</td>\n",
              "      <td>3</td>\n",
              "      <td>2</td>\n",
              "      <td>2</td>\n",
              "      <td>yes</td>\n",
              "      <td>no</td>\n",
              "      <td>yes</td>\n",
              "      <td>no</td>\n",
              "      <td>no</td>\n",
              "      <td>2</td>\n",
              "      <td>no</td>\n",
              "    </tr>\n",
              "    <tr>\n",
              "      <th>7</th>\n",
              "      <td>690000</td>\n",
              "      <td>416</td>\n",
              "      <td>3</td>\n",
              "      <td>1</td>\n",
              "      <td>3</td>\n",
              "      <td>yes</td>\n",
              "      <td>no</td>\n",
              "      <td>no</td>\n",
              "      <td>no</td>\n",
              "      <td>no</td>\n",
              "      <td>0</td>\n",
              "      <td>no</td>\n",
              "    </tr>\n",
              "    <tr>\n",
              "      <th>8</th>\n",
              "      <td>838000</td>\n",
              "      <td>480</td>\n",
              "      <td>3</td>\n",
              "      <td>1</td>\n",
              "      <td>1</td>\n",
              "      <td>yes</td>\n",
              "      <td>yes</td>\n",
              "      <td>yes</td>\n",
              "      <td>no</td>\n",
              "      <td>no</td>\n",
              "      <td>0</td>\n",
              "      <td>no</td>\n",
              "    </tr>\n",
              "    <tr>\n",
              "      <th>9</th>\n",
              "      <td>885000</td>\n",
              "      <td>550</td>\n",
              "      <td>3</td>\n",
              "      <td>2</td>\n",
              "      <td>4</td>\n",
              "      <td>yes</td>\n",
              "      <td>yes</td>\n",
              "      <td>no</td>\n",
              "      <td>no</td>\n",
              "      <td>yes</td>\n",
              "      <td>1</td>\n",
              "      <td>no</td>\n",
              "    </tr>\n",
              "  </tbody>\n",
              "</table>\n",
              "</div>"
            ],
            "text/plain": [
              "    price  lotsize  bedrooms  bathrms  ...  gashw airco garagepl prefarea\n",
              "0  420000      585         3        1  ...     no    no        1       no\n",
              "1  385000      400         2        1  ...     no    no        0       no\n",
              "2  495000      306         3        1  ...     no    no        0       no\n",
              "3  605000      665         3        1  ...     no    no        0       no\n",
              "4  610000      636         2        1  ...     no    no        0       no\n",
              "5  660000      416         3        1  ...     no   yes        0       no\n",
              "6  660000      388         3        2  ...     no    no        2       no\n",
              "7  690000      416         3        1  ...     no    no        0       no\n",
              "8  838000      480         3        1  ...     no    no        0       no\n",
              "9  885000      550         3        2  ...     no   yes        1       no\n",
              "\n",
              "[10 rows x 12 columns]"
            ]
          },
          "metadata": {
            "tags": []
          },
          "execution_count": 33
        }
      ]
    },
    {
      "cell_type": "code",
      "metadata": {
        "id": "ElAwkhyKqrym",
        "colab_type": "code",
        "colab": {}
      },
      "source": [
        "housing = housing.replace(to_replace='yes', value=1, regex=True)\n",
        "housing = housing.replace(to_replace='no', value=0, regex=True)"
      ],
      "execution_count": 34,
      "outputs": []
    },
    {
      "cell_type": "markdown",
      "metadata": {
        "colab_type": "text",
        "id": "lHFcrhinME50"
      },
      "source": [
        "# K plus proches voisins"
      ]
    },
    {
      "cell_type": "markdown",
      "metadata": {
        "colab_type": "text",
        "id": "TCNryXdOtUCH"
      },
      "source": [
        "## Variable numérique"
      ]
    },
    {
      "cell_type": "code",
      "metadata": {
        "colab_type": "code",
        "id": "s3loTXyYpN47",
        "colab": {}
      },
      "source": [
        "X = housing[['lotsize']]\n",
        "y = housing[['price']]"
      ],
      "execution_count": 35,
      "outputs": []
    },
    {
      "cell_type": "code",
      "metadata": {
        "colab_type": "code",
        "id": "IJWlZkya8AIw",
        "colab": {}
      },
      "source": [
        "from sklearn.neighbors import KNeighborsRegressor\n",
        "from sklearn.model_selection import train_test_split\n",
        "import matplotlib.pyplot as plt\n",
        "#from sklearn.neighbors import KNeighborsClassifier \n",
        "\n",
        "X_train, X_test, y_train, y_test = train_test_split(X, y, random_state = 0)\n",
        "\n",
        "####\n",
        "# écrire le code ici : knnreg = ...\n",
        "#knnreg= KNeighborsClassifier(n_neighbors=5, metric='minkowski', p=2 )  \n",
        "#knnreg.fit(X_train, y_train) \n",
        "knnreg = KNeighborsRegressor(n_neighbors=K).fit(X_train,y_train)\n",
        "####"
      ],
      "execution_count": 36,
      "outputs": []
    },
    {
      "cell_type": "code",
      "metadata": {
        "id": "usT5BcfsOj2k",
        "colab_type": "code",
        "colab": {
          "base_uri": "https://localhost:8080/",
          "height": 1000
        },
        "outputId": "3fb3a613-e66d-45e9-f163-6c83a85f4cfd"
      },
      "source": [
        "y_pred= knnreg.predict(X_test)\n",
        "y_pred"
      ],
      "execution_count": 37,
      "outputs": [
        {
          "output_type": "execute_result",
          "data": {
            "text/plain": [
              "array([[ 855800.],\n",
              "       [ 907000.],\n",
              "       [ 603000.],\n",
              "       [ 884000.],\n",
              "       [ 628000.],\n",
              "       [ 772000.],\n",
              "       [ 578800.],\n",
              "       [ 663800.],\n",
              "       [ 805900.],\n",
              "       [ 452800.],\n",
              "       [ 488600.],\n",
              "       [ 459000.],\n",
              "       [ 812000.],\n",
              "       [1115000.],\n",
              "       [ 448800.],\n",
              "       [ 690400.],\n",
              "       [ 508000.],\n",
              "       [1247800.],\n",
              "       [ 811000.],\n",
              "       [ 883000.],\n",
              "       [ 862800.],\n",
              "       [1130800.],\n",
              "       [ 627400.],\n",
              "       [ 508000.],\n",
              "       [ 613000.],\n",
              "       [ 884000.],\n",
              "       [ 435000.],\n",
              "       [ 670000.],\n",
              "       [ 557800.],\n",
              "       [ 622300.],\n",
              "       [ 704400.],\n",
              "       [ 749800.],\n",
              "       [ 454800.],\n",
              "       [ 566600.],\n",
              "       [ 708000.],\n",
              "       [ 508000.],\n",
              "       [ 621600.],\n",
              "       [ 452800.],\n",
              "       [ 548000.],\n",
              "       [ 435000.],\n",
              "       [1050000.],\n",
              "       [ 756400.],\n",
              "       [ 796000.],\n",
              "       [ 583800.],\n",
              "       [ 887000.],\n",
              "       [ 768000.],\n",
              "       [ 786400.],\n",
              "       [ 524200.],\n",
              "       [1051600.],\n",
              "       [1051600.],\n",
              "       [ 696000.],\n",
              "       [ 601200.],\n",
              "       [ 953800.],\n",
              "       [ 712200.],\n",
              "       [ 523600.],\n",
              "       [ 481000.],\n",
              "       [ 615000.],\n",
              "       [ 550800.],\n",
              "       [ 915600.],\n",
              "       [ 922000.],\n",
              "       [ 390000.],\n",
              "       [ 583800.],\n",
              "       [ 488600.],\n",
              "       [ 476800.],\n",
              "       [ 907000.],\n",
              "       [ 420000.],\n",
              "       [ 578800.],\n",
              "       [ 488600.],\n",
              "       [ 578000.],\n",
              "       [ 502800.],\n",
              "       [ 798000.],\n",
              "       [ 586800.],\n",
              "       [ 469000.],\n",
              "       [ 576800.],\n",
              "       [ 516000.],\n",
              "       [ 884000.],\n",
              "       [ 516000.],\n",
              "       [ 690400.],\n",
              "       [ 862800.],\n",
              "       [ 565000.],\n",
              "       [ 602000.],\n",
              "       [ 603000.],\n",
              "       [ 696000.],\n",
              "       [ 435000.],\n",
              "       [ 435000.],\n",
              "       [1105200.],\n",
              "       [ 517800.],\n",
              "       [ 572000.],\n",
              "       [ 922000.],\n",
              "       [ 926684.],\n",
              "       [ 444800.],\n",
              "       [ 505000.],\n",
              "       [ 887000.],\n",
              "       [ 782000.],\n",
              "       [ 565000.],\n",
              "       [ 459000.],\n",
              "       [ 459000.],\n",
              "       [ 870000.],\n",
              "       [ 602000.],\n",
              "       [ 361600.],\n",
              "       [ 427000.],\n",
              "       [ 566600.],\n",
              "       [ 870000.],\n",
              "       [ 901800.],\n",
              "       [ 772000.],\n",
              "       [ 602000.],\n",
              "       [ 557800.],\n",
              "       [ 427000.],\n",
              "       [ 452800.],\n",
              "       [ 488600.],\n",
              "       [ 675800.],\n",
              "       [1118000.],\n",
              "       [1105200.],\n",
              "       [ 475500.],\n",
              "       [ 583800.],\n",
              "       [ 741800.],\n",
              "       [ 761200.],\n",
              "       [ 454800.],\n",
              "       [1105200.],\n",
              "       [ 535000.],\n",
              "       [1115000.],\n",
              "       [ 922000.],\n",
              "       [ 690400.],\n",
              "       [ 953800.],\n",
              "       [ 749800.],\n",
              "       [ 583800.],\n",
              "       [ 884000.],\n",
              "       [ 636000.],\n",
              "       [1105200.],\n",
              "       [ 884000.],\n",
              "       [ 953800.],\n",
              "       [ 913200.],\n",
              "       [1051600.],\n",
              "       [1105200.],\n",
              "       [ 858000.],\n",
              "       [ 516000.],\n",
              "       [ 953800.]])"
            ]
          },
          "metadata": {
            "tags": []
          },
          "execution_count": 37
        }
      ]
    },
    {
      "cell_type": "markdown",
      "metadata": {
        "id": "vfePSPJgf9_2",
        "colab_type": "text"
      },
      "source": [
        "### Tester plusieurs valeurs de l'hyperparamètre"
      ]
    },
    {
      "cell_type": "code",
      "metadata": {
        "colab_type": "code",
        "id": "TXY0nSGR8o_G",
        "colab": {
          "base_uri": "https://localhost:8080/",
          "height": 585
        },
        "outputId": "57e46761-eda2-4d2d-f834-569ef1f3d2cb"
      },
      "source": [
        "fig, subaxes = plt.subplots(1, 3, figsize=(14,8))\n",
        "X_predict_input = np.linspace(X.min(), X.max(), 50).reshape(-1,1)\n",
        "\n",
        "for thisaxis, K in zip(subaxes, [1, 3,5]):\n",
        "    knnreg = KNeighborsRegressor(n_neighbors = K).fit(X_train, y_train)\n",
        "\n",
        "    ####\n",
        "    knnreg.predict(X_test)\n",
        "    ####\n",
        "    \n",
        "    y_predict_output = knnreg.predict(X_predict_input)\n",
        "    \n",
        "    thisaxis.plot(X_predict_input, y_predict_output, '.', markersize = 10,\n",
        "                 label='Prédiction', alpha=0.8)\n",
        "    thisaxis.plot(X_train, y_train, 'o', label='Valeur réelle', alpha=0.8)\n",
        "    thisaxis.set_xlabel('Lotsize')\n",
        "    thisaxis.set_ylabel('Price')\n",
        "    thisaxis.set_title('KNN regression (K={})'.format(K))\n",
        "    thisaxis.legend()\n",
        "plt.tight_layout()"
      ],
      "execution_count": 38,
      "outputs": [
        {
          "output_type": "display_data",
          "data": {
            "image/png": "[encoded data removed]",
            "text/plain": [
              "<Figure size 1008x576 with 3 Axes>"
            ]
          },
          "metadata": {
            "tags": [],
            "needs_background": "light"
          }
        }
      ]
    },
    {
      "cell_type": "markdown",
      "metadata": {
        "id": "JvnJ2mISgO6Q",
        "colab_type": "text"
      },
      "source": [
        "### Performance du modèle"
      ]
    },
    {
      "cell_type": "markdown",
      "metadata": {
        "id": "_3IPyk2SizwH",
        "colab_type": "text"
      },
      "source": [
        "**Question** Calculer le RMSE du modèle"
      ]
    },
    {
      "cell_type": "code",
      "metadata": {
        "colab_type": "code",
        "id": "7nEcqshqtbdX",
        "colab": {
          "base_uri": "https://localhost:8080/",
          "height": 295
        },
        "outputId": "5daab27a-964c-47ff-804b-893227f19992"
      },
      "source": [
        "from sklearn.metrics import mean_squared_error\n",
        "mse = format(np.power(y_test-knnreg.predict(X_test),2).mean())\n",
        "print (\"The MSE is:\",mse)\n",
        "print (\"The RMSE is:\",np.sqrt(np.power(y_test-knnreg.predict(X_test),2)))"
      ],
      "execution_count": 39,
      "outputs": [
        {
          "output_type": "stream",
          "text": [
            "The MSE is: price    5.115014e+10\n",
            "dtype: float64\n",
            "The RMSE is:         price\n",
            "85   285800.0\n",
            "436  413000.0\n",
            "96    64000.0\n",
            "186  437000.0\n",
            "134   22000.0\n",
            "..        ...\n",
            "490  551600.0\n",
            "545   55200.0\n",
            "231   12000.0\n",
            "213    4000.0\n",
            "408   63800.0\n",
            "\n",
            "[137 rows x 1 columns]\n"
          ],
          "name": "stdout"
        }
      ]
    },
    {
      "cell_type": "code",
      "metadata": {
        "id": "nlNhQVF1hfeY",
        "colab_type": "code",
        "colab": {}
      },
      "source": [
        ""
      ],
      "execution_count": null,
      "outputs": []
    },
    {
      "cell_type": "markdown",
      "metadata": {
        "id": "Q_EwUlnUhgpG",
        "colab_type": "text"
      },
      "source": [
        "### Courbe de l'erreur avec le split apprentissage/test\n"
      ]
    },
    {
      "cell_type": "markdown",
      "metadata": {
        "id": "DHE-1Bd3h4OL",
        "colab_type": "text"
      },
      "source": [
        "**Question** créer une boucle pour afficher l'évolution des erreurs de l'apprentissage et du test"
      ]
    },
    {
      "cell_type": "code",
      "metadata": {
        "colab_type": "code",
        "id": "TUHRfzeNXFsR",
        "colab": {
          "base_uri": "https://localhost:8080/",
          "height": 557
        },
        "outputId": "547f23c4-b812-411d-f820-aaf3b188befb"
      },
      "source": [
        "\n",
        "from sklearn import model_selection,linear_model\n",
        "\n",
        "X_train, X_test, y_train, y_test = model_selection.train_test_split(X, y,\n",
        "            test_size=0.4, random_state=0)\n",
        "\n",
        "rows = []\n",
        "\n",
        "for i in range(1,15):\n",
        "    ###\n",
        "    # écrire le code ici pour entraîner le modèle\n",
        "    model_obj = linear_model.LinearRegression()\n",
        "    model_fit = model_obj.fit(X_train,y_train)\n",
        "    prediction = model_obj.predict(X_test)\n",
        "\n",
        "    ###\n",
        "    rows.append([i,model_obj.score(X_train, y_train), model_obj.score(X_test, y_test)])\n",
        "print(\"\")\n",
        "\n",
        "res_scores = pd.DataFrame(rows, columns=[\"parameter\",\"train_score\", \"test_score\"])\n",
        "print(res_scores)\n",
        "\n",
        "res_scores.plot(kind=\"line\",x=\"parameter\",y=\"train_score\")\n",
        "\n",
        "plt.plot(res_scores[\"parameter\"],res_scores[\"test_score\"], label = \"test_score\")\n",
        "plt.xlabel('parameter')\n",
        "plt.ylabel('score')\n",
        "plt.legend()\n",
        "plt.show()"
      ],
      "execution_count": 44,
      "outputs": [
        {
          "output_type": "stream",
          "text": [
            "\n",
            "    parameter  train_score  test_score\n",
            "0           1     0.073284    0.107564\n",
            "1           2     0.073284    0.107564\n",
            "2           3     0.073284    0.107564\n",
            "3           4     0.073284    0.107564\n",
            "4           5     0.073284    0.107564\n",
            "5           6     0.073284    0.107564\n",
            "6           7     0.073284    0.107564\n",
            "7           8     0.073284    0.107564\n",
            "8           9     0.073284    0.107564\n",
            "9          10     0.073284    0.107564\n",
            "10         11     0.073284    0.107564\n",
            "11         12     0.073284    0.107564\n",
            "12         13     0.073284    0.107564\n",
            "13         14     0.073284    0.107564\n"
          ],
          "name": "stdout"
        },
        {
          "output_type": "display_data",
          "data": {
            "image/png": "[encoded data removed]",
            "text/plain": [
              "<Figure size 432x288 with 1 Axes>"
            ]
          },
          "metadata": {
            "tags": [],
            "needs_background": "light"
          }
        }
      ]
    },
    {
      "cell_type": "markdown",
      "metadata": {
        "colab_type": "text",
        "id": "e2W9BwKYsgXw"
      },
      "source": [
        "## variable catégorique"
      ]
    },
    {
      "cell_type": "markdown",
      "metadata": {
        "id": "x0UlwQ1viGRv",
        "colab_type": "text"
      },
      "source": [
        "**Question** Réaliser les mêmes analyses pour une variable catégoriques\n",
        "\n",
        "- Création d'un modèle\n",
        "- Visualiser les résultats en fonction de plusieurs valeurs de l'hyperparamètre\n",
        "- Créer les courbes des erreurs de l'apprentissage et du test\n",
        "\n"
      ]
    },
    {
      "cell_type": "code",
      "metadata": {
        "colab_type": "code",
        "id": "PyVoQGt2ty7J",
        "colab": {
          "base_uri": "https://localhost:8080/",
          "height": 276
        },
        "outputId": "6045fd68-cab2-4d1d-87f7-8c2bf722c557"
      },
      "source": [
        "X = housing[['driveway']]\n",
        "y = housing[['price']]\n",
        "\n",
        "X_train, X_test, y_train, y_test = model_selection.train_test_split(X, y,\n",
        "            test_size=0.4, random_state=0)\n",
        "\n",
        "knnreg1 = KNeighborsRegressor(n_neighbors=6).fit(X_train,y_train)\n",
        "predX = knnreg1.predict(X_test)\n",
        "plt.scatter(predX,y_test)\n",
        "plt.show()"
      ],
      "execution_count": 46,
      "outputs": [
        {
          "output_type": "display_data",
          "data": {
            "image/png": "[encoded data removed]",
            "text/plain": [
              "<Figure size 432x288 with 1 Axes>"
            ]
          },
          "metadata": {
            "tags": [],
            "needs_background": "light"
          }
        }
      ]
    },
    {
      "cell_type": "markdown",
      "metadata": {
        "colab_type": "text",
        "id": "dpgXOnzx7-FH"
      },
      "source": [
        "## Variables mixtes"
      ]
    },
    {
      "cell_type": "markdown",
      "metadata": {
        "id": "kWsX6WaeifkP",
        "colab_type": "text"
      },
      "source": [
        "**Question** Réaliser les mêmes analyses pour une variable et une variable continue.\n",
        "\n",
        "- Création d'un modèle\n",
        "- Visualiser les résultats en fonction de plusieurs valeurs de l'hyperparamètre\n",
        "- Créer les courbes des erreurs de l'apprentissage et du test\n",
        "- Tester l'effet de la normalisation\n",
        "\n"
      ]
    },
    {
      "cell_type": "code",
      "metadata": {
        "colab_type": "code",
        "id": "tBDr6A4XMOUF",
        "colab": {}
      },
      "source": [
        "X = housing[['lotsize',\"driveway\"]]\n",
        "y = housing[['price']]\n"
      ],
      "execution_count": 47,
      "outputs": []
    },
    {
      "cell_type": "code",
      "metadata": {
        "id": "auQiDyaPiwB4",
        "colab_type": "code",
        "colab": {
          "base_uri": "https://localhost:8080/",
          "height": 289
        },
        "outputId": "2969ffe4-f030-4982-a6bf-bcc613738cbf"
      },
      "source": [
        "X_train, X_test, y_train, y_test = model_selection.train_test_split(X, y,\n",
        "            test_size=0.4, random_state=0)\n",
        "\n",
        "knnreg2 = KNeighborsRegressor(n_neighbors=3).fit(X_train,y_train)\n",
        "predX2 = knnreg2.predict(X_test)\n",
        "plt.scatter(predX2,y_test)\n",
        "plt.show()"
      ],
      "execution_count": 48,
      "outputs": [
        {
          "output_type": "display_data",
          "data": {
            "image/png": "[encoded data removed]",
            "text/plain": [
              "<Figure size 432x288 with 1 Axes>"
            ]
          },
          "metadata": {
            "tags": [],
            "needs_background": "light"
          }
        }
      ]
    },
    {
      "cell_type": "markdown",
      "metadata": {
        "colab_type": "text",
        "id": "q11U25D283Ap"
      },
      "source": [
        "## Toutes les variables"
      ]
    },
    {
      "cell_type": "markdown",
      "metadata": {
        "id": "dPQcwdJFiqLx",
        "colab_type": "text"
      },
      "source": [
        "**Question** Réaliser les mêmes analyses avec toutes les variables.\n",
        "\n",
        "- Création d'un modèle\n",
        "- Visualiser les résultats en fonction de plusieurs valeurs de l'hyperparamètre\n",
        "- Créer les courbes des erreurs de l'apprentissage et du test\n",
        "- Tester l'effet de la normalisation"
      ]
    },
    {
      "cell_type": "code",
      "metadata": {
        "id": "wrkx5vLuivsT",
        "colab_type": "code",
        "colab": {
          "base_uri": "https://localhost:8080/",
          "height": 289
        },
        "outputId": "c0f3afc7-388c-4491-e15f-65c76f26acc3"
      },
      "source": [
        "X = housing[['driveway','lotsize','bedrooms','bathrms']]\n",
        "y = housing[['price']]\n",
        "\n",
        "X_train, X_test, y_train, y_test = model_selection.train_test_split(X, y,\n",
        "            test_size=0.4, random_state=0)\n",
        "\n",
        "knnreg3 = KNeighborsRegressor(n_neighbors=8).fit(X_train,y_train)\n",
        "predX3 = knnreg3.predict(X_test)\n",
        "plt.scatter(predX3,y_test)\n",
        "plt.show()"
      ],
      "execution_count": 50,
      "outputs": [
        {
          "output_type": "display_data",
          "data": {
            "image/png": "[encoded data removed]",
            "text/plain": [
              "<Figure size 432x288 with 1 Axes>"
            ]
          },
          "metadata": {
            "tags": [],
            "needs_background": "light"
          }
        }
      ]
    }
  ]
}