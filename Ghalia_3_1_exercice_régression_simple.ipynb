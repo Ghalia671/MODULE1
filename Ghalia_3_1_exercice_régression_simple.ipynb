{
  "nbformat": 4,
  "nbformat_minor": 0,
  "metadata": {
    "colab": {
      "name": "Ghalia - 3.1 exercice - régression simple.ipynb",
      "provenance": [],
      "collapsed_sections": [],
      "include_colab_link": true
    },
    "kernelspec": {
      "name": "python3",
      "display_name": "Python 3"
    }
  },
  "cells": [
    {
      "cell_type": "markdown",
      "metadata": {
        "id": "view-in-github",
        "colab_type": "text"
      },
      "source": [
        "<a href=\"https://colab.research.google.com/github/Ghalia671/MODULE1/blob/master/Ghalia_3_1_exercice_re%CC%81gression_simple.ipynb\" target=\"_parent\"><img src=\"https://colab.research.google.com/assets/colab-badge.svg\" alt=\"Open In Colab\"/></a>"
      ]
    },
    {
      "cell_type": "markdown",
      "metadata": {
        "id": "os0Uq2lNr94y",
        "colab_type": "text"
      },
      "source": [
        "Dans un premier temps, on va importer les données. C'est la base des prix immobiliers que vous connaissez déjà.\n"
      ]
    },
    {
      "cell_type": "code",
      "metadata": {
        "id": "fvYN9eAXcYae",
        "colab_type": "code",
        "colab": {}
      },
      "source": [
        "import pandas as pd\n",
        "housing=pd.read_csv(\"https://dataks.bitbucket.io/ml/houses.csv\")"
      ],
      "execution_count": null,
      "outputs": []
    },
    {
      "cell_type": "markdown",
      "metadata": {
        "id": "RCBRztIssET4",
        "colab_type": "text"
      },
      "source": [
        "Dans un premier temps, vous pouvez refaire une exploration des données pour s'assurer que la base n'a changé."
      ]
    },
    {
      "cell_type": "code",
      "metadata": {
        "id": "TWJbK2eltKBu",
        "colab_type": "code",
        "colab": {
          "base_uri": "https://localhost:8080/",
          "height": 536
        },
        "outputId": "51f75de2-0a86-4f99-bd0f-95c980354c3c"
      },
      "source": [
        "# Explorer la base de données\n",
        "housing.describe()\n",
        "housing.info()\n",
        "housing[\"airco\"].value_counts\n",
        "housing.head()"
      ],
      "execution_count": null,
      "outputs": [
        {
          "output_type": "stream",
          "text": [
            "<class 'pandas.core.frame.DataFrame'>\n",
            "RangeIndex: 546 entries, 0 to 545\n",
            "Data columns (total 12 columns):\n",
            " #   Column    Non-Null Count  Dtype \n",
            "---  ------    --------------  ----- \n",
            " 0   price     546 non-null    int64 \n",
            " 1   lotsize   546 non-null    int64 \n",
            " 2   bedrooms  546 non-null    int64 \n",
            " 3   bathrms   546 non-null    int64 \n",
            " 4   stories   546 non-null    int64 \n",
            " 5   driveway  546 non-null    object\n",
            " 6   recroom   546 non-null    object\n",
            " 7   fullbase  546 non-null    object\n",
            " 8   gashw     546 non-null    object\n",
            " 9   airco     546 non-null    object\n",
            " 10  garagepl  546 non-null    int64 \n",
            " 11  prefarea  546 non-null    object\n",
            "dtypes: int64(6), object(6)\n",
            "memory usage: 51.3+ KB\n"
          ],
          "name": "stdout"
        },
        {
          "output_type": "execute_result",
          "data": {
            "text/html": [
              "<div>\n",
              "<style scoped>\n",
              "    .dataframe tbody tr th:only-of-type {\n",
              "        vertical-align: middle;\n",
              "    }\n",
              "\n",
              "    .dataframe tbody tr th {\n",
              "        vertical-align: top;\n",
              "    }\n",
              "\n",
              "    .dataframe thead th {\n",
              "        text-align: right;\n",
              "    }\n",
              "</style>\n",
              "<table border=\"1\" class=\"dataframe\">\n",
              "  <thead>\n",
              "    <tr style=\"text-align: right;\">\n",
              "      <th></th>\n",
              "      <th>price</th>\n",
              "      <th>lotsize</th>\n",
              "      <th>bedrooms</th>\n",
              "      <th>bathrms</th>\n",
              "      <th>stories</th>\n",
              "      <th>driveway</th>\n",
              "      <th>recroom</th>\n",
              "      <th>fullbase</th>\n",
              "      <th>gashw</th>\n",
              "      <th>airco</th>\n",
              "      <th>garagepl</th>\n",
              "      <th>prefarea</th>\n",
              "    </tr>\n",
              "  </thead>\n",
              "  <tbody>\n",
              "    <tr>\n",
              "      <th>0</th>\n",
              "      <td>420000</td>\n",
              "      <td>585</td>\n",
              "      <td>3</td>\n",
              "      <td>1</td>\n",
              "      <td>2</td>\n",
              "      <td>yes</td>\n",
              "      <td>no</td>\n",
              "      <td>yes</td>\n",
              "      <td>no</td>\n",
              "      <td>no</td>\n",
              "      <td>1</td>\n",
              "      <td>no</td>\n",
              "    </tr>\n",
              "    <tr>\n",
              "      <th>1</th>\n",
              "      <td>385000</td>\n",
              "      <td>400</td>\n",
              "      <td>2</td>\n",
              "      <td>1</td>\n",
              "      <td>1</td>\n",
              "      <td>yes</td>\n",
              "      <td>no</td>\n",
              "      <td>no</td>\n",
              "      <td>no</td>\n",
              "      <td>no</td>\n",
              "      <td>0</td>\n",
              "      <td>no</td>\n",
              "    </tr>\n",
              "    <tr>\n",
              "      <th>2</th>\n",
              "      <td>495000</td>\n",
              "      <td>306</td>\n",
              "      <td>3</td>\n",
              "      <td>1</td>\n",
              "      <td>1</td>\n",
              "      <td>yes</td>\n",
              "      <td>no</td>\n",
              "      <td>no</td>\n",
              "      <td>no</td>\n",
              "      <td>no</td>\n",
              "      <td>0</td>\n",
              "      <td>no</td>\n",
              "    </tr>\n",
              "    <tr>\n",
              "      <th>3</th>\n",
              "      <td>605000</td>\n",
              "      <td>665</td>\n",
              "      <td>3</td>\n",
              "      <td>1</td>\n",
              "      <td>2</td>\n",
              "      <td>yes</td>\n",
              "      <td>yes</td>\n",
              "      <td>no</td>\n",
              "      <td>no</td>\n",
              "      <td>no</td>\n",
              "      <td>0</td>\n",
              "      <td>no</td>\n",
              "    </tr>\n",
              "    <tr>\n",
              "      <th>4</th>\n",
              "      <td>610000</td>\n",
              "      <td>636</td>\n",
              "      <td>2</td>\n",
              "      <td>1</td>\n",
              "      <td>1</td>\n",
              "      <td>yes</td>\n",
              "      <td>no</td>\n",
              "      <td>no</td>\n",
              "      <td>no</td>\n",
              "      <td>no</td>\n",
              "      <td>0</td>\n",
              "      <td>no</td>\n",
              "    </tr>\n",
              "  </tbody>\n",
              "</table>\n",
              "</div>"
            ],
            "text/plain": [
              "    price  lotsize  bedrooms  bathrms  ...  gashw airco garagepl prefarea\n",
              "0  420000      585         3        1  ...     no    no        1       no\n",
              "1  385000      400         2        1  ...     no    no        0       no\n",
              "2  495000      306         3        1  ...     no    no        0       no\n",
              "3  605000      665         3        1  ...     no    no        0       no\n",
              "4  610000      636         2        1  ...     no    no        0       no\n",
              "\n",
              "[5 rows x 12 columns]"
            ]
          },
          "metadata": {
            "tags": []
          },
          "execution_count": 7
        }
      ]
    },
    {
      "cell_type": "markdown",
      "metadata": {
        "id": "C1ozYlCssU_o",
        "colab_type": "text"
      },
      "source": [
        "*Essayez de ne pas faire du copier-coller et faire l'exercice vous-même devant ce notebook.*\n"
      ]
    },
    {
      "cell_type": "markdown",
      "metadata": {
        "id": "feb0SuP1sMJR",
        "colab_type": "text"
      },
      "source": [
        "**Question** : créer un modèle linéaire simple, pour prédire le prix en fonction du nombre de chambres (`bedrooms`)."
      ]
    },
    {
      "cell_type": "code",
      "metadata": {
        "id": "FXR84UxdsLTw",
        "colab_type": "code",
        "colab": {
          "base_uri": "https://localhost:8080/",
          "height": 543
        },
        "outputId": "c18b92cb-7802-44de-8ac9-a96f515295ee"
      },
      "source": [
        "import seaborn as sns\n",
        "import matplotlib.pyplot as plt\n",
        "fig, ax = plt.subplots(figsize=(8,8))\n",
        "sns.lineplot(x=housing[\"bedrooms\"], y=housing[\"price\"], color='b', ax=ax)\n",
        "ax.legend(['Prix en fonction du nombre de chambres'], facecolor='w')\n",
        "plt.show()\n"
      ],
      "execution_count": null,
      "outputs": [
        {
          "output_type": "stream",
          "text": [
            "/usr/local/lib/python3.6/dist-packages/statsmodels/tools/_testing.py:19: FutureWarning: pandas.util.testing is deprecated. Use the functions in the public API at pandas.testing instead.\n",
            "  import pandas.util.testing as tm\n"
          ],
          "name": "stderr"
        },
        {
          "output_type": "display_data",
          "data": {
            "image/png": "[encoded data removed]",
            "text/plain": [
              "<Figure size 576x576 with 1 Axes>"
            ]
          },
          "metadata": {
            "tags": [],
            "needs_background": "light"
          }
        }
      ]
    },
    {
      "cell_type": "markdown",
      "metadata": {
        "id": "S8S1rf8Rsekc",
        "colab_type": "text"
      },
      "source": [
        "**Question**: visualiser la droite qui représente le modèle, sur un graphique de type nuage de points (prix en fonction du nombre de chambres)."
      ]
    },
    {
      "cell_type": "code",
      "metadata": {
        "id": "5S3XCQ6ism9-",
        "colab_type": "code",
        "colab": {
          "base_uri": "https://localhost:8080/",
          "height": 290
        },
        "outputId": "ba0d67b8-9279-484f-ca32-4950cef70b5d"
      },
      "source": [
        "# importer le package qui permet de créer le graphique\n",
        "x = housing[[\"bedrooms\"]]\n",
        "y = housing[[\"price\"]]\n",
        "# importer le package qui contient le modèle linéaire\n",
        "from sklearn.linear_model import LinearRegression\n",
        "import matplotlib.pyplot as plt\n",
        "\n",
        "# créer le modèle\n",
        "model = LinearRegression()\n",
        "# entraîner le modèle\n",
        "model.fit(x,y)\n",
        "\n",
        "plt.scatter(x,y)\n",
        "plt.plot(x,model.predict(x),color = \"black\")\n",
        "plt.xlabel('bedrooms')\n",
        "plt.ylabel('price')\n",
        "plt.show()"
      ],
      "execution_count": null,
      "outputs": [
        {
          "output_type": "display_data",
          "data": {
            "image/png": "[encoded data removed]",
            "text/plain": [
              "<Figure size 432x288 with 1 Axes>"
            ]
          },
          "metadata": {
            "tags": [],
            "needs_background": "light"
          }
        }
      ]
    },
    {
      "cell_type": "markdown",
      "metadata": {
        "id": "lXSQh1nJsnYK",
        "colab_type": "text"
      },
      "source": [
        "**Question**: examiner les paramètres du modèle. Pour vérifier si vous avez trouvé les bonnes réponses, vous pouvez faire le quiz."
      ]
    },
    {
      "cell_type": "code",
      "metadata": {
        "id": "OBUr9i03s17P",
        "colab_type": "code",
        "colab": {
          "base_uri": "https://localhost:8080/",
          "height": 34
        },
        "outputId": "cd316ea3-2554-4ba9-9973-f10624e4cca0"
      },
      "source": [
        "# afficher les attributs du modèle\n",
        "model.predict([[400]])\n",
        "model.coef_ # c'est la pente\n",
        "model.intercept_ #la donnée à l'origine\n",
        "model.coef_ * 400 + model.intercept_ #fonction ax+b"
      ],
      "execution_count": null,
      "outputs": [
        {
          "output_type": "execute_result",
          "data": {
            "text/plain": [
              "array([[53367654.67333329]])"
            ]
          },
          "metadata": {
            "tags": []
          },
          "execution_count": 23
        }
      ]
    },
    {
      "cell_type": "markdown",
      "metadata": {
        "id": "GK_bBxK7pqXq",
        "colab_type": "text"
      },
      "source": [
        "**Question** En théorie, on ne peut pas avoir un appartement de 1,5 chambres. Mais si on met quand meme nombre réel dans le modèle, qu'est-ce qui se passe?"
      ]
    },
    {
      "cell_type": "code",
      "metadata": {
        "id": "nt1nx0D9pq3G",
        "colab_type": "code",
        "colab": {
          "base_uri": "https://localhost:8080/",
          "height": 34
        },
        "outputId": "ca6c4763-7c95-44a3-9cba-7fae8ed9eec3"
      },
      "source": [
        "model.coef_ * 400.50 + model.intercept_ #fonction ax+b"
      ],
      "execution_count": null,
      "outputs": [
        {
          "output_type": "execute_result",
          "data": {
            "text/plain": [
              "array([[53434004.57376654]])"
            ]
          },
          "metadata": {
            "tags": []
          },
          "execution_count": 25
        }
      ]
    },
    {
      "cell_type": "markdown",
      "metadata": {
        "id": "qiM6tRQkqh9R",
        "colab_type": "text"
      },
      "source": [
        "**Question** Créer un vecteur dans lequel, on trouve les estimations pour des appartements de 1, 2, 3, 4, 5 et 6 chambres.\n",
        "\n",
        "Vous pouvez utiliser la méthode `predict` ou les coefficients.\n",
        "\n",
        "(Vous pouvez faire une boucle, mais c'est plus lent, c'est à éviter.)\n"
      ]
    },
    {
      "cell_type": "code",
      "metadata": {
        "id": "Kd_hdnrGrK1i",
        "colab_type": "code",
        "colab": {
          "base_uri": "https://localhost:8080/",
          "height": 156
        },
        "outputId": "24babc84-767e-4db9-f35f-6f3b50bb79d2"
      },
      "source": [
        "print(\"1 chambre\",model.coef_ * 1 + model.intercept_) #fonction ax+b\n",
        "print(\"2 chambres\",model.coef_ * 2 + model.intercept_) #fonction ax+b\n",
        "print(\"3 chambres\",model.coef_ * 3 + model.intercept_) #fonction ax+b\n",
        "print(\"4 chambres\",model.coef_ * 4 + model.intercept_) #fonction ax+b\n",
        "print(\"5 chambres\",model.coef_ * 5 + model.intercept_) #fonction ax+b\n",
        "print(\"6 chambres\",model.coef_ * 6 + model.intercept_) #fonction ax+b\n",
        "\n",
        "dictChambres = {}\n",
        "dictChambres.update({1:model.coef_ * 1 + model.intercept_})\n",
        "dictChambres.update({2:model.coef_ * 2 + model.intercept_})\n",
        "dictChambres.update({3:model.coef_ * 3 + model.intercept_})\n",
        "dictChambres.update({4:model.coef_ * 4 + model.intercept_})\n",
        "dictChambres.update({5:model.coef_ * 5 + model.intercept_})\n",
        "dictChambres.update({6:model.coef_ * 6 + model.intercept_})\n",
        "\n",
        "print(\"La liste des prédictions par taille de chambre est : \\n\",dictChambres)"
      ],
      "execution_count": null,
      "outputs": [
        {
          "output_type": "stream",
          "text": [
            "1 chambre [[420434.12760119]]\n",
            "2 chambres [[553133.92846769]]\n",
            "3 chambres [[685833.72933418]]\n",
            "4 chambres [[818533.53020068]]\n",
            "5 chambres [[951233.33106718]]\n",
            "6 chambres [[1083933.13193367]]\n",
            "La liste des prédictions par taille de chambre est : \n",
            " {1: array([[420434.12760119]]), 2: array([[553133.92846769]]), 3: array([[685833.72933418]]), 4: array([[818533.53020068]]), 5: array([[951233.33106718]]), 6: array([[1083933.13193367]])}\n"
          ],
          "name": "stdout"
        }
      ]
    }
  ]
}